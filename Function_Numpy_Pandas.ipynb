{
  "nbformat": 4,
  "nbformat_minor": 0,
  "metadata": {
    "colab": {
      "name": "Function_Numpy_Pandas",
      "provenance": [],
      "authorship_tag": "ABX9TyNlREZOjlVmnHAlupFtM2jm",
      "include_colab_link": true
    },
    "kernelspec": {
      "name": "python3",
      "display_name": "Python 3"
    }
  },
  "cells": [
    {
      "cell_type": "markdown",
      "metadata": {
        "id": "view-in-github",
        "colab_type": "text"
      },
      "source": [
        "<a href=\"https://colab.research.google.com/github/pondbaahh/multivariate/blob/main/Function_Numpy_Pandas.ipynb\" target=\"_parent\"><img src=\"https://colab.research.google.com/assets/colab-badge.svg\" alt=\"Open In Colab\"/></a>"
      ]
    },
    {
      "cell_type": "markdown",
      "metadata": {
        "id": "_YX6-ffqSQvv"
      },
      "source": [
        "###Function\r\n",
        "\r\n",
        "ประกอบด้วย 4 ส่วนที่สำคัญ\r\n",
        "\r\n",
        "1.บอก python ว่าเราจะเขียนฟังก์ชัน ชื่ออะไร def function_name():(ขาดไม่ได้)\r\n",
        "\r\n",
        "2.กำหนดตัวแปรที่จะเป็น input  input(ขาดได้)\r\n",
        "\r\n",
        "3.ส่วนประมวลผล d0_something with input to get output (ขาดไม่ได้)\r\n",
        "\r\n",
        "4.ส่วน output return Output (ขาดได้)"
      ]
    },
    {
      "cell_type": "markdown",
      "metadata": {
        "id": "7HvAqRRoXrGf"
      },
      "source": [
        "\r\n",
        "\r\n",
        "```python\r\n",
        "\r\n",
        " def function_name(_output_)  #ฟังก์ชันหลัก\r\n",
        "    do_something with _input_ to produce _output\r\n",
        "    return _Output_\r\n",
        "```\r\n",
        "\r\n"
      ]
    },
    {
      "cell_type": "markdown",
      "metadata": {
        "id": "F6JxEWJ6WgAq"
      },
      "source": [
        "####สร้างฟังก์ชัน"
      ]
    },
    {
      "cell_type": "code",
      "metadata": {
        "id": "g4b1tLO4Utbf"
      },
      "source": [
        "def print_name(name,surname,ID): #input มีกี่ตัวก็ได้\r\n",
        "    st = f'ชื่อ {name} นามสกุล {surname} ID {ID}'\r\n",
        "    return st\r\n",
        "\r\n",
        "    #ไม่print คือมันเก็บไว้ในเมมเบอร์รี่แล้ว"
      ],
      "execution_count": 12,
      "outputs": []
    },
    {
      "cell_type": "markdown",
      "metadata": {
        "id": "tWFyyCuxWodB"
      },
      "source": [
        "###เรียกใช้ฟังก์ชัน\r\n"
      ]
    },
    {
      "cell_type": "code",
      "metadata": {
        "colab": {
          "base_uri": "https://localhost:8080/",
          "height": 35
        },
        "id": "5-msPvIrVc1J",
        "outputId": "5d8fc3f9-8b37-4607-bb66-58e792fd5187"
      },
      "source": [
        "print_name('วัชราภรณ์', 'นามมุงคุณ', '623020535-7')"
      ],
      "execution_count": 13,
      "outputs": [
        {
          "output_type": "execute_result",
          "data": {
            "application/vnd.google.colaboratory.intrinsic+json": {
              "type": "string"
            },
            "text/plain": [
              "'ชื่อ วัชราภรณ์ นามสกุล นามมุงคุณ ID 623020535-7'"
            ]
          },
          "metadata": {
            "tags": []
          },
          "execution_count": 13
        }
      ]
    },
    {
      "cell_type": "code",
      "metadata": {
        "colab": {
          "base_uri": "https://localhost:8080/"
        },
        "id": "ORKDZqaiW-nV",
        "outputId": "91d4a8a2-4c51-469c-d933-6515fc779567"
      },
      "source": [
        "output_string = print_name('วัชราภรณ์', 'นามมุงคุณ', '623020535-7')\r\n",
        "print(output_string)"
      ],
      "execution_count": 14,
      "outputs": [
        {
          "output_type": "stream",
          "text": [
            "ชื่อ วัชราภรณ์ นามสกุล นามมุงคุณ ID 623020535-7\n"
          ],
          "name": "stdout"
        }
      ]
    },
    {
      "cell_type": "markdown",
      "metadata": {
        "id": "0-gdNm82XY4l"
      },
      "source": [
        "ฟังก์ชันไม่จำเป็นต้องมี output"
      ]
    },
    {
      "cell_type": "code",
      "metadata": {
        "id": "0aBB_uRXXhNp"
      },
      "source": [
        "def print_name2(surname,ID,name): \r\n",
        "    st = f'ชื่อ {name} นามสกุล {surname} ID {ID}'\r\n",
        "    print(st)"
      ],
      "execution_count": 15,
      "outputs": []
    },
    {
      "cell_type": "code",
      "metadata": {
        "colab": {
          "base_uri": "https://localhost:8080/"
        },
        "id": "hhUijCeJXuR4",
        "outputId": "953edbf7-3aae-43c5-c128-b5a1d3024903"
      },
      "source": [
        "print_name2('วัชราภรณ์', 'นามมุงคุณ', '623020535_7')"
      ],
      "execution_count": 16,
      "outputs": [
        {
          "output_type": "stream",
          "text": [
            "ชื่อ 623020535_7 นามสกุล วัชราภรณ์ ID นามมุงคุณ\n"
          ],
          "name": "stdout"
        }
      ]
    },
    {
      "cell_type": "code",
      "metadata": {
        "colab": {
          "base_uri": "https://localhost:8080/"
        },
        "id": "VFb0EiwxY2hV",
        "outputId": "e37db61c-1208-408c-c17c-0b8448d0a514"
      },
      "source": [
        "op2 = print_name2('วัชราภรณ์', 'นามมุงคุณ', '623020535_7')"
      ],
      "execution_count": 17,
      "outputs": [
        {
          "output_type": "stream",
          "text": [
            "ชื่อ 623020535_7 นามสกุล วัชราภรณ์ ID นามมุงคุณ\n"
          ],
          "name": "stdout"
        }
      ]
    },
    {
      "cell_type": "code",
      "metadata": {
        "colab": {
          "base_uri": "https://localhost:8080/"
        },
        "id": "6x6eJ46NZK-w",
        "outputId": "ecf8aea3-abbb-4890-cdc8-bb7f60781039"
      },
      "source": [
        "print(op2)"
      ],
      "execution_count": 18,
      "outputs": [
        {
          "output_type": "stream",
          "text": [
            "None\n"
          ],
          "name": "stdout"
        }
      ]
    },
    {
      "cell_type": "markdown",
      "metadata": {
        "id": "g6b_dNdKZOZ6"
      },
      "source": [
        "ฟังก์ชันไม่จำเป็นต้องมี input"
      ]
    },
    {
      "cell_type": "code",
      "metadata": {
        "id": "9rMFIRuyZnJt"
      },
      "source": [
        "def Pi():\r\n",
        "    return 3.14159265359\r\n",
        " "
      ],
      "execution_count": 2,
      "outputs": []
    },
    {
      "cell_type": "code",
      "metadata": {
        "colab": {
          "base_uri": "https://localhost:8080/"
        },
        "id": "7yBGh_UBZyif",
        "outputId": "a3cc8a3b-0ff3-4974-db0c-dc087bc042e0"
      },
      "source": [
        "#คำนวณพื้นที่วงกลมที่มีขนาดเส้นผ่านศูนย์กลางเท่ากับ 3\r\n",
        "Pi()*(1.5**2)"
      ],
      "execution_count": 3,
      "outputs": [
        {
          "output_type": "execute_result",
          "data": {
            "text/plain": [
              "7.0685834705775"
            ]
          },
          "metadata": {
            "tags": []
          },
          "execution_count": 3
        }
      ]
    },
    {
      "cell_type": "code",
      "metadata": {
        "id": "uo8SMyRQYubB"
      },
      "source": [
        "def print_my_name():\r\n",
        "     print('วัชรารภรณ์ นามมุงคุณ 623020535-7' )"
      ],
      "execution_count": 4,
      "outputs": []
    },
    {
      "cell_type": "code",
      "metadata": {
        "id": "SIxkZujFY_07",
        "outputId": "6bbf38fd-2496-49ce-933c-33973d481ef0",
        "colab": {
          "base_uri": "https://localhost:8080/"
        }
      },
      "source": [
        "print_my_name()"
      ],
      "execution_count": 5,
      "outputs": [
        {
          "output_type": "stream",
          "text": [
            "วัชรารภรณ์ นามมุงคุณ 623020535-7\n"
          ],
          "name": "stdout"
        }
      ]
    },
    {
      "cell_type": "markdown",
      "metadata": {
        "id": "38MNMCc6ZFEG"
      },
      "source": [
        "### 1. input ของ function ใน python มีสองแบบ input ที่จำเป็นต้องใส่ กับ input ที่ไม่จำเป็นต้องใส่ (มีค่า default)"
      ]
    },
    {
      "cell_type": "markdown",
      "metadata": {
        "id": "5IlBxr_kZKLn"
      },
      "source": [
        "### 2.เราต้องเรียง input ที่จำเป็นต้องใส่ขึ้นก่อน"
      ]
    },
    {
      "cell_type": "code",
      "metadata": {
        "id": "Fcd6qD-gZiQ6"
      },
      "source": [
        "def print_2lines_default(name,surname,ID,grade='F'):\r\n",
        "    st = f'ชื่อ {name} นามสกุล {surname} รหัส {ID}'\r\n",
        "    print(st)\r\n",
        "    st2 = f'เกรดวิชา Multivariate >> {grade}'\r\n",
        "    print(st2)"
      ],
      "execution_count": 7,
      "outputs": []
    },
    {
      "cell_type": "code",
      "metadata": {
        "id": "sl3ex5C2ZVzq",
        "outputId": "aa89466b-2435-458b-dc57-f0da53abe67a",
        "colab": {
          "base_uri": "https://localhost:8080/"
        }
      },
      "source": [
        "print_2lines_default('วัชราภรณ์','นามมุงคุณ','623020535-7')"
      ],
      "execution_count": 8,
      "outputs": [
        {
          "output_type": "stream",
          "text": [
            "ชื่อ วัชราภรณ์ นามสกุล นามมุงคุณ รหัส 623020535-7\n",
            "เกรดวิชา Multivariate >> F\n"
          ],
          "name": "stdout"
        }
      ]
    },
    {
      "cell_type": "code",
      "metadata": {
        "id": "is5G2vGVZtXK",
        "outputId": "d9149783-9eb5-4f98-b429-817f529d4d66",
        "colab": {
          "base_uri": "https://localhost:8080/"
        }
      },
      "source": [
        "print_2lines_default('วัชราภรณ์','นามมุงคุณ','623020535-7','A')"
      ],
      "execution_count": 9,
      "outputs": [
        {
          "output_type": "stream",
          "text": [
            "ชื่อ วัชราภรณ์ นามสกุล นามมุงคุณ รหัส 623020535-7\n",
            "เกรดวิชา Multivariate >> A\n"
          ],
          "name": "stdout"
        }
      ]
    },
    {
      "cell_type": "markdown",
      "metadata": {
        "id": "LJiCLnx-Z5Kx"
      },
      "source": [
        "เราสามารถเรียกฟังก์ชั่นโดยใช้ชื่อตัวแปรของฟังก์ชั่นช่วยได้\r\n"
      ]
    },
    {
      "cell_type": "code",
      "metadata": {
        "id": "BWuKb-nHaCIY",
        "outputId": "1ec6a68a-90ab-409b-9c4d-288a42f102c0",
        "colab": {
          "base_uri": "https://localhost:8080/"
        }
      },
      "source": [
        "print_name2(name='วัชราภรณ์',surname='นามมุงคุณ',ID='623020535-7')"
      ],
      "execution_count": 19,
      "outputs": [
        {
          "output_type": "stream",
          "text": [
            "ชื่อ วัชราภรณ์ นามสกุล นามมุงคุณ ID 623020535-7\n"
          ],
          "name": "stdout"
        }
      ]
    },
    {
      "cell_type": "markdown",
      "metadata": {
        "id": "dnayySnCae-p"
      },
      "source": [
        "#HW3 ให้เขียน function คำนวนจำนวนวินาทีจาก เวลาต่อไปนี้"
      ]
    },
    {
      "cell_type": "markdown",
      "metadata": {
        "id": "nfUv7r_JaiZB"
      },
      "source": [
        "'14-15-31'\r\n",
        "\r\n",
        "'13-00-01'\r\n",
        "\r\n",
        "'05-49-44'\r\n",
        "\r\n",
        "'00-00-16'\r\n",
        "\r\n",
        "และ print ให้สวยงาม"
      ]
    },
    {
      "cell_type": "code",
      "metadata": {
        "id": "djm_jxuqamTA"
      },
      "source": [
        "def function_time(time):\r\n",
        "    st = time.split('-')\r\n",
        "    answer = int(st[0]) * 3600 + int(st[1]) * 60 +int(st[2])\r\n",
        "    print(f'เวลา {time} คำนวนเป็นจำนวนวินาทีได้เท่ากับ {answer} วินาที ')"
      ],
      "execution_count": 21,
      "outputs": []
    },
    {
      "cell_type": "code",
      "metadata": {
        "id": "S6gS_TjIatN0",
        "outputId": "26786f16-da75-4aa7-9a12-f7ace419fb7a",
        "colab": {
          "base_uri": "https://localhost:8080/"
        }
      },
      "source": [
        "function_time('14-15-31')"
      ],
      "execution_count": 22,
      "outputs": [
        {
          "output_type": "stream",
          "text": [
            "เวลา 14-15-31 คำนวนเป็นจำนวนวินาทีได้เท่ากับ 51331 วินาที \n"
          ],
          "name": "stdout"
        }
      ]
    },
    {
      "cell_type": "code",
      "metadata": {
        "id": "Xo34sq5TaypY",
        "outputId": "dfecfd39-f29c-4e39-c738-b24e023517f7",
        "colab": {
          "base_uri": "https://localhost:8080/"
        }
      },
      "source": [
        "function_time('13-00-01')"
      ],
      "execution_count": 23,
      "outputs": [
        {
          "output_type": "stream",
          "text": [
            "เวลา 13-00-01 คำนวนเป็นจำนวนวินาทีได้เท่ากับ 46801 วินาที \n"
          ],
          "name": "stdout"
        }
      ]
    },
    {
      "cell_type": "code",
      "metadata": {
        "id": "1sj7aexaa0c-",
        "outputId": "cb9d697d-f4e7-4e99-e1d0-67342147b098",
        "colab": {
          "base_uri": "https://localhost:8080/"
        }
      },
      "source": [
        "function_time('05-49-44')"
      ],
      "execution_count": 24,
      "outputs": [
        {
          "output_type": "stream",
          "text": [
            "เวลา 05-49-44 คำนวนเป็นจำนวนวินาทีได้เท่ากับ 20984 วินาที \n"
          ],
          "name": "stdout"
        }
      ]
    },
    {
      "cell_type": "code",
      "metadata": {
        "id": "GSlAw561a4qK",
        "outputId": "c4eff49c-4d0f-4426-e6fa-009dc69681fc",
        "colab": {
          "base_uri": "https://localhost:8080/"
        }
      },
      "source": [
        "function_time('00-00-16')"
      ],
      "execution_count": 25,
      "outputs": [
        {
          "output_type": "stream",
          "text": [
            "เวลา 00-00-16 คำนวนเป็นจำนวนวินาทีได้เท่ากับ 16 วินาที \n"
          ],
          "name": "stdout"
        }
      ]
    }
  ]
}