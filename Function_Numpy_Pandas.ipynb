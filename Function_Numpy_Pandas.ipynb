{
  "nbformat": 4,
  "nbformat_minor": 0,
  "metadata": {
    "colab": {
      "name": "Function_Numpy_Pandas",
      "provenance": [],
      "authorship_tag": "ABX9TyNIAagDP44ja/YlW+nbktIk",
      "include_colab_link": true
    },
    "kernelspec": {
      "name": "python3",
      "display_name": "Python 3"
    }
  },
  "cells": [
    {
      "cell_type": "markdown",
      "metadata": {
        "id": "view-in-github",
        "colab_type": "text"
      },
      "source": [
        "<a href=\"https://colab.research.google.com/github/pondbaahh/multivariate/blob/main/Function_Numpy_Pandas.ipynb\" target=\"_parent\"><img src=\"https://colab.research.google.com/assets/colab-badge.svg\" alt=\"Open In Colab\"/></a>"
      ]
    },
    {
      "cell_type": "markdown",
      "metadata": {
        "id": "_YX6-ffqSQvv"
      },
      "source": [
        "###Function\r\n",
        "\r\n",
        "ประกอบด้วย 4 ส่วนที่สำคัญ\r\n",
        "\r\n",
        "1.บอก python ว่าเราจะเขียนฟังก์ชัน ชื่ออะไร def function_name():(ขาดไม่ได้)\r\n",
        "\r\n",
        "2.กำหนดตัวแปรที่จะเป็น input  input(ขาดได้)\r\n",
        "\r\n",
        "3.ส่วนประมวลผล d0_something with input to get output (ขาดไม่ได้)\r\n",
        "\r\n",
        "4.ส่วน output return Output (ขาดได้)"
      ]
    },
    {
      "cell_type": "code",
      "metadata": {
        "id": "k62dU5EcSFVr"
      },
      "source": [
        "def function_name(_output_)  #ฟังก์ชันหลัก\r\n",
        "  do_something with_\r\n",
        "    "
      ],
      "execution_count": null,
      "outputs": []
    },
    {
      "cell_type": "markdown",
      "metadata": {
        "id": "F6JxEWJ6WgAq"
      },
      "source": [
        "####สร้างฟังก์ชัน"
      ]
    },
    {
      "cell_type": "code",
      "metadata": {
        "id": "g4b1tLO4Utbf"
      },
      "source": [
        "def print_name(name,surname,ID): #input มีกี่ตัวก็ได้\r\n",
        "    st = f'ชื่อ {name} นามสกุล {surname} ID {ID}'\r\n",
        "    return st\r\n",
        "\r\n",
        "    #ไม่print คือมันเก็บไว้ในเมมเบอร์รี่แล้ว"
      ],
      "execution_count": 3,
      "outputs": []
    },
    {
      "cell_type": "markdown",
      "metadata": {
        "id": "tWFyyCuxWodB"
      },
      "source": [
        "###เรียกใช้ฟังก์ชัน\r\n"
      ]
    },
    {
      "cell_type": "code",
      "metadata": {
        "colab": {
          "base_uri": "https://localhost:8080/",
          "height": 35
        },
        "id": "5-msPvIrVc1J",
        "outputId": "9b4812cc-1657-486c-d70e-105dfb8c0c07"
      },
      "source": [
        "print_name('วัชราภรณ์', 'นามมุงคุณ', '623020535-7')"
      ],
      "execution_count": 4,
      "outputs": [
        {
          "output_type": "execute_result",
          "data": {
            "application/vnd.google.colaboratory.intrinsic+json": {
              "type": "string"
            },
            "text/plain": [
              "'ชื่อ วัชราภรณ์ นามสกุล นามมุงคุณ ID 623020535-7'"
            ]
          },
          "metadata": {
            "tags": []
          },
          "execution_count": 4
        }
      ]
    },
    {
      "cell_type": "code",
      "metadata": {
        "colab": {
          "base_uri": "https://localhost:8080/"
        },
        "id": "ORKDZqaiW-nV",
        "outputId": "a4c00cdc-a00f-45df-8da4-1336d1e26ca5"
      },
      "source": [
        "output_string = print_name('วัชราภรณ์', 'นามมุงคุณ', '623020535-7')\r\n",
        "print(output_string)"
      ],
      "execution_count": 5,
      "outputs": [
        {
          "output_type": "stream",
          "text": [
            "ชื่อ วัชราภรณ์ นามสกุล นามมุงคุณ ID 623020535-7\n"
          ],
          "name": "stdout"
        }
      ]
    },
    {
      "cell_type": "markdown",
      "metadata": {
        "id": "0-gdNm82XY4l"
      },
      "source": [
        "ฟังก์ชันไม่จำเป็นต้องมี output"
      ]
    },
    {
      "cell_type": "code",
      "metadata": {
        "id": "0aBB_uRXXhNp"
      },
      "source": [
        "def print_name2(surname,ID,name): \r\n",
        "    st = f'ชื่อ {name} นามสกุล {surname} ID {ID}'\r\n",
        "    print(st)"
      ],
      "execution_count": 8,
      "outputs": []
    },
    {
      "cell_type": "code",
      "metadata": {
        "colab": {
          "base_uri": "https://localhost:8080/"
        },
        "id": "hhUijCeJXuR4",
        "outputId": "a69d5300-1106-4230-e18b-924b96d72930"
      },
      "source": [
        "print_name2('วัชราภรณ์', 'นามมุงคุณ', '623020535_7')"
      ],
      "execution_count": 10,
      "outputs": [
        {
          "output_type": "stream",
          "text": [
            "ชื่อ 623020535_7 นามสกุล วัชราภรณ์ ID นามมุงคุณ\n"
          ],
          "name": "stdout"
        }
      ]
    },
    {
      "cell_type": "code",
      "metadata": {
        "colab": {
          "base_uri": "https://localhost:8080/"
        },
        "id": "VFb0EiwxY2hV",
        "outputId": "aac7a30e-c6f4-46e5-e3e4-eff03eb2205e"
      },
      "source": [
        "op2 = print_name2('วัชราภรณ์', 'นามมุงคุณ', '623020535_7')"
      ],
      "execution_count": 11,
      "outputs": [
        {
          "output_type": "stream",
          "text": [
            "ชื่อ 623020535_7 นามสกุล วัชราภรณ์ ID นามมุงคุณ\n"
          ],
          "name": "stdout"
        }
      ]
    },
    {
      "cell_type": "code",
      "metadata": {
        "colab": {
          "base_uri": "https://localhost:8080/"
        },
        "id": "6x6eJ46NZK-w",
        "outputId": "ca33a64d-c34e-480a-efdf-b4ca116a76e6"
      },
      "source": [
        "print(op2)"
      ],
      "execution_count": 12,
      "outputs": [
        {
          "output_type": "stream",
          "text": [
            "None\n"
          ],
          "name": "stdout"
        }
      ]
    },
    {
      "cell_type": "markdown",
      "metadata": {
        "id": "g6b_dNdKZOZ6"
      },
      "source": [
        "ฟังก์ชันไม่จำเป็นต้องมี input"
      ]
    },
    {
      "cell_type": "code",
      "metadata": {
        "colab": {
          "base_uri": "https://localhost:8080/",
          "height": 131
        },
        "id": "9rMFIRuyZnJt",
        "outputId": "abeb0844-b204-46b0-b6c2-e7fa0f182587"
      },
      "source": [
        "def Pi()\r\n",
        " "
      ],
      "execution_count": 16,
      "outputs": [
        {
          "output_type": "error",
          "ename": "SyntaxError",
          "evalue": "ignored",
          "traceback": [
            "\u001b[0;36m  File \u001b[0;32m\"<ipython-input-16-cb7a37356515>\"\u001b[0;36m, line \u001b[0;32m1\u001b[0m\n\u001b[0;31m    def Pi()\u001b[0m\n\u001b[0m            ^\u001b[0m\n\u001b[0;31mSyntaxError\u001b[0m\u001b[0;31m:\u001b[0m invalid syntax\n"
          ]
        }
      ]
    },
    {
      "cell_type": "code",
      "metadata": {
        "colab": {
          "base_uri": "https://localhost:8080/",
          "height": 183
        },
        "id": "7yBGh_UBZyif",
        "outputId": "a91dd1bf-a4b2-49fa-b66a-3f2a8cb94f48"
      },
      "source": [
        "#คำนวณพื้นที่วงกลมที่มีขนาดเส้นผ่านศูนย์กลางเท่ากับ 3\r\n",
        "Pi()*(1.5**2)"
      ],
      "execution_count": 15,
      "outputs": [
        {
          "output_type": "error",
          "ename": "NameError",
          "evalue": "ignored",
          "traceback": [
            "\u001b[0;31m---------------------------------------------------------------------------\u001b[0m",
            "\u001b[0;31mNameError\u001b[0m                                 Traceback (most recent call last)",
            "\u001b[0;32m<ipython-input-15-2ead031a9e08>\u001b[0m in \u001b[0;36m<module>\u001b[0;34m()\u001b[0m\n\u001b[1;32m      1\u001b[0m \u001b[0;31m#คำนวณพื้นที่วงกลมที่มีขนาดเส้นผ่านศูนย์กลางเท่ากับ 3\u001b[0m\u001b[0;34m\u001b[0m\u001b[0;34m\u001b[0m\u001b[0;34m\u001b[0m\u001b[0m\n\u001b[0;32m----> 2\u001b[0;31m \u001b[0mPi\u001b[0m\u001b[0;34m(\u001b[0m\u001b[0;34m)\u001b[0m\u001b[0;34m*\u001b[0m\u001b[0;34m(\u001b[0m\u001b[0;36m1.5\u001b[0m\u001b[0;34m**\u001b[0m\u001b[0;36m2\u001b[0m\u001b[0;34m)\u001b[0m\u001b[0;34m\u001b[0m\u001b[0;34m\u001b[0m\u001b[0m\n\u001b[0m",
            "\u001b[0;31mNameError\u001b[0m: name 'Pi' is not defined"
          ]
        }
      ]
    },
    {
      "cell_type": "markdown",
      "metadata": {
        "id": "e_GM6GyJdjH1"
      },
      "source": [
        "**ไปจดต่อให้จบ**"
      ]
    }
  ]
}