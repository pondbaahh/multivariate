{
  "nbformat": 4,
  "nbformat_minor": 0,
  "metadata": {
    "colab": {
      "name": "python101.ipynb",
      "provenance": [],
      "authorship_tag": "ABX9TyPRG6fK6nCdt2EiU+x75DzP",
      "include_colab_link": true
    },
    "kernelspec": {
      "name": "python3",
      "display_name": "Python 3"
    }
  },
  "cells": [
    {
      "cell_type": "markdown",
      "metadata": {
        "id": "view-in-github",
        "colab_type": "text"
      },
      "source": [
        "<a href=\"https://colab.research.google.com/github/pondbaahh/multivariate/blob/main/python101.ipynb\" target=\"_parent\"><img src=\"https://colab.research.google.com/assets/colab-badge.svg\" alt=\"Open In Colab\"/></a>"
      ]
    },
    {
      "cell_type": "markdown",
      "metadata": {
        "id": "1gAW8lS2LjAK"
      },
      "source": [
        "\r\n",
        "\r\n",
        "```\r\n",
        "# This is formatted as code\r\n",
        "```\r\n",
        "\r\n",
        "ตัวเเปร variable\r\n",
        "\r\n",
        " หลักการตั้งชื่อ\r\n",
        "\r\n",
        " 1.ตั้งให้สื่อ\r\n",
        " \r\n",
        " 2.ภาษาอังกฤษ\r\n",
        "\r\n",
        " 3.ใช้ตัวเอลขได้แต่ห้ามขึ้นต้นด้วยตัวเลข\r\n",
        "\r\n",
        " 4.ห้ามเว้นวรรค\r\n",
        "\r\n",
        " 5.ตัวเล็กกับตัวใหญ่ไม่เหมือนกัน"
      ]
    },
    {
      "cell_type": "markdown",
      "metadata": {
        "id": "v8DwaG2KPFTX"
      },
      "source": [
        "มี output 2 mode : ออกหน้าจอ กับ เข้าไปเก็บในตัวแแปร"
      ]
    },
    {
      "cell_type": "code",
      "metadata": {
        "colab": {
          "base_uri": "https://localhost:8080/"
        },
        "id": "ONSgLDBGLsUN",
        "outputId": "ff786c8a-d5a3-44e2-b96d-ecbfd0c7e592"
      },
      "source": [
        "3.14159 # hashtag หรือ shap # คือ comment >>> อันนี้คือ output ที่ออกหน้าจอ"
      ],
      "execution_count": null,
      "outputs": [
        {
          "output_type": "execute_result",
          "data": {
            "text/plain": [
              "3.14159"
            ]
          },
          "metadata": {
            "tags": []
          },
          "execution_count": 64
        }
      ]
    },
    {
      "cell_type": "code",
      "metadata": {
        "id": "5fHptehVPcKr"
      },
      "source": [
        "Pi = 3.14159  # อันนี้คือ output ที่เข้าไปอยู่ในตัวเเปร"
      ],
      "execution_count": null,
      "outputs": []
    },
    {
      "cell_type": "code",
      "metadata": {
        "colab": {
          "base_uri": "https://localhost:8080/"
        },
        "id": "UeIKocXvPkjo",
        "outputId": "b5f8cae9-6e21-41fa-8667-0cdd28598d6a"
      },
      "source": [
        "Pi"
      ],
      "execution_count": null,
      "outputs": [
        {
          "output_type": "execute_result",
          "data": {
            "text/plain": [
              "3.14159"
            ]
          },
          "metadata": {
            "tags": []
          },
          "execution_count": 66
        }
      ]
    },
    {
      "cell_type": "code",
      "metadata": {
        "colab": {
          "base_uri": "https://localhost:8080/"
        },
        "id": "dn7sMlNRPpXN",
        "outputId": "455bf86e-2d0a-47c7-9138-aee897646629"
      },
      "source": [
        "a = 1234567\r\n",
        "print(a)   #ถ้าอยากให้เเสดงค่า a ให้ใส่ print"
      ],
      "execution_count": null,
      "outputs": [
        {
          "output_type": "stream",
          "text": [
            "1234567\n"
          ],
          "name": "stdout"
        }
      ]
    },
    {
      "cell_type": "markdown",
      "metadata": {
        "id": "yzVXa9W-QOB-"
      },
      "source": [
        "#ชนิดของตัวแปร 3 ชนิด"
      ]
    },
    {
      "cell_type": "markdown",
      "metadata": {
        "id": "2si619iB2J8g"
      },
      "source": [
        "**จำนวนเต็ม (integer,int)**"
      ]
    },
    {
      "cell_type": "code",
      "metadata": {
        "id": "XiPhHFkP2VEM",
        "colab": {
          "base_uri": "https://localhost:8080/"
        },
        "outputId": "b3ff4d4f-da4c-464c-f160-6338aea0ca19"
      },
      "source": [
        "aaa = 1092\r\n",
        "print(aaa)"
      ],
      "execution_count": null,
      "outputs": [
        {
          "output_type": "stream",
          "text": [
            "1092\n"
          ],
          "name": "stdout"
        }
      ]
    },
    {
      "cell_type": "markdown",
      "metadata": {
        "id": "-0JLkF_u2q96"
      },
      "source": [
        "**จำนวนจริง (float)**"
      ]
    },
    {
      "cell_type": "code",
      "metadata": {
        "id": "AX64Ok8J3Jfp",
        "colab": {
          "base_uri": "https://localhost:8080/"
        },
        "outputId": "74a20aca-9445-4d60-b8eb-99f8bfa3997c"
      },
      "source": [
        "bbb = 11.\r\n",
        "print(bbb)"
      ],
      "execution_count": null,
      "outputs": [
        {
          "output_type": "stream",
          "text": [
            "11.0\n"
          ],
          "name": "stdout"
        }
      ]
    },
    {
      "cell_type": "markdown",
      "metadata": {
        "id": "61tX1U7U3GNW"
      },
      "source": [
        "**ตัวอักษร-ข้อความ (character and text,string)**"
      ]
    },
    {
      "cell_type": "code",
      "metadata": {
        "id": "fKn19v_kRL2v",
        "colab": {
          "base_uri": "https://localhost:8080/"
        },
        "outputId": "a31b2342-06ee-418d-db27-2a32508a1ad3"
      },
      "source": [
        "ccc = '123456'  #เราใช้ single quote ' หรือ double quote \" ล้อมรอบตัวหนีงงสือเพื่อระบุว่าเป็น character-string\r\n",
        "print(ccc)"
      ],
      "execution_count": null,
      "outputs": [
        {
          "output_type": "stream",
          "text": [
            "123456\n"
          ],
          "name": "stdout"
        }
      ]
    },
    {
      "cell_type": "code",
      "metadata": {
        "id": "CbDcdt2N315J",
        "colab": {
          "base_uri": "https://localhost:8080/"
        },
        "outputId": "a30878ad-5f02-46e8-be89-e724333b464c"
      },
      "source": [
        "aaa + bbb  #float + int = float"
      ],
      "execution_count": null,
      "outputs": [
        {
          "output_type": "execute_result",
          "data": {
            "text/plain": [
              "1103.0"
            ]
          },
          "metadata": {
            "tags": []
          },
          "execution_count": 71
        }
      ]
    },
    {
      "cell_type": "code",
      "metadata": {
        "id": "B7IKx9gW4BMp",
        "colab": {
          "base_uri": "https://localhost:8080/",
          "height": 166
        },
        "outputId": "9b10a8e9-b4b0-4b1a-da70-54daf9a87370"
      },
      "source": [
        "bbb + ccc  #เวลาอ่าน error ให้อ่านบรรทัดล่างสุด  #แก้โดยเปลี่ยนชนิดของตัวเเปร"
      ],
      "execution_count": null,
      "outputs": [
        {
          "output_type": "error",
          "ename": "TypeError",
          "evalue": "ignored",
          "traceback": [
            "\u001b[0;31m---------------------------------------------------------------------------\u001b[0m",
            "\u001b[0;31mTypeError\u001b[0m                                 Traceback (most recent call last)",
            "\u001b[0;32m<ipython-input-72-9cc0efc83b47>\u001b[0m in \u001b[0;36m<module>\u001b[0;34m()\u001b[0m\n\u001b[0;32m----> 1\u001b[0;31m \u001b[0mbbb\u001b[0m \u001b[0;34m+\u001b[0m \u001b[0mccc\u001b[0m  \u001b[0;31m#เวลาอ่าน error ให้อ่านบรรทัดล่างสุด  #แก้โดยเปลี่ยนชนิดของตัวเเปร\u001b[0m\u001b[0;34m\u001b[0m\u001b[0;34m\u001b[0m\u001b[0m\n\u001b[0m",
            "\u001b[0;31mTypeError\u001b[0m: unsupported operand type(s) for +: 'float' and 'str'"
          ]
        }
      ]
    },
    {
      "cell_type": "code",
      "metadata": {
        "id": "QdydlJWC4D-F",
        "colab": {
          "base_uri": "https://localhost:8080/"
        },
        "outputId": "23569967-8b33-4ad0-c7ef-c7449d29b673"
      },
      "source": [
        "ddd = 'วัชราภรณ์'  #ตัวข้อความทำเป็นภาษาไทยได้\r\n",
        "print(ddd)"
      ],
      "execution_count": null,
      "outputs": [
        {
          "output_type": "stream",
          "text": [
            "วัชราภรณ์\n"
          ],
          "name": "stdout"
        }
      ]
    },
    {
      "cell_type": "markdown",
      "metadata": {
        "id": "wpxBRal4RhFH"
      },
      "source": [
        "**การเปลี่ยนชนิดของตัวเเปร variable casting**"
      ]
    },
    {
      "cell_type": "code",
      "metadata": {
        "colab": {
          "base_uri": "https://localhost:8080/"
        },
        "id": "lVPCeeOGRova",
        "outputId": "fdda06a9-68f1-4328-e628-9374a1f8417c"
      },
      "source": [
        "aaa + int(ccc)  #บังคับให้เป็นตัวแปรที่ต้องการ เช่น int float"
      ],
      "execution_count": null,
      "outputs": [
        {
          "output_type": "execute_result",
          "data": {
            "text/plain": [
              "124548"
            ]
          },
          "metadata": {
            "tags": []
          },
          "execution_count": 74
        }
      ]
    },
    {
      "cell_type": "code",
      "metadata": {
        "id": "tKcjRLqIR7JT",
        "colab": {
          "base_uri": "https://localhost:8080/"
        },
        "outputId": "1d0f1946-cee8-45b6-fe5c-78039479ebd0"
      },
      "source": [
        "aaa + float(ccc) #float + int = float"
      ],
      "execution_count": null,
      "outputs": [
        {
          "output_type": "execute_result",
          "data": {
            "text/plain": [
              "124548.0"
            ]
          },
          "metadata": {
            "tags": []
          },
          "execution_count": 75
        }
      ]
    },
    {
      "cell_type": "code",
      "metadata": {
        "id": "IvVafExxSAWp",
        "colab": {
          "base_uri": "https://localhost:8080/",
          "height": 35
        },
        "outputId": "c6383d28-7116-4d60-b365-4f0ac5bebb6e"
      },
      "source": [
        "str(aaa) #int เปลี่ยนเป็นข้อความได้โดยพิมพ์ str #ทำแบบนี้ได้แค่ใน notebook"
      ],
      "execution_count": null,
      "outputs": [
        {
          "output_type": "execute_result",
          "data": {
            "application/vnd.google.colaboratory.intrinsic+json": {
              "type": "string"
            },
            "text/plain": [
              "'1092'"
            ]
          },
          "metadata": {
            "tags": []
          },
          "execution_count": 76
        }
      ]
    },
    {
      "cell_type": "markdown",
      "metadata": {
        "id": "BIDm-tmDSJ53"
      },
      "source": [
        "#การดำเนินการ operation (operation +,-,*,/,%)\r\n",
        "\r\n",
        "การเอาตัวแปรมาบวก ลบ คูณ หาร กัน"
      ]
    },
    {
      "cell_type": "code",
      "metadata": {
        "colab": {
          "base_uri": "https://localhost:8080/",
          "height": 166
        },
        "id": "c0cHaiL2SuhV",
        "outputId": "76e1aea6-1c4c-4d85-87b7-65780f25e35e"
      },
      "source": [
        "a + b    #เวลาอ่าน error ให้อ่านบรรทัดสุดท้าย  #error นี้บอกว่าตัวแปร b ไม่มี"
      ],
      "execution_count": null,
      "outputs": [
        {
          "output_type": "error",
          "ename": "NameError",
          "evalue": "ignored",
          "traceback": [
            "\u001b[0;31m---------------------------------------------------------------------------\u001b[0m",
            "\u001b[0;31mNameError\u001b[0m                                 Traceback (most recent call last)",
            "\u001b[0;32m<ipython-input-77-ad8215ad4d44>\u001b[0m in \u001b[0;36m<module>\u001b[0;34m()\u001b[0m\n\u001b[0;32m----> 1\u001b[0;31m \u001b[0ma\u001b[0m \u001b[0;34m+\u001b[0m \u001b[0mb\u001b[0m    \u001b[0;31m#เวลาอ่าน error ให้อ่านบรรทัดสุดท้าย  #error นี้บอกว่าตัวแปร b ไม่มี\u001b[0m\u001b[0;34m\u001b[0m\u001b[0;34m\u001b[0m\u001b[0m\n\u001b[0m",
            "\u001b[0;31mNameError\u001b[0m: name 'b' is not defined"
          ]
        }
      ]
    },
    {
      "cell_type": "code",
      "metadata": {
        "id": "vSUYWi3lS-3z",
        "colab": {
          "base_uri": "https://localhost:8080/"
        },
        "outputId": "8a836509-e58a-47c6-eb84-68bb6dc9e191"
      },
      "source": [
        "aaa + bbb  #output ออกมาอย่างเดียวใช้ต่อไม่ได้"
      ],
      "execution_count": null,
      "outputs": [
        {
          "output_type": "execute_result",
          "data": {
            "text/plain": [
              "1103.0"
            ]
          },
          "metadata": {
            "tags": []
          },
          "execution_count": 78
        }
      ]
    },
    {
      "cell_type": "code",
      "metadata": {
        "id": "pNzn1kCGTB4d",
        "colab": {
          "base_uri": "https://localhost:8080/"
        },
        "outputId": "7ad5ed01-f3f7-4fbb-df5d-bdbfb91f18d7"
      },
      "source": [
        "aaa - bbb"
      ],
      "execution_count": null,
      "outputs": [
        {
          "output_type": "execute_result",
          "data": {
            "text/plain": [
              "1081.0"
            ]
          },
          "metadata": {
            "tags": []
          },
          "execution_count": 79
        }
      ]
    },
    {
      "cell_type": "code",
      "metadata": {
        "id": "3bKdoNflTDdX",
        "colab": {
          "base_uri": "https://localhost:8080/"
        },
        "outputId": "c0b04fb0-7791-49e9-d8c4-578669ff25cb"
      },
      "source": [
        "ab = aaa*bbb #ab สามารถเอามาใช้ต่อได้ ถ้าอยากนำไปใช้ต่อต้องทำแบบนี้\r\n",
        "print(ab)"
      ],
      "execution_count": null,
      "outputs": [
        {
          "output_type": "stream",
          "text": [
            "12012.0\n"
          ],
          "name": "stdout"
        }
      ]
    },
    {
      "cell_type": "code",
      "metadata": {
        "id": "X12VPk_0TIgW",
        "colab": {
          "base_uri": "https://localhost:8080/"
        },
        "outputId": "abd469c8-fd4e-4301-d349-be279c205118"
      },
      "source": [
        "ab + int(ccc)"
      ],
      "execution_count": null,
      "outputs": [
        {
          "output_type": "execute_result",
          "data": {
            "text/plain": [
              "135468.0"
            ]
          },
          "metadata": {
            "tags": []
          },
          "execution_count": 81
        }
      ]
    },
    {
      "cell_type": "markdown",
      "metadata": {
        "id": "mHLhfttATmOC"
      },
      "source": [
        "# % คือ modulo "
      ]
    },
    {
      "cell_type": "markdown",
      "metadata": {
        "id": "7GH5jDxJTt-L"
      },
      "source": [
        "คือการหารเอาเศษ\r\n",
        "\r\n",
        "เศษ0 เลขคู่ , มีเศษเลขคี่"
      ]
    },
    {
      "cell_type": "code",
      "metadata": {
        "colab": {
          "base_uri": "https://localhost:8080/"
        },
        "id": "BIRQc2dkTzEa",
        "outputId": "21285e21-3a83-43a2-ca67-699c28234b71"
      },
      "source": [
        "5%3   "
      ],
      "execution_count": null,
      "outputs": [
        {
          "output_type": "execute_result",
          "data": {
            "text/plain": [
              "2"
            ]
          },
          "metadata": {
            "tags": []
          },
          "execution_count": 82
        }
      ]
    },
    {
      "cell_type": "code",
      "metadata": {
        "colab": {
          "base_uri": "https://localhost:8080/"
        },
        "id": "ZwKODnoLT2yy",
        "outputId": "c0013437-181a-4cab-be0e-79eaa87a9c21"
      },
      "source": [
        "7%3"
      ],
      "execution_count": null,
      "outputs": [
        {
          "output_type": "execute_result",
          "data": {
            "text/plain": [
              "1"
            ]
          },
          "metadata": {
            "tags": []
          },
          "execution_count": 83
        }
      ]
    },
    {
      "cell_type": "markdown",
      "metadata": {
        "id": "kmno6-QhUDEx"
      },
      "source": [
        "#คำสั่ง print แบบพิเศษ(การformat string)\r\n",
        "\r\n",
        "ข้างในสามารถเป็นตัวเเปร หรือ ข้อความก็ได้"
      ]
    },
    {
      "cell_type": "code",
      "metadata": {
        "id": "_SJmfJmT5FB_",
        "colab": {
          "base_uri": "https://localhost:8080/"
        },
        "outputId": "8189a74e-b738-4d17-901e-109a22218e9d"
      },
      "source": [
        "print('ตัวแปร') #สิ่งที่อยู่ข้างในวงเล็บ ตัวแปร และ string"
      ],
      "execution_count": null,
      "outputs": [
        {
          "output_type": "stream",
          "text": [
            "ตัวแปร\n"
          ],
          "name": "stdout"
        }
      ]
    },
    {
      "cell_type": "code",
      "metadata": {
        "colab": {
          "base_uri": "https://localhost:8080/"
        },
        "id": "heGBiBP0U1gZ",
        "outputId": "cb595d64-2ec2-4718-a292-e9f7ce315771"
      },
      "source": [
        "print(f'% คือการหารเอาเศษ เช่น 7%3 = {7%3}') #เพิ่ม f หน้า 'string' สามารถใช้ {} ใส่ code เข้าไปได้"
      ],
      "execution_count": null,
      "outputs": [
        {
          "output_type": "stream",
          "text": [
            "% คือการหารเอาเศษ เช่น 7%3 = 1\n"
          ],
          "name": "stdout"
        }
      ]
    },
    {
      "cell_type": "code",
      "metadata": {
        "id": "Mc7yTN8xV0nz",
        "colab": {
          "base_uri": "https://localhost:8080/"
        },
        "outputId": "fc6e7c92-4c7d-4458-c81d-13e7f409edc7"
      },
      "source": [
        "print(f'% คือการหารเอาเศษ เช่น 7%3 = {7%3}\\\r\n",
        "      แต่\\n/ คือการหารปกติ เช่น 7/3 = {7/3} \\\r\n",
        "      และ\\n// คือการหารเอาส่วน เช่น 7//3 = {(7//3)} \\\r\n",
        "      หรือ\\nใช้ int() เพื่อหารเอาส่วน เช่น int(7/3) = {int(7/3)}' )  #\\n คือการขึ้นบรรทัดใหม่ \\\\ ใช้ในการตัด code และ com จะไม่เห็นว่าเกิดไรขึ้น\r\n",
        "      #\\\\ = ช่วยให้อ่าน code ได้ง่ายขึ้น"
      ],
      "execution_count": null,
      "outputs": [
        {
          "output_type": "stream",
          "text": [
            "% คือการหารเอาเศษ เช่น 7%3 = 1      แต่\n",
            "/ คือการหารปกติ เช่น 7/3 = 2.3333333333333335       และ\n",
            "// คือการหารเอาส่วน เช่น 7//3 = 2       หรือ\n",
            "ใช้ int() เพื่อหารเอาส่วน เช่น int(7/3) = 2\n"
          ],
          "name": "stdout"
        }
      ]
    },
    {
      "cell_type": "markdown",
      "metadata": {
        "id": "ZQ1sYY53W_CP"
      },
      "source": [
        "#DATA STRUCTURE(โครงสร้างข้อมูล)"
      ]
    },
    {
      "cell_type": "markdown",
      "metadata": {
        "id": "t-smI2zzXJLx"
      },
      "source": [
        "### List คือการเอาข้อมูลหลายตัวมาเรียงต่อกัน\r\n",
        "เป็นได้ทั้งตัวแปร ข้อความ ตัวเลข ตัวอักษร\r\n",
        "#### list สามารถสร้างได้ 2 แบบ ดังนี้\r\n",
        "สัญลักษณ์ ที่ใช้ [ ]"
      ]
    },
    {
      "cell_type": "code",
      "metadata": {
        "colab": {
          "base_uri": "https://localhost:8080/"
        },
        "id": "oY45RY39Xd-l",
        "outputId": "12efca6c-42be-45f8-cb62-d529bc2a6f32"
      },
      "source": [
        "[111,'c',222]"
      ],
      "execution_count": null,
      "outputs": [
        {
          "output_type": "execute_result",
          "data": {
            "text/plain": [
              "[111, 'c', 222]"
            ]
          },
          "metadata": {
            "tags": []
          },
          "execution_count": 87
        }
      ]
    },
    {
      "cell_type": "markdown",
      "metadata": {
        "id": "U0i0X4MiXtwH"
      },
      "source": [
        "###แบบที่1 > square brackets"
      ]
    },
    {
      "cell_type": "code",
      "metadata": {
        "id": "WyAzqBKkX4jC",
        "colab": {
          "base_uri": "https://localhost:8080/"
        },
        "outputId": "fae2c4b2-e652-4e31-e9f5-ef9c7eb1e4b5"
      },
      "source": [
        "list_a = []  #listว่างคือไม่มีอะไรอยู่ข้างใน\r\n",
        "print(list_a)"
      ],
      "execution_count": null,
      "outputs": [
        {
          "output_type": "stream",
          "text": [
            "[]\n"
          ],
          "name": "stdout"
        }
      ]
    },
    {
      "cell_type": "code",
      "metadata": {
        "id": "PHMfmWv16tcH",
        "colab": {
          "base_uri": "https://localhost:8080/"
        },
        "outputId": "9c3a9beb-b2aa-4364-c82a-3cea50b89d09"
      },
      "source": [
        "list_b = [111,'d','xx',aaa]\r\n",
        "print(list_b)"
      ],
      "execution_count": null,
      "outputs": [
        {
          "output_type": "stream",
          "text": [
            "[111, 'd', 'xx', 1092]\n"
          ],
          "name": "stdout"
        }
      ]
    },
    {
      "cell_type": "markdown",
      "metadata": {
        "id": "x5VTE4J57EOZ"
      },
      "source": [
        "**ลำดับที่อยู่ใน list มีความมีสำคัญ(ลำดับใน list เริ่มจาก 0,1,2...)**"
      ]
    },
    {
      "cell_type": "code",
      "metadata": {
        "id": "d31lR90X7Ujh",
        "colab": {
          "base_uri": "https://localhost:8080/",
          "height": 35
        },
        "outputId": "185afa0d-361c-4f85-a07c-72dad756e0a3"
      },
      "source": [
        "list_b[2]"
      ],
      "execution_count": null,
      "outputs": [
        {
          "output_type": "execute_result",
          "data": {
            "application/vnd.google.colaboratory.intrinsic+json": {
              "type": "string"
            },
            "text/plain": [
              "'xx'"
            ]
          },
          "metadata": {
            "tags": []
          },
          "execution_count": 90
        }
      ]
    },
    {
      "cell_type": "markdown",
      "metadata": {
        "id": "3YiBJL287bUH"
      },
      "source": [
        "**แบบที่ 2**"
      ]
    },
    {
      "cell_type": "code",
      "metadata": {
        "id": "3tz37MhQ7k27",
        "colab": {
          "base_uri": "https://localhost:8080/"
        },
        "outputId": "545b58fd-1b61-4233-de93-dda35461f7b4"
      },
      "source": [
        "list_c = list()\r\n",
        "print(list_c)"
      ],
      "execution_count": null,
      "outputs": [
        {
          "output_type": "stream",
          "text": [
            "[]\n"
          ],
          "name": "stdout"
        }
      ]
    },
    {
      "cell_type": "markdown",
      "metadata": {
        "id": "Val71_7J72QE"
      },
      "source": [
        "##append() เพิ่มสมาชิกใน list\r\n",
        "\r\n"
      ]
    },
    {
      "cell_type": "code",
      "metadata": {
        "id": "r78i0cEK8AE_",
        "colab": {
          "base_uri": "https://localhost:8080/"
        },
        "outputId": "99087f57-0208-4605-db7c-81220aa351a4"
      },
      "source": [
        "list_b.append('u')\r\n",
        "print(list_b)"
      ],
      "execution_count": null,
      "outputs": [
        {
          "output_type": "stream",
          "text": [
            "[111, 'd', 'xx', 1092, 'u']\n"
          ],
          "name": "stdout"
        }
      ]
    },
    {
      "cell_type": "markdown",
      "metadata": {
        "id": "H-g--OtN8Op1"
      },
      "source": [
        "ตัวที่อยู่ในวงเล็บหลังจากตัวแปร list เรียกว่า index ใช้สำหรับชี้ข้อมูลใน list\r\n",
        "\r\n",
        "(ชี้จากข้างหน้า,ชี้จากข้างหลัง)\r\n",
        "\r\n",
        "0 คือสมาชิกตัวแรก, -1 คือสมากชิกตัวสุดท้าย"
      ]
    },
    {
      "cell_type": "code",
      "metadata": {
        "id": "m3YCczku88bH",
        "colab": {
          "base_uri": "https://localhost:8080/",
          "height": 35
        },
        "outputId": "9859843f-66cf-4f9f-9821-e75028db7594"
      },
      "source": [
        "list_b[-1]"
      ],
      "execution_count": null,
      "outputs": [
        {
          "output_type": "execute_result",
          "data": {
            "application/vnd.google.colaboratory.intrinsic+json": {
              "type": "string"
            },
            "text/plain": [
              "'u'"
            ]
          },
          "metadata": {
            "tags": []
          },
          "execution_count": 93
        }
      ]
    },
    {
      "cell_type": "markdown",
      "metadata": {
        "id": "j05umMCr9EY-"
      },
      "source": [
        "##string > list of characters"
      ]
    },
    {
      "cell_type": "code",
      "metadata": {
        "id": "np3LtUng9MSl",
        "colab": {
          "base_uri": "https://localhost:8080/"
        },
        "outputId": "780957a1-face-40fc-859d-9e4ef9c15a3c"
      },
      "source": [
        "t = 'python is easy'   #คำสั่งที่ใช้กับ list สามารถใช้กับ string ได้เหมือนกัน\r\n",
        "print(t)"
      ],
      "execution_count": null,
      "outputs": [
        {
          "output_type": "stream",
          "text": [
            "python is easy\n"
          ],
          "name": "stdout"
        }
      ]
    },
    {
      "cell_type": "code",
      "metadata": {
        "id": "IlPiA3-59bdl",
        "colab": {
          "base_uri": "https://localhost:8080/",
          "height": 35
        },
        "outputId": "1080d5a5-1c29-43c4-c333-02c8c11215da"
      },
      "source": [
        "t[1]"
      ],
      "execution_count": null,
      "outputs": [
        {
          "output_type": "execute_result",
          "data": {
            "application/vnd.google.colaboratory.intrinsic+json": {
              "type": "string"
            },
            "text/plain": [
              "'y'"
            ]
          },
          "metadata": {
            "tags": []
          },
          "execution_count": 95
        }
      ]
    },
    {
      "cell_type": "code",
      "metadata": {
        "id": "4iYhJeEH9d3B",
        "colab": {
          "base_uri": "https://localhost:8080/",
          "height": 35
        },
        "outputId": "9571fd88-aef5-47b3-8356-86917c29d3c7"
      },
      "source": [
        "t[-3]"
      ],
      "execution_count": null,
      "outputs": [
        {
          "output_type": "execute_result",
          "data": {
            "application/vnd.google.colaboratory.intrinsic+json": {
              "type": "string"
            },
            "text/plain": [
              "'a'"
            ]
          },
          "metadata": {
            "tags": []
          },
          "execution_count": 96
        }
      ]
    },
    {
      "cell_type": "code",
      "metadata": {
        "id": "cHQrqYPh9gyc",
        "colab": {
          "base_uri": "https://localhost:8080/",
          "height": 35
        },
        "outputId": "f0ee7a7d-ac7e-4a48-d394-8d8d3448d1da"
      },
      "source": [
        "t[7]"
      ],
      "execution_count": null,
      "outputs": [
        {
          "output_type": "execute_result",
          "data": {
            "application/vnd.google.colaboratory.intrinsic+json": {
              "type": "string"
            },
            "text/plain": [
              "'i'"
            ]
          },
          "metadata": {
            "tags": []
          },
          "execution_count": 45
        }
      ]
    },
    {
      "cell_type": "code",
      "metadata": {
        "id": "hqS5BWmz9lci",
        "colab": {
          "base_uri": "https://localhost:8080/",
          "height": 35
        },
        "outputId": "6168f458-e1f2-42f0-e570-5397c9361ebd"
      },
      "source": [
        "t[6]"
      ],
      "execution_count": null,
      "outputs": [
        {
          "output_type": "execute_result",
          "data": {
            "application/vnd.google.colaboratory.intrinsic+json": {
              "type": "string"
            },
            "text/plain": [
              "' '"
            ]
          },
          "metadata": {
            "tags": []
          },
          "execution_count": 97
        }
      ]
    },
    {
      "cell_type": "markdown",
      "metadata": {
        "id": "Z4gYGXiL-A_G"
      },
      "source": [
        "จบคาบ 2 (5 มค 2021)"
      ]
    },
    {
      "cell_type": "markdown",
      "metadata": {
        "id": "cGWwrd_hhXnU"
      },
      "source": [
        "#คาบ 3 11 มค 2021"
      ]
    },
    {
      "cell_type": "code",
      "metadata": {
        "id": "e7yZyxpcigMv",
        "colab": {
          "base_uri": "https://localhost:8080/"
        },
        "outputId": "c92fc37d-e892-4fae-d61a-0e5258278eb8"
      },
      "source": [
        "len(t)   "
      ],
      "execution_count": null,
      "outputs": [
        {
          "output_type": "execute_result",
          "data": {
            "text/plain": [
              "14"
            ]
          },
          "metadata": {
            "tags": []
          },
          "execution_count": 98
        }
      ]
    },
    {
      "cell_type": "code",
      "metadata": {
        "id": "DdQvY4W4k-lM",
        "colab": {
          "base_uri": "https://localhost:8080/"
        },
        "outputId": "46a35f41-42f0-424d-d6c7-36af8629afc8"
      },
      "source": [
        "list_b"
      ],
      "execution_count": null,
      "outputs": [
        {
          "output_type": "execute_result",
          "data": {
            "text/plain": [
              "[111, 'd', 'xx', 1092, 'u']"
            ]
          },
          "metadata": {
            "tags": []
          },
          "execution_count": 99
        }
      ]
    },
    {
      "cell_type": "code",
      "metadata": {
        "id": "fOP5yG97jPRb",
        "colab": {
          "base_uri": "https://localhost:8080/"
        },
        "outputId": "6991cb6b-4578-41ee-b006-644d92998e0b"
      },
      "source": [
        "len(list_b)   #len คำสั่งตรวจสอบความยาวของ list (จำนวนสมาชิก)"
      ],
      "execution_count": null,
      "outputs": [
        {
          "output_type": "execute_result",
          "data": {
            "text/plain": [
              "5"
            ]
          },
          "metadata": {
            "tags": []
          },
          "execution_count": 100
        }
      ]
    },
    {
      "cell_type": "code",
      "metadata": {
        "id": "d_GMR_NilI6C",
        "colab": {
          "base_uri": "https://localhost:8080/"
        },
        "outputId": "adddb7a9-2baa-437c-d1b9-b82e97c644e0"
      },
      "source": [
        "list_b.append(t)\r\n",
        "print(list_b)"
      ],
      "execution_count": null,
      "outputs": [
        {
          "output_type": "stream",
          "text": [
            "[111, 'd', 'xx', 1092, 'u', 'python is easy']\n"
          ],
          "name": "stdout"
        }
      ]
    },
    {
      "cell_type": "markdown",
      "metadata": {
        "id": "ipnC0eCmm1uK"
      },
      "source": [
        ""
      ]
    },
    {
      "cell_type": "markdown",
      "metadata": {
        "id": "kKl_-tTbmIr6"
      },
      "source": [
        "ตัวที่อยู่ข้างใน [ ] เราเรียกว่า index(ตัวชี้)"
      ]
    },
    {
      "cell_type": "markdown",
      "metadata": {
        "id": "RbFoMU1OmX_h"
      },
      "source": [
        "#List slicing สามารถทำได้โดยใช้ colon:\r\n",
        "\r\n",
        "\r\n",
        "[a:b] -> [a,b)\r\n",
        "\r\n",
        "วงกลมทึบ เอาตัวมันด้วย\r\n",
        "\r\n",
        "วงกลมโปร่ง ตัวที่อยู่ไม่เอา"
      ]
    },
    {
      "cell_type": "code",
      "metadata": {
        "id": "LvcWhH5nm4Na",
        "colab": {
          "base_uri": "https://localhost:8080/"
        },
        "outputId": "c13d3ad6-00fb-4dfb-af73-dd65b66a267e"
      },
      "source": [
        "print(t)\r\n",
        "print(t[7:9])\r\n",
        "print(len(t[7:9]))"
      ],
      "execution_count": null,
      "outputs": [
        {
          "output_type": "stream",
          "text": [
            "python is easy\n",
            "is\n",
            "2\n"
          ],
          "name": "stdout"
        }
      ]
    },
    {
      "cell_type": "code",
      "metadata": {
        "id": "LkX9xaV6njaC",
        "colab": {
          "base_uri": "https://localhost:8080/",
          "height": 35
        },
        "outputId": "8b01926a-2f1f-4463-fb50-8a0bba73b653"
      },
      "source": [
        "t[0:14:2]  #ถ้าเพิ่มcolonอีกตัว หยิบอีกตัวและกระโดดไปตัวถัดไป"
      ],
      "execution_count": null,
      "outputs": [
        {
          "output_type": "execute_result",
          "data": {
            "application/vnd.google.colaboratory.intrinsic+json": {
              "type": "string"
            },
            "text/plain": [
              "'pto ses'"
            ]
          },
          "metadata": {
            "tags": []
          },
          "execution_count": 103
        }
      ]
    },
    {
      "cell_type": "code",
      "metadata": {
        "id": "tApvXwgeoNxe",
        "colab": {
          "base_uri": "https://localhost:8080/"
        },
        "outputId": "c74d2b12-6b21-4b90-e33b-fad89d37a8f0"
      },
      "source": [
        "z = [1,2,3,4,5,6,7,8,9,10]\r\n",
        "print(z)"
      ],
      "execution_count": null,
      "outputs": [
        {
          "output_type": "stream",
          "text": [
            "[1, 2, 3, 4, 5, 6, 7, 8, 9, 10]\n"
          ],
          "name": "stdout"
        }
      ]
    },
    {
      "cell_type": "markdown",
      "metadata": {
        "id": "pczzAqhLoZTA"
      },
      "source": [
        "###quiz\r\n",
        "ใช้ list slicing เลือกเฉพาะเลขคู่"
      ]
    },
    {
      "cell_type": "code",
      "metadata": {
        "id": "As3fLEgRolvu",
        "colab": {
          "base_uri": "https://localhost:8080/"
        },
        "outputId": "54d6b8ff-e0f6-47d1-f0dc-31d1cad11159"
      },
      "source": [
        "z[1:10:2]"
      ],
      "execution_count": null,
      "outputs": [
        {
          "output_type": "execute_result",
          "data": {
            "text/plain": [
              "[2, 4, 6, 8, 10]"
            ]
          },
          "metadata": {
            "tags": []
          },
          "execution_count": 105
        }
      ]
    },
    {
      "cell_type": "markdown",
      "metadata": {
        "id": "lRkIBZIUpGME"
      },
      "source": [
        "ถ้าเว้นว่างหน้า: หมายความว่า เริ่มตั้งแต่ตัวเเรกของlist ตัวที่ 0\r\n",
        "\r\n",
        "ถ้าเว้นว่างหลัง: หมายความว่า ไปจนถึงตัวสุดท้าย(len(list))"
      ]
    },
    {
      "cell_type": "code",
      "metadata": {
        "id": "HqTCNiRnpibq",
        "colab": {
          "base_uri": "https://localhost:8080/"
        },
        "outputId": "28adbce8-6fcb-4602-c453-10c3c470b2d1"
      },
      "source": [
        "print(t)\r\n",
        "print(t[:6])  #เริ่มตั้งแต่ตัวเเรกของlist\r\n",
        "print(t[10:])\r\n",
        "print(t[-4:])\r\n",
        "print(t[:])"
      ],
      "execution_count": null,
      "outputs": [
        {
          "output_type": "stream",
          "text": [
            "python is easy\n",
            "python\n",
            "easy\n",
            "easy\n",
            "python is easy\n"
          ],
          "name": "stdout"
        }
      ]
    },
    {
      "cell_type": "code",
      "metadata": {
        "id": "C5E8ee7OqQ0z",
        "colab": {
          "base_uri": "https://localhost:8080/"
        },
        "outputId": "bbba812b-ba6f-4499-aeef-2f337247a5ad"
      },
      "source": [
        "print(z[::2])  "
      ],
      "execution_count": null,
      "outputs": [
        {
          "output_type": "stream",
          "text": [
            "[1, 3, 5, 7, 9]\n"
          ],
          "name": "stdout"
        }
      ]
    },
    {
      "cell_type": "markdown",
      "metadata": {
        "id": "VUZE9HCvrzdr"
      },
      "source": [
        "###เราสามารถเอา list มาต่อกันได้ด้วย +"
      ]
    },
    {
      "cell_type": "code",
      "metadata": {
        "id": "1vQmrqpUr85H",
        "colab": {
          "base_uri": "https://localhost:8080/",
          "height": 35
        },
        "outputId": "793610d6-18c9-43b7-d72d-dda57ead027c"
      },
      "source": [
        "t + '??'"
      ],
      "execution_count": null,
      "outputs": [
        {
          "output_type": "execute_result",
          "data": {
            "application/vnd.google.colaboratory.intrinsic+json": {
              "type": "string"
            },
            "text/plain": [
              "'python is easy??'"
            ]
          },
          "metadata": {
            "tags": []
          },
          "execution_count": 110
        }
      ]
    },
    {
      "cell_type": "code",
      "metadata": {
        "id": "UJgcGwQAsFfc",
        "colab": {
          "base_uri": "https://localhost:8080/",
          "height": 166
        },
        "outputId": "bbab449c-f962-4853-f08d-f308c06a0e66"
      },
      "source": [
        "t + list_b  ##ไม่สามารถเอา list ปกติมาต่อกับ string ได้"
      ],
      "execution_count": null,
      "outputs": [
        {
          "output_type": "error",
          "ename": "TypeError",
          "evalue": "ignored",
          "traceback": [
            "\u001b[0;31m---------------------------------------------------------------------------\u001b[0m",
            "\u001b[0;31mTypeError\u001b[0m                                 Traceback (most recent call last)",
            "\u001b[0;32m<ipython-input-109-f556c08b58b6>\u001b[0m in \u001b[0;36m<module>\u001b[0;34m()\u001b[0m\n\u001b[0;32m----> 1\u001b[0;31m \u001b[0mt\u001b[0m \u001b[0;34m+\u001b[0m \u001b[0mlist_b\u001b[0m  \u001b[0;31m##ไม่สามารถเอา list ปกติมาต่อกับ string ได้\u001b[0m\u001b[0;34m\u001b[0m\u001b[0;34m\u001b[0m\u001b[0m\n\u001b[0m",
            "\u001b[0;31mTypeError\u001b[0m: must be str, not list"
          ]
        }
      ]
    },
    {
      "cell_type": "code",
      "metadata": {
        "id": "i2pe2xHJsSDk",
        "colab": {
          "base_uri": "https://localhost:8080/"
        },
        "outputId": "a3ae5c6b-6912-41a1-ba03-f30db1c4b8a1"
      },
      "source": [
        "print(list_a)\r\n",
        "print(list_b)\r\n",
        "print(list_b + list_a)  # + คือเอาสมาชิกมารวมกัน"
      ],
      "execution_count": null,
      "outputs": [
        {
          "output_type": "stream",
          "text": [
            "[]\n",
            "[111, 'd', 'xx', 1092, 'u', 'python is easy']\n",
            "[111, 'd', 'xx', 1092, 'u', 'python is easy']\n"
          ],
          "name": "stdout"
        }
      ]
    },
    {
      "cell_type": "code",
      "metadata": {
        "id": "sU4nErhbs92v",
        "colab": {
          "base_uri": "https://localhost:8080/"
        },
        "outputId": "05503b9a-f287-4314-b9b4-ad596fd1b26c"
      },
      "source": [
        "list_b.append(list_a)  #เอาทั้งหมดมาต่อกัน\r\n",
        "print(list_b)"
      ],
      "execution_count": null,
      "outputs": [
        {
          "output_type": "stream",
          "text": [
            "[111, 'd', 'xx', 1092, 'u', 'python is easy', []]\n"
          ],
          "name": "stdout"
        }
      ]
    },
    {
      "cell_type": "markdown",
      "metadata": {
        "id": "QAtoAiP2t4Q0"
      },
      "source": [
        "### การแบ่ง string ตามสัญลักษณ์ที่กำหนด -> split string\r\n",
        "\r\n",
        "สามารถระบุสัญลักษณ์ ที่ให้pythonไปหาและเเบ่งด้วยคาแรกเตอร์นั้น"
      ]
    },
    {
      "cell_type": "code",
      "metadata": {
        "id": "Ihig63qOuORn",
        "colab": {
          "base_uri": "https://localhost:8080/",
          "height": 35
        },
        "outputId": "37521de0-491d-478e-e3e7-fe8b6deff64b"
      },
      "source": [
        "t"
      ],
      "execution_count": null,
      "outputs": [
        {
          "output_type": "execute_result",
          "data": {
            "application/vnd.google.colaboratory.intrinsic+json": {
              "type": "string"
            },
            "text/plain": [
              "'python is easy'"
            ]
          },
          "metadata": {
            "tags": []
          },
          "execution_count": 113
        }
      ]
    },
    {
      "cell_type": "code",
      "metadata": {
        "id": "M__T9GREuTam",
        "colab": {
          "base_uri": "https://localhost:8080/"
        },
        "outputId": "a2c10865-2262-4469-831c-90ce58546e14"
      },
      "source": [
        "t.split(' ')  #สามารถแบ่งstring ด้วยช่องว่าง"
      ],
      "execution_count": null,
      "outputs": [
        {
          "output_type": "execute_result",
          "data": {
            "text/plain": [
              "['python', 'is', 'easy']"
            ]
          },
          "metadata": {
            "tags": []
          },
          "execution_count": 114
        }
      ]
    },
    {
      "cell_type": "code",
      "metadata": {
        "id": "85J3N_b8utIv"
      },
      "source": [
        "time = '12:30:15'"
      ],
      "execution_count": null,
      "outputs": []
    },
    {
      "cell_type": "code",
      "metadata": {
        "id": "e6NFyIBvuyT_",
        "colab": {
          "base_uri": "https://localhost:8080/"
        },
        "outputId": "099c3d3b-d1fb-47a6-c9a4-fc367d25ae69"
      },
      "source": [
        "time.split(':')"
      ],
      "execution_count": null,
      "outputs": [
        {
          "output_type": "execute_result",
          "data": {
            "text/plain": [
              "['12', '30', '15']"
            ]
          },
          "metadata": {
            "tags": []
          },
          "execution_count": 116
        }
      ]
    },
    {
      "cell_type": "code",
      "metadata": {
        "id": "MaOYzxTZu8Gm",
        "colab": {
          "base_uri": "https://localhost:8080/"
        },
        "outputId": "53ce5fe4-a292-454e-94bf-06a1a8dc9b2e"
      },
      "source": [
        "t_sp = t.split(' ')   #สามารถนำไปใช้ต่อได้\r\n",
        "print(t_sp)"
      ],
      "execution_count": null,
      "outputs": [
        {
          "output_type": "stream",
          "text": [
            "['python', 'is', 'easy']\n"
          ],
          "name": "stdout"
        }
      ]
    },
    {
      "cell_type": "code",
      "metadata": {
        "id": "4qBp-A6bvO0q",
        "colab": {
          "base_uri": "https://localhost:8080/"
        },
        "outputId": "c4f0a071-899f-4c3c-9a71-708411391c88"
      },
      "source": [
        "##วิธีรวมกลับ\r\n",
        "print(':'.join(t_sp))"
      ],
      "execution_count": null,
      "outputs": [
        {
          "output_type": "stream",
          "text": [
            "python:is:easy\n"
          ],
          "name": "stdout"
        }
      ]
    },
    {
      "cell_type": "markdown",
      "metadata": {
        "id": "rvJ5IGtNvd1q"
      },
      "source": [
        "###HW คำนวณเวลาเป็นวินาทีของเวลาต่อไปนี้โดยใช้คำสั่ง split() ช่วย (printออกมาให้สวยงาม)\r\n",
        "\r\n",
        "12:30:15\r\n",
        "\r\n",
        "13:41:07\r\n",
        "\r\n",
        "12:53:15\r\n",
        "\r\n",
        "00:59:25\r\n",
        "\r\n",
        "16:06:09\r\n",
        "\r\n",
        "21:12:30\r\n",
        "\r\n",
        "10:06:15\r\n",
        "\r\n",
        "ตัวอย่าง > 00:01:10 = 70 วินาที\r\n",
        "\r\n",
        "ตัวอย่าง > 10:00:01 = 3601 วินาที\r\n",
        "\r\n"
      ]
    },
    {
      "cell_type": "code",
      "metadata": {
        "id": "4VPHyRxxAei4",
        "colab": {
          "base_uri": "https://localhost:8080/"
        },
        "outputId": "8d382726-e61c-48f6-d1af-b1b69ef201a9"
      },
      "source": [
        "q1 = '12:30:15'\r\n",
        "q1.split(':')\r\n",
        "list_q1 = [12,30,15]\r\n",
        "h = list_q1[0]*3600  # 1 ชั่วโมง = 3600 วินาที\r\n",
        "m = list_q1[1]*60   # 1 นาที = 60 วินาที\r\n",
        "s = list_q1[2]\r\n",
        "ans_q1 = h+m+s\r\n",
        "print(ans_q1,'วินาที')"
      ],
      "execution_count": null,
      "outputs": [
        {
          "output_type": "stream",
          "text": [
            "45015 วินาที\n"
          ],
          "name": "stdout"
        }
      ]
    },
    {
      "cell_type": "code",
      "metadata": {
        "id": "7c5a2848BDzG",
        "colab": {
          "base_uri": "https://localhost:8080/"
        },
        "outputId": "98dddb80-776e-4750-bd7a-1d05fa7c307a"
      },
      "source": [
        "q2 = '13:41:07'\r\n",
        "q2.split(':')\r\n",
        "list_q2 = [13,41,7]\r\n",
        "h = list_q2[0]*3600  # 1 ชั่วโมง = 3600 วินาที\r\n",
        "m = list_q2[1]*60   # 1 นาที = 60 วินาที\r\n",
        "s = list_q2[2]\r\n",
        "ans_q2 = h+m+s\r\n",
        "print(ans_q2,'วินาที')"
      ],
      "execution_count": null,
      "outputs": [
        {
          "output_type": "stream",
          "text": [
            "49267 วินาที\n"
          ],
          "name": "stdout"
        }
      ]
    },
    {
      "cell_type": "code",
      "metadata": {
        "id": "skpHTNhCBf7g",
        "colab": {
          "base_uri": "https://localhost:8080/"
        },
        "outputId": "ef2bf18b-e826-43b8-ffc8-d2a353e5f31b"
      },
      "source": [
        "q3 = '12:53:15'\r\n",
        "q3.split(':')\r\n",
        "list_q3 = [12,53,15]\r\n",
        "h = list_q3[0]*3600  # 1 ชั่วโมง = 3600 วินาที\r\n",
        "m = list_q3[1]*60   # 1 นาที = 60 วินาที\r\n",
        "s = list_q3[2]\r\n",
        "ans_q3 = h+m+s\r\n",
        "print(ans_q3,'วินาที')"
      ],
      "execution_count": null,
      "outputs": [
        {
          "output_type": "stream",
          "text": [
            "46395 วินาที\n"
          ],
          "name": "stdout"
        }
      ]
    },
    {
      "cell_type": "code",
      "metadata": {
        "id": "6p9407_5Bsg5",
        "colab": {
          "base_uri": "https://localhost:8080/"
        },
        "outputId": "5c09d418-6f88-4300-e2b9-16e374300a16"
      },
      "source": [
        "q4 = '00:59:15'\r\n",
        "q4.split(':')\r\n",
        "list_q4 = [00,59,15]\r\n",
        "h = list_q4[0]*3600  # 1 ชั่วโมง = 3600 วินาที\r\n",
        "m = list_q4[1]*60   # 1 นาที = 60 วินาที\r\n",
        "s = list_q4[2]\r\n",
        "ans_q4 = h+m+s\r\n",
        "print(ans_q4,'วินาที')"
      ],
      "execution_count": null,
      "outputs": [
        {
          "output_type": "stream",
          "text": [
            "3555 วินาที\n"
          ],
          "name": "stdout"
        }
      ]
    },
    {
      "cell_type": "code",
      "metadata": {
        "id": "_p7iXrXuB6-0",
        "colab": {
          "base_uri": "https://localhost:8080/"
        },
        "outputId": "abc66c4f-9b75-4ce4-b340-516090e8e65c"
      },
      "source": [
        "q5 = '16:06:09'\r\n",
        "q5.split(':')\r\n",
        "list_q5 = [16,6,9]\r\n",
        "h = list_q5[0]*3600  # 1 ชั่วโมง = 3600 วินาที\r\n",
        "m = list_q5[1]*60   # 1 นาที = 60 วินาที\r\n",
        "s = list_q5[2]\r\n",
        "ans_q5 = h+m+s\r\n",
        "print(ans_q5,'วินาที')"
      ],
      "execution_count": null,
      "outputs": [
        {
          "output_type": "stream",
          "text": [
            "57969 วินาที\n"
          ],
          "name": "stdout"
        }
      ]
    },
    {
      "cell_type": "code",
      "metadata": {
        "id": "iqkph9QSCMYn",
        "colab": {
          "base_uri": "https://localhost:8080/"
        },
        "outputId": "68177cf7-483b-4a18-c9a0-f5e40c672d5e"
      },
      "source": [
        "q6 = '21:12:30'\r\n",
        "q6.split(':')\r\n",
        "list_q6 = [21,12,30]\r\n",
        "h = list_q6[0]*3600  # 1 ชั่วโมง = 3600 วินาที\r\n",
        "m = list_q6[1]*60   # 1 นาที = 60 วินาที\r\n",
        "s = list_q6[2]\r\n",
        "ans_q6 = h+m+s\r\n",
        "print(ans_q6,'วินาที')"
      ],
      "execution_count": null,
      "outputs": [
        {
          "output_type": "stream",
          "text": [
            "76350 วินาที\n"
          ],
          "name": "stdout"
        }
      ]
    },
    {
      "cell_type": "code",
      "metadata": {
        "id": "lHtsxhT1Ccnt",
        "colab": {
          "base_uri": "https://localhost:8080/"
        },
        "outputId": "3e124bb5-1603-4c89-9628-983c5afb2393"
      },
      "source": [
        "q7 = '10:06:15'\r\n",
        "q7.split(':')\r\n",
        "list_q7 = [12,6,15]\r\n",
        "h = list_q7[0]*3600  # 1 ชั่วโมง = 3600 วินาที\r\n",
        "m = list_q7[1]*60   # 1 นาที = 60 วินาที\r\n",
        "s = list_q7[2]\r\n",
        "ans_q7 = h+m+s\r\n",
        "print(ans_q7,'วินาที')"
      ],
      "execution_count": null,
      "outputs": [
        {
          "output_type": "stream",
          "text": [
            "43575 วินาที\n"
          ],
          "name": "stdout"
        }
      ]
    },
    {
      "cell_type": "markdown",
      "metadata": {
        "id": "bVfMmuKhc2c5"
      },
      "source": [
        "###เฉลยการบ้าน"
      ]
    },
    {
      "cell_type": "code",
      "metadata": {
        "id": "RViHi_BDcwzA",
        "outputId": "31ae019f-56f1-47d4-a97b-9758b0225b00",
        "colab": {
          "base_uri": "https://localhost:8080/"
        }
      },
      "source": [
        "q1 = '12:30:15'\r\n",
        "q1_sp = q1.split(':')\r\n",
        "ans1 = int(q1_sp[0])*3600 + int(q1_sp[1])*60 + int(q1_sp[2]) # int เปลี่ยนข้อความเป็นตัวเลข\r\n",
        "print(ans1,'วินาที')"
      ],
      "execution_count": 1,
      "outputs": [
        {
          "output_type": "stream",
          "text": [
            "45015 วินาที\n"
          ],
          "name": "stdout"
        }
      ]
    }
  ]
}