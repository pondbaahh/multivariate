{
  "nbformat": 4,
  "nbformat_minor": 0,
  "metadata": {
    "colab": {
      "name": "python101.ipynb",
      "provenance": [],
      "authorship_tag": "ABX9TyMdC7oUxmNZH0A5ipGKnLce",
      "include_colab_link": true
    },
    "kernelspec": {
      "name": "python3",
      "display_name": "Python 3"
    }
  },
  "cells": [
    {
      "cell_type": "markdown",
      "metadata": {
        "id": "view-in-github",
        "colab_type": "text"
      },
      "source": [
        "<a href=\"https://colab.research.google.com/github/pondbaahh/multivariate/blob/main/python101.ipynb\" target=\"_parent\"><img src=\"https://colab.research.google.com/assets/colab-badge.svg\" alt=\"Open In Colab\"/></a>"
      ]
    },
    {
      "cell_type": "markdown",
      "metadata": {
        "id": "1gAW8lS2LjAK"
      },
      "source": [
        "\r\n",
        "\r\n",
        "```\r\n",
        "# This is formatted as code\r\n",
        "```\r\n",
        "\r\n",
        "ตัวเเปร variable\r\n",
        "\r\n",
        " หลักการตั้งชื่อ\r\n",
        "\r\n",
        " 1.ตั้งให้สื่อ\r\n",
        " \r\n",
        " 2.ภาษาอังกฤษ\r\n",
        "\r\n",
        " 3.ใช้ตัวเอลขได้แต่ห้ามขึ้นต้นด้วยตัวเลข\r\n",
        "\r\n",
        " 4.ห้ามเว้นวรรค\r\n",
        "\r\n",
        " 5.ตัวเล็กกับตัวใหญ่ไม่เหมือนกัน"
      ]
    },
    {
      "cell_type": "markdown",
      "metadata": {
        "id": "v8DwaG2KPFTX"
      },
      "source": [
        "มี output 2 mode : ออกหน้าจอ กับ เข้าไปเก็บในตัวแแปร"
      ]
    },
    {
      "cell_type": "code",
      "metadata": {
        "colab": {
          "base_uri": "https://localhost:8080/"
        },
        "id": "ONSgLDBGLsUN",
        "outputId": "9478aeab-c71f-4c91-bb71-703913a6821f"
      },
      "source": [
        "3.14159 # hashtag หรือ shap # คือ comment >>> อันนี้คือ output ที่ออกหน้าจอ"
      ],
      "execution_count": 14,
      "outputs": [
        {
          "output_type": "execute_result",
          "data": {
            "text/plain": [
              "3.14159"
            ]
          },
          "metadata": {
            "tags": []
          },
          "execution_count": 14
        }
      ]
    },
    {
      "cell_type": "code",
      "metadata": {
        "id": "5fHptehVPcKr"
      },
      "source": [
        "Pi = 3.14159  # อันนี้คือ output ที่เข้าไปอยู่ในตัวเเปร"
      ],
      "execution_count": 15,
      "outputs": []
    },
    {
      "cell_type": "code",
      "metadata": {
        "colab": {
          "base_uri": "https://localhost:8080/"
        },
        "id": "UeIKocXvPkjo",
        "outputId": "fb23dc94-32a1-4a02-d4f2-7ae133e77991"
      },
      "source": [
        "Pi"
      ],
      "execution_count": 16,
      "outputs": [
        {
          "output_type": "execute_result",
          "data": {
            "text/plain": [
              "3.14159"
            ]
          },
          "metadata": {
            "tags": []
          },
          "execution_count": 16
        }
      ]
    },
    {
      "cell_type": "code",
      "metadata": {
        "colab": {
          "base_uri": "https://localhost:8080/"
        },
        "id": "dn7sMlNRPpXN",
        "outputId": "5ed2c3f5-d41f-4e94-c174-e60f125a7281"
      },
      "source": [
        "a = 1234567\r\n",
        "print(a)   #ถ้าอยากให้เเสดงค่า a ให้ใส่ print"
      ],
      "execution_count": 17,
      "outputs": [
        {
          "output_type": "stream",
          "text": [
            "1234567\n"
          ],
          "name": "stdout"
        }
      ]
    },
    {
      "cell_type": "markdown",
      "metadata": {
        "id": "yzVXa9W-QOB-"
      },
      "source": [
        "#ชนิดของตัวแปร 3 ชนิด"
      ]
    },
    {
      "cell_type": "markdown",
      "metadata": {
        "id": "2si619iB2J8g"
      },
      "source": [
        "**จำนวนเต็ม (integer,int)**"
      ]
    },
    {
      "cell_type": "code",
      "metadata": {
        "id": "XiPhHFkP2VEM",
        "colab": {
          "base_uri": "https://localhost:8080/"
        },
        "outputId": "0d87dc1d-7cc3-4e08-ceb4-0c83da5a3b30"
      },
      "source": [
        "aaa = 1092\r\n",
        "print(aaa)"
      ],
      "execution_count": 18,
      "outputs": [
        {
          "output_type": "stream",
          "text": [
            "1092\n"
          ],
          "name": "stdout"
        }
      ]
    },
    {
      "cell_type": "markdown",
      "metadata": {
        "id": "-0JLkF_u2q96"
      },
      "source": [
        "**จำนวนจริง (float)**"
      ]
    },
    {
      "cell_type": "code",
      "metadata": {
        "id": "AX64Ok8J3Jfp",
        "colab": {
          "base_uri": "https://localhost:8080/"
        },
        "outputId": "da80b706-4805-42fe-856b-fbaa6ac560c0"
      },
      "source": [
        "bbb = 11.\r\n",
        "print(bbb)"
      ],
      "execution_count": 19,
      "outputs": [
        {
          "output_type": "stream",
          "text": [
            "11.0\n"
          ],
          "name": "stdout"
        }
      ]
    },
    {
      "cell_type": "markdown",
      "metadata": {
        "id": "61tX1U7U3GNW"
      },
      "source": [
        "**ตัวอักษร-ข้อความ (character and text,string)**"
      ]
    },
    {
      "cell_type": "code",
      "metadata": {
        "id": "fKn19v_kRL2v",
        "colab": {
          "base_uri": "https://localhost:8080/"
        },
        "outputId": "83eb8ac4-c221-4247-a362-9d029a1e1605"
      },
      "source": [
        "ccc = '123456'  #เราใช้ single quote ' หรือ double quote \" ล้อมรอบตัวหนีงงสือเพื่อระบุว่าเป็น character-string\r\n",
        "print(ccc)"
      ],
      "execution_count": 20,
      "outputs": [
        {
          "output_type": "stream",
          "text": [
            "123456\n"
          ],
          "name": "stdout"
        }
      ]
    },
    {
      "cell_type": "code",
      "metadata": {
        "id": "CbDcdt2N315J",
        "colab": {
          "base_uri": "https://localhost:8080/"
        },
        "outputId": "dedea697-2d36-4005-81c3-fc9e58769ebe"
      },
      "source": [
        "aaa + bbb  #float + int = float"
      ],
      "execution_count": 21,
      "outputs": [
        {
          "output_type": "execute_result",
          "data": {
            "text/plain": [
              "1103.0"
            ]
          },
          "metadata": {
            "tags": []
          },
          "execution_count": 21
        }
      ]
    },
    {
      "cell_type": "code",
      "metadata": {
        "id": "B7IKx9gW4BMp",
        "colab": {
          "base_uri": "https://localhost:8080/",
          "height": 166
        },
        "outputId": "6573f53c-3505-478e-9ccc-ffc0084f6161"
      },
      "source": [
        "bbb + ccc  #เวลาอ่าน error ให้อ่านบรรทัดล่างสุด  #แก้โดยเปลี่ยนชนิดของตัวเเปร"
      ],
      "execution_count": 22,
      "outputs": [
        {
          "output_type": "error",
          "ename": "TypeError",
          "evalue": "ignored",
          "traceback": [
            "\u001b[0;31m---------------------------------------------------------------------------\u001b[0m",
            "\u001b[0;31mTypeError\u001b[0m                                 Traceback (most recent call last)",
            "\u001b[0;32m<ipython-input-22-9cc0efc83b47>\u001b[0m in \u001b[0;36m<module>\u001b[0;34m()\u001b[0m\n\u001b[0;32m----> 1\u001b[0;31m \u001b[0mbbb\u001b[0m \u001b[0;34m+\u001b[0m \u001b[0mccc\u001b[0m  \u001b[0;31m#เวลาอ่าน error ให้อ่านบรรทัดล่างสุด  #แก้โดยเปลี่ยนชนิดของตัวเเปร\u001b[0m\u001b[0;34m\u001b[0m\u001b[0;34m\u001b[0m\u001b[0m\n\u001b[0m",
            "\u001b[0;31mTypeError\u001b[0m: unsupported operand type(s) for +: 'float' and 'str'"
          ]
        }
      ]
    },
    {
      "cell_type": "code",
      "metadata": {
        "id": "QdydlJWC4D-F",
        "colab": {
          "base_uri": "https://localhost:8080/"
        },
        "outputId": "0fe131ae-54f2-4401-8612-f7725eee0567"
      },
      "source": [
        "ddd = 'วัชราภรณ์'  #ตัวข้อความทำเป็นภาษาไทยได้\r\n",
        "print(ddd)"
      ],
      "execution_count": 23,
      "outputs": [
        {
          "output_type": "stream",
          "text": [
            "วัชราภรณ์\n"
          ],
          "name": "stdout"
        }
      ]
    },
    {
      "cell_type": "markdown",
      "metadata": {
        "id": "wpxBRal4RhFH"
      },
      "source": [
        "**การเปลี่ยนชนิดของตัวเเปร variable casting**"
      ]
    },
    {
      "cell_type": "code",
      "metadata": {
        "colab": {
          "base_uri": "https://localhost:8080/"
        },
        "id": "lVPCeeOGRova",
        "outputId": "5ad50935-82cc-46f6-d37d-6918a5615775"
      },
      "source": [
        "aaa + int(ccc)  #บังคับให้เป็นตัวแปรที่ต้องการ เช่น int float"
      ],
      "execution_count": 24,
      "outputs": [
        {
          "output_type": "execute_result",
          "data": {
            "text/plain": [
              "124548"
            ]
          },
          "metadata": {
            "tags": []
          },
          "execution_count": 24
        }
      ]
    },
    {
      "cell_type": "code",
      "metadata": {
        "id": "tKcjRLqIR7JT",
        "colab": {
          "base_uri": "https://localhost:8080/"
        },
        "outputId": "d21ffa01-0b99-4ffe-9579-d383feb7495b"
      },
      "source": [
        "aaa + float(ccc) #float + int = float"
      ],
      "execution_count": 25,
      "outputs": [
        {
          "output_type": "execute_result",
          "data": {
            "text/plain": [
              "124548.0"
            ]
          },
          "metadata": {
            "tags": []
          },
          "execution_count": 25
        }
      ]
    },
    {
      "cell_type": "code",
      "metadata": {
        "id": "IvVafExxSAWp",
        "colab": {
          "base_uri": "https://localhost:8080/",
          "height": 35
        },
        "outputId": "e22b8eae-0813-440f-e67f-d15e3d630016"
      },
      "source": [
        "str(aaa) #int เปลี่ยนเป็นข้อความได้โดยพิมพ์ str #ทำแบบนี้ได้แค่ใน notebook"
      ],
      "execution_count": null,
      "outputs": [
        {
          "output_type": "execute_result",
          "data": {
            "application/vnd.google.colaboratory.intrinsic+json": {
              "type": "string"
            },
            "text/plain": [
              "'1092'"
            ]
          },
          "metadata": {
            "tags": []
          },
          "execution_count": 11
        }
      ]
    },
    {
      "cell_type": "markdown",
      "metadata": {
        "id": "BIDm-tmDSJ53"
      },
      "source": [
        "#การดำเนินการ operation (operation +,-,*,/,%)\r\n",
        "\r\n",
        "การเอาตัวแปรมาบวก ลบ คูณ หาร กัน"
      ]
    },
    {
      "cell_type": "code",
      "metadata": {
        "colab": {
          "base_uri": "https://localhost:8080/",
          "height": 166
        },
        "id": "c0cHaiL2SuhV",
        "outputId": "6524d702-72ad-432b-926c-fb1874e4e8d8"
      },
      "source": [
        "a + b    #เวลาอ่าน error ให้อ่านบรรทัดสุดท้าย  #error นี้บอกว่าตัวแปร b ไม่มี"
      ],
      "execution_count": 26,
      "outputs": [
        {
          "output_type": "error",
          "ename": "NameError",
          "evalue": "ignored",
          "traceback": [
            "\u001b[0;31m---------------------------------------------------------------------------\u001b[0m",
            "\u001b[0;31mNameError\u001b[0m                                 Traceback (most recent call last)",
            "\u001b[0;32m<ipython-input-26-ad8215ad4d44>\u001b[0m in \u001b[0;36m<module>\u001b[0;34m()\u001b[0m\n\u001b[0;32m----> 1\u001b[0;31m \u001b[0ma\u001b[0m \u001b[0;34m+\u001b[0m \u001b[0mb\u001b[0m    \u001b[0;31m#เวลาอ่าน error ให้อ่านบรรทัดสุดท้าย  #error นี้บอกว่าตัวแปร b ไม่มี\u001b[0m\u001b[0;34m\u001b[0m\u001b[0;34m\u001b[0m\u001b[0m\n\u001b[0m",
            "\u001b[0;31mNameError\u001b[0m: name 'b' is not defined"
          ]
        }
      ]
    },
    {
      "cell_type": "code",
      "metadata": {
        "id": "vSUYWi3lS-3z",
        "colab": {
          "base_uri": "https://localhost:8080/"
        },
        "outputId": "1e7d4565-856f-49ea-f6d3-0fa202426f7c"
      },
      "source": [
        "aaa + bbb  #output ออกมาอย่างเดียวใช้ต่อไม่ได้"
      ],
      "execution_count": 27,
      "outputs": [
        {
          "output_type": "execute_result",
          "data": {
            "text/plain": [
              "1103.0"
            ]
          },
          "metadata": {
            "tags": []
          },
          "execution_count": 27
        }
      ]
    },
    {
      "cell_type": "code",
      "metadata": {
        "id": "pNzn1kCGTB4d",
        "colab": {
          "base_uri": "https://localhost:8080/"
        },
        "outputId": "63250d89-cbce-493b-d4d1-9131c5785996"
      },
      "source": [
        "aaa - bbb"
      ],
      "execution_count": 28,
      "outputs": [
        {
          "output_type": "execute_result",
          "data": {
            "text/plain": [
              "1081.0"
            ]
          },
          "metadata": {
            "tags": []
          },
          "execution_count": 28
        }
      ]
    },
    {
      "cell_type": "code",
      "metadata": {
        "id": "3bKdoNflTDdX",
        "colab": {
          "base_uri": "https://localhost:8080/"
        },
        "outputId": "2aa7dfb8-d1f7-43bc-f189-fbcdf6eb8a37"
      },
      "source": [
        "ab = aaa*bbb #ab สามารถเอามาใช้ต่อได้ ถ้าอยากนำไปใช้ต่อต้องทำแบบนี้\r\n",
        "print(ab)"
      ],
      "execution_count": 29,
      "outputs": [
        {
          "output_type": "stream",
          "text": [
            "12012.0\n"
          ],
          "name": "stdout"
        }
      ]
    },
    {
      "cell_type": "code",
      "metadata": {
        "id": "X12VPk_0TIgW",
        "colab": {
          "base_uri": "https://localhost:8080/"
        },
        "outputId": "e75f3212-a442-4a3b-9c72-5f96ee12c0c6"
      },
      "source": [
        "ab + int(ccc)"
      ],
      "execution_count": 30,
      "outputs": [
        {
          "output_type": "execute_result",
          "data": {
            "text/plain": [
              "135468.0"
            ]
          },
          "metadata": {
            "tags": []
          },
          "execution_count": 30
        }
      ]
    },
    {
      "cell_type": "markdown",
      "metadata": {
        "id": "mHLhfttATmOC"
      },
      "source": [
        "# % คือ modulo "
      ]
    },
    {
      "cell_type": "markdown",
      "metadata": {
        "id": "7GH5jDxJTt-L"
      },
      "source": [
        "คือการหารเอาเศษ\r\n",
        "\r\n",
        "เศษ0 เลขคู่ , มีเศษเลขคี่"
      ]
    },
    {
      "cell_type": "code",
      "metadata": {
        "colab": {
          "base_uri": "https://localhost:8080/"
        },
        "id": "BIRQc2dkTzEa",
        "outputId": "f6a97866-abcd-4521-e658-e014d87e1cf4"
      },
      "source": [
        "5%3   "
      ],
      "execution_count": 31,
      "outputs": [
        {
          "output_type": "execute_result",
          "data": {
            "text/plain": [
              "2"
            ]
          },
          "metadata": {
            "tags": []
          },
          "execution_count": 31
        }
      ]
    },
    {
      "cell_type": "code",
      "metadata": {
        "colab": {
          "base_uri": "https://localhost:8080/"
        },
        "id": "ZwKODnoLT2yy",
        "outputId": "5afc561b-8bb4-476f-c9e6-5515d269dc82"
      },
      "source": [
        "7%3"
      ],
      "execution_count": 32,
      "outputs": [
        {
          "output_type": "execute_result",
          "data": {
            "text/plain": [
              "1"
            ]
          },
          "metadata": {
            "tags": []
          },
          "execution_count": 32
        }
      ]
    },
    {
      "cell_type": "markdown",
      "metadata": {
        "id": "kmno6-QhUDEx"
      },
      "source": [
        "#คำสั่ง print แบบพิเศษ(การformat string)\r\n",
        "\r\n",
        "ข้างในสามารถเป็นตัวเเปร หรือ ข้อความก็ได้"
      ]
    },
    {
      "cell_type": "code",
      "metadata": {
        "id": "_SJmfJmT5FB_",
        "colab": {
          "base_uri": "https://localhost:8080/"
        },
        "outputId": "cb300e8b-9f0c-4854-e9d2-a9110bd41c04"
      },
      "source": [
        "print('ตัวแปร') #สิ่งที่อยู่ข้างในวงเล็บ ตัวแปร และ string"
      ],
      "execution_count": 33,
      "outputs": [
        {
          "output_type": "stream",
          "text": [
            "ตัวแปร\n"
          ],
          "name": "stdout"
        }
      ]
    },
    {
      "cell_type": "code",
      "metadata": {
        "colab": {
          "base_uri": "https://localhost:8080/"
        },
        "id": "heGBiBP0U1gZ",
        "outputId": "fd671b09-dd52-48e5-919c-515af1b31c58"
      },
      "source": [
        "print(f'% คือการหารเอาเศษ เช่น 7%3 = {7%3}') #เพิ่ม f หน้า 'string' สามารถใช้ {} ใส่ code เข้าไปได้"
      ],
      "execution_count": 34,
      "outputs": [
        {
          "output_type": "stream",
          "text": [
            "% คือการหารเอาเศษ เช่น 7%3 = 1\n"
          ],
          "name": "stdout"
        }
      ]
    },
    {
      "cell_type": "code",
      "metadata": {
        "id": "Mc7yTN8xV0nz",
        "colab": {
          "base_uri": "https://localhost:8080/"
        },
        "outputId": "579adf33-fa25-468c-9d15-1da736e019aa"
      },
      "source": [
        "print(f'% คือการหารเอาเศษ เช่น 7%3 = {7%3}\\\r\n",
        "      แต่\\n/ คือการหารปกติ เช่น 7/3 = {7/3} \\\r\n",
        "      และ\\n// คือการหารเอาส่วน เช่น 7//3 = {(7//3)} \\\r\n",
        "      หรือ\\nใช้ int() เพื่อหารเอาส่วน เช่น int(7/3) = {int(7/3)}' )  #\\n คือการขึ้นบรรทัดใหม่ \\\\ ใช้ในการตัด code และ com จะไม่เห็นว่าเกิดไรขึ้น\r\n",
        "      #\\\\ = ช่วยให้อ่าน code ได้ง่ายขึ้น"
      ],
      "execution_count": 35,
      "outputs": [
        {
          "output_type": "stream",
          "text": [
            "% คือการหารเอาเศษ เช่น 7%3 = 1      แต่\n",
            "/ คือการหารปกติ เช่น 7/3 = 2.3333333333333335       และ\n",
            "// คือการหารเอาส่วน เช่น 7//3 = 2       หรือ\n",
            "ใช้ int() เพื่อหารเอาส่วน เช่น int(7/3) = 2\n"
          ],
          "name": "stdout"
        }
      ]
    },
    {
      "cell_type": "markdown",
      "metadata": {
        "id": "ZQ1sYY53W_CP"
      },
      "source": [
        "#DATA STRUCTURE(โครงสร้างข้อมูล)"
      ]
    },
    {
      "cell_type": "markdown",
      "metadata": {
        "id": "t-smI2zzXJLx"
      },
      "source": [
        "### List คือการเอาข้อมูลหลายตัวมาเรียงต่อกัน\r\n",
        "เป็นได้ทั้งตัวแปร ข้อความ ตัวเลข ตัวอักษร\r\n",
        "#### list สามารถสร้างได้ 2 แบบ ดังนี้\r\n",
        "สัญลักษณ์ ที่ใช้ [ ]"
      ]
    },
    {
      "cell_type": "code",
      "metadata": {
        "colab": {
          "base_uri": "https://localhost:8080/"
        },
        "id": "oY45RY39Xd-l",
        "outputId": "f45a2f16-cb9e-4a45-fa4e-9e0edf1e480e"
      },
      "source": [
        "[111,'c',222]"
      ],
      "execution_count": null,
      "outputs": [
        {
          "output_type": "execute_result",
          "data": {
            "text/plain": [
              "[111, 'c', 222]"
            ]
          },
          "metadata": {
            "tags": []
          },
          "execution_count": 12
        }
      ]
    },
    {
      "cell_type": "markdown",
      "metadata": {
        "id": "U0i0X4MiXtwH"
      },
      "source": [
        "###แบบที่1 > square brackets"
      ]
    },
    {
      "cell_type": "code",
      "metadata": {
        "id": "WyAzqBKkX4jC",
        "colab": {
          "base_uri": "https://localhost:8080/"
        },
        "outputId": "51fd4a49-e1a6-4ca0-9117-b18991edcc79"
      },
      "source": [
        "list_a = []  #listว่างคือไม่มีอะไรอยู่ข้างใน\r\n",
        "print(list_a)"
      ],
      "execution_count": 36,
      "outputs": [
        {
          "output_type": "stream",
          "text": [
            "[]\n"
          ],
          "name": "stdout"
        }
      ]
    },
    {
      "cell_type": "code",
      "metadata": {
        "id": "PHMfmWv16tcH",
        "colab": {
          "base_uri": "https://localhost:8080/"
        },
        "outputId": "83c7f0ea-2669-4088-a6f4-74fc52ecee59"
      },
      "source": [
        "list_b = [111,'d','xx',aaa]\r\n",
        "print(list_b)"
      ],
      "execution_count": 37,
      "outputs": [
        {
          "output_type": "stream",
          "text": [
            "[111, 'd', 'xx', 1092]\n"
          ],
          "name": "stdout"
        }
      ]
    },
    {
      "cell_type": "markdown",
      "metadata": {
        "id": "x5VTE4J57EOZ"
      },
      "source": [
        "**ลำดับที่อยู่ใน list มีความมีสำคัญ(ลำดับใน list เริ่มจาก 0,1,2...)**"
      ]
    },
    {
      "cell_type": "code",
      "metadata": {
        "id": "d31lR90X7Ujh",
        "colab": {
          "base_uri": "https://localhost:8080/",
          "height": 35
        },
        "outputId": "eb0708e5-f0ef-4d3e-c593-e3aab29e3a31"
      },
      "source": [
        "list_b[2]"
      ],
      "execution_count": 38,
      "outputs": [
        {
          "output_type": "execute_result",
          "data": {
            "application/vnd.google.colaboratory.intrinsic+json": {
              "type": "string"
            },
            "text/plain": [
              "'xx'"
            ]
          },
          "metadata": {
            "tags": []
          },
          "execution_count": 38
        }
      ]
    },
    {
      "cell_type": "markdown",
      "metadata": {
        "id": "3YiBJL287bUH"
      },
      "source": [
        "**แบบที่ 2**"
      ]
    },
    {
      "cell_type": "code",
      "metadata": {
        "id": "3tz37MhQ7k27",
        "colab": {
          "base_uri": "https://localhost:8080/"
        },
        "outputId": "8b987bd5-ee08-42b6-ef24-a530b357e1e7"
      },
      "source": [
        "list_c = list()\r\n",
        "print(list_c)"
      ],
      "execution_count": 39,
      "outputs": [
        {
          "output_type": "stream",
          "text": [
            "[]\n"
          ],
          "name": "stdout"
        }
      ]
    },
    {
      "cell_type": "markdown",
      "metadata": {
        "id": "Val71_7J72QE"
      },
      "source": [
        "##append() เพิ่มสมาชิกใน list\r\n",
        "\r\n"
      ]
    },
    {
      "cell_type": "code",
      "metadata": {
        "id": "r78i0cEK8AE_",
        "colab": {
          "base_uri": "https://localhost:8080/"
        },
        "outputId": "1a95db54-ddfe-4520-d7b2-663008db301c"
      },
      "source": [
        "list_b.append('u')\r\n",
        "print(list_b)"
      ],
      "execution_count": 40,
      "outputs": [
        {
          "output_type": "stream",
          "text": [
            "[111, 'd', 'xx', 1092, 'u']\n"
          ],
          "name": "stdout"
        }
      ]
    },
    {
      "cell_type": "markdown",
      "metadata": {
        "id": "H-g--OtN8Op1"
      },
      "source": [
        "ตัวที่อยู่ในวงเล็บหลังจากตัวแปร list เรียกว่า index ใช้สำหรับชี้ข้อมูลใน list\r\n",
        "\r\n",
        "(ชี้จากข้างหน้า,ชี้จากข้างหลัง)\r\n",
        "\r\n",
        "0 คือสมาชิกตัวแรก, -1 คือสมากชิกตัวสุดท้าย"
      ]
    },
    {
      "cell_type": "code",
      "metadata": {
        "id": "m3YCczku88bH",
        "colab": {
          "base_uri": "https://localhost:8080/",
          "height": 35
        },
        "outputId": "abbf8127-a81e-461c-acf2-c971598cdfb6"
      },
      "source": [
        "list_b[-1]"
      ],
      "execution_count": 41,
      "outputs": [
        {
          "output_type": "execute_result",
          "data": {
            "application/vnd.google.colaboratory.intrinsic+json": {
              "type": "string"
            },
            "text/plain": [
              "'u'"
            ]
          },
          "metadata": {
            "tags": []
          },
          "execution_count": 41
        }
      ]
    },
    {
      "cell_type": "markdown",
      "metadata": {
        "id": "j05umMCr9EY-"
      },
      "source": [
        "##string > list of characters"
      ]
    },
    {
      "cell_type": "code",
      "metadata": {
        "id": "np3LtUng9MSl",
        "colab": {
          "base_uri": "https://localhost:8080/"
        },
        "outputId": "3fa92ddb-d851-46f7-f87e-01c862594356"
      },
      "source": [
        "t = 'python is easy'   #คำสั่งที่ใช้กับ list สามารถใช้กับ string ได้เหมือนกัน\r\n",
        "print(t)"
      ],
      "execution_count": 42,
      "outputs": [
        {
          "output_type": "stream",
          "text": [
            "python is easy\n"
          ],
          "name": "stdout"
        }
      ]
    },
    {
      "cell_type": "code",
      "metadata": {
        "id": "IlPiA3-59bdl",
        "colab": {
          "base_uri": "https://localhost:8080/",
          "height": 35
        },
        "outputId": "1aadd994-be7b-4f51-ee1c-97eee051de72"
      },
      "source": [
        "t[1]"
      ],
      "execution_count": 43,
      "outputs": [
        {
          "output_type": "execute_result",
          "data": {
            "application/vnd.google.colaboratory.intrinsic+json": {
              "type": "string"
            },
            "text/plain": [
              "'y'"
            ]
          },
          "metadata": {
            "tags": []
          },
          "execution_count": 43
        }
      ]
    },
    {
      "cell_type": "code",
      "metadata": {
        "id": "4iYhJeEH9d3B",
        "colab": {
          "base_uri": "https://localhost:8080/",
          "height": 35
        },
        "outputId": "766cd68e-46ed-489d-dd8d-199042e7f55d"
      },
      "source": [
        "t[-3]"
      ],
      "execution_count": 44,
      "outputs": [
        {
          "output_type": "execute_result",
          "data": {
            "application/vnd.google.colaboratory.intrinsic+json": {
              "type": "string"
            },
            "text/plain": [
              "'a'"
            ]
          },
          "metadata": {
            "tags": []
          },
          "execution_count": 44
        }
      ]
    },
    {
      "cell_type": "code",
      "metadata": {
        "id": "cHQrqYPh9gyc",
        "colab": {
          "base_uri": "https://localhost:8080/",
          "height": 35
        },
        "outputId": "f0ee7a7d-ac7e-4a48-d394-8d8d3448d1da"
      },
      "source": [
        "t[7]"
      ],
      "execution_count": 45,
      "outputs": [
        {
          "output_type": "execute_result",
          "data": {
            "application/vnd.google.colaboratory.intrinsic+json": {
              "type": "string"
            },
            "text/plain": [
              "'i'"
            ]
          },
          "metadata": {
            "tags": []
          },
          "execution_count": 45
        }
      ]
    },
    {
      "cell_type": "code",
      "metadata": {
        "id": "hqS5BWmz9lci",
        "colab": {
          "base_uri": "https://localhost:8080/",
          "height": 35
        },
        "outputId": "3ba5cde0-b4d4-4db7-abdd-3981ed971111"
      },
      "source": [
        "t[6]"
      ],
      "execution_count": 46,
      "outputs": [
        {
          "output_type": "execute_result",
          "data": {
            "application/vnd.google.colaboratory.intrinsic+json": {
              "type": "string"
            },
            "text/plain": [
              "' '"
            ]
          },
          "metadata": {
            "tags": []
          },
          "execution_count": 46
        }
      ]
    },
    {
      "cell_type": "markdown",
      "metadata": {
        "id": "Z4gYGXiL-A_G"
      },
      "source": [
        "จบคาบ 2 (5 มค 2021)"
      ]
    },
    {
      "cell_type": "markdown",
      "metadata": {
        "id": "cGWwrd_hhXnU"
      },
      "source": [
        "#คาบ 3 11 มค 2021"
      ]
    },
    {
      "cell_type": "code",
      "metadata": {
        "id": "e7yZyxpcigMv",
        "outputId": "e8d20670-01c2-4a33-99d0-a349c0aa5c4b",
        "colab": {
          "base_uri": "https://localhost:8080/"
        }
      },
      "source": [
        "len(t)   "
      ],
      "execution_count": 47,
      "outputs": [
        {
          "output_type": "execute_result",
          "data": {
            "text/plain": [
              "14"
            ]
          },
          "metadata": {
            "tags": []
          },
          "execution_count": 47
        }
      ]
    },
    {
      "cell_type": "code",
      "metadata": {
        "id": "DdQvY4W4k-lM",
        "outputId": "f0704717-0357-4d3b-b2d1-3d13edf72539",
        "colab": {
          "base_uri": "https://localhost:8080/"
        }
      },
      "source": [
        "list_b"
      ],
      "execution_count": 49,
      "outputs": [
        {
          "output_type": "execute_result",
          "data": {
            "text/plain": [
              "[111, 'd', 'xx', 1092, 'u']"
            ]
          },
          "metadata": {
            "tags": []
          },
          "execution_count": 49
        }
      ]
    },
    {
      "cell_type": "code",
      "metadata": {
        "id": "fOP5yG97jPRb",
        "outputId": "436bc351-da59-490c-ce24-e0f0d0851e60",
        "colab": {
          "base_uri": "https://localhost:8080/"
        }
      },
      "source": [
        "len(list_b)   #len คำสั่งตรวจสอบความยาวของ list (จำนวนสมาชิก)"
      ],
      "execution_count": 48,
      "outputs": [
        {
          "output_type": "execute_result",
          "data": {
            "text/plain": [
              "5"
            ]
          },
          "metadata": {
            "tags": []
          },
          "execution_count": 48
        }
      ]
    },
    {
      "cell_type": "code",
      "metadata": {
        "id": "d_GMR_NilI6C",
        "outputId": "c099c7e8-3521-4b50-965a-257e7ab444f8",
        "colab": {
          "base_uri": "https://localhost:8080/"
        }
      },
      "source": [
        "list_b.append(t)\r\n",
        "print(list_b)"
      ],
      "execution_count": 55,
      "outputs": [
        {
          "output_type": "stream",
          "text": [
            "[111, 'd', 'xx', 1092, 'u', 'python is easy']\n"
          ],
          "name": "stdout"
        }
      ]
    },
    {
      "cell_type": "markdown",
      "metadata": {
        "id": "ipnC0eCmm1uK"
      },
      "source": [
        ""
      ]
    },
    {
      "cell_type": "markdown",
      "metadata": {
        "id": "kKl_-tTbmIr6"
      },
      "source": [
        "ตัวที่อยู่ข้างใน [ ] เราเรียกว่า index(ตัวชี้)"
      ]
    },
    {
      "cell_type": "markdown",
      "metadata": {
        "id": "RbFoMU1OmX_h"
      },
      "source": [
        "#List slicing สามารถทำได้โดยใช้ colon:\r\n",
        "\r\n",
        "\r\n",
        "[a:b] -> [a,b)\r\n",
        "\r\n",
        "วงกลมทึบ เอาตัวมันด้วย\r\n",
        "\r\n",
        "วงกลมโปร่ง ตัวที่อยู่ไม่เอา"
      ]
    },
    {
      "cell_type": "code",
      "metadata": {
        "id": "LvcWhH5nm4Na",
        "outputId": "2c063115-f7a9-4a4f-f512-a2c3be4f7673",
        "colab": {
          "base_uri": "https://localhost:8080/"
        }
      },
      "source": [
        "print(t)\r\n",
        "print(t[7:9])\r\n",
        "print(len(t[7:9]))"
      ],
      "execution_count": 56,
      "outputs": [
        {
          "output_type": "stream",
          "text": [
            "python is easy\n",
            "is\n",
            "2\n"
          ],
          "name": "stdout"
        }
      ]
    },
    {
      "cell_type": "code",
      "metadata": {
        "id": "LkX9xaV6njaC",
        "outputId": "b1a68361-6d65-497f-fd47-df87e586ee55",
        "colab": {
          "base_uri": "https://localhost:8080/",
          "height": 35
        }
      },
      "source": [
        "t[0:14:2]  #ถ้าเพิ่มcolonอีกตัว หยิบอีกตัวและกระโดดไปตัวถัดไป"
      ],
      "execution_count": 57,
      "outputs": [
        {
          "output_type": "execute_result",
          "data": {
            "application/vnd.google.colaboratory.intrinsic+json": {
              "type": "string"
            },
            "text/plain": [
              "'pto ses'"
            ]
          },
          "metadata": {
            "tags": []
          },
          "execution_count": 57
        }
      ]
    },
    {
      "cell_type": "code",
      "metadata": {
        "id": "tApvXwgeoNxe",
        "outputId": "3ec726d2-e2d0-43bd-a57e-dc87bfe2e06c",
        "colab": {
          "base_uri": "https://localhost:8080/"
        }
      },
      "source": [
        "z = [1,2,3,4,5,6,7,8,9,10]\r\n",
        "print(z)"
      ],
      "execution_count": 61,
      "outputs": [
        {
          "output_type": "stream",
          "text": [
            "[1, 2, 3, 4, 5, 6, 7, 8, 9, 10]\n"
          ],
          "name": "stdout"
        }
      ]
    },
    {
      "cell_type": "markdown",
      "metadata": {
        "id": "pczzAqhLoZTA"
      },
      "source": [
        "###quiz\r\n",
        "ใช้ list slicing เลือกเฉพาะเลขคู่"
      ]
    },
    {
      "cell_type": "code",
      "metadata": {
        "id": "As3fLEgRolvu",
        "outputId": "bff8a1d4-cbc0-4bc1-c3b7-a34476613211",
        "colab": {
          "base_uri": "https://localhost:8080/"
        }
      },
      "source": [
        "z[1:10:2]"
      ],
      "execution_count": 62,
      "outputs": [
        {
          "output_type": "execute_result",
          "data": {
            "text/plain": [
              "[2, 4, 6, 8, 10]"
            ]
          },
          "metadata": {
            "tags": []
          },
          "execution_count": 62
        }
      ]
    },
    {
      "cell_type": "markdown",
      "metadata": {
        "id": "lRkIBZIUpGME"
      },
      "source": [
        "ถ้าเว้นว่างหน้า: หมายความว่า เริ่มตั้งแต่ตัวเเรกของlist ตัวที่ 0\r\n",
        "\r\n",
        "ถ้าเว้นว่างหลัง: หมายความว่า ไปจนถึงตัวสุดท้าย(len(list))"
      ]
    },
    {
      "cell_type": "code",
      "metadata": {
        "id": "HqTCNiRnpibq",
        "outputId": "907a78aa-d33a-40dc-b3dd-c357b32e859d",
        "colab": {
          "base_uri": "https://localhost:8080/"
        }
      },
      "source": [
        "print(t)\r\n",
        "print(t[:6])  #เริ่มตั้งแต่ตัวเเรกของlist\r\n",
        "print(t[10:])\r\n",
        "print(t[-4:])\r\n",
        "print(t[:])"
      ],
      "execution_count": 65,
      "outputs": [
        {
          "output_type": "stream",
          "text": [
            "python is easy\n",
            "python\n",
            "easy\n",
            "easy\n",
            "python is easy\n"
          ],
          "name": "stdout"
        }
      ]
    },
    {
      "cell_type": "code",
      "metadata": {
        "id": "C5E8ee7OqQ0z",
        "outputId": "09536d2b-fe93-4f5c-8e07-8d58f7ccff7c",
        "colab": {
          "base_uri": "https://localhost:8080/"
        }
      },
      "source": [
        "print(z[::2])  "
      ],
      "execution_count": 64,
      "outputs": [
        {
          "output_type": "stream",
          "text": [
            "[1, 3, 5, 7, 9]\n"
          ],
          "name": "stdout"
        }
      ]
    },
    {
      "cell_type": "markdown",
      "metadata": {
        "id": "VUZE9HCvrzdr"
      },
      "source": [
        "###เราสามารถเอา list มาต่อกันได้ด้วย +"
      ]
    },
    {
      "cell_type": "code",
      "metadata": {
        "id": "1vQmrqpUr85H",
        "outputId": "be0d40f0-c799-4493-d8bf-fa4f486f3d71",
        "colab": {
          "base_uri": "https://localhost:8080/",
          "height": 35
        }
      },
      "source": [
        "t + '??'"
      ],
      "execution_count": 66,
      "outputs": [
        {
          "output_type": "execute_result",
          "data": {
            "application/vnd.google.colaboratory.intrinsic+json": {
              "type": "string"
            },
            "text/plain": [
              "'python is easy??'"
            ]
          },
          "metadata": {
            "tags": []
          },
          "execution_count": 66
        }
      ]
    },
    {
      "cell_type": "code",
      "metadata": {
        "id": "UJgcGwQAsFfc",
        "outputId": "c65eeb28-f8fd-497c-fbd4-28b156505f35",
        "colab": {
          "base_uri": "https://localhost:8080/",
          "height": 166
        }
      },
      "source": [
        "t + list_b  ##ไม่สามารถเอา list ปกติมาต่อกับ string ได้"
      ],
      "execution_count": 67,
      "outputs": [
        {
          "output_type": "error",
          "ename": "TypeError",
          "evalue": "ignored",
          "traceback": [
            "\u001b[0;31m---------------------------------------------------------------------------\u001b[0m",
            "\u001b[0;31mTypeError\u001b[0m                                 Traceback (most recent call last)",
            "\u001b[0;32m<ipython-input-67-f556c08b58b6>\u001b[0m in \u001b[0;36m<module>\u001b[0;34m()\u001b[0m\n\u001b[0;32m----> 1\u001b[0;31m \u001b[0mt\u001b[0m \u001b[0;34m+\u001b[0m \u001b[0mlist_b\u001b[0m  \u001b[0;31m##ไม่สามารถเอา list ปกติมาต่อกับ string ได้\u001b[0m\u001b[0;34m\u001b[0m\u001b[0;34m\u001b[0m\u001b[0m\n\u001b[0m",
            "\u001b[0;31mTypeError\u001b[0m: must be str, not list"
          ]
        }
      ]
    },
    {
      "cell_type": "code",
      "metadata": {
        "id": "i2pe2xHJsSDk",
        "outputId": "9e1a1cc2-3f6b-46d9-fdb6-416fc074cc85",
        "colab": {
          "base_uri": "https://localhost:8080/"
        }
      },
      "source": [
        "print(list_a)\r\n",
        "print(list_b)\r\n",
        "print(list_b + list_a)  # + คือเอาสมาชิกมารวมกัน"
      ],
      "execution_count": 68,
      "outputs": [
        {
          "output_type": "stream",
          "text": [
            "[]\n",
            "[111, 'd', 'xx', 1092, 'u', 'python is easy']\n",
            "[111, 'd', 'xx', 1092, 'u', 'python is easy']\n"
          ],
          "name": "stdout"
        }
      ]
    },
    {
      "cell_type": "code",
      "metadata": {
        "id": "sU4nErhbs92v",
        "outputId": "5c70cf06-36e9-4f05-f68a-74435bf85359",
        "colab": {
          "base_uri": "https://localhost:8080/"
        }
      },
      "source": [
        "list_b.append(list_a)  #เอาทั้งหมดมาต่อกัน\r\n",
        "print(list_b)"
      ],
      "execution_count": 71,
      "outputs": [
        {
          "output_type": "stream",
          "text": [
            "[111, 'd', 'xx', 1092, 'u', 'python is easy', [], [], []]\n"
          ],
          "name": "stdout"
        }
      ]
    },
    {
      "cell_type": "markdown",
      "metadata": {
        "id": "QAtoAiP2t4Q0"
      },
      "source": [
        "### การแบ่ง string ตามสัญลักษณ์ที่กำหนด -> split string\r\n",
        "\r\n",
        "สามารถระบุสัญลักษณ์ ที่ให้pythonไปหาและเเบ่งด้วยคาแรกเตอร์นั้น"
      ]
    },
    {
      "cell_type": "code",
      "metadata": {
        "id": "Ihig63qOuORn",
        "outputId": "8fd0b685-bd5d-4c6c-df28-69d879cdbdc9",
        "colab": {
          "base_uri": "https://localhost:8080/",
          "height": 35
        }
      },
      "source": [
        "t"
      ],
      "execution_count": 72,
      "outputs": [
        {
          "output_type": "execute_result",
          "data": {
            "application/vnd.google.colaboratory.intrinsic+json": {
              "type": "string"
            },
            "text/plain": [
              "'python is easy'"
            ]
          },
          "metadata": {
            "tags": []
          },
          "execution_count": 72
        }
      ]
    },
    {
      "cell_type": "code",
      "metadata": {
        "id": "M__T9GREuTam",
        "outputId": "7277863c-2c28-47f2-8b11-0348cf04afeb",
        "colab": {
          "base_uri": "https://localhost:8080/"
        }
      },
      "source": [
        "t.split(' ')  #สามารถแบ่งstring ด้วยช่องว่าง"
      ],
      "execution_count": 74,
      "outputs": [
        {
          "output_type": "execute_result",
          "data": {
            "text/plain": [
              "['python', 'is', 'easy']"
            ]
          },
          "metadata": {
            "tags": []
          },
          "execution_count": 74
        }
      ]
    },
    {
      "cell_type": "code",
      "metadata": {
        "id": "85J3N_b8utIv"
      },
      "source": [
        "time = '12:30:15'"
      ],
      "execution_count": 75,
      "outputs": []
    },
    {
      "cell_type": "code",
      "metadata": {
        "id": "e6NFyIBvuyT_",
        "outputId": "aedf8340-dbb4-42a4-b5bc-fb1b7151507d",
        "colab": {
          "base_uri": "https://localhost:8080/"
        }
      },
      "source": [
        "time.split(':')"
      ],
      "execution_count": 76,
      "outputs": [
        {
          "output_type": "execute_result",
          "data": {
            "text/plain": [
              "['12', '30', '15']"
            ]
          },
          "metadata": {
            "tags": []
          },
          "execution_count": 76
        }
      ]
    },
    {
      "cell_type": "code",
      "metadata": {
        "id": "MaOYzxTZu8Gm",
        "outputId": "b01c209a-14f2-4716-a776-78c7ede74859",
        "colab": {
          "base_uri": "https://localhost:8080/"
        }
      },
      "source": [
        "t_sp = t.split(' ')   #สามารถนำไปใช้ต่อได้\r\n",
        "print(t_sp)"
      ],
      "execution_count": 78,
      "outputs": [
        {
          "output_type": "stream",
          "text": [
            "['python', 'is', 'easy']\n"
          ],
          "name": "stdout"
        }
      ]
    },
    {
      "cell_type": "code",
      "metadata": {
        "id": "4qBp-A6bvO0q",
        "outputId": "f8957c11-802f-4d99-89a0-bf71d586eeee",
        "colab": {
          "base_uri": "https://localhost:8080/"
        }
      },
      "source": [
        "##วิธีรวมกลับ\r\n",
        "print(':'.join(t_sp))"
      ],
      "execution_count": 79,
      "outputs": [
        {
          "output_type": "stream",
          "text": [
            "python:is:easy\n"
          ],
          "name": "stdout"
        }
      ]
    },
    {
      "cell_type": "markdown",
      "metadata": {
        "id": "rvJ5IGtNvd1q"
      },
      "source": [
        "###HW คำนวณเวลาเป็นวินาทีของเวลาต่อไปนี้โดยใช้คำสั่ง split() ช่วย (printออกมาให้สวยงาม)\r\n",
        "\r\n",
        "12:30:15\r\n",
        "\r\n",
        "13:41:07\r\n",
        "\r\n",
        "12:53:15\r\n",
        "\r\n",
        "00:59:25\r\n",
        "\r\n",
        "16:06:09\r\n",
        "\r\n",
        "21:12:30\r\n",
        "\r\n",
        "10:06:15\r\n",
        "\r\n",
        "ตัวอย่าง > 00:01:10 = 70 วินาที\r\n",
        "\r\n",
        "ตัวอย่าง > 10:00:01 = 3601 วินาที\r\n",
        "\r\n"
      ]
    }
  ]
}