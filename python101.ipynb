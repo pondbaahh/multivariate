{
  "nbformat": 4,
  "nbformat_minor": 0,
  "metadata": {
    "colab": {
      "name": "python101.ipynb",
      "provenance": [],
      "authorship_tag": "ABX9TyO0HibQoKkNdyfD7fV2j7Gb",
      "include_colab_link": true
    },
    "kernelspec": {
      "name": "python3",
      "display_name": "Python 3"
    }
  },
  "cells": [
    {
      "cell_type": "markdown",
      "metadata": {
        "id": "view-in-github",
        "colab_type": "text"
      },
      "source": [
        "<a href=\"https://colab.research.google.com/github/pondbaahh/multivariate/blob/main/python101.ipynb\" target=\"_parent\"><img src=\"https://colab.research.google.com/assets/colab-badge.svg\" alt=\"Open In Colab\"/></a>"
      ]
    },
    {
      "cell_type": "markdown",
      "metadata": {
        "id": "1gAW8lS2LjAK"
      },
      "source": [
        "\r\n",
        "\r\n",
        "```\r\n",
        "# This is formatted as code\r\n",
        "```\r\n",
        "\r\n",
        "ตัวเเปร variable\r\n",
        "\r\n",
        " หลักการตั้งชื่อ\r\n",
        "\r\n",
        " 1.ตั้งให้สื่อ\r\n",
        " \r\n",
        " 2.ภาษาอังกฤษ\r\n",
        "\r\n",
        " 3.ใช้ตัวเอลขได้แต่ห้ามขึ้นต้นด้วยตัวเลข\r\n",
        "\r\n",
        " 4.ห้ามเว้นวรรค\r\n",
        "\r\n",
        " 5.ตัวเล็กกับตัวใหญ่ไม่เหมือนกัน"
      ]
    },
    {
      "cell_type": "markdown",
      "metadata": {
        "id": "v8DwaG2KPFTX"
      },
      "source": [
        "มี output 2 mode : ออกหน้าจอ กับ เข้าไปเก็บในตัวแแปร"
      ]
    },
    {
      "cell_type": "code",
      "metadata": {
        "colab": {
          "base_uri": "https://localhost:8080/"
        },
        "id": "ONSgLDBGLsUN",
        "outputId": "fdd1ba38-e7a2-4a89-b316-d6a1766960b2"
      },
      "source": [
        "3.14159 # hashtag หรือ shap # คือ comment >>> อันนี้คือ output ที่ออกหน้าจอ"
      ],
      "execution_count": null,
      "outputs": [
        {
          "output_type": "execute_result",
          "data": {
            "text/plain": [
              "3.14159"
            ]
          },
          "metadata": {
            "tags": []
          },
          "execution_count": 1
        }
      ]
    },
    {
      "cell_type": "code",
      "metadata": {
        "id": "5fHptehVPcKr"
      },
      "source": [
        "Pi = 3.14159  # อันนี้คือ output ที่เข้าไปอยู่ในตัวเเปร"
      ],
      "execution_count": null,
      "outputs": []
    },
    {
      "cell_type": "code",
      "metadata": {
        "colab": {
          "base_uri": "https://localhost:8080/"
        },
        "id": "UeIKocXvPkjo",
        "outputId": "38b5293b-2514-48e2-c619-83f52a8bf528"
      },
      "source": [
        "Pi"
      ],
      "execution_count": null,
      "outputs": [
        {
          "output_type": "execute_result",
          "data": {
            "text/plain": [
              "3.14159"
            ]
          },
          "metadata": {
            "tags": []
          },
          "execution_count": 4
        }
      ]
    },
    {
      "cell_type": "code",
      "metadata": {
        "colab": {
          "base_uri": "https://localhost:8080/"
        },
        "id": "dn7sMlNRPpXN",
        "outputId": "1b50b656-97e7-40da-a00a-3f10764faf2c"
      },
      "source": [
        "a = 1234567\r\n",
        "print(a)   #ถ้าอยากให้เเสดงค่า a ให้ใส่ print"
      ],
      "execution_count": null,
      "outputs": [
        {
          "output_type": "stream",
          "text": [
            "1234567\n"
          ],
          "name": "stdout"
        }
      ]
    },
    {
      "cell_type": "markdown",
      "metadata": {
        "id": "yzVXa9W-QOB-"
      },
      "source": [
        "#ชนิดของตัวแปร 3 ชนิด"
      ]
    },
    {
      "cell_type": "markdown",
      "metadata": {
        "id": "2si619iB2J8g"
      },
      "source": [
        "**จำนวนเต็ม (integer,int)**"
      ]
    },
    {
      "cell_type": "code",
      "metadata": {
        "id": "XiPhHFkP2VEM",
        "outputId": "2a6c51d1-7052-4f42-ae3f-b3b579646fd1",
        "colab": {
          "base_uri": "https://localhost:8080/"
        }
      },
      "source": [
        "aaa = 1092\r\n",
        "print(aaa)"
      ],
      "execution_count": 1,
      "outputs": [
        {
          "output_type": "stream",
          "text": [
            "1092\n"
          ],
          "name": "stdout"
        }
      ]
    },
    {
      "cell_type": "markdown",
      "metadata": {
        "id": "-0JLkF_u2q96"
      },
      "source": [
        "**จำนวนจริง (float)**"
      ]
    },
    {
      "cell_type": "code",
      "metadata": {
        "id": "AX64Ok8J3Jfp",
        "outputId": "37a6594d-9409-4944-ee98-fb3e4d57898f",
        "colab": {
          "base_uri": "https://localhost:8080/"
        }
      },
      "source": [
        "bbb = 11.\r\n",
        "print(bbb)"
      ],
      "execution_count": 4,
      "outputs": [
        {
          "output_type": "stream",
          "text": [
            "11.0\n"
          ],
          "name": "stdout"
        }
      ]
    },
    {
      "cell_type": "markdown",
      "metadata": {
        "id": "61tX1U7U3GNW"
      },
      "source": [
        "**ตัวอักษร-ข้อความ (character and text,string)**"
      ]
    },
    {
      "cell_type": "code",
      "metadata": {
        "id": "fKn19v_kRL2v",
        "outputId": "9779395d-ee5e-40a8-83ba-285be03ee040",
        "colab": {
          "base_uri": "https://localhost:8080/"
        }
      },
      "source": [
        "ccc = '123456'  #เราใช้ single quote ' หรือ double quote \" ล้อมรอบตัวหนีงงสือเพื่อระบุว่าเป็น character-string\r\n",
        "print(ccc)"
      ],
      "execution_count": 5,
      "outputs": [
        {
          "output_type": "stream",
          "text": [
            "123456\n"
          ],
          "name": "stdout"
        }
      ]
    },
    {
      "cell_type": "code",
      "metadata": {
        "id": "CbDcdt2N315J",
        "outputId": "62d82de7-3175-4ecf-edff-dc030bc1befe",
        "colab": {
          "base_uri": "https://localhost:8080/"
        }
      },
      "source": [
        "aaa + bbb  #float + int = float"
      ],
      "execution_count": 6,
      "outputs": [
        {
          "output_type": "execute_result",
          "data": {
            "text/plain": [
              "1103.0"
            ]
          },
          "metadata": {
            "tags": []
          },
          "execution_count": 6
        }
      ]
    },
    {
      "cell_type": "code",
      "metadata": {
        "id": "B7IKx9gW4BMp",
        "outputId": "be2d31d3-ceda-4c52-e8ae-11d1471045d7",
        "colab": {
          "base_uri": "https://localhost:8080/",
          "height": 166
        }
      },
      "source": [
        "bbb + ccc  #เวลาอ่าน error ให้อ่านบรรทัดล่างสุด  #แก้โดยเปลี่ยนชนิดของตัวเเปร"
      ],
      "execution_count": 7,
      "outputs": [
        {
          "output_type": "error",
          "ename": "TypeError",
          "evalue": "ignored",
          "traceback": [
            "\u001b[0;31m---------------------------------------------------------------------------\u001b[0m",
            "\u001b[0;31mTypeError\u001b[0m                                 Traceback (most recent call last)",
            "\u001b[0;32m<ipython-input-7-a3916046ad1c>\u001b[0m in \u001b[0;36m<module>\u001b[0;34m()\u001b[0m\n\u001b[0;32m----> 1\u001b[0;31m \u001b[0mbbb\u001b[0m \u001b[0;34m+\u001b[0m \u001b[0mccc\u001b[0m\u001b[0;34m\u001b[0m\u001b[0;34m\u001b[0m\u001b[0m\n\u001b[0m",
            "\u001b[0;31mTypeError\u001b[0m: unsupported operand type(s) for +: 'float' and 'str'"
          ]
        }
      ]
    },
    {
      "cell_type": "code",
      "metadata": {
        "id": "QdydlJWC4D-F",
        "outputId": "c8e52176-a052-414c-b77a-92618dad7412",
        "colab": {
          "base_uri": "https://localhost:8080/"
        }
      },
      "source": [
        "ddd = 'วัชราภรณ์'  #ตัวข้อความทำเป็นภาษาไทยได้\r\n",
        "print(ddd)"
      ],
      "execution_count": 8,
      "outputs": [
        {
          "output_type": "stream",
          "text": [
            "วัชราภรณ์\n"
          ],
          "name": "stdout"
        }
      ]
    },
    {
      "cell_type": "markdown",
      "metadata": {
        "id": "wpxBRal4RhFH"
      },
      "source": [
        "**การเปลี่ยนชนิดของตัวเเปร variable casting**"
      ]
    },
    {
      "cell_type": "code",
      "metadata": {
        "colab": {
          "base_uri": "https://localhost:8080/"
        },
        "id": "lVPCeeOGRova",
        "outputId": "92827901-74fe-4b30-d652-8e4cc4f4a50e"
      },
      "source": [
        "aaa + int(ccc)  #บังคับให้เป็นตัวแปรที่ต้องการ เช่น int float"
      ],
      "execution_count": 9,
      "outputs": [
        {
          "output_type": "execute_result",
          "data": {
            "text/plain": [
              "124548"
            ]
          },
          "metadata": {
            "tags": []
          },
          "execution_count": 9
        }
      ]
    },
    {
      "cell_type": "code",
      "metadata": {
        "id": "tKcjRLqIR7JT",
        "outputId": "fca6a736-5de1-418c-8f70-8ca2a95c1794",
        "colab": {
          "base_uri": "https://localhost:8080/"
        }
      },
      "source": [
        "aaa + float(ccc) #float + int = float"
      ],
      "execution_count": 10,
      "outputs": [
        {
          "output_type": "execute_result",
          "data": {
            "text/plain": [
              "124548.0"
            ]
          },
          "metadata": {
            "tags": []
          },
          "execution_count": 10
        }
      ]
    },
    {
      "cell_type": "code",
      "metadata": {
        "id": "IvVafExxSAWp",
        "outputId": "e22b8eae-0813-440f-e67f-d15e3d630016",
        "colab": {
          "base_uri": "https://localhost:8080/",
          "height": 35
        }
      },
      "source": [
        "str(aaa) #int เปลี่ยนเป็นข้อความได้โดยพิมพ์ str #ทำแบบนี้ได้แค่ใน notebook"
      ],
      "execution_count": 11,
      "outputs": [
        {
          "output_type": "execute_result",
          "data": {
            "application/vnd.google.colaboratory.intrinsic+json": {
              "type": "string"
            },
            "text/plain": [
              "'1092'"
            ]
          },
          "metadata": {
            "tags": []
          },
          "execution_count": 11
        }
      ]
    },
    {
      "cell_type": "markdown",
      "metadata": {
        "id": "BIDm-tmDSJ53"
      },
      "source": [
        "#การดำเนินการ operation (operation +,-,*,/,%)\r\n",
        "\r\n",
        "การเอาตัวแปรมาบวก ลบ คูณ หาร กัน"
      ]
    },
    {
      "cell_type": "code",
      "metadata": {
        "colab": {
          "base_uri": "https://localhost:8080/",
          "height": 166
        },
        "id": "c0cHaiL2SuhV",
        "outputId": "fecaf2f0-4152-4955-82c5-34e4b48fdc48"
      },
      "source": [
        "a + b    #เวลาอ่าน error ให้อ่านบรรทัดสุดท้าย  #error นี้บอกว่าตัวแปร b ไม่มี"
      ],
      "execution_count": null,
      "outputs": [
        {
          "output_type": "error",
          "ename": "NameError",
          "evalue": "ignored",
          "traceback": [
            "\u001b[0;31m---------------------------------------------------------------------------\u001b[0m",
            "\u001b[0;31mNameError\u001b[0m                                 Traceback (most recent call last)",
            "\u001b[0;32m<ipython-input-8-bd58363a63fc>\u001b[0m in \u001b[0;36m<module>\u001b[0;34m()\u001b[0m\n\u001b[0;32m----> 1\u001b[0;31m \u001b[0ma\u001b[0m \u001b[0;34m+\u001b[0m \u001b[0mb\u001b[0m\u001b[0;34m\u001b[0m\u001b[0;34m\u001b[0m\u001b[0m\n\u001b[0m",
            "\u001b[0;31mNameError\u001b[0m: name 'b' is not defined"
          ]
        }
      ]
    },
    {
      "cell_type": "code",
      "metadata": {
        "id": "vSUYWi3lS-3z",
        "outputId": "899e770c-d779-472d-a666-42cd5d6e0d24",
        "colab": {
          "base_uri": "https://localhost:8080/"
        }
      },
      "source": [
        "aaa + bbb  #output ออกมาอย่างเดียวใช้ต่อไม่ได้"
      ],
      "execution_count": 12,
      "outputs": [
        {
          "output_type": "execute_result",
          "data": {
            "text/plain": [
              "1103.0"
            ]
          },
          "metadata": {
            "tags": []
          },
          "execution_count": 12
        }
      ]
    },
    {
      "cell_type": "code",
      "metadata": {
        "id": "pNzn1kCGTB4d",
        "outputId": "765f10b4-212a-4fd0-b7b6-793532e43dee",
        "colab": {
          "base_uri": "https://localhost:8080/"
        }
      },
      "source": [
        "aaa - bbb"
      ],
      "execution_count": 13,
      "outputs": [
        {
          "output_type": "execute_result",
          "data": {
            "text/plain": [
              "1081.0"
            ]
          },
          "metadata": {
            "tags": []
          },
          "execution_count": 13
        }
      ]
    },
    {
      "cell_type": "code",
      "metadata": {
        "id": "3bKdoNflTDdX",
        "outputId": "73b9d1d5-e2e4-4602-962f-b544579fe387",
        "colab": {
          "base_uri": "https://localhost:8080/"
        }
      },
      "source": [
        "ab = aaa*bbb #ab สามารถเอามาใช้ต่อได้ ถ้าอยากนำไปใช้ต่อต้องทำแบบนี้\r\n",
        "print(ab)"
      ],
      "execution_count": 14,
      "outputs": [
        {
          "output_type": "stream",
          "text": [
            "12012.0\n"
          ],
          "name": "stdout"
        }
      ]
    },
    {
      "cell_type": "code",
      "metadata": {
        "id": "X12VPk_0TIgW",
        "outputId": "ca56eb36-8378-4201-8ab5-3b14e4eca182",
        "colab": {
          "base_uri": "https://localhost:8080/"
        }
      },
      "source": [
        "ab + int(ccc)"
      ],
      "execution_count": 15,
      "outputs": [
        {
          "output_type": "execute_result",
          "data": {
            "text/plain": [
              "135468.0"
            ]
          },
          "metadata": {
            "tags": []
          },
          "execution_count": 15
        }
      ]
    },
    {
      "cell_type": "markdown",
      "metadata": {
        "id": "mHLhfttATmOC"
      },
      "source": [
        "# % คือ modulo "
      ]
    },
    {
      "cell_type": "markdown",
      "metadata": {
        "id": "7GH5jDxJTt-L"
      },
      "source": [
        "คือการหารเอาเศษ\r\n",
        "\r\n",
        "เศษ0 เลขคู่ , มีเศษเลขคี่"
      ]
    },
    {
      "cell_type": "code",
      "metadata": {
        "colab": {
          "base_uri": "https://localhost:8080/"
        },
        "id": "BIRQc2dkTzEa",
        "outputId": "3386a30b-e20f-4e0a-e0e2-cdedc26383a8"
      },
      "source": [
        "5%3   "
      ],
      "execution_count": null,
      "outputs": [
        {
          "output_type": "execute_result",
          "data": {
            "text/plain": [
              "2"
            ]
          },
          "metadata": {
            "tags": []
          },
          "execution_count": 9
        }
      ]
    },
    {
      "cell_type": "code",
      "metadata": {
        "colab": {
          "base_uri": "https://localhost:8080/"
        },
        "id": "ZwKODnoLT2yy",
        "outputId": "a9096c48-7501-470b-a5e1-d1c6fffdf43a"
      },
      "source": [
        "7%3"
      ],
      "execution_count": null,
      "outputs": [
        {
          "output_type": "execute_result",
          "data": {
            "text/plain": [
              "1"
            ]
          },
          "metadata": {
            "tags": []
          },
          "execution_count": 10
        }
      ]
    },
    {
      "cell_type": "markdown",
      "metadata": {
        "id": "kmno6-QhUDEx"
      },
      "source": [
        "#คำสั่ง print แบบพิเศษ(การformat string)\r\n",
        "\r\n",
        "ข้างในสามารถเป็นตัวเเปร หรือ ข้อความก็ได้"
      ]
    },
    {
      "cell_type": "code",
      "metadata": {
        "id": "_SJmfJmT5FB_",
        "outputId": "a57beb87-19aa-42aa-cef6-73a658bc28e6",
        "colab": {
          "base_uri": "https://localhost:8080/"
        }
      },
      "source": [
        "print('ตัวแปร') #สิ่งที่อยู่ข้างในวงเล็บ ตัวแปร และ string"
      ],
      "execution_count": 16,
      "outputs": [
        {
          "output_type": "stream",
          "text": [
            "ตัวแปร\n"
          ],
          "name": "stdout"
        }
      ]
    },
    {
      "cell_type": "code",
      "metadata": {
        "colab": {
          "base_uri": "https://localhost:8080/"
        },
        "id": "heGBiBP0U1gZ",
        "outputId": "39eea41e-e4a8-40be-88f3-7f4ecfcab87a"
      },
      "source": [
        "print(f'% คือการหารเอาเศษ เช่น 7%3 = {7%3}') #เพิ่ม f หน้า 'string' สามารถใช้ {} ใส่ code เข้าไปได้"
      ],
      "execution_count": null,
      "outputs": [
        {
          "output_type": "stream",
          "text": [
            "% คือการหารเอาเศษ เช่น 7%3 = 1\n"
          ],
          "name": "stdout"
        }
      ]
    },
    {
      "cell_type": "code",
      "metadata": {
        "id": "Mc7yTN8xV0nz",
        "outputId": "b9c64ad8-ed31-452f-ac5a-688a159c15ca",
        "colab": {
          "base_uri": "https://localhost:8080/"
        }
      },
      "source": [
        "print(f'% คือการหารเอาเศษ เช่น 7%3 = {7%3}\\\r\n",
        "      แต่\\n/ คือการหารปกติ เช่น 7/3 = {7/3} \\\r\n",
        "      และ\\n// คือการหารเอาส่วน เช่น 7//3 = {(7//3)} \\\r\n",
        "      หรือ\\nใช้ int() เพื่อหารเอาส่วน เช่น int(7/3) = {int(7/3)}' )  #\\n คือการขึ้นบรรทัดใหม่ \\\\ ใช้ในการตัด code และ com จะไม่เห็นว่าเกิดไรขึ้น\r\n",
        "      #\\\\ = ช่วยให้อ่าน code ได้ง่ายขึ้น"
      ],
      "execution_count": 31,
      "outputs": [
        {
          "output_type": "stream",
          "text": [
            "% คือการหารเอาเศษ เช่น 7%3 = 1      แต่\n",
            "/ คือการหารปกติ เช่น 7/3 = 2.3333333333333335       และ\n",
            "// คือการหารเอาส่วน เช่น 7//3 = 2       หรือ\n",
            "ใช้ int() เพื่อหารเอาส่วน เช่น int(7/3) = 2\n"
          ],
          "name": "stdout"
        }
      ]
    },
    {
      "cell_type": "markdown",
      "metadata": {
        "id": "ZQ1sYY53W_CP"
      },
      "source": [
        "#DATA STRUCTURE(โครงสร้างข้อมูล)"
      ]
    },
    {
      "cell_type": "markdown",
      "metadata": {
        "id": "t-smI2zzXJLx"
      },
      "source": [
        "### List คือการเอาข้อมูลหลายตัวมาเรียงต่อกัน\r\n",
        "เป็นได้ทั้งตัวแปร ข้อความ ตัวเลข ตัวอักษร\r\n",
        "#### list สามารถสร้างได้ 2 แบบ ดังนี้\r\n",
        "สัญลักษณ์ ที่ใช้ [ ]"
      ]
    },
    {
      "cell_type": "code",
      "metadata": {
        "colab": {
          "base_uri": "https://localhost:8080/"
        },
        "id": "oY45RY39Xd-l",
        "outputId": "f45a2f16-cb9e-4a45-fa4e-9e0edf1e480e"
      },
      "source": [
        "[111,'c',222]"
      ],
      "execution_count": null,
      "outputs": [
        {
          "output_type": "execute_result",
          "data": {
            "text/plain": [
              "[111, 'c', 222]"
            ]
          },
          "metadata": {
            "tags": []
          },
          "execution_count": 12
        }
      ]
    },
    {
      "cell_type": "markdown",
      "metadata": {
        "id": "U0i0X4MiXtwH"
      },
      "source": [
        "###แบบที่1 > square brackets"
      ]
    },
    {
      "cell_type": "code",
      "metadata": {
        "id": "WyAzqBKkX4jC",
        "outputId": "dae220e6-a3e8-4792-9aca-bfb65a457ad2",
        "colab": {
          "base_uri": "https://localhost:8080/"
        }
      },
      "source": [
        "list_a = []  #listว่างคือไม่มีอะไรอยู่ข้างใน\r\n",
        "print(list_a)"
      ],
      "execution_count": 18,
      "outputs": [
        {
          "output_type": "stream",
          "text": [
            "[]\n"
          ],
          "name": "stdout"
        }
      ]
    },
    {
      "cell_type": "code",
      "metadata": {
        "id": "PHMfmWv16tcH",
        "outputId": "c84dcb4c-6bc3-40bd-b60a-eee57986da03",
        "colab": {
          "base_uri": "https://localhost:8080/"
        }
      },
      "source": [
        "list_b = [111,'d','xx',aaa]\r\n",
        "print(list_b)"
      ],
      "execution_count": 19,
      "outputs": [
        {
          "output_type": "stream",
          "text": [
            "[111, 'd', 'xx', 1092]\n"
          ],
          "name": "stdout"
        }
      ]
    },
    {
      "cell_type": "markdown",
      "metadata": {
        "id": "x5VTE4J57EOZ"
      },
      "source": [
        "**ลำดับที่อยู่ใน list มีความมีสำคัญ(ลำดับใน list เริ่มจาก 0,1,2...)**"
      ]
    },
    {
      "cell_type": "code",
      "metadata": {
        "id": "d31lR90X7Ujh",
        "outputId": "0534a954-d740-4a9a-b104-1b4f7b557bae",
        "colab": {
          "base_uri": "https://localhost:8080/",
          "height": 35
        }
      },
      "source": [
        "list_b[2]"
      ],
      "execution_count": 20,
      "outputs": [
        {
          "output_type": "execute_result",
          "data": {
            "application/vnd.google.colaboratory.intrinsic+json": {
              "type": "string"
            },
            "text/plain": [
              "'xx'"
            ]
          },
          "metadata": {
            "tags": []
          },
          "execution_count": 20
        }
      ]
    },
    {
      "cell_type": "markdown",
      "metadata": {
        "id": "3YiBJL287bUH"
      },
      "source": [
        "**แบบที่ 2**"
      ]
    },
    {
      "cell_type": "code",
      "metadata": {
        "id": "3tz37MhQ7k27",
        "outputId": "9d8f9b19-5b2c-4b9b-c2f9-c2e3f784a4c3",
        "colab": {
          "base_uri": "https://localhost:8080/"
        }
      },
      "source": [
        "list_c = list()\r\n",
        "print(list_c)"
      ],
      "execution_count": 21,
      "outputs": [
        {
          "output_type": "stream",
          "text": [
            "[]\n"
          ],
          "name": "stdout"
        }
      ]
    },
    {
      "cell_type": "markdown",
      "metadata": {
        "id": "Val71_7J72QE"
      },
      "source": [
        "##append() เพิ่มสมาชิกใน list\r\n",
        "\r\n"
      ]
    },
    {
      "cell_type": "code",
      "metadata": {
        "id": "r78i0cEK8AE_",
        "outputId": "835a6fa9-21d6-4033-c736-a642884d1a94",
        "colab": {
          "base_uri": "https://localhost:8080/"
        }
      },
      "source": [
        "list_b.append('u')\r\n",
        "print(list_b)"
      ],
      "execution_count": 22,
      "outputs": [
        {
          "output_type": "stream",
          "text": [
            "[111, 'd', 'xx', 1092, 'u']\n"
          ],
          "name": "stdout"
        }
      ]
    },
    {
      "cell_type": "markdown",
      "metadata": {
        "id": "H-g--OtN8Op1"
      },
      "source": [
        "ตัวที่อยู่ในวงเล็บหลังจากตัวแปร list เรียกว่า index ใช้สำหรับชี้ข้อมูลใน list\r\n",
        "\r\n",
        "(ชี้จากข้างหน้า,ชี้จากข้างหลัง)\r\n",
        "\r\n",
        "0 คือสมาชิกตัวแรก, -1 คือสมากชิกตัวสุดท้าย"
      ]
    },
    {
      "cell_type": "code",
      "metadata": {
        "id": "m3YCczku88bH",
        "outputId": "185823e3-60ce-49b1-8474-832249ec7df4",
        "colab": {
          "base_uri": "https://localhost:8080/",
          "height": 35
        }
      },
      "source": [
        "list_b[-1]"
      ],
      "execution_count": 23,
      "outputs": [
        {
          "output_type": "execute_result",
          "data": {
            "application/vnd.google.colaboratory.intrinsic+json": {
              "type": "string"
            },
            "text/plain": [
              "'u'"
            ]
          },
          "metadata": {
            "tags": []
          },
          "execution_count": 23
        }
      ]
    },
    {
      "cell_type": "markdown",
      "metadata": {
        "id": "j05umMCr9EY-"
      },
      "source": [
        "##string > list of characters"
      ]
    },
    {
      "cell_type": "code",
      "metadata": {
        "id": "np3LtUng9MSl",
        "outputId": "7318f84c-586d-4762-dfe7-a38def89accd",
        "colab": {
          "base_uri": "https://localhost:8080/"
        }
      },
      "source": [
        "t = 'python is easy'   #คำสั่งที่ใช้กับ list สามารถใช้กับ string ได้เหมือนกัน\r\n",
        "print(t)"
      ],
      "execution_count": 24,
      "outputs": [
        {
          "output_type": "stream",
          "text": [
            "python is easy\n"
          ],
          "name": "stdout"
        }
      ]
    },
    {
      "cell_type": "code",
      "metadata": {
        "id": "IlPiA3-59bdl",
        "outputId": "b293cbb1-f6a8-48cf-d179-d6756828329d",
        "colab": {
          "base_uri": "https://localhost:8080/",
          "height": 35
        }
      },
      "source": [
        "t[1]"
      ],
      "execution_count": 25,
      "outputs": [
        {
          "output_type": "execute_result",
          "data": {
            "application/vnd.google.colaboratory.intrinsic+json": {
              "type": "string"
            },
            "text/plain": [
              "'y'"
            ]
          },
          "metadata": {
            "tags": []
          },
          "execution_count": 25
        }
      ]
    },
    {
      "cell_type": "code",
      "metadata": {
        "id": "4iYhJeEH9d3B",
        "outputId": "0570cb8b-c822-4100-9530-a082c0eb5ef0",
        "colab": {
          "base_uri": "https://localhost:8080/",
          "height": 35
        }
      },
      "source": [
        "t[-3]"
      ],
      "execution_count": 26,
      "outputs": [
        {
          "output_type": "execute_result",
          "data": {
            "application/vnd.google.colaboratory.intrinsic+json": {
              "type": "string"
            },
            "text/plain": [
              "'a'"
            ]
          },
          "metadata": {
            "tags": []
          },
          "execution_count": 26
        }
      ]
    },
    {
      "cell_type": "code",
      "metadata": {
        "id": "cHQrqYPh9gyc",
        "outputId": "d4542186-6667-4eff-c5f4-a9969808e5db",
        "colab": {
          "base_uri": "https://localhost:8080/",
          "height": 35
        }
      },
      "source": [
        "t[7]"
      ],
      "execution_count": 27,
      "outputs": [
        {
          "output_type": "execute_result",
          "data": {
            "application/vnd.google.colaboratory.intrinsic+json": {
              "type": "string"
            },
            "text/plain": [
              "'i'"
            ]
          },
          "metadata": {
            "tags": []
          },
          "execution_count": 27
        }
      ]
    },
    {
      "cell_type": "code",
      "metadata": {
        "id": "hqS5BWmz9lci",
        "outputId": "2bb1e5de-e7ce-4f97-bf91-54a9d73fc0df",
        "colab": {
          "base_uri": "https://localhost:8080/",
          "height": 35
        }
      },
      "source": [
        "t[6]"
      ],
      "execution_count": 28,
      "outputs": [
        {
          "output_type": "execute_result",
          "data": {
            "application/vnd.google.colaboratory.intrinsic+json": {
              "type": "string"
            },
            "text/plain": [
              "' '"
            ]
          },
          "metadata": {
            "tags": []
          },
          "execution_count": 28
        }
      ]
    },
    {
      "cell_type": "markdown",
      "metadata": {
        "id": "Z4gYGXiL-A_G"
      },
      "source": [
        "จบคาบ 2 (5 มค 2021)"
      ]
    }
  ]
}