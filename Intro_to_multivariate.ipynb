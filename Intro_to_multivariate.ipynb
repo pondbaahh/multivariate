{
  "nbformat": 4,
  "nbformat_minor": 0,
  "metadata": {
    "colab": {
      "name": "Intro to multivariate",
      "provenance": [],
      "authorship_tag": "ABX9TyPw/SX/BhyExwSh+Hw/d1ZT",
      "include_colab_link": true
    },
    "kernelspec": {
      "name": "python3",
      "display_name": "Python 3"
    }
  },
  "cells": [
    {
      "cell_type": "markdown",
      "metadata": {
        "id": "view-in-github",
        "colab_type": "text"
      },
      "source": [
        "<a href=\"https://colab.research.google.com/github/pondbaahh/multivariate/blob/main/Intro_to_multivariate.ipynb\" target=\"_parent\"><img src=\"https://colab.research.google.com/assets/colab-badge.svg\" alt=\"Open In Colab\"/></a>"
      ]
    },
    {
      "cell_type": "code",
      "metadata": {
        "id": "2jUtzC74hjz6"
      },
      "source": [
        ""
      ],
      "execution_count": null,
      "outputs": []
    },
    {
      "cell_type": "markdown",
      "metadata": {
        "id": "cSz_xcNFi-wv"
      },
      "source": [
        "นางสาววัชราภรณ์ นามมุงคุณ ID 623020535-7"
      ]
    },
    {
      "cell_type": "code",
      "metadata": {
        "colab": {
          "base_uri": "https://localhost:8080/"
        },
        "id": "17rCmhAOkcZ4",
        "outputId": "886d8cbe-cad2-49c9-fd2e-38cdcbbfeb96"
      },
      "source": [
        "print(\"วัชราภรณ์\") #sing quote (') ไม่ล้อมรอบข้อความ"
      ],
      "execution_count": 1,
      "outputs": [
        {
          "output_type": "stream",
          "text": [
            "วัชราภรณ์\n"
          ],
          "name": "stdout"
        }
      ]
    }
  ]
}