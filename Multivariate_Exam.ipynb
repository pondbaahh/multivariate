{
  "nbformat": 4,
  "nbformat_minor": 0,
  "metadata": {
    "colab": {
      "name": "Multivariate Exam.ipynb",
      "provenance": [],
      "include_colab_link": true
    },
    "kernelspec": {
      "name": "python3",
      "display_name": "Python 3"
    },
    "language_info": {
      "name": "python"
    }
  },
  "cells": [
    {
      "cell_type": "markdown",
      "metadata": {
        "id": "view-in-github",
        "colab_type": "text"
      },
      "source": [
        "<a href=\"https://colab.research.google.com/github/pondbaahh/multivariate/blob/main/Multivariate_Exam.ipynb\" target=\"_parent\"><img src=\"https://colab.research.google.com/assets/colab-badge.svg\" alt=\"Open In Colab\"/></a>"
      ]
    },
    {
      "cell_type": "markdown",
      "metadata": {
        "id": "JZxiNADfaDtv"
      },
      "source": [
        "ให้นักศึกษาทำข้อสอบใน Colab Notebook นี้โดยกรอกข้อมูลของตัวเองใน cell ที่ 2 แล้วรัน cell ที่ 1 - 5 และเริ่มทำข้อสอบใน cell ที่ 6 เป็นต้นไป\n",
        "\n",
        "โดยโจทย์คือ\n",
        "1. ข้อมูลโจทย์ อยู่ใน ตัวแปร ```Data```\n",
        "2. ทำ clustering แล้วทำ visualize ข้อมูลแบบ 2 มิติ\n",
        "3. ลด Dimension ของข้อมูลเหลือ 2 มิติ แล้วทำ clustering แล้ว visualize ข้อมูลแบบ 2 มิติ\n",
        "4. เปรียบเทียบความแตกต่างของผลข้อ 2. กับ ข้อ 3.\n",
        "5. เขียน comments อธิบายทุกขั้นตอน\n",
        "6. อัด video อธิบาย code ทุกๆขั้นตอนรวมถึงผลแล้วอัพลง youtube ในรูปแบบ unlist \n",
        "7. commit โดยใช้ชื่อ commit เป็น link youtube ที่อธิบาย code ในข้อ 6.\n",
        "\n",
        "กำหนดส่งวันที่ 2 พฤษภาคม 2564 (โดยให้มากรอกวันที่ commit ครั้งสุดท้ายใน sheet: https://docs.google.com/spreadsheets/d/1_qJwLDJVtOW1HxBcf_FHVc6UT4J_SOonuR6o3EEnVzw/edit?usp=sharing ช่อง Final)"
      ]
    },
    {
      "cell_type": "code",
      "metadata": {
        "id": "cWl2x1bPGtQl"
      },
      "source": [
        "from sklearn.datasets import make_blobs\n",
        "import random,math\n",
        "import numpy as np\n",
        "import pandas"
      ],
      "execution_count": 1,
      "outputs": []
    },
    {
      "cell_type": "code",
      "metadata": {
        "id": "gZfzuiHsZksh"
      },
      "source": [
        "Name = 'วัชราภรณ์ นามมุงคุณ'\n",
        "ID = '6230205357'"
      ],
      "execution_count": 2,
      "outputs": []
    },
    {
      "cell_type": "code",
      "metadata": {
        "id": "8hFQXkF5aAiA"
      },
      "source": [
        "def DataGenerator(name,id):\n",
        "    random.seed(int(id[3:6]))\n",
        "    numfeat = random.randint(20,30)\n",
        "    ct = random.randint(len(name)-6,len(name))\n",
        "    \n",
        "    X, y = make_blobs(n_samples=10000, centers=ct, n_features=numfeat , random_state=int(id[3:6]))\n",
        "\n",
        "    print(f'{id[3:6]}:{numfeat}:{ct}')\n",
        "    X_t = (X[:,1]*2)+int(id[3])\n",
        "    X_t2 = (X[:,-1]*5)+int(id[4])\n",
        "\n",
        "    DT = np.append(X,X_t.reshape([10000,1]),axis=1)\n",
        "    DT = np.append(DT,X_t2.reshape([10000,1]),axis=1)\n",
        "    \n",
        "    return pandas.DataFrame(DT)"
      ],
      "execution_count": 3,
      "outputs": []
    },
    {
      "cell_type": "code",
      "metadata": {
        "colab": {
          "base_uri": "https://localhost:8080/"
        },
        "id": "hbXlxumSBX9i",
        "outputId": "8aabc187-1a52-4458-9cdc-6bc4aaed57f6"
      },
      "source": [
        "Data = DataGenerator(Name,ID)"
      ],
      "execution_count": 4,
      "outputs": [
        {
          "output_type": "stream",
          "text": [
            "020:30:19\n"
          ],
          "name": "stdout"
        }
      ]
    },
    {
      "cell_type": "code",
      "metadata": {
        "colab": {
          "base_uri": "https://localhost:8080/",
          "height": 435
        },
        "id": "pQcCySXvBdN-",
        "outputId": "87e8814a-c48c-4e62-e763-b120c7668a17"
      },
      "source": [
        "Data"
      ],
      "execution_count": 5,
      "outputs": [
        {
          "output_type": "execute_result",
          "data": {
            "text/html": [
              "<div>\n",
              "<style scoped>\n",
              "    .dataframe tbody tr th:only-of-type {\n",
              "        vertical-align: middle;\n",
              "    }\n",
              "\n",
              "    .dataframe tbody tr th {\n",
              "        vertical-align: top;\n",
              "    }\n",
              "\n",
              "    .dataframe thead th {\n",
              "        text-align: right;\n",
              "    }\n",
              "</style>\n",
              "<table border=\"1\" class=\"dataframe\">\n",
              "  <thead>\n",
              "    <tr style=\"text-align: right;\">\n",
              "      <th></th>\n",
              "      <th>0</th>\n",
              "      <th>1</th>\n",
              "      <th>2</th>\n",
              "      <th>3</th>\n",
              "      <th>4</th>\n",
              "      <th>5</th>\n",
              "      <th>6</th>\n",
              "      <th>7</th>\n",
              "      <th>8</th>\n",
              "      <th>9</th>\n",
              "      <th>10</th>\n",
              "      <th>11</th>\n",
              "      <th>12</th>\n",
              "      <th>13</th>\n",
              "      <th>14</th>\n",
              "      <th>15</th>\n",
              "      <th>16</th>\n",
              "      <th>17</th>\n",
              "      <th>18</th>\n",
              "      <th>19</th>\n",
              "      <th>20</th>\n",
              "      <th>21</th>\n",
              "      <th>22</th>\n",
              "      <th>23</th>\n",
              "      <th>24</th>\n",
              "      <th>25</th>\n",
              "      <th>26</th>\n",
              "      <th>27</th>\n",
              "      <th>28</th>\n",
              "      <th>29</th>\n",
              "      <th>30</th>\n",
              "      <th>31</th>\n",
              "    </tr>\n",
              "  </thead>\n",
              "  <tbody>\n",
              "    <tr>\n",
              "      <th>0</th>\n",
              "      <td>-1.701053</td>\n",
              "      <td>-6.716733</td>\n",
              "      <td>0.403364</td>\n",
              "      <td>8.234690</td>\n",
              "      <td>-8.066837</td>\n",
              "      <td>-2.969272</td>\n",
              "      <td>-1.286681</td>\n",
              "      <td>-2.798265</td>\n",
              "      <td>-9.434770</td>\n",
              "      <td>-6.585169</td>\n",
              "      <td>7.514024</td>\n",
              "      <td>-5.458482</td>\n",
              "      <td>-9.662730</td>\n",
              "      <td>0.537632</td>\n",
              "      <td>1.835089</td>\n",
              "      <td>-3.167337</td>\n",
              "      <td>9.810909</td>\n",
              "      <td>-6.315188</td>\n",
              "      <td>9.017869</td>\n",
              "      <td>-2.029059</td>\n",
              "      <td>5.476176</td>\n",
              "      <td>0.715766</td>\n",
              "      <td>-7.416330</td>\n",
              "      <td>-7.806251</td>\n",
              "      <td>9.232618</td>\n",
              "      <td>8.409526</td>\n",
              "      <td>6.286528</td>\n",
              "      <td>-2.080765</td>\n",
              "      <td>-1.946039</td>\n",
              "      <td>5.766268</td>\n",
              "      <td>-13.433466</td>\n",
              "      <td>30.831342</td>\n",
              "    </tr>\n",
              "    <tr>\n",
              "      <th>1</th>\n",
              "      <td>4.841694</td>\n",
              "      <td>9.280394</td>\n",
              "      <td>5.654291</td>\n",
              "      <td>-3.599408</td>\n",
              "      <td>-5.216423</td>\n",
              "      <td>-4.875522</td>\n",
              "      <td>11.564998</td>\n",
              "      <td>2.582919</td>\n",
              "      <td>7.268002</td>\n",
              "      <td>-9.161972</td>\n",
              "      <td>6.814420</td>\n",
              "      <td>-10.976289</td>\n",
              "      <td>-9.452713</td>\n",
              "      <td>-8.650234</td>\n",
              "      <td>-5.160244</td>\n",
              "      <td>-2.122332</td>\n",
              "      <td>11.510111</td>\n",
              "      <td>10.001235</td>\n",
              "      <td>1.100650</td>\n",
              "      <td>4.305707</td>\n",
              "      <td>-8.897800</td>\n",
              "      <td>5.286709</td>\n",
              "      <td>-8.570399</td>\n",
              "      <td>-4.133147</td>\n",
              "      <td>8.891458</td>\n",
              "      <td>-3.532263</td>\n",
              "      <td>6.349222</td>\n",
              "      <td>-0.239454</td>\n",
              "      <td>3.451313</td>\n",
              "      <td>4.345222</td>\n",
              "      <td>18.560788</td>\n",
              "      <td>23.726110</td>\n",
              "    </tr>\n",
              "    <tr>\n",
              "      <th>2</th>\n",
              "      <td>-0.188645</td>\n",
              "      <td>2.192432</td>\n",
              "      <td>-3.740707</td>\n",
              "      <td>-4.352023</td>\n",
              "      <td>6.094169</td>\n",
              "      <td>-9.596532</td>\n",
              "      <td>-4.308490</td>\n",
              "      <td>-6.889333</td>\n",
              "      <td>-5.077756</td>\n",
              "      <td>1.258608</td>\n",
              "      <td>-6.810207</td>\n",
              "      <td>-2.277972</td>\n",
              "      <td>2.577195</td>\n",
              "      <td>-2.932891</td>\n",
              "      <td>-2.938483</td>\n",
              "      <td>1.938843</td>\n",
              "      <td>6.440925</td>\n",
              "      <td>-2.161827</td>\n",
              "      <td>-10.726694</td>\n",
              "      <td>8.769474</td>\n",
              "      <td>6.872000</td>\n",
              "      <td>-4.019564</td>\n",
              "      <td>4.486527</td>\n",
              "      <td>-1.790280</td>\n",
              "      <td>3.444224</td>\n",
              "      <td>-7.158424</td>\n",
              "      <td>-7.046810</td>\n",
              "      <td>7.500269</td>\n",
              "      <td>8.608146</td>\n",
              "      <td>-6.347430</td>\n",
              "      <td>4.384863</td>\n",
              "      <td>-29.737152</td>\n",
              "    </tr>\n",
              "    <tr>\n",
              "      <th>3</th>\n",
              "      <td>1.070325</td>\n",
              "      <td>-4.596020</td>\n",
              "      <td>-6.293644</td>\n",
              "      <td>11.475116</td>\n",
              "      <td>-2.808209</td>\n",
              "      <td>1.518051</td>\n",
              "      <td>-7.053902</td>\n",
              "      <td>4.258510</td>\n",
              "      <td>3.218390</td>\n",
              "      <td>4.061030</td>\n",
              "      <td>6.367516</td>\n",
              "      <td>6.645035</td>\n",
              "      <td>-1.217043</td>\n",
              "      <td>8.827455</td>\n",
              "      <td>-11.346177</td>\n",
              "      <td>5.971061</td>\n",
              "      <td>6.831416</td>\n",
              "      <td>1.345803</td>\n",
              "      <td>3.357612</td>\n",
              "      <td>7.763393</td>\n",
              "      <td>-1.969457</td>\n",
              "      <td>-1.002429</td>\n",
              "      <td>-1.091993</td>\n",
              "      <td>4.763577</td>\n",
              "      <td>-10.140268</td>\n",
              "      <td>-7.034817</td>\n",
              "      <td>-7.012771</td>\n",
              "      <td>7.431734</td>\n",
              "      <td>-6.320076</td>\n",
              "      <td>3.040692</td>\n",
              "      <td>-9.192040</td>\n",
              "      <td>17.203462</td>\n",
              "    </tr>\n",
              "    <tr>\n",
              "      <th>4</th>\n",
              "      <td>-6.795409</td>\n",
              "      <td>-3.422134</td>\n",
              "      <td>-7.935199</td>\n",
              "      <td>5.704634</td>\n",
              "      <td>6.601110</td>\n",
              "      <td>-10.263675</td>\n",
              "      <td>9.217757</td>\n",
              "      <td>6.769842</td>\n",
              "      <td>4.182693</td>\n",
              "      <td>3.637057</td>\n",
              "      <td>-7.968196</td>\n",
              "      <td>-1.315642</td>\n",
              "      <td>9.280129</td>\n",
              "      <td>-2.030549</td>\n",
              "      <td>-8.638449</td>\n",
              "      <td>-5.767849</td>\n",
              "      <td>0.435129</td>\n",
              "      <td>-8.158601</td>\n",
              "      <td>2.004322</td>\n",
              "      <td>-8.079486</td>\n",
              "      <td>-2.890066</td>\n",
              "      <td>-7.521663</td>\n",
              "      <td>3.418707</td>\n",
              "      <td>-4.440289</td>\n",
              "      <td>3.099145</td>\n",
              "      <td>3.605520</td>\n",
              "      <td>-1.421144</td>\n",
              "      <td>-10.701892</td>\n",
              "      <td>10.955527</td>\n",
              "      <td>2.214531</td>\n",
              "      <td>-6.844268</td>\n",
              "      <td>13.072654</td>\n",
              "    </tr>\n",
              "    <tr>\n",
              "      <th>...</th>\n",
              "      <td>...</td>\n",
              "      <td>...</td>\n",
              "      <td>...</td>\n",
              "      <td>...</td>\n",
              "      <td>...</td>\n",
              "      <td>...</td>\n",
              "      <td>...</td>\n",
              "      <td>...</td>\n",
              "      <td>...</td>\n",
              "      <td>...</td>\n",
              "      <td>...</td>\n",
              "      <td>...</td>\n",
              "      <td>...</td>\n",
              "      <td>...</td>\n",
              "      <td>...</td>\n",
              "      <td>...</td>\n",
              "      <td>...</td>\n",
              "      <td>...</td>\n",
              "      <td>...</td>\n",
              "      <td>...</td>\n",
              "      <td>...</td>\n",
              "      <td>...</td>\n",
              "      <td>...</td>\n",
              "      <td>...</td>\n",
              "      <td>...</td>\n",
              "      <td>...</td>\n",
              "      <td>...</td>\n",
              "      <td>...</td>\n",
              "      <td>...</td>\n",
              "      <td>...</td>\n",
              "      <td>...</td>\n",
              "      <td>...</td>\n",
              "    </tr>\n",
              "    <tr>\n",
              "      <th>9995</th>\n",
              "      <td>0.228056</td>\n",
              "      <td>6.839652</td>\n",
              "      <td>5.688027</td>\n",
              "      <td>5.059781</td>\n",
              "      <td>-9.822777</td>\n",
              "      <td>8.527898</td>\n",
              "      <td>9.581539</td>\n",
              "      <td>-5.941708</td>\n",
              "      <td>4.019455</td>\n",
              "      <td>-1.991152</td>\n",
              "      <td>-1.039847</td>\n",
              "      <td>3.131037</td>\n",
              "      <td>8.287049</td>\n",
              "      <td>6.791250</td>\n",
              "      <td>8.476287</td>\n",
              "      <td>3.919213</td>\n",
              "      <td>-7.350831</td>\n",
              "      <td>6.703071</td>\n",
              "      <td>-4.241985</td>\n",
              "      <td>0.331566</td>\n",
              "      <td>8.358831</td>\n",
              "      <td>-0.458548</td>\n",
              "      <td>7.436097</td>\n",
              "      <td>9.914771</td>\n",
              "      <td>8.944351</td>\n",
              "      <td>-4.316166</td>\n",
              "      <td>-5.774025</td>\n",
              "      <td>-7.241011</td>\n",
              "      <td>-0.100094</td>\n",
              "      <td>7.654443</td>\n",
              "      <td>13.679304</td>\n",
              "      <td>40.272216</td>\n",
              "    </tr>\n",
              "    <tr>\n",
              "      <th>9996</th>\n",
              "      <td>3.874110</td>\n",
              "      <td>-3.381571</td>\n",
              "      <td>-5.827415</td>\n",
              "      <td>10.433695</td>\n",
              "      <td>2.009930</td>\n",
              "      <td>4.842115</td>\n",
              "      <td>-6.144390</td>\n",
              "      <td>4.278543</td>\n",
              "      <td>3.174105</td>\n",
              "      <td>6.071067</td>\n",
              "      <td>8.091267</td>\n",
              "      <td>6.234274</td>\n",
              "      <td>-1.376929</td>\n",
              "      <td>8.841083</td>\n",
              "      <td>-8.938951</td>\n",
              "      <td>6.276817</td>\n",
              "      <td>6.379705</td>\n",
              "      <td>0.849872</td>\n",
              "      <td>3.258522</td>\n",
              "      <td>10.383427</td>\n",
              "      <td>-2.332721</td>\n",
              "      <td>-0.398124</td>\n",
              "      <td>0.094108</td>\n",
              "      <td>4.194007</td>\n",
              "      <td>-8.157674</td>\n",
              "      <td>-7.813417</td>\n",
              "      <td>-6.653850</td>\n",
              "      <td>5.263005</td>\n",
              "      <td>-2.912163</td>\n",
              "      <td>1.642549</td>\n",
              "      <td>-6.763143</td>\n",
              "      <td>10.212746</td>\n",
              "    </tr>\n",
              "    <tr>\n",
              "      <th>9997</th>\n",
              "      <td>2.723442</td>\n",
              "      <td>-8.816045</td>\n",
              "      <td>7.226316</td>\n",
              "      <td>9.642599</td>\n",
              "      <td>-3.002382</td>\n",
              "      <td>1.185427</td>\n",
              "      <td>-0.529747</td>\n",
              "      <td>6.702167</td>\n",
              "      <td>-7.207471</td>\n",
              "      <td>10.747197</td>\n",
              "      <td>7.174096</td>\n",
              "      <td>0.069767</td>\n",
              "      <td>2.317635</td>\n",
              "      <td>6.258422</td>\n",
              "      <td>-0.432146</td>\n",
              "      <td>-3.708092</td>\n",
              "      <td>-7.267421</td>\n",
              "      <td>2.333919</td>\n",
              "      <td>2.544128</td>\n",
              "      <td>0.902972</td>\n",
              "      <td>7.557652</td>\n",
              "      <td>-5.001459</td>\n",
              "      <td>-4.342318</td>\n",
              "      <td>-3.762169</td>\n",
              "      <td>-4.423610</td>\n",
              "      <td>4.586694</td>\n",
              "      <td>-7.123318</td>\n",
              "      <td>2.317072</td>\n",
              "      <td>5.545957</td>\n",
              "      <td>-10.469733</td>\n",
              "      <td>-17.632089</td>\n",
              "      <td>-50.348664</td>\n",
              "    </tr>\n",
              "    <tr>\n",
              "      <th>9998</th>\n",
              "      <td>-6.870815</td>\n",
              "      <td>-2.104393</td>\n",
              "      <td>-8.007465</td>\n",
              "      <td>9.810235</td>\n",
              "      <td>7.760187</td>\n",
              "      <td>-8.250139</td>\n",
              "      <td>8.150071</td>\n",
              "      <td>7.945936</td>\n",
              "      <td>6.862951</td>\n",
              "      <td>4.200982</td>\n",
              "      <td>-7.341678</td>\n",
              "      <td>-2.715077</td>\n",
              "      <td>11.188661</td>\n",
              "      <td>-2.081114</td>\n",
              "      <td>-7.773971</td>\n",
              "      <td>-7.525738</td>\n",
              "      <td>-2.642424</td>\n",
              "      <td>-10.417773</td>\n",
              "      <td>4.039373</td>\n",
              "      <td>-7.889138</td>\n",
              "      <td>-1.538853</td>\n",
              "      <td>-6.396142</td>\n",
              "      <td>4.206817</td>\n",
              "      <td>-5.607508</td>\n",
              "      <td>3.995322</td>\n",
              "      <td>3.321244</td>\n",
              "      <td>-5.785854</td>\n",
              "      <td>-9.029805</td>\n",
              "      <td>10.328162</td>\n",
              "      <td>2.925788</td>\n",
              "      <td>-4.208785</td>\n",
              "      <td>16.628938</td>\n",
              "    </tr>\n",
              "    <tr>\n",
              "      <th>9999</th>\n",
              "      <td>-10.181022</td>\n",
              "      <td>5.617469</td>\n",
              "      <td>-1.909597</td>\n",
              "      <td>-10.955304</td>\n",
              "      <td>-5.460817</td>\n",
              "      <td>7.060669</td>\n",
              "      <td>-5.943432</td>\n",
              "      <td>-7.831921</td>\n",
              "      <td>-6.790171</td>\n",
              "      <td>9.439804</td>\n",
              "      <td>1.922353</td>\n",
              "      <td>0.094043</td>\n",
              "      <td>0.682898</td>\n",
              "      <td>6.784258</td>\n",
              "      <td>0.909691</td>\n",
              "      <td>3.525786</td>\n",
              "      <td>7.553140</td>\n",
              "      <td>11.281762</td>\n",
              "      <td>-7.999722</td>\n",
              "      <td>-4.752214</td>\n",
              "      <td>4.324657</td>\n",
              "      <td>2.181520</td>\n",
              "      <td>-0.222106</td>\n",
              "      <td>3.798556</td>\n",
              "      <td>3.696303</td>\n",
              "      <td>-2.547688</td>\n",
              "      <td>1.075402</td>\n",
              "      <td>-6.327488</td>\n",
              "      <td>5.582242</td>\n",
              "      <td>-7.753308</td>\n",
              "      <td>11.234939</td>\n",
              "      <td>-36.766538</td>\n",
              "    </tr>\n",
              "  </tbody>\n",
              "</table>\n",
              "<p>10000 rows × 32 columns</p>\n",
              "</div>"
            ],
            "text/plain": [
              "             0         1         2   ...         29         30         31\n",
              "0     -1.701053 -6.716733  0.403364  ...   5.766268 -13.433466  30.831342\n",
              "1      4.841694  9.280394  5.654291  ...   4.345222  18.560788  23.726110\n",
              "2     -0.188645  2.192432 -3.740707  ...  -6.347430   4.384863 -29.737152\n",
              "3      1.070325 -4.596020 -6.293644  ...   3.040692  -9.192040  17.203462\n",
              "4     -6.795409 -3.422134 -7.935199  ...   2.214531  -6.844268  13.072654\n",
              "...         ...       ...       ...  ...        ...        ...        ...\n",
              "9995   0.228056  6.839652  5.688027  ...   7.654443  13.679304  40.272216\n",
              "9996   3.874110 -3.381571 -5.827415  ...   1.642549  -6.763143  10.212746\n",
              "9997   2.723442 -8.816045  7.226316  ... -10.469733 -17.632089 -50.348664\n",
              "9998  -6.870815 -2.104393 -8.007465  ...   2.925788  -4.208785  16.628938\n",
              "9999 -10.181022  5.617469 -1.909597  ...  -7.753308  11.234939 -36.766538\n",
              "\n",
              "[10000 rows x 32 columns]"
            ]
          },
          "metadata": {
            "tags": []
          },
          "execution_count": 5
        }
      ]
    },
    {
      "cell_type": "markdown",
      "metadata": {
        "id": "Va9BL8iG3w6I"
      },
      "source": [
        "1. ทำ clustering แล้วทำ visualize ข้อมูลแบบ 2 มิติ "
      ]
    },
    {
      "cell_type": "markdown",
      "metadata": {
        "id": "RyjspCqZ8nMK"
      },
      "source": [
        "### clustering"
      ]
    },
    {
      "cell_type": "code",
      "metadata": {
        "id": "v9el0oc08kYc",
        "colab": {
          "base_uri": "https://localhost:8080/"
        },
        "outputId": "d4687fcd-9539-451f-ef2c-d0db47ac2797"
      },
      "source": [
        "Data.shape"
      ],
      "execution_count": 6,
      "outputs": [
        {
          "output_type": "execute_result",
          "data": {
            "text/plain": [
              "(10000, 32)"
            ]
          },
          "metadata": {
            "tags": []
          },
          "execution_count": 6
        }
      ]
    },
    {
      "cell_type": "code",
      "metadata": {
        "id": "jUARadkFEuyJ"
      },
      "source": [
        "from sklearn.cluster import KMeans"
      ],
      "execution_count": 7,
      "outputs": []
    },
    {
      "cell_type": "code",
      "metadata": {
        "id": "2GpQ_WH638DA"
      },
      "source": [
        "kmeans = KMeans(n_clusters=3,random_state=2021)"
      ],
      "execution_count": 8,
      "outputs": []
    },
    {
      "cell_type": "code",
      "metadata": {
        "id": "191CmJqk4COZ",
        "colab": {
          "base_uri": "https://localhost:8080/"
        },
        "outputId": "0f1f052d-d0fb-4ba8-d0bd-67fb4df109e7"
      },
      "source": [
        "kmeans.fit(Data)"
      ],
      "execution_count": 9,
      "outputs": [
        {
          "output_type": "execute_result",
          "data": {
            "text/plain": [
              "KMeans(algorithm='auto', copy_x=True, init='k-means++', max_iter=300,\n",
              "       n_clusters=3, n_init=10, n_jobs=None, precompute_distances='auto',\n",
              "       random_state=2021, tol=0.0001, verbose=0)"
            ]
          },
          "metadata": {
            "tags": []
          },
          "execution_count": 9
        }
      ]
    },
    {
      "cell_type": "code",
      "metadata": {
        "id": "BVAcczyB4H0I",
        "colab": {
          "base_uri": "https://localhost:8080/"
        },
        "outputId": "f9d7fd54-ea82-4a6b-8f9f-fa6c0cd36653"
      },
      "source": [
        "kmeans.cluster_centers_"
      ],
      "execution_count": 10,
      "outputs": [
        {
          "output_type": "execute_result",
          "data": {
            "text/plain": [
              "array([[ -1.08780549,  -2.29607055,  -0.98298195,   0.14346779,\n",
              "          0.5527234 ,   0.07089763,  -1.70616748,  -1.73697949,\n",
              "         -3.58114554,   4.34622829,   0.79279007,   1.93817897,\n",
              "          3.79825024,   3.8128724 ,  -1.20532033,   2.60390476,\n",
              "          3.16344582,   2.07233784,  -5.92159968,   1.22279113,\n",
              "         -0.44676379,  -1.13328253,  -1.31608209,   0.50623549,\n",
              "         -1.43159518,  -1.17396953,  -0.59336161,  -1.99722839,\n",
              "          1.55145501,  -7.41109493,  -4.59214109, -35.05547467],\n",
              "       [  1.27481937,   2.71835787,  -2.1760495 ,   1.51074048,\n",
              "          1.34231573,  -1.63041974,   2.69802951,   2.10630659,\n",
              "          3.99868411,  -2.29097958,   0.67783007,  -0.42214799,\n",
              "         -1.31571444,  -1.15031994,  -3.9202539 ,  -0.43477137,\n",
              "         -0.07970473,   1.7704335 ,   1.49111206,  -1.84092775,\n",
              "          1.06085039,  -0.99374174,  -0.44939261,  -2.28596322,\n",
              "          3.93207715,  -3.04221617,   0.55713411,   2.03299143,\n",
              "          1.33987907,   2.3609091 ,   5.43671574,  13.80454552],\n",
              "       [  1.02027298,  -3.40765621,  -0.57498171,   2.30397446,\n",
              "         -2.57681125,   3.12664418,   5.2089134 ,  -1.55447081,\n",
              "         -3.29691851,  -3.61925034,   2.56984549,  -1.12245622,\n",
              "          1.77217648,   2.2025212 ,   6.51322437,   1.97586463,\n",
              "         -0.34025277,   4.461329  ,   5.20391017,  -2.00805735,\n",
              "         -1.18683966,   1.46806067,   4.07700784,   1.4394189 ,\n",
              "          3.63984958,  -0.21946838,  -2.30626175,  -0.53384588,\n",
              "         -2.3267016 ,   6.77277083,  -6.81531243,  35.86385416]])"
            ]
          },
          "metadata": {
            "tags": []
          },
          "execution_count": 10
        }
      ]
    },
    {
      "cell_type": "code",
      "metadata": {
        "id": "qN3NsMxN4M5h",
        "colab": {
          "base_uri": "https://localhost:8080/"
        },
        "outputId": "c7e58e0b-234c-4cdf-ed84-ca5c74ba19b7"
      },
      "source": [
        "y = kmeans.predict(Data)\n",
        "y"
      ],
      "execution_count": 11,
      "outputs": [
        {
          "output_type": "execute_result",
          "data": {
            "text/plain": [
              "array([2, 1, 0, ..., 0, 1, 0], dtype=int32)"
            ]
          },
          "metadata": {
            "tags": []
          },
          "execution_count": 11
        }
      ]
    },
    {
      "cell_type": "code",
      "metadata": {
        "id": "ByFLIXEw4PWX"
      },
      "source": [
        "from sklearn.decomposition import PCA"
      ],
      "execution_count": 12,
      "outputs": []
    },
    {
      "cell_type": "code",
      "metadata": {
        "id": "yWjkwDut4kVs"
      },
      "source": [
        "from matplotlib import pyplot as plt"
      ],
      "execution_count": 13,
      "outputs": []
    },
    {
      "cell_type": "code",
      "metadata": {
        "id": "P-cXCNUJ4S84"
      },
      "source": [
        "pca = PCA(n_components=2)"
      ],
      "execution_count": 14,
      "outputs": []
    },
    {
      "cell_type": "code",
      "metadata": {
        "id": "OFUen1QK4WQs"
      },
      "source": [
        "new_pca = pca.fit_transform(Data)"
      ],
      "execution_count": 15,
      "outputs": []
    },
    {
      "cell_type": "code",
      "metadata": {
        "id": "K3EkSJii884y",
        "colab": {
          "base_uri": "https://localhost:8080/"
        },
        "outputId": "a2adad30-d636-4f33-ca3e-9e680150c433"
      },
      "source": [
        "new_pca.shape"
      ],
      "execution_count": 16,
      "outputs": [
        {
          "output_type": "execute_result",
          "data": {
            "text/plain": [
              "(10000, 2)"
            ]
          },
          "metadata": {
            "tags": []
          },
          "execution_count": 16
        }
      ]
    },
    {
      "cell_type": "code",
      "metadata": {
        "id": "-4Lrv9W29JaE",
        "colab": {
          "base_uri": "https://localhost:8080/",
          "height": 283
        },
        "outputId": "317fd2a6-9976-40ea-fd51-e6a340b7a491"
      },
      "source": [
        "plt.plot(new_pca[:50,0],new_pca[:50,1],'or')\n",
        "plt.plot(new_pca[50:100,0],new_pca[50:100,1],'og')\n",
        "plt.plot(new_pca[100:,0],new_pca[100:,1],'oy')"
      ],
      "execution_count": 17,
      "outputs": [
        {
          "output_type": "execute_result",
          "data": {
            "text/plain": [
              "[<matplotlib.lines.Line2D at 0x7f30c4ebf150>]"
            ]
          },
          "metadata": {
            "tags": []
          },
          "execution_count": 17
        },
        {
          "output_type": "display_data",
          "data": {
            "image/png": "[encoded data removed]",
            "text/plain": [
              "<Figure size 432x288 with 1 Axes>"
            ]
          },
          "metadata": {
            "tags": [],
            "needs_background": "light"
          }
        }
      ]
    },
    {
      "cell_type": "markdown",
      "metadata": {
        "id": "lPxrx-Xx56OJ"
      },
      "source": [
        "ในกรณีที่เราใช้ Default"
      ]
    },
    {
      "cell_type": "code",
      "metadata": {
        "id": "G7mpwowV4ZEz",
        "colab": {
          "base_uri": "https://localhost:8080/",
          "height": 283
        },
        "outputId": "e6999dae-9f76-4132-d714-0b1e6bf6155f"
      },
      "source": [
        "kmeans = KMeans(random_state=2021)\n",
        "kmeans.fit(Data)\n",
        "y = kmeans.predict(Data)\n",
        "\n",
        "plt.scatter(new_pca[:,0],new_pca[:,1],c=y)"
      ],
      "execution_count": 18,
      "outputs": [
        {
          "output_type": "execute_result",
          "data": {
            "text/plain": [
              "<matplotlib.collections.PathCollection at 0x7f30c4993e10>"
            ]
          },
          "metadata": {
            "tags": []
          },
          "execution_count": 18
        },
        {
          "output_type": "display_data",
          "data": {
            "image/png": "[encoded data removed]",
            "text/plain": [
              "<Figure size 432x288 with 1 Axes>"
            ]
          },
          "metadata": {
            "tags": [],
            "needs_background": "light"
          }
        }
      ]
    },
    {
      "cell_type": "code",
      "metadata": {
        "id": "uHg9Y3m99dj0",
        "colab": {
          "base_uri": "https://localhost:8080/",
          "height": 283
        },
        "outputId": "3b86f6e1-6b17-4844-c82d-252ad0a87d21"
      },
      "source": [
        "plt.scatter(new_pca[:,0],new_pca[:,1],c=y)\n",
        "plt.plot(kmeans.cluster_centers_[:,0],kmeans.cluster_centers_[:,1],'or')"
      ],
      "execution_count": 19,
      "outputs": [
        {
          "output_type": "execute_result",
          "data": {
            "text/plain": [
              "[<matplotlib.lines.Line2D at 0x7f30c491ecd0>]"
            ]
          },
          "metadata": {
            "tags": []
          },
          "execution_count": 19
        },
        {
          "output_type": "display_data",
          "data": {
            "image/png": "[encoded data removed]",
            "text/plain": [
              "<Figure size 432x288 with 1 Axes>"
            ]
          },
          "metadata": {
            "tags": [],
            "needs_background": "light"
          }
        }
      ]
    },
    {
      "cell_type": "markdown",
      "metadata": {
        "id": "x5SDKezi9pWM"
      },
      "source": [
        "Elbow method"
      ]
    },
    {
      "cell_type": "code",
      "metadata": {
        "id": "AYmWnons4qLP",
        "colab": {
          "base_uri": "https://localhost:8080/"
        },
        "outputId": "51c32759-655f-4a1b-d0a1-3fc1df37f3a3"
      },
      "source": [
        "kmeans.inertia_"
      ],
      "execution_count": 20,
      "outputs": [
        {
          "output_type": "execute_result",
          "data": {
            "text/plain": [
              "6439989.808714021"
            ]
          },
          "metadata": {
            "tags": []
          },
          "execution_count": 20
        }
      ]
    },
    {
      "cell_type": "markdown",
      "metadata": {
        "id": "0BgfkXqv9l5G"
      },
      "source": [
        "SSE (Sum of Squared Errors)"
      ]
    },
    {
      "cell_type": "code",
      "metadata": {
        "id": "XPr4kKtr4yPJ"
      },
      "source": [
        "SSE = list()\n",
        "for k in [1,2,3,4,5,6,7,8]:\n",
        "    kmeans = KMeans(n_clusters=k, random_state=2021)\n",
        "    kmeans.fit(Data)\n",
        "    SSE.append(kmeans.inertia_)"
      ],
      "execution_count": 21,
      "outputs": []
    },
    {
      "cell_type": "code",
      "metadata": {
        "id": "DjdMisU840rF",
        "colab": {
          "base_uri": "https://localhost:8080/"
        },
        "outputId": "5be1a84d-4b49-4326-8d59-ece44b06b961"
      },
      "source": [
        "SSE"
      ],
      "execution_count": 22,
      "outputs": [
        {
          "output_type": "execute_result",
          "data": {
            "text/plain": [
              "[21350325.789858438,\n",
              " 12393046.099239781,\n",
              " 10776718.895710021,\n",
              " 9738911.172012035,\n",
              " 8879612.274629781,\n",
              " 8063629.856036617,\n",
              " 7364694.483401365,\n",
              " 6439989.808714021]"
            ]
          },
          "metadata": {
            "tags": []
          },
          "execution_count": 22
        }
      ]
    },
    {
      "cell_type": "code",
      "metadata": {
        "id": "eroWjIkl4274",
        "colab": {
          "base_uri": "https://localhost:8080/",
          "height": 290
        },
        "outputId": "cef0301c-fdfd-43be-c72f-698c738a0c89"
      },
      "source": [
        "plt.plot([1,2,3,4,5,6,7,8],SSE,'*-y')\n",
        "plt.xlabel('k')\n",
        "plt.ylabel('SSE');"
      ],
      "execution_count": 23,
      "outputs": [
        {
          "output_type": "display_data",
          "data": {
            "image/png": "[encoded data removed]",
            "text/plain": [
              "<Figure size 432x288 with 1 Axes>"
            ]
          },
          "metadata": {
            "tags": [],
            "needs_background": "light"
          }
        }
      ]
    },
    {
      "cell_type": "code",
      "metadata": {
        "id": "NhAyXiyb5O7L"
      },
      "source": [
        "from sklearn import metrics"
      ],
      "execution_count": 24,
      "outputs": []
    },
    {
      "cell_type": "code",
      "metadata": {
        "id": "C7lLtuzV5RJ-"
      },
      "source": [
        "SilH = list()\n",
        "for k in [2,3,4,5,6,7,8]:\n",
        "    kmeans = KMeans(n_clusters = k , random_state = 2021)\n",
        "    kmeans.fit(Data)\n",
        "    score = metrics.silhouette_score(Data,kmeans.labels_)\n",
        "    SilH.append(score)"
      ],
      "execution_count": 25,
      "outputs": []
    },
    {
      "cell_type": "code",
      "metadata": {
        "id": "fFwjHVBy5W9g",
        "colab": {
          "base_uri": "https://localhost:8080/",
          "height": 279
        },
        "outputId": "4618f3ca-884e-486a-fd13-c74396ba79e4"
      },
      "source": [
        "plt.plot([2,3,4,5,6,7,8],SilH,'*-b')\n",
        "plt.xlabel('k')\n",
        "plt.ylabel('Silhouette Score');"
      ],
      "execution_count": 26,
      "outputs": [
        {
          "output_type": "display_data",
          "data": {
            "image/png": "[encoded data removed]",
            "text/plain": [
              "<Figure size 432x288 with 1 Axes>"
            ]
          },
          "metadata": {
            "tags": [],
            "needs_background": "light"
          }
        }
      ]
    },
    {
      "cell_type": "markdown",
      "metadata": {
        "id": "j1wzi6sfC15w"
      },
      "source": [
        "2. ลด Dimension ของข้อมูลเหลือ 2 มิติ แล้วทำ clustering แล้ว visualize ข้อมูลแบบ 2 มิติ"
      ]
    },
    {
      "cell_type": "markdown",
      "metadata": {
        "id": "Y5fzNEldPP52"
      },
      "source": [
        "เนื่องจาก Data มี dimension มากเกินไป เราจะทดสอบดูว่า column ใด ให้ข้อมูลซ้ำกับ column อื่น แล้วลบมันออก"
      ]
    },
    {
      "cell_type": "markdown",
      "metadata": {
        "id": "cYx7UaV6PWz8"
      },
      "source": [
        "ตรวจสอบว่า ระหว่าง coluns มี correlation กันมากน้อยแค่ไหน ด้วย numpy"
      ]
    },
    {
      "cell_type": "code",
      "metadata": {
        "id": "wcH0X_f2PYd0"
      },
      "source": [
        "import numpy as np"
      ],
      "execution_count": 27,
      "outputs": []
    },
    {
      "cell_type": "code",
      "metadata": {
        "id": "1aj8lz9aPaHE"
      },
      "source": [
        "corr = np.corrcoef(Data.to_numpy().T)"
      ],
      "execution_count": 28,
      "outputs": []
    },
    {
      "cell_type": "code",
      "metadata": {
        "id": "gOQLeNQbPrBw",
        "colab": {
          "base_uri": "https://localhost:8080/"
        },
        "outputId": "c336eee9-3e79-41e2-ee06-175a862edabd"
      },
      "source": [
        "corr.shape"
      ],
      "execution_count": 29,
      "outputs": [
        {
          "output_type": "execute_result",
          "data": {
            "text/plain": [
              "(32, 32)"
            ]
          },
          "metadata": {
            "tags": []
          },
          "execution_count": 29
        }
      ]
    },
    {
      "cell_type": "code",
      "metadata": {
        "id": "e8jF8mMiPvqq",
        "colab": {
          "base_uri": "https://localhost:8080/"
        },
        "outputId": "53ec09f6-ae26-41bf-b860-e785ea803a46"
      },
      "source": [
        "corr"
      ],
      "execution_count": 30,
      "outputs": [
        {
          "output_type": "execute_result",
          "data": {
            "text/plain": [
              "array([[ 1.        ,  0.07765901,  0.07928259, ...,  0.20383151,\n",
              "         0.07765901,  0.20383151],\n",
              "       [ 0.07765901,  1.        ,  0.15362148, ...,  0.06078046,\n",
              "         1.        ,  0.06078046],\n",
              "       [ 0.07928259,  0.15362148,  1.        , ..., -0.11973798,\n",
              "         0.15362148, -0.11973798],\n",
              "       ...,\n",
              "       [ 0.20383151,  0.06078046, -0.11973798, ...,  1.        ,\n",
              "         0.06078046,  1.        ],\n",
              "       [ 0.07765901,  1.        ,  0.15362148, ...,  0.06078046,\n",
              "         1.        ,  0.06078046],\n",
              "       [ 0.20383151,  0.06078046, -0.11973798, ...,  1.        ,\n",
              "         0.06078046,  1.        ]])"
            ]
          },
          "metadata": {
            "tags": []
          },
          "execution_count": 30
        }
      ]
    },
    {
      "cell_type": "code",
      "metadata": {
        "id": "dsKXrN5FPyr0",
        "colab": {
          "base_uri": "https://localhost:8080/"
        },
        "outputId": "498e2644-fb4b-4b12-e5a7-deab333bcf58"
      },
      "source": [
        "for i in range(corr.shape[0]):\n",
        "    for j in range(corr.shape[1]):\n",
        "        if (i !=j) and (corr[i,j] == 1.):\n",
        "            print(f'row = {i} column = {j} corrcoef = {corr[i,j]}')"
      ],
      "execution_count": 31,
      "outputs": [
        {
          "output_type": "stream",
          "text": [
            "row = 1 column = 30 corrcoef = 1.0\n",
            "row = 30 column = 1 corrcoef = 1.0\n",
            "row = 31 column = 29 corrcoef = 1.0\n"
          ],
          "name": "stdout"
        }
      ]
    }
  ]
}