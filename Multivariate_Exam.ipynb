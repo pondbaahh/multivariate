{
  "nbformat": 4,
  "nbformat_minor": 0,
  "metadata": {
    "colab": {
      "name": "Multivariate Exam.ipynb",
      "provenance": [],
      "include_colab_link": true
    },
    "kernelspec": {
      "name": "python3",
      "display_name": "Python 3"
    },
    "language_info": {
      "name": "python"
    }
  },
  "cells": [
    {
      "cell_type": "markdown",
      "metadata": {
        "id": "view-in-github",
        "colab_type": "text"
      },
      "source": [
        "<a href=\"https://colab.research.google.com/github/pondbaahh/multivariate/blob/main/Multivariate_Exam.ipynb\" target=\"_parent\"><img src=\"https://colab.research.google.com/assets/colab-badge.svg\" alt=\"Open In Colab\"/></a>"
      ]
    },
    {
      "cell_type": "markdown",
      "metadata": {
        "id": "JZxiNADfaDtv"
      },
      "source": [
        "ให้นักศึกษาทำข้อสอบใน Colab Notebook นี้โดยกรอกข้อมูลของตัวเองใน cell ที่ 2 แล้วรัน cell ที่ 1 - 5 และเริ่มทำข้อสอบใน cell ที่ 6 เป็นต้นไป\n",
        "\n",
        "โดยโจทย์คือ\n",
        "1. ข้อมูลโจทย์ อยู่ใน ตัวแปร ```Data```\n",
        "2. ทำ clustering แล้วทำ visualize ข้อมูลแบบ 2 มิติ\n",
        "3. ลด Dimension ของข้อมูลเหลือ 2 มิติ แล้วทำ clustering แล้ว visualize ข้อมูลแบบ 2 มิติ\n",
        "4. เปรียบเทียบความแตกต่างของผลข้อ 2. กับ ข้อ 3.\n",
        "5. เขียน comments อธิบายทุกขั้นตอน\n",
        "6. อัด video อธิบาย code ทุกๆขั้นตอนรวมถึงผลแล้วอัพลง youtube ในรูปแบบ unlist \n",
        "7. commit โดยใช้ชื่อ commit เป็น link youtube ที่อธิบาย code ในข้อ 6.\n",
        "\n",
        "กำหนดส่งวันที่ 2 พฤษภาคม 2564 (โดยให้มากรอกวันที่ commit ครั้งสุดท้ายใน sheet: https://docs.google.com/spreadsheets/d/1_qJwLDJVtOW1HxBcf_FHVc6UT4J_SOonuR6o3EEnVzw/edit?usp=sharing ช่อง Final)"
      ]
    },
    {
      "cell_type": "code",
      "metadata": {
        "id": "cWl2x1bPGtQl"
      },
      "source": [
        "from sklearn.datasets import make_blobs\n",
        "import random,math\n",
        "import numpy as np\n",
        "import pandas"
      ],
      "execution_count": 1,
      "outputs": []
    },
    {
      "cell_type": "code",
      "metadata": {
        "id": "gZfzuiHsZksh"
      },
      "source": [
        "Name = 'วัชราภรณ์ นามมุงคุณ'\n",
        "ID = '6230205357'"
      ],
      "execution_count": 2,
      "outputs": []
    },
    {
      "cell_type": "code",
      "metadata": {
        "id": "8hFQXkF5aAiA"
      },
      "source": [
        "def DataGenerator(name,id):\n",
        "    random.seed(int(id[3:6]))\n",
        "    numfeat = random.randint(20,30)\n",
        "    ct = random.randint(len(name)-6,len(name))\n",
        "    \n",
        "    X, y = make_blobs(n_samples=10000, centers=ct, n_features=numfeat , random_state=int(id[3:6]))\n",
        "\n",
        "    print(f'{id[3:6]}:{numfeat}:{ct}')\n",
        "    X_t = (X[:,1]*2)+int(id[3])\n",
        "    X_t2 = (X[:,-1]*5)+int(id[4])\n",
        "\n",
        "    DT = np.append(X,X_t.reshape([10000,1]),axis=1)\n",
        "    DT = np.append(DT,X_t2.reshape([10000,1]),axis=1)\n",
        "    \n",
        "    return pandas.DataFrame(DT)"
      ],
      "execution_count": 3,
      "outputs": []
    },
    {
      "cell_type": "code",
      "metadata": {
        "colab": {
          "base_uri": "https://localhost:8080/"
        },
        "id": "hbXlxumSBX9i",
        "outputId": "4e57aa0c-599c-42e1-e755-5a070d6f5aa2"
      },
      "source": [
        "Data = DataGenerator(Name,ID)"
      ],
      "execution_count": 4,
      "outputs": [
        {
          "output_type": "stream",
          "text": [
            "020:30:19\n"
          ],
          "name": "stdout"
        }
      ]
    },
    {
      "cell_type": "code",
      "metadata": {
        "colab": {
          "base_uri": "https://localhost:8080/",
          "height": 435
        },
        "id": "pQcCySXvBdN-",
        "outputId": "a8dbd1a1-7712-481b-e1cf-93041cd15cbc"
      },
      "source": [
        "Data"
      ],
      "execution_count": 5,
      "outputs": [
        {
          "output_type": "execute_result",
          "data": {
            "text/html": [
              "<div>\n",
              "<style scoped>\n",
              "    .dataframe tbody tr th:only-of-type {\n",
              "        vertical-align: middle;\n",
              "    }\n",
              "\n",
              "    .dataframe tbody tr th {\n",
              "        vertical-align: top;\n",
              "    }\n",
              "\n",
              "    .dataframe thead th {\n",
              "        text-align: right;\n",
              "    }\n",
              "</style>\n",
              "<table border=\"1\" class=\"dataframe\">\n",
              "  <thead>\n",
              "    <tr style=\"text-align: right;\">\n",
              "      <th></th>\n",
              "      <th>0</th>\n",
              "      <th>1</th>\n",
              "      <th>2</th>\n",
              "      <th>3</th>\n",
              "      <th>4</th>\n",
              "      <th>5</th>\n",
              "      <th>6</th>\n",
              "      <th>7</th>\n",
              "      <th>8</th>\n",
              "      <th>9</th>\n",
              "      <th>10</th>\n",
              "      <th>11</th>\n",
              "      <th>12</th>\n",
              "      <th>13</th>\n",
              "      <th>14</th>\n",
              "      <th>15</th>\n",
              "      <th>16</th>\n",
              "      <th>17</th>\n",
              "      <th>18</th>\n",
              "      <th>19</th>\n",
              "      <th>20</th>\n",
              "      <th>21</th>\n",
              "      <th>22</th>\n",
              "      <th>23</th>\n",
              "      <th>24</th>\n",
              "      <th>25</th>\n",
              "      <th>26</th>\n",
              "      <th>27</th>\n",
              "      <th>28</th>\n",
              "      <th>29</th>\n",
              "      <th>30</th>\n",
              "      <th>31</th>\n",
              "    </tr>\n",
              "  </thead>\n",
              "  <tbody>\n",
              "    <tr>\n",
              "      <th>0</th>\n",
              "      <td>-1.701053</td>\n",
              "      <td>-6.716733</td>\n",
              "      <td>0.403364</td>\n",
              "      <td>8.234690</td>\n",
              "      <td>-8.066837</td>\n",
              "      <td>-2.969272</td>\n",
              "      <td>-1.286681</td>\n",
              "      <td>-2.798265</td>\n",
              "      <td>-9.434770</td>\n",
              "      <td>-6.585169</td>\n",
              "      <td>7.514024</td>\n",
              "      <td>-5.458482</td>\n",
              "      <td>-9.662730</td>\n",
              "      <td>0.537632</td>\n",
              "      <td>1.835089</td>\n",
              "      <td>-3.167337</td>\n",
              "      <td>9.810909</td>\n",
              "      <td>-6.315188</td>\n",
              "      <td>9.017869</td>\n",
              "      <td>-2.029059</td>\n",
              "      <td>5.476176</td>\n",
              "      <td>0.715766</td>\n",
              "      <td>-7.416330</td>\n",
              "      <td>-7.806251</td>\n",
              "      <td>9.232618</td>\n",
              "      <td>8.409526</td>\n",
              "      <td>6.286528</td>\n",
              "      <td>-2.080765</td>\n",
              "      <td>-1.946039</td>\n",
              "      <td>5.766268</td>\n",
              "      <td>-13.433466</td>\n",
              "      <td>30.831342</td>\n",
              "    </tr>\n",
              "    <tr>\n",
              "      <th>1</th>\n",
              "      <td>4.841694</td>\n",
              "      <td>9.280394</td>\n",
              "      <td>5.654291</td>\n",
              "      <td>-3.599408</td>\n",
              "      <td>-5.216423</td>\n",
              "      <td>-4.875522</td>\n",
              "      <td>11.564998</td>\n",
              "      <td>2.582919</td>\n",
              "      <td>7.268002</td>\n",
              "      <td>-9.161972</td>\n",
              "      <td>6.814420</td>\n",
              "      <td>-10.976289</td>\n",
              "      <td>-9.452713</td>\n",
              "      <td>-8.650234</td>\n",
              "      <td>-5.160244</td>\n",
              "      <td>-2.122332</td>\n",
              "      <td>11.510111</td>\n",
              "      <td>10.001235</td>\n",
              "      <td>1.100650</td>\n",
              "      <td>4.305707</td>\n",
              "      <td>-8.897800</td>\n",
              "      <td>5.286709</td>\n",
              "      <td>-8.570399</td>\n",
              "      <td>-4.133147</td>\n",
              "      <td>8.891458</td>\n",
              "      <td>-3.532263</td>\n",
              "      <td>6.349222</td>\n",
              "      <td>-0.239454</td>\n",
              "      <td>3.451313</td>\n",
              "      <td>4.345222</td>\n",
              "      <td>18.560788</td>\n",
              "      <td>23.726110</td>\n",
              "    </tr>\n",
              "    <tr>\n",
              "      <th>2</th>\n",
              "      <td>-0.188645</td>\n",
              "      <td>2.192432</td>\n",
              "      <td>-3.740707</td>\n",
              "      <td>-4.352023</td>\n",
              "      <td>6.094169</td>\n",
              "      <td>-9.596532</td>\n",
              "      <td>-4.308490</td>\n",
              "      <td>-6.889333</td>\n",
              "      <td>-5.077756</td>\n",
              "      <td>1.258608</td>\n",
              "      <td>-6.810207</td>\n",
              "      <td>-2.277972</td>\n",
              "      <td>2.577195</td>\n",
              "      <td>-2.932891</td>\n",
              "      <td>-2.938483</td>\n",
              "      <td>1.938843</td>\n",
              "      <td>6.440925</td>\n",
              "      <td>-2.161827</td>\n",
              "      <td>-10.726694</td>\n",
              "      <td>8.769474</td>\n",
              "      <td>6.872000</td>\n",
              "      <td>-4.019564</td>\n",
              "      <td>4.486527</td>\n",
              "      <td>-1.790280</td>\n",
              "      <td>3.444224</td>\n",
              "      <td>-7.158424</td>\n",
              "      <td>-7.046810</td>\n",
              "      <td>7.500269</td>\n",
              "      <td>8.608146</td>\n",
              "      <td>-6.347430</td>\n",
              "      <td>4.384863</td>\n",
              "      <td>-29.737152</td>\n",
              "    </tr>\n",
              "    <tr>\n",
              "      <th>3</th>\n",
              "      <td>1.070325</td>\n",
              "      <td>-4.596020</td>\n",
              "      <td>-6.293644</td>\n",
              "      <td>11.475116</td>\n",
              "      <td>-2.808209</td>\n",
              "      <td>1.518051</td>\n",
              "      <td>-7.053902</td>\n",
              "      <td>4.258510</td>\n",
              "      <td>3.218390</td>\n",
              "      <td>4.061030</td>\n",
              "      <td>6.367516</td>\n",
              "      <td>6.645035</td>\n",
              "      <td>-1.217043</td>\n",
              "      <td>8.827455</td>\n",
              "      <td>-11.346177</td>\n",
              "      <td>5.971061</td>\n",
              "      <td>6.831416</td>\n",
              "      <td>1.345803</td>\n",
              "      <td>3.357612</td>\n",
              "      <td>7.763393</td>\n",
              "      <td>-1.969457</td>\n",
              "      <td>-1.002429</td>\n",
              "      <td>-1.091993</td>\n",
              "      <td>4.763577</td>\n",
              "      <td>-10.140268</td>\n",
              "      <td>-7.034817</td>\n",
              "      <td>-7.012771</td>\n",
              "      <td>7.431734</td>\n",
              "      <td>-6.320076</td>\n",
              "      <td>3.040692</td>\n",
              "      <td>-9.192040</td>\n",
              "      <td>17.203462</td>\n",
              "    </tr>\n",
              "    <tr>\n",
              "      <th>4</th>\n",
              "      <td>-6.795409</td>\n",
              "      <td>-3.422134</td>\n",
              "      <td>-7.935199</td>\n",
              "      <td>5.704634</td>\n",
              "      <td>6.601110</td>\n",
              "      <td>-10.263675</td>\n",
              "      <td>9.217757</td>\n",
              "      <td>6.769842</td>\n",
              "      <td>4.182693</td>\n",
              "      <td>3.637057</td>\n",
              "      <td>-7.968196</td>\n",
              "      <td>-1.315642</td>\n",
              "      <td>9.280129</td>\n",
              "      <td>-2.030549</td>\n",
              "      <td>-8.638449</td>\n",
              "      <td>-5.767849</td>\n",
              "      <td>0.435129</td>\n",
              "      <td>-8.158601</td>\n",
              "      <td>2.004322</td>\n",
              "      <td>-8.079486</td>\n",
              "      <td>-2.890066</td>\n",
              "      <td>-7.521663</td>\n",
              "      <td>3.418707</td>\n",
              "      <td>-4.440289</td>\n",
              "      <td>3.099145</td>\n",
              "      <td>3.605520</td>\n",
              "      <td>-1.421144</td>\n",
              "      <td>-10.701892</td>\n",
              "      <td>10.955527</td>\n",
              "      <td>2.214531</td>\n",
              "      <td>-6.844268</td>\n",
              "      <td>13.072654</td>\n",
              "    </tr>\n",
              "    <tr>\n",
              "      <th>...</th>\n",
              "      <td>...</td>\n",
              "      <td>...</td>\n",
              "      <td>...</td>\n",
              "      <td>...</td>\n",
              "      <td>...</td>\n",
              "      <td>...</td>\n",
              "      <td>...</td>\n",
              "      <td>...</td>\n",
              "      <td>...</td>\n",
              "      <td>...</td>\n",
              "      <td>...</td>\n",
              "      <td>...</td>\n",
              "      <td>...</td>\n",
              "      <td>...</td>\n",
              "      <td>...</td>\n",
              "      <td>...</td>\n",
              "      <td>...</td>\n",
              "      <td>...</td>\n",
              "      <td>...</td>\n",
              "      <td>...</td>\n",
              "      <td>...</td>\n",
              "      <td>...</td>\n",
              "      <td>...</td>\n",
              "      <td>...</td>\n",
              "      <td>...</td>\n",
              "      <td>...</td>\n",
              "      <td>...</td>\n",
              "      <td>...</td>\n",
              "      <td>...</td>\n",
              "      <td>...</td>\n",
              "      <td>...</td>\n",
              "      <td>...</td>\n",
              "    </tr>\n",
              "    <tr>\n",
              "      <th>9995</th>\n",
              "      <td>0.228056</td>\n",
              "      <td>6.839652</td>\n",
              "      <td>5.688027</td>\n",
              "      <td>5.059781</td>\n",
              "      <td>-9.822777</td>\n",
              "      <td>8.527898</td>\n",
              "      <td>9.581539</td>\n",
              "      <td>-5.941708</td>\n",
              "      <td>4.019455</td>\n",
              "      <td>-1.991152</td>\n",
              "      <td>-1.039847</td>\n",
              "      <td>3.131037</td>\n",
              "      <td>8.287049</td>\n",
              "      <td>6.791250</td>\n",
              "      <td>8.476287</td>\n",
              "      <td>3.919213</td>\n",
              "      <td>-7.350831</td>\n",
              "      <td>6.703071</td>\n",
              "      <td>-4.241985</td>\n",
              "      <td>0.331566</td>\n",
              "      <td>8.358831</td>\n",
              "      <td>-0.458548</td>\n",
              "      <td>7.436097</td>\n",
              "      <td>9.914771</td>\n",
              "      <td>8.944351</td>\n",
              "      <td>-4.316166</td>\n",
              "      <td>-5.774025</td>\n",
              "      <td>-7.241011</td>\n",
              "      <td>-0.100094</td>\n",
              "      <td>7.654443</td>\n",
              "      <td>13.679304</td>\n",
              "      <td>40.272216</td>\n",
              "    </tr>\n",
              "    <tr>\n",
              "      <th>9996</th>\n",
              "      <td>3.874110</td>\n",
              "      <td>-3.381571</td>\n",
              "      <td>-5.827415</td>\n",
              "      <td>10.433695</td>\n",
              "      <td>2.009930</td>\n",
              "      <td>4.842115</td>\n",
              "      <td>-6.144390</td>\n",
              "      <td>4.278543</td>\n",
              "      <td>3.174105</td>\n",
              "      <td>6.071067</td>\n",
              "      <td>8.091267</td>\n",
              "      <td>6.234274</td>\n",
              "      <td>-1.376929</td>\n",
              "      <td>8.841083</td>\n",
              "      <td>-8.938951</td>\n",
              "      <td>6.276817</td>\n",
              "      <td>6.379705</td>\n",
              "      <td>0.849872</td>\n",
              "      <td>3.258522</td>\n",
              "      <td>10.383427</td>\n",
              "      <td>-2.332721</td>\n",
              "      <td>-0.398124</td>\n",
              "      <td>0.094108</td>\n",
              "      <td>4.194007</td>\n",
              "      <td>-8.157674</td>\n",
              "      <td>-7.813417</td>\n",
              "      <td>-6.653850</td>\n",
              "      <td>5.263005</td>\n",
              "      <td>-2.912163</td>\n",
              "      <td>1.642549</td>\n",
              "      <td>-6.763143</td>\n",
              "      <td>10.212746</td>\n",
              "    </tr>\n",
              "    <tr>\n",
              "      <th>9997</th>\n",
              "      <td>2.723442</td>\n",
              "      <td>-8.816045</td>\n",
              "      <td>7.226316</td>\n",
              "      <td>9.642599</td>\n",
              "      <td>-3.002382</td>\n",
              "      <td>1.185427</td>\n",
              "      <td>-0.529747</td>\n",
              "      <td>6.702167</td>\n",
              "      <td>-7.207471</td>\n",
              "      <td>10.747197</td>\n",
              "      <td>7.174096</td>\n",
              "      <td>0.069767</td>\n",
              "      <td>2.317635</td>\n",
              "      <td>6.258422</td>\n",
              "      <td>-0.432146</td>\n",
              "      <td>-3.708092</td>\n",
              "      <td>-7.267421</td>\n",
              "      <td>2.333919</td>\n",
              "      <td>2.544128</td>\n",
              "      <td>0.902972</td>\n",
              "      <td>7.557652</td>\n",
              "      <td>-5.001459</td>\n",
              "      <td>-4.342318</td>\n",
              "      <td>-3.762169</td>\n",
              "      <td>-4.423610</td>\n",
              "      <td>4.586694</td>\n",
              "      <td>-7.123318</td>\n",
              "      <td>2.317072</td>\n",
              "      <td>5.545957</td>\n",
              "      <td>-10.469733</td>\n",
              "      <td>-17.632089</td>\n",
              "      <td>-50.348664</td>\n",
              "    </tr>\n",
              "    <tr>\n",
              "      <th>9998</th>\n",
              "      <td>-6.870815</td>\n",
              "      <td>-2.104393</td>\n",
              "      <td>-8.007465</td>\n",
              "      <td>9.810235</td>\n",
              "      <td>7.760187</td>\n",
              "      <td>-8.250139</td>\n",
              "      <td>8.150071</td>\n",
              "      <td>7.945936</td>\n",
              "      <td>6.862951</td>\n",
              "      <td>4.200982</td>\n",
              "      <td>-7.341678</td>\n",
              "      <td>-2.715077</td>\n",
              "      <td>11.188661</td>\n",
              "      <td>-2.081114</td>\n",
              "      <td>-7.773971</td>\n",
              "      <td>-7.525738</td>\n",
              "      <td>-2.642424</td>\n",
              "      <td>-10.417773</td>\n",
              "      <td>4.039373</td>\n",
              "      <td>-7.889138</td>\n",
              "      <td>-1.538853</td>\n",
              "      <td>-6.396142</td>\n",
              "      <td>4.206817</td>\n",
              "      <td>-5.607508</td>\n",
              "      <td>3.995322</td>\n",
              "      <td>3.321244</td>\n",
              "      <td>-5.785854</td>\n",
              "      <td>-9.029805</td>\n",
              "      <td>10.328162</td>\n",
              "      <td>2.925788</td>\n",
              "      <td>-4.208785</td>\n",
              "      <td>16.628938</td>\n",
              "    </tr>\n",
              "    <tr>\n",
              "      <th>9999</th>\n",
              "      <td>-10.181022</td>\n",
              "      <td>5.617469</td>\n",
              "      <td>-1.909597</td>\n",
              "      <td>-10.955304</td>\n",
              "      <td>-5.460817</td>\n",
              "      <td>7.060669</td>\n",
              "      <td>-5.943432</td>\n",
              "      <td>-7.831921</td>\n",
              "      <td>-6.790171</td>\n",
              "      <td>9.439804</td>\n",
              "      <td>1.922353</td>\n",
              "      <td>0.094043</td>\n",
              "      <td>0.682898</td>\n",
              "      <td>6.784258</td>\n",
              "      <td>0.909691</td>\n",
              "      <td>3.525786</td>\n",
              "      <td>7.553140</td>\n",
              "      <td>11.281762</td>\n",
              "      <td>-7.999722</td>\n",
              "      <td>-4.752214</td>\n",
              "      <td>4.324657</td>\n",
              "      <td>2.181520</td>\n",
              "      <td>-0.222106</td>\n",
              "      <td>3.798556</td>\n",
              "      <td>3.696303</td>\n",
              "      <td>-2.547688</td>\n",
              "      <td>1.075402</td>\n",
              "      <td>-6.327488</td>\n",
              "      <td>5.582242</td>\n",
              "      <td>-7.753308</td>\n",
              "      <td>11.234939</td>\n",
              "      <td>-36.766538</td>\n",
              "    </tr>\n",
              "  </tbody>\n",
              "</table>\n",
              "<p>10000 rows × 32 columns</p>\n",
              "</div>"
            ],
            "text/plain": [
              "             0         1         2   ...         29         30         31\n",
              "0     -1.701053 -6.716733  0.403364  ...   5.766268 -13.433466  30.831342\n",
              "1      4.841694  9.280394  5.654291  ...   4.345222  18.560788  23.726110\n",
              "2     -0.188645  2.192432 -3.740707  ...  -6.347430   4.384863 -29.737152\n",
              "3      1.070325 -4.596020 -6.293644  ...   3.040692  -9.192040  17.203462\n",
              "4     -6.795409 -3.422134 -7.935199  ...   2.214531  -6.844268  13.072654\n",
              "...         ...       ...       ...  ...        ...        ...        ...\n",
              "9995   0.228056  6.839652  5.688027  ...   7.654443  13.679304  40.272216\n",
              "9996   3.874110 -3.381571 -5.827415  ...   1.642549  -6.763143  10.212746\n",
              "9997   2.723442 -8.816045  7.226316  ... -10.469733 -17.632089 -50.348664\n",
              "9998  -6.870815 -2.104393 -8.007465  ...   2.925788  -4.208785  16.628938\n",
              "9999 -10.181022  5.617469 -1.909597  ...  -7.753308  11.234939 -36.766538\n",
              "\n",
              "[10000 rows x 32 columns]"
            ]
          },
          "metadata": {
            "tags": []
          },
          "execution_count": 5
        }
      ]
    },
    {
      "cell_type": "markdown",
      "metadata": {
        "id": "Va9BL8iG3w6I"
      },
      "source": [
        "2. ทำ clustering แล้วทำ visualize ข้อมูลแบบ 2 มิติ "
      ]
    },
    {
      "cell_type": "markdown",
      "metadata": {
        "id": "Odzrv_zpEWbN"
      },
      "source": [
        "ตรวจสอบขนาดของข้อมูลว่ามี data กี่ตัว และมีกี่ dimensions"
      ]
    },
    {
      "cell_type": "code",
      "metadata": {
        "id": "v9el0oc08kYc",
        "colab": {
          "base_uri": "https://localhost:8080/"
        },
        "outputId": "547a1f54-1490-4641-f410-4a509bf7ab42"
      },
      "source": [
        "Data.shape #มี Data 10000 ตัว และมี 32 dimensions "
      ],
      "execution_count": 6,
      "outputs": [
        {
          "output_type": "execute_result",
          "data": {
            "text/plain": [
              "(10000, 32)"
            ]
          },
          "metadata": {
            "tags": []
          },
          "execution_count": 6
        }
      ]
    },
    {
      "cell_type": "markdown",
      "metadata": {
        "id": "RyjspCqZ8nMK"
      },
      "source": [
        "### clustering\n",
        "\n"
      ]
    },
    {
      "cell_type": "code",
      "metadata": {
        "id": "jUARadkFEuyJ"
      },
      "source": [
        "from sklearn.cluster import KMeans"
      ],
      "execution_count": 7,
      "outputs": []
    },
    {
      "cell_type": "markdown",
      "metadata": {
        "id": "4oPKsUYaFr60"
      },
      "source": [
        "Define"
      ]
    },
    {
      "cell_type": "code",
      "metadata": {
        "id": "2GpQ_WH638DA"
      },
      "source": [
        "kmeans = KMeans(n_clusters=3,random_state=2021) \n",
        "#random_state กำหนดให้ค่า random ทุกคนเหมือนกัน  k= 3"
      ],
      "execution_count": 8,
      "outputs": []
    },
    {
      "cell_type": "markdown",
      "metadata": {
        "id": "cx2rCuMSF0aR"
      },
      "source": [
        "Fit-transform\n",
        "\n",
        "คำนวณหาจุด cluter centers ของข้อมูลData ด้วยวิธี K-means clustering\n",
        "\n",
        "\n",
        "\n"
      ]
    },
    {
      "cell_type": "code",
      "metadata": {
        "id": "191CmJqk4COZ",
        "colab": {
          "base_uri": "https://localhost:8080/"
        },
        "outputId": "43a7a92d-315d-4b40-de14-314899e9c907"
      },
      "source": [
        "kmeans.fit(Data)"
      ],
      "execution_count": 9,
      "outputs": [
        {
          "output_type": "execute_result",
          "data": {
            "text/plain": [
              "KMeans(algorithm='auto', copy_x=True, init='k-means++', max_iter=300,\n",
              "       n_clusters=3, n_init=10, n_jobs=None, precompute_distances='auto',\n",
              "       random_state=2021, tol=0.0001, verbose=0)"
            ]
          },
          "metadata": {
            "tags": []
          },
          "execution_count": 9
        }
      ]
    },
    {
      "cell_type": "code",
      "metadata": {
        "id": "BVAcczyB4H0I",
        "colab": {
          "base_uri": "https://localhost:8080/"
        },
        "outputId": "d9412e29-8eb7-4638-bf88-948d2e0780d2"
      },
      "source": [
        "kmeans.cluster_centers_ \n",
        "#จุดศูนย์กลางของทั้งหมด 3 กลุ่ม เพราะ K = 3  และมี 32 dimensions\n",
        " #จุดเซนทรอยด์"
      ],
      "execution_count": 10,
      "outputs": [
        {
          "output_type": "execute_result",
          "data": {
            "text/plain": [
              "array([[ -1.08780549,  -2.29607055,  -0.98298195,   0.14346779,\n",
              "          0.5527234 ,   0.07089763,  -1.70616748,  -1.73697949,\n",
              "         -3.58114554,   4.34622829,   0.79279007,   1.93817897,\n",
              "          3.79825024,   3.8128724 ,  -1.20532033,   2.60390476,\n",
              "          3.16344582,   2.07233784,  -5.92159968,   1.22279113,\n",
              "         -0.44676379,  -1.13328253,  -1.31608209,   0.50623549,\n",
              "         -1.43159518,  -1.17396953,  -0.59336161,  -1.99722839,\n",
              "          1.55145501,  -7.41109493,  -4.59214109, -35.05547467],\n",
              "       [  1.27481937,   2.71835787,  -2.1760495 ,   1.51074048,\n",
              "          1.34231573,  -1.63041974,   2.69802951,   2.10630659,\n",
              "          3.99868411,  -2.29097958,   0.67783007,  -0.42214799,\n",
              "         -1.31571444,  -1.15031994,  -3.9202539 ,  -0.43477137,\n",
              "         -0.07970473,   1.7704335 ,   1.49111206,  -1.84092775,\n",
              "          1.06085039,  -0.99374174,  -0.44939261,  -2.28596322,\n",
              "          3.93207715,  -3.04221617,   0.55713411,   2.03299143,\n",
              "          1.33987907,   2.3609091 ,   5.43671574,  13.80454552],\n",
              "       [  1.02027298,  -3.40765621,  -0.57498171,   2.30397446,\n",
              "         -2.57681125,   3.12664418,   5.2089134 ,  -1.55447081,\n",
              "         -3.29691851,  -3.61925034,   2.56984549,  -1.12245622,\n",
              "          1.77217648,   2.2025212 ,   6.51322437,   1.97586463,\n",
              "         -0.34025277,   4.461329  ,   5.20391017,  -2.00805735,\n",
              "         -1.18683966,   1.46806067,   4.07700784,   1.4394189 ,\n",
              "          3.63984958,  -0.21946838,  -2.30626175,  -0.53384588,\n",
              "         -2.3267016 ,   6.77277083,  -6.81531243,  35.86385416]])"
            ]
          },
          "metadata": {
            "tags": []
          },
          "execution_count": 10
        }
      ]
    },
    {
      "cell_type": "code",
      "metadata": {
        "id": "qN3NsMxN4M5h",
        "colab": {
          "base_uri": "https://localhost:8080/"
        },
        "outputId": "5e58f21b-e4e0-413f-b3a7-992d98fab0ce"
      },
      "source": [
        "y = kmeans.predict(Data)\n",
        "y\n",
        " #มี 32 dimensions plot ไม่ได้เลยต้องทำ PCA ข้อมูลเพื่อลด dimensions ลงมา y"
      ],
      "execution_count": 11,
      "outputs": [
        {
          "output_type": "execute_result",
          "data": {
            "text/plain": [
              "array([2, 1, 0, ..., 0, 1, 0], dtype=int32)"
            ]
          },
          "metadata": {
            "tags": []
          },
          "execution_count": 11
        }
      ]
    },
    {
      "cell_type": "markdown",
      "metadata": {
        "id": "JP_RT2KlGIYE"
      },
      "source": [
        "ทำ PCA ข้อมูล Data แล้ว วาดกราฟ scatter plot โดยใส่สีตามผลการทำ kmeans clustering แล้วนำมาเทียบกับ กราฟ PCA - scatter ของข้อมูลจริง"
      ]
    },
    {
      "cell_type": "code",
      "metadata": {
        "id": "ByFLIXEw4PWX"
      },
      "source": [
        "from sklearn.decomposition import PCA"
      ],
      "execution_count": 12,
      "outputs": []
    },
    {
      "cell_type": "code",
      "metadata": {
        "id": "P-cXCNUJ4S84"
      },
      "source": [
        "pca = PCA(n_components=2)  #เอาแค่ 2 dimensions"
      ],
      "execution_count": 14,
      "outputs": []
    },
    {
      "cell_type": "code",
      "metadata": {
        "id": "OFUen1QK4WQs"
      },
      "source": [
        "new_pca = pca.fit_transform(Data)"
      ],
      "execution_count": 15,
      "outputs": []
    },
    {
      "cell_type": "code",
      "metadata": {
        "id": "K3EkSJii884y",
        "colab": {
          "base_uri": "https://localhost:8080/"
        },
        "outputId": "e3abaa44-3e85-4bf3-8b89-48d83fc8b683"
      },
      "source": [
        "new_pca.shape"
      ],
      "execution_count": 16,
      "outputs": [
        {
          "output_type": "execute_result",
          "data": {
            "text/plain": [
              "(10000, 2)"
            ]
          },
          "metadata": {
            "tags": []
          },
          "execution_count": 16
        }
      ]
    },
    {
      "cell_type": "code",
      "metadata": {
        "colab": {
          "base_uri": "https://localhost:8080/"
        },
        "id": "0ysNqe1uGRzh",
        "outputId": "ef890bb2-5859-4865-9ebf-abd706089c3c"
      },
      "source": [
        "new_pca"
      ],
      "execution_count": 32,
      "outputs": [
        {
          "output_type": "execute_result",
          "data": {
            "text/plain": [
              "array([[ 30.53363005, -12.88122927],\n",
              "       [ 26.16740232,  27.2102952 ],\n",
              "       [-33.76938188,  11.4170971 ],\n",
              "       ...,\n",
              "       [-53.81052843, -17.85379082],\n",
              "       [ 15.20307973,  -5.31632004],\n",
              "       [-41.3374353 ,  16.37184495]])"
            ]
          },
          "metadata": {
            "tags": []
          },
          "execution_count": 32
        }
      ]
    },
    {
      "cell_type": "markdown",
      "metadata": {
        "id": "DtiaWoR6K1QY"
      },
      "source": [
        "### ของจริง"
      ]
    },
    {
      "cell_type": "code",
      "metadata": {
        "id": "ORQl2gBFGY4w"
      },
      "source": [
        "from matplotlib import pyplot as plt"
      ],
      "execution_count": 33,
      "outputs": []
    },
    {
      "cell_type": "code",
      "metadata": {
        "id": "-4Lrv9W29JaE",
        "colab": {
          "base_uri": "https://localhost:8080/",
          "height": 283
        },
        "outputId": "94ce9dc0-f91e-47de-9e39-27db9b34ea1d"
      },
      "source": [
        "plt.plot(new_pca[:50,0],new_pca[:50,1],'or')\n",
        "plt.plot(new_pca[50:100,0],new_pca[50:100,1],'og')\n",
        "plt.plot(new_pca[100:,0],new_pca[100:,1],'oy')\n",
        "\n",
        "#สีจริง คำตอบที่แท้จริง แบบธรรมดาทำ PCA กี่รอบก็ได้เท่าเดิม เพราะมองในมุมองที่ data กระจายดีที่สุด\n",
        "#สีเหลืองกระจายและทับสีอื่นไปหมด\n",
        "\n"
      ],
      "execution_count": 34,
      "outputs": [
        {
          "output_type": "execute_result",
          "data": {
            "text/plain": [
              "[<matplotlib.lines.Line2D at 0x7f630cadb210>]"
            ]
          },
          "metadata": {
            "tags": []
          },
          "execution_count": 34
        },
        {
          "output_type": "display_data",
          "data": {
            "image/png": "[encoded data removed]",
            "text/plain": [
              "<Figure size 432x288 with 1 Axes>"
            ]
          },
          "metadata": {
            "tags": [],
            "needs_background": "light"
          }
        }
      ]
    },
    {
      "cell_type": "code",
      "metadata": {
        "id": "G7mpwowV4ZEz",
        "colab": {
          "base_uri": "https://localhost:8080/",
          "height": 283
        },
        "outputId": "6d5bcf81-c5ff-40ec-d3fb-a37cb24f2445"
      },
      "source": [
        "kmeans = KMeans(random_state=2021)\n",
        "kmeans.fit(Data)\n",
        "y = kmeans.predict(Data)\n",
        "\n",
        "plt.scatter(new_pca[:,0],new_pca[:,1],c=y)"
      ],
      "execution_count": 18,
      "outputs": [
        {
          "output_type": "execute_result",
          "data": {
            "text/plain": [
              "<matplotlib.collections.PathCollection at 0x7f630d1b2290>"
            ]
          },
          "metadata": {
            "tags": []
          },
          "execution_count": 18
        },
        {
          "output_type": "display_data",
          "data": {
            "image/png": "[encoded data removed]",
            "text/plain": [
              "<Figure size 432x288 with 1 Axes>"
            ]
          },
          "metadata": {
            "tags": [],
            "needs_background": "light"
          }
        }
      ]
    },
    {
      "cell_type": "code",
      "metadata": {
        "id": "uHg9Y3m99dj0",
        "colab": {
          "base_uri": "https://localhost:8080/",
          "height": 283
        },
        "outputId": "ae9ea0ba-2f4e-476e-e56e-67fe162a05d8"
      },
      "source": [
        "plt.scatter(new_pca[:,0],new_pca[:,1],c=y)\n",
        "plt.plot(kmeans.cluster_centers_[:,0],kmeans.cluster_centers_[:,1],'or')"
      ],
      "execution_count": 19,
      "outputs": [
        {
          "output_type": "execute_result",
          "data": {
            "text/plain": [
              "[<matplotlib.lines.Line2D at 0x7f630ccc92d0>]"
            ]
          },
          "metadata": {
            "tags": []
          },
          "execution_count": 19
        },
        {
          "output_type": "display_data",
          "data": {
            "image/png": "[encoded data removed]",
            "text/plain": [
              "<Figure size 432x288 with 1 Axes>"
            ]
          },
          "metadata": {
            "tags": [],
            "needs_background": "light"
          }
        }
      ]
    },
    {
      "cell_type": "markdown",
      "metadata": {
        "id": "x5SDKezi9pWM"
      },
      "source": [
        "### Elbow method\n",
        "\n",
        "-elbow method จะ plot กราฟคล้ายๆศอก\n",
        "\n",
        "-SSE วัดระยะห่างของ center ทุกๆจุดว่าห่างกันเท่าไหร่ จากนั้นเอามา sum รวมกัน\n",
        "\n",
        "-ใกล้กับ center มากยิ่งดี"
      ]
    },
    {
      "cell_type": "code",
      "metadata": {
        "id": "AYmWnons4qLP",
        "colab": {
          "base_uri": "https://localhost:8080/"
        },
        "outputId": "23323e34-37b7-4dc1-f58c-5cccfbc4e9fc"
      },
      "source": [
        "kmeans.inertia_  #หาค่า SSE (Sum of Squared Errors) #ไม่ต้องหาใหม่เลยเนื่องจาก kmeans หามาไว้ให้เเล้ว"
      ],
      "execution_count": 20,
      "outputs": [
        {
          "output_type": "execute_result",
          "data": {
            "text/plain": [
              "6439989.808714021"
            ]
          },
          "metadata": {
            "tags": []
          },
          "execution_count": 20
        }
      ]
    },
    {
      "cell_type": "markdown",
      "metadata": {
        "id": "0BgfkXqv9l5G"
      },
      "source": [
        "SSE (Sum of Squared Errors)"
      ]
    },
    {
      "cell_type": "code",
      "metadata": {
        "id": "XPr4kKtr4yPJ"
      },
      "source": [
        "SSE = list()\n",
        "for k in [1,2,3,4,5,6,7,8]:\n",
        "    kmeans = KMeans(n_clusters=k, random_state=2021)\n",
        "    kmeans.fit(Data)\n",
        "    SSE.append(kmeans.inertia_)\n",
        "     #วนลูปเพื่อจะเปลี่ยน k จาก 1 เป็น2,3,4,5,6,7,8"
      ],
      "execution_count": 21,
      "outputs": []
    },
    {
      "cell_type": "code",
      "metadata": {
        "id": "DjdMisU840rF",
        "colab": {
          "base_uri": "https://localhost:8080/"
        },
        "outputId": "dc8a476d-46e7-4bef-b86f-5bbae18f27ec"
      },
      "source": [
        "SSE #ผลลัพธ์มีทั้งหมด 8 ตัว\n"
      ],
      "execution_count": 22,
      "outputs": [
        {
          "output_type": "execute_result",
          "data": {
            "text/plain": [
              "[21350325.789858438,\n",
              " 12393046.099239781,\n",
              " 10776718.895710021,\n",
              " 9738911.172012035,\n",
              " 8879612.274629781,\n",
              " 8063629.856036617,\n",
              " 7364694.483401365,\n",
              " 6439989.808714021]"
            ]
          },
          "metadata": {
            "tags": []
          },
          "execution_count": 22
        }
      ]
    },
    {
      "cell_type": "code",
      "metadata": {
        "id": "eroWjIkl4274",
        "colab": {
          "base_uri": "https://localhost:8080/",
          "height": 290
        },
        "outputId": "9b9c40b7-ee69-44f1-d978-580b8d0d52fe"
      },
      "source": [
        "plt.plot([1,2,3,4,5,6,7,8],SSE,'*-y')\n",
        "plt.xlabel('k')\n",
        "plt.ylabel('SSE');\n",
        "\n",
        "#นำค่า SSE มา plot กราฟ\n",
        "#elbow คือศอก  2 คือ ศอก"
      ],
      "execution_count": 23,
      "outputs": [
        {
          "output_type": "display_data",
          "data": {
            "image/png": "[encoded data removed]",
            "text/plain": [
              "<Figure size 432x288 with 1 Axes>"
            ]
          },
          "metadata": {
            "tags": [],
            "needs_background": "light"
          }
        }
      ]
    },
    {
      "cell_type": "markdown",
      "metadata": {
        "id": "g1o6CkmAGqoz"
      },
      "source": [
        "### silhouette coefficient (ซีลูอิท โคแอฟฟิเซียน)\n",
        "\n",
        "1.How close the data point is to other points in the cluster คำนวณว่า data แต่ละอันที่อยู่ในกลุ่มเดียวกันมันอยู่ใกล้กับจุดอื่น ๆ ในคลัสเตอร์อย่างไร\n",
        "\n",
        "2.How far away the data point is from points in other clusters จุดข้อมูลอยู่ห่างจากจุดในคลัสเตอร์อื่นแค่ไหน"
      ]
    },
    {
      "cell_type": "code",
      "metadata": {
        "id": "NhAyXiyb5O7L"
      },
      "source": [
        "from sklearn import metrics"
      ],
      "execution_count": 24,
      "outputs": []
    },
    {
      "cell_type": "code",
      "metadata": {
        "id": "C7lLtuzV5RJ-"
      },
      "source": [
        "SilH = list() #silhouette scores คิดข้อมูลที่มีกลุ่มเดียวไม่ได้\n",
        "for k in [2,3,4,5,6,7,8]:\n",
        "    kmeans = KMeans(n_clusters = k , random_state = 2021)\n",
        "    kmeans.fit(Data)\n",
        "    score = metrics.silhouette_score(Data,kmeans.labels_)\n",
        "    SilH.append(score)"
      ],
      "execution_count": 25,
      "outputs": []
    },
    {
      "cell_type": "code",
      "metadata": {
        "id": "fFwjHVBy5W9g",
        "colab": {
          "base_uri": "https://localhost:8080/",
          "height": 279
        },
        "outputId": "08cb2389-1f7b-43b8-d338-e6087c92b61b"
      },
      "source": [
        "plt.plot([2,3,4,5,6,7,8],SilH,'*-b')\n",
        "plt.xlabel('k')\n",
        "plt.ylabel('Silhouette Score');\n",
        " #ดูกราฟจากจุด silhouette scores ที่สูงที่สุด มีค่ามากแสดงว่าใกล้กันมาก มีค่าตั้งแต่-1ถึง 1  #ดีที่สุดคือ 2 เพราะสูงสุด"
      ],
      "execution_count": 26,
      "outputs": [
        {
          "output_type": "display_data",
          "data": {
            "image/png": "[encoded data removed]",
            "text/plain": [
              "<Figure size 432x288 with 1 Axes>"
            ]
          },
          "metadata": {
            "tags": [],
            "needs_background": "light"
          }
        }
      ]
    },
    {
      "cell_type": "markdown",
      "metadata": {
        "id": "j1wzi6sfC15w"
      },
      "source": [
        "3. ลด Dimension ของข้อมูลเหลือ 2 มิติ แล้วทำ clustering แล้ว visualize ข้อมูลแบบ 2 มิติ"
      ]
    },
    {
      "cell_type": "markdown",
      "metadata": {
        "id": "ckStOuiAG5V4"
      },
      "source": [
        "ทำ MDS\n",
        "\n",
        "MDSจะพยายาม plot graph ใหม่ให้ dimensions ลดลงแต่จะพยายามรักษาระยะห่าง จุดไหนใกล้กับจุดไหนมาก จุดไหนใกล้กับจุดไหนน้อย"
      ]
    },
    {
      "cell_type": "code",
      "metadata": {
        "id": "rTi_6pY6G69g"
      },
      "source": [
        "from sklearn.manifold import MDS"
      ],
      "execution_count": 35,
      "outputs": []
    },
    {
      "cell_type": "code",
      "metadata": {
        "id": "tjfOLR43G-rw"
      },
      "source": [
        "mds = MDS(n_components=2) #กำหนดให้ components = 2"
      ],
      "execution_count": 36,
      "outputs": []
    },
    {
      "cell_type": "code",
      "metadata": {
        "id": "RZ043bRnHBUC"
      },
      "source": [
        "New_mds = mds.fit_transform(Data) #คำนวณระยะห่างระหว่างจุด"
      ],
      "execution_count": 37,
      "outputs": []
    },
    {
      "cell_type": "markdown",
      "metadata": {
        "id": "1Y5MKIMYHEan"
      },
      "source": [
        "K-mean"
      ]
    },
    {
      "cell_type": "code",
      "metadata": {
        "id": "YzVodWY_HFUn"
      },
      "source": [
        "kmeans2 = KMeans(n_clusters=8,random_state=2021)  #ให้ k= 8   ตามที่หาไว้\n",
        "kmeans2.fit(Data)\n",
        "g = kmeans2.predict(Data)"
      ],
      "execution_count": 38,
      "outputs": []
    },
    {
      "cell_type": "code",
      "metadata": {
        "colab": {
          "base_uri": "https://localhost:8080/",
          "height": 283
        },
        "id": "vSwsPwpEHIZo",
        "outputId": "c819c327-5468-4274-a94d-00a307405180"
      },
      "source": [
        "kmeans = KMeans(random_state=2021)\n",
        "kmeans.fit(Data)\n",
        "y = kmeans.predict(Data)\n",
        "plt.scatter(New_mds[:,0],New_mds[:,1],c=y)"
      ],
      "execution_count": 39,
      "outputs": [
        {
          "output_type": "execute_result",
          "data": {
            "text/plain": [
              "<matplotlib.collections.PathCollection at 0x7f630ca68690>"
            ]
          },
          "metadata": {
            "tags": []
          },
          "execution_count": 39
        },
        {
          "output_type": "display_data",
          "data": {
            "image/png": "[encoded data removed]",
            "text/plain": [
              "<Figure size 432x288 with 1 Axes>"
            ]
          },
          "metadata": {
            "tags": [],
            "needs_background": "light"
          }
        }
      ]
    },
    {
      "cell_type": "markdown",
      "metadata": {
        "id": "7DW2yvuIHUF1"
      },
      "source": [
        "4. เปรียบเทียบความแตกต่างของผลข้อ 2. กับ ข้อ 3."
      ]
    },
    {
      "cell_type": "markdown",
      "metadata": {
        "id": "ej7K3DXHs-KG"
      },
      "source": [
        "กราฟของข้อ 2 ทำ clustering แล้วทำ visualize ข้อมูลแบบ 2 มิติ"
      ]
    },
    {
      "cell_type": "code",
      "metadata": {
        "colab": {
          "base_uri": "https://localhost:8080/",
          "height": 283
        },
        "id": "qEImeYl8s9qY",
        "outputId": "3e234fac-bca1-492d-9145-01503222187f"
      },
      "source": [
        "kmeans = KMeans(random_state=2021)\n",
        "kmeans.fit(Data)\n",
        "y = kmeans.predict(Data)\n",
        "\n",
        "plt.scatter(new_pca[:,0],new_pca[:,1],c=y)"
      ],
      "execution_count": 40,
      "outputs": [
        {
          "output_type": "execute_result",
          "data": {
            "text/plain": [
              "<matplotlib.collections.PathCollection at 0x7f630c9aa490>"
            ]
          },
          "metadata": {
            "tags": []
          },
          "execution_count": 40
        },
        {
          "output_type": "display_data",
          "data": {
            "image/png": "[encoded data removed]",
            "text/plain": [
              "<Figure size 432x288 with 1 Axes>"
            ]
          },
          "metadata": {
            "tags": [],
            "needs_background": "light"
          }
        }
      ]
    },
    {
      "cell_type": "markdown",
      "metadata": {
        "id": "j21KipQ4tEBt"
      },
      "source": [
        "กราฟของข้อ 3 ลด Dimension ของข้อมูลเหลือ 2 มิติ แล้วทำ clustering แล้ว visualize ข้อมูลแบบ 2 มิติ\n",
        "\n"
      ]
    },
    {
      "cell_type": "code",
      "metadata": {
        "colab": {
          "base_uri": "https://localhost:8080/",
          "height": 283
        },
        "id": "nUL_3WU-taYG",
        "outputId": "381a4cf4-5a13-4a6b-b277-423917c1f2d3"
      },
      "source": [
        "kmeans = KMeans(random_state=2021)\n",
        "kmeans.fit(Data)\n",
        "y = kmeans.predict(Data)\n",
        "plt.scatter(New_mds[:,0],New_mds[:,1],c=y)"
      ],
      "execution_count": 41,
      "outputs": [
        {
          "output_type": "execute_result",
          "data": {
            "text/plain": [
              "<matplotlib.collections.PathCollection at 0x7f630c993890>"
            ]
          },
          "metadata": {
            "tags": []
          },
          "execution_count": 41
        },
        {
          "output_type": "display_data",
          "data": {
            "image/png": "[encoded data removed]",
            "text/plain": [
              "<Figure size 432x288 with 1 Axes>"
            ]
          },
          "metadata": {
            "tags": [],
            "needs_background": "light"
          }
        }
      ]
    },
    {
      "cell_type": "markdown",
      "metadata": {
        "id": "QIXNivW6YD9t"
      },
      "source": [
        "จากการเปรียบเทียบข้อ 2 กับ ข้อ 3 จะเห็นได้ชัดว่าถ้าเราลด dimension แล้วค่อยทำ clustering จะเห็นว่ากราฟข้อ 3 มีการกระจายข้อมูลที่เปลี่ยนไป และลักษณะการกระจายข้อมูลดูเล็กลง เพราะ dimension ลดลง และระยะห่างยังคงเดิม แต่ข้อ 2 การกระจายของข้อมูลมีขนาดใหญ่ และอยู่กันเป็นกลุ่ม "
      ]
    },
    {
      "cell_type": "code",
      "metadata": {
        "id": "RY-taBTaYDvl"
      },
      "source": [
        ""
      ],
      "execution_count": null,
      "outputs": []
    }
  ]
}