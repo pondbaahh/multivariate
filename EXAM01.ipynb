{
  "nbformat": 4,
  "nbformat_minor": 0,
  "metadata": {
    "colab": {
      "name": "EXAM01.ipynb",
      "provenance": [],
      "toc_visible": true,
      "authorship_tag": "ABX9TyN8L9bEK1trRg1DoxGqTmmR",
      "include_colab_link": true
    },
    "kernelspec": {
      "name": "python3",
      "display_name": "Python 3"
    }
  },
  "cells": [
    {
      "cell_type": "markdown",
      "metadata": {
        "id": "view-in-github",
        "colab_type": "text"
      },
      "source": [
        "<a href=\"https://colab.research.google.com/github/pondbaahh/multivariate/blob/main/EXAM01.ipynb\" target=\"_parent\"><img src=\"https://colab.research.google.com/assets/colab-badge.svg\" alt=\"Open In Colab\"/></a>"
      ]
    },
    {
      "cell_type": "markdown",
      "metadata": {
        "id": "_xYRIlGoGT2R"
      },
      "source": [
        "### 1 Pizza"
      ]
    },
    {
      "cell_type": "code",
      "metadata": {
        "id": "56J7YLXDGoFR"
      },
      "source": [
        "import pandas as pd"
      ],
      "execution_count": 29,
      "outputs": []
    },
    {
      "cell_type": "code",
      "metadata": {
        "colab": {
          "base_uri": "https://localhost:8080/",
          "height": 355
        },
        "id": "RbUKFOL7Kpek",
        "outputId": "2d3edce2-68d0-4eee-ee3d-ef986feb86a1"
      },
      "source": [
        "data = pd.read_csv('Pizza.csv')\n",
        "data.head(10)"
      ],
      "execution_count": 30,
      "outputs": [
        {
          "output_type": "execute_result",
          "data": {
            "text/html": [
              "<div>\n",
              "<style scoped>\n",
              "    .dataframe tbody tr th:only-of-type {\n",
              "        vertical-align: middle;\n",
              "    }\n",
              "\n",
              "    .dataframe tbody tr th {\n",
              "        vertical-align: top;\n",
              "    }\n",
              "\n",
              "    .dataframe thead th {\n",
              "        text-align: right;\n",
              "    }\n",
              "</style>\n",
              "<table border=\"1\" class=\"dataframe\">\n",
              "  <thead>\n",
              "    <tr style=\"text-align: right;\">\n",
              "      <th></th>\n",
              "      <th>brand</th>\n",
              "      <th>id</th>\n",
              "      <th>mois</th>\n",
              "      <th>prot</th>\n",
              "      <th>fat</th>\n",
              "      <th>ash</th>\n",
              "      <th>sodium</th>\n",
              "      <th>carb</th>\n",
              "      <th>cal</th>\n",
              "    </tr>\n",
              "  </thead>\n",
              "  <tbody>\n",
              "    <tr>\n",
              "      <th>0</th>\n",
              "      <td>A</td>\n",
              "      <td>14069</td>\n",
              "      <td>27.82</td>\n",
              "      <td>21.43</td>\n",
              "      <td>44.87</td>\n",
              "      <td>5.11</td>\n",
              "      <td>1.77</td>\n",
              "      <td>0.77</td>\n",
              "      <td>4.93</td>\n",
              "    </tr>\n",
              "    <tr>\n",
              "      <th>1</th>\n",
              "      <td>A</td>\n",
              "      <td>14053</td>\n",
              "      <td>28.49</td>\n",
              "      <td>21.26</td>\n",
              "      <td>43.89</td>\n",
              "      <td>5.34</td>\n",
              "      <td>1.79</td>\n",
              "      <td>1.02</td>\n",
              "      <td>4.84</td>\n",
              "    </tr>\n",
              "    <tr>\n",
              "      <th>2</th>\n",
              "      <td>A</td>\n",
              "      <td>14025</td>\n",
              "      <td>28.35</td>\n",
              "      <td>19.99</td>\n",
              "      <td>45.78</td>\n",
              "      <td>5.08</td>\n",
              "      <td>1.63</td>\n",
              "      <td>0.80</td>\n",
              "      <td>4.95</td>\n",
              "    </tr>\n",
              "    <tr>\n",
              "      <th>3</th>\n",
              "      <td>A</td>\n",
              "      <td>14016</td>\n",
              "      <td>30.55</td>\n",
              "      <td>20.15</td>\n",
              "      <td>43.13</td>\n",
              "      <td>4.79</td>\n",
              "      <td>1.61</td>\n",
              "      <td>1.38</td>\n",
              "      <td>4.74</td>\n",
              "    </tr>\n",
              "    <tr>\n",
              "      <th>4</th>\n",
              "      <td>A</td>\n",
              "      <td>14005</td>\n",
              "      <td>30.49</td>\n",
              "      <td>21.28</td>\n",
              "      <td>41.65</td>\n",
              "      <td>4.82</td>\n",
              "      <td>1.64</td>\n",
              "      <td>1.76</td>\n",
              "      <td>4.67</td>\n",
              "    </tr>\n",
              "    <tr>\n",
              "      <th>5</th>\n",
              "      <td>A</td>\n",
              "      <td>14075</td>\n",
              "      <td>31.14</td>\n",
              "      <td>20.23</td>\n",
              "      <td>42.31</td>\n",
              "      <td>4.92</td>\n",
              "      <td>1.65</td>\n",
              "      <td>1.40</td>\n",
              "      <td>4.67</td>\n",
              "    </tr>\n",
              "    <tr>\n",
              "      <th>6</th>\n",
              "      <td>A</td>\n",
              "      <td>14082</td>\n",
              "      <td>31.21</td>\n",
              "      <td>20.97</td>\n",
              "      <td>41.34</td>\n",
              "      <td>4.71</td>\n",
              "      <td>1.58</td>\n",
              "      <td>1.77</td>\n",
              "      <td>4.63</td>\n",
              "    </tr>\n",
              "    <tr>\n",
              "      <th>7</th>\n",
              "      <td>A</td>\n",
              "      <td>14097</td>\n",
              "      <td>28.76</td>\n",
              "      <td>21.41</td>\n",
              "      <td>41.60</td>\n",
              "      <td>5.28</td>\n",
              "      <td>1.75</td>\n",
              "      <td>2.95</td>\n",
              "      <td>4.72</td>\n",
              "    </tr>\n",
              "    <tr>\n",
              "      <th>8</th>\n",
              "      <td>A</td>\n",
              "      <td>14117</td>\n",
              "      <td>28.22</td>\n",
              "      <td>20.48</td>\n",
              "      <td>45.10</td>\n",
              "      <td>5.02</td>\n",
              "      <td>1.71</td>\n",
              "      <td>1.18</td>\n",
              "      <td>4.93</td>\n",
              "    </tr>\n",
              "    <tr>\n",
              "      <th>9</th>\n",
              "      <td>A</td>\n",
              "      <td>14133</td>\n",
              "      <td>27.72</td>\n",
              "      <td>21.19</td>\n",
              "      <td>45.29</td>\n",
              "      <td>5.16</td>\n",
              "      <td>1.66</td>\n",
              "      <td>0.64</td>\n",
              "      <td>4.95</td>\n",
              "    </tr>\n",
              "  </tbody>\n",
              "</table>\n",
              "</div>"
            ],
            "text/plain": [
              "  brand     id   mois   prot    fat   ash  sodium  carb   cal\n",
              "0     A  14069  27.82  21.43  44.87  5.11    1.77  0.77  4.93\n",
              "1     A  14053  28.49  21.26  43.89  5.34    1.79  1.02  4.84\n",
              "2     A  14025  28.35  19.99  45.78  5.08    1.63  0.80  4.95\n",
              "3     A  14016  30.55  20.15  43.13  4.79    1.61  1.38  4.74\n",
              "4     A  14005  30.49  21.28  41.65  4.82    1.64  1.76  4.67\n",
              "5     A  14075  31.14  20.23  42.31  4.92    1.65  1.40  4.67\n",
              "6     A  14082  31.21  20.97  41.34  4.71    1.58  1.77  4.63\n",
              "7     A  14097  28.76  21.41  41.60  5.28    1.75  2.95  4.72\n",
              "8     A  14117  28.22  20.48  45.10  5.02    1.71  1.18  4.93\n",
              "9     A  14133  27.72  21.19  45.29  5.16    1.66  0.64  4.95"
            ]
          },
          "metadata": {
            "tags": []
          },
          "execution_count": 30
        }
      ]
    },
    {
      "cell_type": "markdown",
      "metadata": {
        "id": "Q6_Q9tT7K7KE"
      },
      "source": [
        "ตรวจสอบขนาดของข้อมูลว่ามี data กี่ตัว และมีกี่ dimensions"
      ]
    },
    {
      "cell_type": "code",
      "metadata": {
        "id": "0bJPC6hMK7wb"
      },
      "source": [
        "import numpy as np #ดึงฟังก์ชั่น numpy ที่ทำงานเกี่ยวกับตัวเลขมา"
      ],
      "execution_count": 31,
      "outputs": []
    },
    {
      "cell_type": "code",
      "metadata": {
        "colab": {
          "base_uri": "https://localhost:8080/"
        },
        "id": "QHtVFBRbK-jC",
        "outputId": "16b34575-c27d-4e91-c914-7179f73383de"
      },
      "source": [
        "data.shape   #dataมี 300 ตัว และมี 9 dimensions"
      ],
      "execution_count": 32,
      "outputs": [
        {
          "output_type": "execute_result",
          "data": {
            "text/plain": [
              "(300, 9)"
            ]
          },
          "metadata": {
            "tags": []
          },
          "execution_count": 32
        }
      ]
    },
    {
      "cell_type": "markdown",
      "metadata": {
        "id": "FpiyOPa0LMUI"
      },
      "source": [
        "\n",
        "### เนื่องจาก Data มี dimension มากเกินไป เราจะทดสอบดูว่า column ใด ให้ข้อมูลซ้ำกับ column อื่น แล้วลบมันออก\n",
        "\n",
        "เลือกมาทำเฉพาะข้อมูลที่เป็นตัวเลข"
      ]
    },
    {
      "cell_type": "code",
      "metadata": {
        "colab": {
          "base_uri": "https://localhost:8080/",
          "height": 202
        },
        "id": "XihlnMNALFkf",
        "outputId": "f01e98ad-7c89-4c37-affd-6d04173e9eb9"
      },
      "source": [
        "newdata = data.iloc[:,2:]  #ข้อมูลมีมากจึงเลือกเอาหลักที่เป็นตัวเลข จึงทำการตัดหลักตั้งแต่หลักที่ 1 ถึงหลักที่ 2\n",
        "newdata.head()"
      ],
      "execution_count": 33,
      "outputs": [
        {
          "output_type": "execute_result",
          "data": {
            "text/html": [
              "<div>\n",
              "<style scoped>\n",
              "    .dataframe tbody tr th:only-of-type {\n",
              "        vertical-align: middle;\n",
              "    }\n",
              "\n",
              "    .dataframe tbody tr th {\n",
              "        vertical-align: top;\n",
              "    }\n",
              "\n",
              "    .dataframe thead th {\n",
              "        text-align: right;\n",
              "    }\n",
              "</style>\n",
              "<table border=\"1\" class=\"dataframe\">\n",
              "  <thead>\n",
              "    <tr style=\"text-align: right;\">\n",
              "      <th></th>\n",
              "      <th>mois</th>\n",
              "      <th>prot</th>\n",
              "      <th>fat</th>\n",
              "      <th>ash</th>\n",
              "      <th>sodium</th>\n",
              "      <th>carb</th>\n",
              "      <th>cal</th>\n",
              "    </tr>\n",
              "  </thead>\n",
              "  <tbody>\n",
              "    <tr>\n",
              "      <th>0</th>\n",
              "      <td>27.82</td>\n",
              "      <td>21.43</td>\n",
              "      <td>44.87</td>\n",
              "      <td>5.11</td>\n",
              "      <td>1.77</td>\n",
              "      <td>0.77</td>\n",
              "      <td>4.93</td>\n",
              "    </tr>\n",
              "    <tr>\n",
              "      <th>1</th>\n",
              "      <td>28.49</td>\n",
              "      <td>21.26</td>\n",
              "      <td>43.89</td>\n",
              "      <td>5.34</td>\n",
              "      <td>1.79</td>\n",
              "      <td>1.02</td>\n",
              "      <td>4.84</td>\n",
              "    </tr>\n",
              "    <tr>\n",
              "      <th>2</th>\n",
              "      <td>28.35</td>\n",
              "      <td>19.99</td>\n",
              "      <td>45.78</td>\n",
              "      <td>5.08</td>\n",
              "      <td>1.63</td>\n",
              "      <td>0.80</td>\n",
              "      <td>4.95</td>\n",
              "    </tr>\n",
              "    <tr>\n",
              "      <th>3</th>\n",
              "      <td>30.55</td>\n",
              "      <td>20.15</td>\n",
              "      <td>43.13</td>\n",
              "      <td>4.79</td>\n",
              "      <td>1.61</td>\n",
              "      <td>1.38</td>\n",
              "      <td>4.74</td>\n",
              "    </tr>\n",
              "    <tr>\n",
              "      <th>4</th>\n",
              "      <td>30.49</td>\n",
              "      <td>21.28</td>\n",
              "      <td>41.65</td>\n",
              "      <td>4.82</td>\n",
              "      <td>1.64</td>\n",
              "      <td>1.76</td>\n",
              "      <td>4.67</td>\n",
              "    </tr>\n",
              "  </tbody>\n",
              "</table>\n",
              "</div>"
            ],
            "text/plain": [
              "    mois   prot    fat   ash  sodium  carb   cal\n",
              "0  27.82  21.43  44.87  5.11    1.77  0.77  4.93\n",
              "1  28.49  21.26  43.89  5.34    1.79  1.02  4.84\n",
              "2  28.35  19.99  45.78  5.08    1.63  0.80  4.95\n",
              "3  30.55  20.15  43.13  4.79    1.61  1.38  4.74\n",
              "4  30.49  21.28  41.65  4.82    1.64  1.76  4.67"
            ]
          },
          "metadata": {
            "tags": []
          },
          "execution_count": 33
        }
      ]
    },
    {
      "cell_type": "markdown",
      "metadata": {
        "id": "_sHGRjoNLcEn"
      },
      "source": [
        "ตรวจสอบว่า ระหว่าง coluns มี correlation กันมากน้อยแค่ไหน ด้วย numpy"
      ]
    },
    {
      "cell_type": "code",
      "metadata": {
        "id": "Zou2UtV0LeCJ"
      },
      "source": [
        "import numpy as np    #ดึงฟังก์ชั่น numpy ที่ทำงานเกี่ยวกับตัวเลขมา"
      ],
      "execution_count": 34,
      "outputs": []
    },
    {
      "cell_type": "code",
      "metadata": {
        "id": "52dpB2g5LgwQ"
      },
      "source": [
        "corr = np.corrcoef(newdata.to_numpy().T)"
      ],
      "execution_count": 35,
      "outputs": []
    },
    {
      "cell_type": "code",
      "metadata": {
        "colab": {
          "base_uri": "https://localhost:8080/"
        },
        "id": "O8ecYTxMLmBC",
        "outputId": "1fce05d2-5d53-46ca-a766-05b4a852f734"
      },
      "source": [
        "corr.shape "
      ],
      "execution_count": 36,
      "outputs": [
        {
          "output_type": "execute_result",
          "data": {
            "text/plain": [
              "(7, 7)"
            ]
          },
          "metadata": {
            "tags": []
          },
          "execution_count": 36
        }
      ]
    },
    {
      "cell_type": "code",
      "metadata": {
        "colab": {
          "base_uri": "https://localhost:8080/"
        },
        "id": "MvfmT8rTLsom",
        "outputId": "dc873479-1d99-4941-f9c5-84ae94486b82"
      },
      "source": [
        "corr  #ค่าcorrelation มีค่าเป็น 1 ในเส้นแทยงมุม ถ้าช่องอื่นมีค่าเป็น 1 อีกแสดงว่ามีค่าเท่ากัน"
      ],
      "execution_count": 37,
      "outputs": [
        {
          "output_type": "execute_result",
          "data": {
            "text/plain": [
              "array([[ 1.        ,  0.36024768, -0.17131821,  0.26555552, -0.1022789 ,\n",
              "        -0.59180165, -0.76444054],\n",
              "       [ 0.36024768,  1.        ,  0.49800167,  0.8238437 ,  0.42912952,\n",
              "        -0.85354226,  0.0702581 ],\n",
              "       [-0.17131821,  0.49800167,  1.        ,  0.79163396,  0.93332522,\n",
              "        -0.64023817,  0.7645671 ],\n",
              "       [ 0.26555552,  0.8238437 ,  0.79163396,  1.        ,  0.80812215,\n",
              "        -0.89898837,  0.32646845],\n",
              "       [-0.1022789 ,  0.42912952,  0.93332522,  0.80812215,  1.        ,\n",
              "        -0.62017634,  0.6719575 ],\n",
              "       [-0.59180165, -0.85354226, -0.64023817, -0.89898837, -0.62017634,\n",
              "         1.        , -0.02348458],\n",
              "       [-0.76444054,  0.0702581 ,  0.7645671 ,  0.32646845,  0.6719575 ,\n",
              "        -0.02348458,  1.        ]])"
            ]
          },
          "metadata": {
            "tags": []
          },
          "execution_count": 37
        }
      ]
    },
    {
      "cell_type": "code",
      "metadata": {
        "id": "FMhbV493N6Vy"
      },
      "source": [
        "for i in range(corr.shape[0]):\n",
        "    for j in range(corr.shape[1]):\n",
        "        if (i !=j) and (corr[i,j] == 1.):\n",
        "            print(f'row = {i} column = {j} corrcoef = {corr[i,j]}')  \n",
        "# คำสั่งนี้เพื่อหาค่า correlationที่เป็น 1 ที่ไม่ใช่เส้นแทยงมุม ซึ่งข้อนี้ไม่มี column ที่ซ้ำกัน\n",
        "         "
      ],
      "execution_count": 38,
      "outputs": []
    },
    {
      "cell_type": "markdown",
      "metadata": {
        "id": "7XkPelGZ5Kl7"
      },
      "source": [
        "### ทดลอง plot กราฟ parallel coordinate"
      ]
    },
    {
      "cell_type": "code",
      "metadata": {
        "colab": {
          "base_uri": "https://localhost:8080/",
          "height": 415
        },
        "id": "BycG1sMm6OUX",
        "outputId": "5e35765e-ea7b-4f1c-da29-5e6ed5af10e2"
      },
      "source": [
        "data_dropped = data.drop(['id'], axis=1)\n",
        "data_dropped"
      ],
      "execution_count": 39,
      "outputs": [
        {
          "output_type": "execute_result",
          "data": {
            "text/html": [
              "<div>\n",
              "<style scoped>\n",
              "    .dataframe tbody tr th:only-of-type {\n",
              "        vertical-align: middle;\n",
              "    }\n",
              "\n",
              "    .dataframe tbody tr th {\n",
              "        vertical-align: top;\n",
              "    }\n",
              "\n",
              "    .dataframe thead th {\n",
              "        text-align: right;\n",
              "    }\n",
              "</style>\n",
              "<table border=\"1\" class=\"dataframe\">\n",
              "  <thead>\n",
              "    <tr style=\"text-align: right;\">\n",
              "      <th></th>\n",
              "      <th>brand</th>\n",
              "      <th>mois</th>\n",
              "      <th>prot</th>\n",
              "      <th>fat</th>\n",
              "      <th>ash</th>\n",
              "      <th>sodium</th>\n",
              "      <th>carb</th>\n",
              "      <th>cal</th>\n",
              "    </tr>\n",
              "  </thead>\n",
              "  <tbody>\n",
              "    <tr>\n",
              "      <th>0</th>\n",
              "      <td>A</td>\n",
              "      <td>27.82</td>\n",
              "      <td>21.43</td>\n",
              "      <td>44.87</td>\n",
              "      <td>5.11</td>\n",
              "      <td>1.77</td>\n",
              "      <td>0.77</td>\n",
              "      <td>4.93</td>\n",
              "    </tr>\n",
              "    <tr>\n",
              "      <th>1</th>\n",
              "      <td>A</td>\n",
              "      <td>28.49</td>\n",
              "      <td>21.26</td>\n",
              "      <td>43.89</td>\n",
              "      <td>5.34</td>\n",
              "      <td>1.79</td>\n",
              "      <td>1.02</td>\n",
              "      <td>4.84</td>\n",
              "    </tr>\n",
              "    <tr>\n",
              "      <th>2</th>\n",
              "      <td>A</td>\n",
              "      <td>28.35</td>\n",
              "      <td>19.99</td>\n",
              "      <td>45.78</td>\n",
              "      <td>5.08</td>\n",
              "      <td>1.63</td>\n",
              "      <td>0.80</td>\n",
              "      <td>4.95</td>\n",
              "    </tr>\n",
              "    <tr>\n",
              "      <th>3</th>\n",
              "      <td>A</td>\n",
              "      <td>30.55</td>\n",
              "      <td>20.15</td>\n",
              "      <td>43.13</td>\n",
              "      <td>4.79</td>\n",
              "      <td>1.61</td>\n",
              "      <td>1.38</td>\n",
              "      <td>4.74</td>\n",
              "    </tr>\n",
              "    <tr>\n",
              "      <th>4</th>\n",
              "      <td>A</td>\n",
              "      <td>30.49</td>\n",
              "      <td>21.28</td>\n",
              "      <td>41.65</td>\n",
              "      <td>4.82</td>\n",
              "      <td>1.64</td>\n",
              "      <td>1.76</td>\n",
              "      <td>4.67</td>\n",
              "    </tr>\n",
              "    <tr>\n",
              "      <th>...</th>\n",
              "      <td>...</td>\n",
              "      <td>...</td>\n",
              "      <td>...</td>\n",
              "      <td>...</td>\n",
              "      <td>...</td>\n",
              "      <td>...</td>\n",
              "      <td>...</td>\n",
              "      <td>...</td>\n",
              "    </tr>\n",
              "    <tr>\n",
              "      <th>295</th>\n",
              "      <td>J</td>\n",
              "      <td>44.91</td>\n",
              "      <td>11.07</td>\n",
              "      <td>17.00</td>\n",
              "      <td>2.49</td>\n",
              "      <td>0.66</td>\n",
              "      <td>25.36</td>\n",
              "      <td>2.91</td>\n",
              "    </tr>\n",
              "    <tr>\n",
              "      <th>296</th>\n",
              "      <td>J</td>\n",
              "      <td>43.15</td>\n",
              "      <td>11.79</td>\n",
              "      <td>18.46</td>\n",
              "      <td>2.43</td>\n",
              "      <td>0.67</td>\n",
              "      <td>24.17</td>\n",
              "      <td>3.10</td>\n",
              "    </tr>\n",
              "    <tr>\n",
              "      <th>297</th>\n",
              "      <td>J</td>\n",
              "      <td>44.55</td>\n",
              "      <td>11.01</td>\n",
              "      <td>16.03</td>\n",
              "      <td>2.43</td>\n",
              "      <td>0.64</td>\n",
              "      <td>25.98</td>\n",
              "      <td>2.92</td>\n",
              "    </tr>\n",
              "    <tr>\n",
              "      <th>298</th>\n",
              "      <td>J</td>\n",
              "      <td>47.60</td>\n",
              "      <td>10.43</td>\n",
              "      <td>15.18</td>\n",
              "      <td>2.32</td>\n",
              "      <td>0.56</td>\n",
              "      <td>24.47</td>\n",
              "      <td>2.76</td>\n",
              "    </tr>\n",
              "    <tr>\n",
              "      <th>299</th>\n",
              "      <td>J</td>\n",
              "      <td>46.84</td>\n",
              "      <td>9.91</td>\n",
              "      <td>15.50</td>\n",
              "      <td>2.27</td>\n",
              "      <td>0.57</td>\n",
              "      <td>25.48</td>\n",
              "      <td>2.81</td>\n",
              "    </tr>\n",
              "  </tbody>\n",
              "</table>\n",
              "<p>300 rows × 8 columns</p>\n",
              "</div>"
            ],
            "text/plain": [
              "    brand   mois   prot    fat   ash  sodium   carb   cal\n",
              "0       A  27.82  21.43  44.87  5.11    1.77   0.77  4.93\n",
              "1       A  28.49  21.26  43.89  5.34    1.79   1.02  4.84\n",
              "2       A  28.35  19.99  45.78  5.08    1.63   0.80  4.95\n",
              "3       A  30.55  20.15  43.13  4.79    1.61   1.38  4.74\n",
              "4       A  30.49  21.28  41.65  4.82    1.64   1.76  4.67\n",
              "..    ...    ...    ...    ...   ...     ...    ...   ...\n",
              "295     J  44.91  11.07  17.00  2.49    0.66  25.36  2.91\n",
              "296     J  43.15  11.79  18.46  2.43    0.67  24.17  3.10\n",
              "297     J  44.55  11.01  16.03  2.43    0.64  25.98  2.92\n",
              "298     J  47.60  10.43  15.18  2.32    0.56  24.47  2.76\n",
              "299     J  46.84   9.91  15.50  2.27    0.57  25.48  2.81\n",
              "\n",
              "[300 rows x 8 columns]"
            ]
          },
          "metadata": {
            "tags": []
          },
          "execution_count": 39
        }
      ]
    },
    {
      "cell_type": "code",
      "metadata": {
        "colab": {
          "base_uri": "https://localhost:8080/",
          "height": 415
        },
        "id": "ox9Ycp6J7_NC",
        "outputId": "0e5916d2-06d4-4ddc-9c63-7ed2ea78cbb8"
      },
      "source": [
        "data_dropped2 = data.drop(['brand', 'id'], axis=1)\n",
        "data_dropped2"
      ],
      "execution_count": 40,
      "outputs": [
        {
          "output_type": "execute_result",
          "data": {
            "text/html": [
              "<div>\n",
              "<style scoped>\n",
              "    .dataframe tbody tr th:only-of-type {\n",
              "        vertical-align: middle;\n",
              "    }\n",
              "\n",
              "    .dataframe tbody tr th {\n",
              "        vertical-align: top;\n",
              "    }\n",
              "\n",
              "    .dataframe thead th {\n",
              "        text-align: right;\n",
              "    }\n",
              "</style>\n",
              "<table border=\"1\" class=\"dataframe\">\n",
              "  <thead>\n",
              "    <tr style=\"text-align: right;\">\n",
              "      <th></th>\n",
              "      <th>mois</th>\n",
              "      <th>prot</th>\n",
              "      <th>fat</th>\n",
              "      <th>ash</th>\n",
              "      <th>sodium</th>\n",
              "      <th>carb</th>\n",
              "      <th>cal</th>\n",
              "    </tr>\n",
              "  </thead>\n",
              "  <tbody>\n",
              "    <tr>\n",
              "      <th>0</th>\n",
              "      <td>27.82</td>\n",
              "      <td>21.43</td>\n",
              "      <td>44.87</td>\n",
              "      <td>5.11</td>\n",
              "      <td>1.77</td>\n",
              "      <td>0.77</td>\n",
              "      <td>4.93</td>\n",
              "    </tr>\n",
              "    <tr>\n",
              "      <th>1</th>\n",
              "      <td>28.49</td>\n",
              "      <td>21.26</td>\n",
              "      <td>43.89</td>\n",
              "      <td>5.34</td>\n",
              "      <td>1.79</td>\n",
              "      <td>1.02</td>\n",
              "      <td>4.84</td>\n",
              "    </tr>\n",
              "    <tr>\n",
              "      <th>2</th>\n",
              "      <td>28.35</td>\n",
              "      <td>19.99</td>\n",
              "      <td>45.78</td>\n",
              "      <td>5.08</td>\n",
              "      <td>1.63</td>\n",
              "      <td>0.80</td>\n",
              "      <td>4.95</td>\n",
              "    </tr>\n",
              "    <tr>\n",
              "      <th>3</th>\n",
              "      <td>30.55</td>\n",
              "      <td>20.15</td>\n",
              "      <td>43.13</td>\n",
              "      <td>4.79</td>\n",
              "      <td>1.61</td>\n",
              "      <td>1.38</td>\n",
              "      <td>4.74</td>\n",
              "    </tr>\n",
              "    <tr>\n",
              "      <th>4</th>\n",
              "      <td>30.49</td>\n",
              "      <td>21.28</td>\n",
              "      <td>41.65</td>\n",
              "      <td>4.82</td>\n",
              "      <td>1.64</td>\n",
              "      <td>1.76</td>\n",
              "      <td>4.67</td>\n",
              "    </tr>\n",
              "    <tr>\n",
              "      <th>...</th>\n",
              "      <td>...</td>\n",
              "      <td>...</td>\n",
              "      <td>...</td>\n",
              "      <td>...</td>\n",
              "      <td>...</td>\n",
              "      <td>...</td>\n",
              "      <td>...</td>\n",
              "    </tr>\n",
              "    <tr>\n",
              "      <th>295</th>\n",
              "      <td>44.91</td>\n",
              "      <td>11.07</td>\n",
              "      <td>17.00</td>\n",
              "      <td>2.49</td>\n",
              "      <td>0.66</td>\n",
              "      <td>25.36</td>\n",
              "      <td>2.91</td>\n",
              "    </tr>\n",
              "    <tr>\n",
              "      <th>296</th>\n",
              "      <td>43.15</td>\n",
              "      <td>11.79</td>\n",
              "      <td>18.46</td>\n",
              "      <td>2.43</td>\n",
              "      <td>0.67</td>\n",
              "      <td>24.17</td>\n",
              "      <td>3.10</td>\n",
              "    </tr>\n",
              "    <tr>\n",
              "      <th>297</th>\n",
              "      <td>44.55</td>\n",
              "      <td>11.01</td>\n",
              "      <td>16.03</td>\n",
              "      <td>2.43</td>\n",
              "      <td>0.64</td>\n",
              "      <td>25.98</td>\n",
              "      <td>2.92</td>\n",
              "    </tr>\n",
              "    <tr>\n",
              "      <th>298</th>\n",
              "      <td>47.60</td>\n",
              "      <td>10.43</td>\n",
              "      <td>15.18</td>\n",
              "      <td>2.32</td>\n",
              "      <td>0.56</td>\n",
              "      <td>24.47</td>\n",
              "      <td>2.76</td>\n",
              "    </tr>\n",
              "    <tr>\n",
              "      <th>299</th>\n",
              "      <td>46.84</td>\n",
              "      <td>9.91</td>\n",
              "      <td>15.50</td>\n",
              "      <td>2.27</td>\n",
              "      <td>0.57</td>\n",
              "      <td>25.48</td>\n",
              "      <td>2.81</td>\n",
              "    </tr>\n",
              "  </tbody>\n",
              "</table>\n",
              "<p>300 rows × 7 columns</p>\n",
              "</div>"
            ],
            "text/plain": [
              "      mois   prot    fat   ash  sodium   carb   cal\n",
              "0    27.82  21.43  44.87  5.11    1.77   0.77  4.93\n",
              "1    28.49  21.26  43.89  5.34    1.79   1.02  4.84\n",
              "2    28.35  19.99  45.78  5.08    1.63   0.80  4.95\n",
              "3    30.55  20.15  43.13  4.79    1.61   1.38  4.74\n",
              "4    30.49  21.28  41.65  4.82    1.64   1.76  4.67\n",
              "..     ...    ...    ...   ...     ...    ...   ...\n",
              "295  44.91  11.07  17.00  2.49    0.66  25.36  2.91\n",
              "296  43.15  11.79  18.46  2.43    0.67  24.17  3.10\n",
              "297  44.55  11.01  16.03  2.43    0.64  25.98  2.92\n",
              "298  47.60  10.43  15.18  2.32    0.56  24.47  2.76\n",
              "299  46.84   9.91  15.50  2.27    0.57  25.48  2.81\n",
              "\n",
              "[300 rows x 7 columns]"
            ]
          },
          "metadata": {
            "tags": []
          },
          "execution_count": 40
        }
      ]
    },
    {
      "cell_type": "markdown",
      "metadata": {
        "id": "c2NqENY6Cu9W"
      },
      "source": [
        "###ทดลอง plot กราฟ"
      ]
    },
    {
      "cell_type": "code",
      "metadata": {
        "colab": {
          "base_uri": "https://localhost:8080/",
          "height": 287
        },
        "id": "59pyBaAR5VnW",
        "outputId": "7076cb50-d7f3-468d-c54e-12a3f11216bf"
      },
      "source": [
        "pd.plotting.parallel_coordinates(data_dropped,'brand',cols=['mois',\t'prot',\t'fat',\t'ash',\t'sodium',\t'carb',\t'cal'])"
      ],
      "execution_count": 41,
      "outputs": [
        {
          "output_type": "execute_result",
          "data": {
            "text/plain": [
              "<matplotlib.axes._subplots.AxesSubplot at 0x7f63fa841550>"
            ]
          },
          "metadata": {
            "tags": []
          },
          "execution_count": 41
        },
        {
          "output_type": "display_data",
          "data": {
            "image/png": "[encoded data removed]",
            "text/plain": [
              "<Figure size 432x288 with 1 Axes>"
            ]
          },
          "metadata": {
            "tags": [],
            "needs_background": "light"
          }
        }
      ]
    },
    {
      "cell_type": "markdown",
      "metadata": {
        "id": "2aqTOMwg7Wz2"
      },
      "source": [
        "### ทำ PCA เพื่อลดจำนวน Dimension ของข้อมูล"
      ]
    },
    {
      "cell_type": "code",
      "metadata": {
        "id": "hfPdNRnF7P4l"
      },
      "source": [
        "from sklearn.decomposition import PCA"
      ],
      "execution_count": 77,
      "outputs": []
    },
    {
      "cell_type": "code",
      "metadata": {
        "id": "4Iyj_nEG7eIt"
      },
      "source": [
        "pca = PCA(n_components=2)"
      ],
      "execution_count": 78,
      "outputs": []
    },
    {
      "cell_type": "code",
      "metadata": {
        "id": "lCIxTKp57hCJ"
      },
      "source": [
        "new_pca = pca.fit_transform(data_dropped2.to_numpy())"
      ],
      "execution_count": 79,
      "outputs": []
    },
    {
      "cell_type": "code",
      "metadata": {
        "colab": {
          "base_uri": "https://localhost:8080/"
        },
        "id": "8nbxH68k8w_g",
        "outputId": "ab265633-1611-47e1-f79f-10448c1933e6"
      },
      "source": [
        "new_pca.shape"
      ],
      "execution_count": 80,
      "outputs": [
        {
          "output_type": "execute_result",
          "data": {
            "text/plain": [
              "(300, 2)"
            ]
          },
          "metadata": {
            "tags": []
          },
          "execution_count": 80
        }
      ]
    },
    {
      "cell_type": "code",
      "metadata": {
        "colab": {
          "base_uri": "https://localhost:8080/"
        },
        "id": "UFxwfpXH802X",
        "outputId": "e5a1cd15-51c2-4cff-a953-c20b15dc17dc"
      },
      "source": [
        "new_pca"
      ],
      "execution_count": 81,
      "outputs": [
        {
          "output_type": "execute_result",
          "data": {
            "text/plain": [
              "array([[-2.49517479e+01,  2.68116678e+01],\n",
              "       [-2.46119758e+01,  2.56595634e+01],\n",
              "       [-2.49384190e+01,  2.69305710e+01],\n",
              "       [-2.43255609e+01,  2.35235671e+01],\n",
              "       [-2.38660483e+01,  2.26528128e+01],\n",
              "       [-2.42716473e+01,  2.25496261e+01],\n",
              "       [-2.38806695e+01,  2.18852969e+01],\n",
              "       [-2.23894923e+01,  2.39358506e+01],\n",
              "       [-2.45074215e+01,  2.66033180e+01],\n",
              "       [-2.50928469e+01,  2.71508163e+01],\n",
              "       [-2.48185674e+01,  2.76159021e+01],\n",
              "       [-2.39395254e+01,  2.75274080e+01],\n",
              "       [-2.44496724e+01,  2.62221990e+01],\n",
              "       [-2.28480039e+01,  2.27702098e+01],\n",
              "       [-2.42812192e+01,  2.25656557e+01],\n",
              "       [-2.38786302e+01,  2.39995991e+01],\n",
              "       [-2.32390338e+01,  1.96576785e+01],\n",
              "       [-2.36081213e+01,  1.88694931e+01],\n",
              "       [-2.34833228e+01,  2.08403006e+01],\n",
              "       [-2.30861647e+01,  2.25687679e+01],\n",
              "       [-2.44317537e+01,  2.88343106e+01],\n",
              "       [-2.39812139e+01,  2.72251577e+01],\n",
              "       [-2.43513670e+01,  2.27327854e+01],\n",
              "       [-2.53764539e+01,  2.24254699e+01],\n",
              "       [-2.39263676e+01,  2.06186152e+01],\n",
              "       [-2.50106762e+01,  2.43045929e+01],\n",
              "       [-2.46570853e+01,  2.60988032e+01],\n",
              "       [-2.35755404e+01,  2.41153607e+01],\n",
              "       [-2.48604556e+01,  2.44476323e+01],\n",
              "       [-2.15427319e+01, -4.58711332e-01],\n",
              "       [-2.16994084e+01, -4.98326537e+00],\n",
              "       [-2.11494557e+01,  1.14763399e+00],\n",
              "       [-2.15065300e+01, -1.37353875e+00],\n",
              "       [-2.06383104e+01, -2.24960085e+00],\n",
              "       [-2.16835903e+01, -7.11650812e-01],\n",
              "       [-2.29070952e+01, -8.23020789e-01],\n",
              "       [-2.20965019e+01, -8.98589812e-01],\n",
              "       [-2.13622949e+01, -6.41579208e+00],\n",
              "       [-2.02991102e+01, -4.91523942e+00],\n",
              "       [-2.27382626e+01, -8.99446902e-01],\n",
              "       [-2.20054774e+01, -2.17274524e-01],\n",
              "       [-2.18165714e+01, -2.72070101e+00],\n",
              "       [-2.10334435e+01, -7.45482124e-01],\n",
              "       [-2.09710361e+01, -8.51120732e+00],\n",
              "       [-2.06744794e+01, -9.30845806e+00],\n",
              "       [-2.19920631e+01, -6.59486373e+00],\n",
              "       [-2.18636272e+01,  4.30319256e-02],\n",
              "       [-2.19275374e+01, -1.47863134e+00],\n",
              "       [-2.02119041e+01, -5.56179139e+00],\n",
              "       [-2.12515310e+01, -9.30383142e-01],\n",
              "       [-2.12776748e+01, -2.80321109e-01],\n",
              "       [-2.08921540e+01, -7.40738319e-02],\n",
              "       [-2.16454505e+01, -2.36582465e+00],\n",
              "       [-2.18133895e+01, -2.53445151e+00],\n",
              "       [-2.17334976e+01, -6.62838699e+00],\n",
              "       [-2.21495715e+01, -3.79890331e+00],\n",
              "       [-2.27887430e+01, -2.93896235e+00],\n",
              "       [-2.29033020e+01, -2.43458458e+00],\n",
              "       [-2.26076889e+01, -2.40000860e+00],\n",
              "       [-2.21228053e+01, -2.60295863e+00],\n",
              "       [-2.52831501e+01, -3.96111505e+00],\n",
              "       [-2.38208485e+01, -6.71325777e+00],\n",
              "       [-2.41028402e+01, -4.72030481e+00],\n",
              "       [-2.30455579e+01, -5.82329294e+00],\n",
              "       [-2.52900220e+01, -3.12179790e+00],\n",
              "       [-2.38503842e+01, -5.96363596e+00],\n",
              "       [-2.34518040e+01, -8.88861037e+00],\n",
              "       [-2.41113523e+01, -5.45904687e+00],\n",
              "       [-2.26933799e+01, -7.89663280e+00],\n",
              "       [-2.35713650e+01, -9.64076108e+00],\n",
              "       [-2.24336973e+01, -1.12349358e+01],\n",
              "       [-2.34636092e+01, -5.65309670e+00],\n",
              "       [-2.51094288e+01, -3.49078996e+00],\n",
              "       [-2.35533885e+01, -3.96387639e+00],\n",
              "       [-2.34118326e+01, -3.84107168e+00],\n",
              "       [-2.34190927e+01, -4.82055154e+00],\n",
              "       [-2.28553284e+01, -6.41093204e+00],\n",
              "       [-2.47785653e+01, -9.92209771e+00],\n",
              "       [-2.37283954e+01, -3.07299882e+00],\n",
              "       [-2.47433307e+01, -4.91008035e+00],\n",
              "       [-2.46436976e+01, -1.00722863e+01],\n",
              "       [-2.25360842e+01, -7.10416016e+00],\n",
              "       [-2.26183107e+01, -9.31429119e+00],\n",
              "       [-2.28856967e+01, -7.20082053e+00],\n",
              "       [-2.48651158e+01, -1.33941873e+00],\n",
              "       [-2.26661030e+01, -9.16349859e+00],\n",
              "       [-2.48783178e+01, -5.29530358e+00],\n",
              "       [-2.31079895e+01, -5.10485593e-01],\n",
              "       [-2.35082835e+01,  6.33380366e-01],\n",
              "       [-2.00800760e+01, -3.76281790e+00],\n",
              "       [-1.87458983e+01, -4.76559649e+00],\n",
              "       [-1.89998951e+01, -3.24065285e+00],\n",
              "       [-2.21799088e+01, -1.57729768e+00],\n",
              "       [-1.91829329e+01, -3.90545327e+00],\n",
              "       [-2.01146223e+01, -4.25885928e+00],\n",
              "       [-2.37170103e+01, -7.02440213e+00],\n",
              "       [-2.00415803e+01, -3.31496586e+00],\n",
              "       [-1.96565023e+01, -3.19866950e+00],\n",
              "       [-1.93274945e+01, -3.49954643e+00],\n",
              "       [-1.87067589e+01, -5.01537402e+00],\n",
              "       [-2.29182544e+01, -3.72643344e+00],\n",
              "       [-2.19532100e+01, -3.60880783e+00],\n",
              "       [-2.27898665e+01, -4.34069645e+00],\n",
              "       [-1.98322476e+01, -3.71203244e+00],\n",
              "       [-1.91128809e+01, -4.29155826e+00],\n",
              "       [-1.99007584e+01, -4.47435699e+00],\n",
              "       [-1.95349528e+01, -4.17086657e+00],\n",
              "       [-2.00556457e+01, -3.74031088e+00],\n",
              "       [-1.97400269e+01, -4.38987751e+00],\n",
              "       [-1.96313486e+01, -5.32949202e+00],\n",
              "       [-2.26815705e+01, -3.76317673e-02],\n",
              "       [-1.90831022e+01, -6.27342413e+00],\n",
              "       [-2.46156239e+01, -4.07512113e+00],\n",
              "       [-1.97634588e+01, -4.47499150e+00],\n",
              "       [-2.33758539e+01,  8.06297287e-02],\n",
              "       [-2.40661046e+01,  4.49967471e-01],\n",
              "       [-2.36976363e+01, -3.58879261e-01],\n",
              "       [-2.26287062e+01, -5.82446164e-01],\n",
              "       [-2.47785653e+01, -9.92209771e+00],\n",
              "       [ 1.99481441e+01,  1.59514814e+00],\n",
              "       [ 1.59434603e+01,  4.94501871e-01],\n",
              "       [ 1.90811110e+01,  9.07102074e-01],\n",
              "       [ 2.65829310e+01, -9.66255845e+00],\n",
              "       [ 2.11561749e+01,  7.57411647e-01],\n",
              "       [ 2.66220343e+01, -9.96914472e+00],\n",
              "       [ 2.20355065e+01, -3.62962774e-01],\n",
              "       [ 1.33087600e+01, -1.77286876e+00],\n",
              "       [ 1.86547353e+01,  3.59721464e-02],\n",
              "       [ 1.78762857e+01, -2.15690211e-01],\n",
              "       [ 1.86491618e+01, -2.84049815e+00],\n",
              "       [ 2.11921274e+01, -4.98805474e-01],\n",
              "       [ 1.64727350e+01,  3.58476234e+00],\n",
              "       [ 1.75301924e+01,  4.81492970e+00],\n",
              "       [ 1.27156016e+01,  1.80270578e+00],\n",
              "       [ 1.88755214e+01, -2.37918283e+00],\n",
              "       [ 2.18249519e+01, -2.33932681e+00],\n",
              "       [ 1.27156016e+01,  1.80270578e+00],\n",
              "       [ 2.14675298e+01,  7.03462040e-01],\n",
              "       [ 1.86588952e+01, -9.22961439e-01],\n",
              "       [ 1.77498614e+01,  3.02387282e+00],\n",
              "       [ 1.70281510e+01,  1.84614166e+00],\n",
              "       [ 1.53354309e+01,  3.62580359e+00],\n",
              "       [ 1.74688373e+01,  4.45087434e+00],\n",
              "       [ 1.67202617e+01,  3.16527164e+00],\n",
              "       [ 2.58547126e+01, -5.80679394e+00],\n",
              "       [ 1.86491618e+01, -2.84049815e+00],\n",
              "       [ 2.24906804e+01,  1.40536877e-01],\n",
              "       [ 2.45789577e+01,  7.92085208e+00],\n",
              "       [ 2.56130209e+01,  4.25207201e+00],\n",
              "       [ 2.66628565e+01,  3.94552725e+00],\n",
              "       [ 1.95600799e+01,  7.75967776e+00],\n",
              "       [ 2.35801170e+01,  7.92437315e+00],\n",
              "       [ 2.56045676e+01,  3.88601257e+00],\n",
              "       [ 2.65675830e+01,  5.93126207e+00],\n",
              "       [ 2.62275622e+01,  2.46382094e+00],\n",
              "       [ 2.64451465e+01,  4.06319169e+00],\n",
              "       [ 2.46954035e+01,  4.67950353e+00],\n",
              "       [ 2.09161164e+01,  7.10522130e+00],\n",
              "       [ 2.66168619e+01,  4.59166933e+00],\n",
              "       [ 2.19514976e+01,  7.92196640e+00],\n",
              "       [ 2.59918395e+01,  4.34373584e+00],\n",
              "       [ 2.65923141e+01,  7.46920818e+00],\n",
              "       [ 2.46477927e+01,  7.41512302e+00],\n",
              "       [ 2.10165990e+01,  8.25609343e+00],\n",
              "       [ 2.68488103e+01,  3.90349027e+00],\n",
              "       [ 2.55565295e+01,  7.41979934e+00],\n",
              "       [ 2.61880449e+01,  3.26711635e+00],\n",
              "       [ 2.72927038e+01,  2.32991066e+00],\n",
              "       [ 2.88164899e+01,  2.25704367e+00],\n",
              "       [ 2.51541622e+01,  5.62642882e+00],\n",
              "       [ 2.56923960e+01,  4.90064390e+00],\n",
              "       [ 2.42786807e+01,  6.78525671e+00],\n",
              "       [ 2.54614530e+01,  6.06731834e+00],\n",
              "       [ 2.48483698e+01,  6.53988541e+00],\n",
              "       [ 2.42143238e+01,  7.76288400e+00],\n",
              "       [ 2.32657128e+01,  8.27045521e+00],\n",
              "       [ 2.58324044e+01,  2.95980401e+00],\n",
              "       [ 2.72904281e+01,  5.89836060e+00],\n",
              "       [ 2.77511555e+01,  5.37945467e+00],\n",
              "       [ 2.64607510e+01,  2.69109388e+00],\n",
              "       [ 2.76618664e+01,  5.55752413e+00],\n",
              "       [ 2.11280598e+01,  8.49779725e+00],\n",
              "       [ 2.59589518e+01,  6.62604426e+00],\n",
              "       [ 2.58807438e+01,  5.92310689e+00],\n",
              "       [ 2.74321134e+01,  6.34829988e+00],\n",
              "       [ 2.63218220e+01,  6.62133634e+00],\n",
              "       [ 2.63220236e+01,  6.41482116e+00],\n",
              "       [ 2.86944621e+01,  5.02933673e+00],\n",
              "       [ 2.80211216e+01,  5.04358533e+00],\n",
              "       [ 2.67429946e+01,  5.41397759e+00],\n",
              "       [ 2.59450912e+01, -5.17697061e-02],\n",
              "       [ 2.43614777e+01,  1.02633640e+01],\n",
              "       [ 2.81478309e+01,  6.38914601e+00],\n",
              "       [ 2.88371800e+01,  5.80554237e+00],\n",
              "       [ 2.81653643e+01,  6.12997705e+00],\n",
              "       [ 2.22926210e+01,  5.30917771e+00],\n",
              "       [ 2.74586449e+01,  4.35169619e+00],\n",
              "       [ 2.45994139e+01,  6.84121901e+00],\n",
              "       [ 2.89241858e+01,  6.13957166e+00],\n",
              "       [ 2.92079202e+01,  4.55456946e+00],\n",
              "       [ 2.74131983e+01,  8.72801100e+00],\n",
              "       [ 2.68308678e+01,  8.81608479e+00],\n",
              "       [ 2.80645076e+01,  6.02691510e+00],\n",
              "       [ 2.89504722e+01,  9.20487570e+00],\n",
              "       [ 2.94926896e+01,  3.04570205e+00],\n",
              "       [ 2.62981837e+01,  5.90229279e+00],\n",
              "       [ 2.20692432e+01, -2.38636037e+00],\n",
              "       [ 1.53391718e+01,  3.13893896e+00],\n",
              "       [ 1.95834178e+01,  3.77327265e-01],\n",
              "       [ 2.82614594e+01, -5.77484131e+00],\n",
              "       [ 1.80916813e+01,  8.13848226e-01],\n",
              "       [ 1.78954439e+01,  8.93355351e-01],\n",
              "       [ 2.47741516e+01, -1.04351853e+01],\n",
              "       [ 1.83603090e+01,  9.93502377e-01],\n",
              "       [ 2.23337401e+01,  2.41971473e+00],\n",
              "       [ 2.17010737e+01,  1.37604718e+00],\n",
              "       [ 2.73855614e+01, -9.41328412e+00],\n",
              "       [ 1.85752746e+01,  3.94837701e+00],\n",
              "       [ 1.77426304e+01, -4.95254191e-01],\n",
              "       [ 2.05094339e+01, -7.49758003e-01],\n",
              "       [ 2.06803514e+01, -2.30329006e+00],\n",
              "       [ 2.13094007e+01, -9.07208485e-01],\n",
              "       [ 1.87792866e+01, -1.18992289e+00],\n",
              "       [ 1.94081562e+01,  5.14077191e-01],\n",
              "       [ 2.08389764e+01,  1.85291352e+00],\n",
              "       [ 2.04907808e+01, -7.23875048e-01],\n",
              "       [ 2.03222198e+01, -5.50393018e-01],\n",
              "       [ 1.51904146e+01,  2.67302346e+00],\n",
              "       [ 1.69137748e+01,  8.42714610e-01],\n",
              "       [ 2.10531662e+01, -6.62343230e-01],\n",
              "       [ 1.78384367e+01,  7.39254013e-01],\n",
              "       [ 1.86828140e+01,  1.25133247e-01],\n",
              "       [ 1.53969040e+01,  1.27247262e+00],\n",
              "       [ 1.98579118e+01, -3.52668838e-01],\n",
              "       [ 2.14717817e+01, -2.12644536e+00],\n",
              "       [ 1.83436509e+01,  2.65028891e+00],\n",
              "       [ 2.47855116e+01, -4.52574155e+00],\n",
              "       [ 2.08097383e+01, -1.20452197e+00],\n",
              "       [ 2.03222198e+01, -5.50393018e-01],\n",
              "       [-3.53069709e+00, -1.53142158e+01],\n",
              "       [-3.40364270e+00, -1.48251043e+01],\n",
              "       [-2.50025861e+00, -1.46291890e+01],\n",
              "       [-4.66639518e+00, -1.42995090e+01],\n",
              "       [-2.83778203e+00, -1.30671706e+01],\n",
              "       [-2.81553941e+00, -1.66051382e+01],\n",
              "       [-2.00840025e+00, -1.75322885e+01],\n",
              "       [-5.16396262e+00, -1.63234142e+01],\n",
              "       [-1.56097414e+00, -1.56816580e+01],\n",
              "       [-5.91129421e+00, -1.30040679e+01],\n",
              "       [-4.50428016e+00, -1.47704132e+01],\n",
              "       [-3.80768643e+00, -1.35393013e+01],\n",
              "       [-4.31173696e+00, -1.59126907e+01],\n",
              "       [-5.03492900e+00, -1.49581014e+01],\n",
              "       [-3.91843834e+00, -1.62444362e+01],\n",
              "       [-4.82347451e+00, -1.54125061e+01],\n",
              "       [-2.49137306e+00, -1.54043907e+01],\n",
              "       [-2.96397114e+00, -1.56011692e+01],\n",
              "       [-2.39949081e+00, -1.54265453e+01],\n",
              "       [-1.84828516e+00, -1.38293610e+01],\n",
              "       [-4.69132546e+00, -1.49056254e+01],\n",
              "       [-4.61987423e+00, -1.43755824e+01],\n",
              "       [-3.73947183e+00, -1.50231570e+01],\n",
              "       [-3.80822725e+00, -1.44455203e+01],\n",
              "       [-3.30510628e+00, -1.85784367e+01],\n",
              "       [-4.44750611e+00, -1.50722915e+01],\n",
              "       [-3.00954677e+00, -1.47472593e+01],\n",
              "       [-2.54397466e+00, -1.45732226e+01],\n",
              "       [-3.58761278e+00, -1.58224815e+01],\n",
              "       [ 2.28213021e+00, -6.83226258e+00],\n",
              "       [ 3.89121211e+00, -4.80743187e+00],\n",
              "       [ 1.76785995e+00, -8.54653637e+00],\n",
              "       [ 2.91739830e+00, -7.80284611e+00],\n",
              "       [ 3.34922722e+00, -6.94623812e+00],\n",
              "       [ 2.56407945e+00, -9.15847496e+00],\n",
              "       [ 1.50073260e+00, -5.98582131e+00],\n",
              "       [ 9.06496263e-01, -6.72092307e+00],\n",
              "       [ 7.23721702e-01, -6.05875206e+00],\n",
              "       [ 4.60974207e-01, -8.76160938e+00],\n",
              "       [ 1.74955895e+00, -6.02640971e+00],\n",
              "       [ 4.31626850e+00, -8.21891254e+00],\n",
              "       [ 3.85449031e-01, -7.53518574e+00],\n",
              "       [ 1.40282905e+00, -6.96027578e+00],\n",
              "       [ 2.76418857e+00, -5.94148287e+00],\n",
              "       [ 2.37235205e+00, -8.14673363e+00],\n",
              "       [ 9.60516466e-01, -2.55086309e+00],\n",
              "       [ 3.58439103e-01, -7.89739518e+00],\n",
              "       [ 2.22955202e+00, -5.39133062e+00],\n",
              "       [ 3.73276312e+00, -5.80332629e+00],\n",
              "       [ 1.90412672e-02, -8.20343961e+00],\n",
              "       [ 2.69398836e+00, -6.25884824e+00],\n",
              "       [ 2.20912750e+00, -6.65152963e+00],\n",
              "       [ 1.86227922e+00, -8.18591709e+00],\n",
              "       [ 4.67243041e+00, -6.14345418e+00],\n",
              "       [ 7.64742721e-01, -5.93407997e+00],\n",
              "       [ 1.29895388e+00, -3.73518649e+00],\n",
              "       [ 2.60525659e+00, -5.29155608e+00],\n",
              "       [ 1.45145098e+00, -2.95857153e+00],\n",
              "       [ 3.53950061e+00, -5.67059035e+00],\n",
              "       [ 1.76785995e+00, -8.54653637e+00],\n",
              "       [ 2.91739830e+00, -7.80284611e+00]])"
            ]
          },
          "metadata": {
            "tags": []
          },
          "execution_count": 81
        }
      ]
    },
    {
      "cell_type": "markdown",
      "metadata": {
        "id": "HBcRqJc589uh"
      },
      "source": [
        "### ดูว่ามี Brand อะไรบ้าง"
      ]
    },
    {
      "cell_type": "code",
      "metadata": {
        "colab": {
          "base_uri": "https://localhost:8080/"
        },
        "id": "gECuYTMN86tP",
        "outputId": "2d592ede-d580-4b55-eece-10f166698021"
      },
      "source": [
        "FG = set(data['brand'])\n",
        "FG"
      ],
      "execution_count": 82,
      "outputs": [
        {
          "output_type": "execute_result",
          "data": {
            "text/plain": [
              "{'A', 'B', 'C', 'D', 'E', 'F', 'G', 'H', 'I', 'J'}"
            ]
          },
          "metadata": {
            "tags": []
          },
          "execution_count": 82
        }
      ]
    },
    {
      "cell_type": "markdown",
      "metadata": {
        "id": "50SuqwKb9LlW"
      },
      "source": [
        "### สร้าง Dictionary เพื่อแทนค่าที่เป็น text ให้เป็นตัวเลข เพื่อจะได้ plot สีได้"
      ]
    },
    {
      "cell_type": "markdown",
      "metadata": {
        "id": "BXfQRNc39Qrz"
      },
      "source": [
        "#### สร้าง color list แบบข้างล่างนี้ ​ลำดับจะไม่มีการเปลี่ยนแปลง"
      ]
    },
    {
      "cell_type": "code",
      "metadata": {
        "id": "nAv7LwdB9Nft"
      },
      "source": [
        "FG_l = list(FG)  ### แปลงเป็น list\n",
        "FG_l.sort() ### เรียงค่่า สมาชิกจากน้อยไปมาก\n",
        "color_list2 = {}\n",
        "num = 0\n",
        "for each_fg in FG_l:\n",
        "    if each_fg not in color_list2:\n",
        "        color_list2[each_fg] = num\n",
        "        num += 1"
      ],
      "execution_count": 83,
      "outputs": []
    },
    {
      "cell_type": "code",
      "metadata": {
        "colab": {
          "base_uri": "https://localhost:8080/"
        },
        "id": "MP5tHok-9ZP5",
        "outputId": "e2af000e-85c0-4750-a2ba-c74bc30a8f58"
      },
      "source": [
        "color_list2"
      ],
      "execution_count": 84,
      "outputs": [
        {
          "output_type": "execute_result",
          "data": {
            "text/plain": [
              "{'A': 0,\n",
              " 'B': 1,\n",
              " 'C': 2,\n",
              " 'D': 3,\n",
              " 'E': 4,\n",
              " 'F': 5,\n",
              " 'G': 6,\n",
              " 'H': 7,\n",
              " 'I': 8,\n",
              " 'J': 9}"
            ]
          },
          "metadata": {
            "tags": []
          },
          "execution_count": 84
        }
      ]
    },
    {
      "cell_type": "markdown",
      "metadata": {
        "id": "AFaDfxrC9muE"
      },
      "source": [
        "### แทนค่า text ใน Dictionary ด้วยตัวเลขที่เรากำหนด"
      ]
    },
    {
      "cell_type": "code",
      "metadata": {
        "id": "Ocx-ABdp9eWy",
        "outputId": "ba0665c5-1e77-4a60-bbb8-11424a7c2588",
        "colab": {
          "base_uri": "https://localhost:8080/",
          "height": 329
        }
      },
      "source": [
        "data_dropped = data_dropped.replace(color_list2)\n"
      ],
      "execution_count": 85,
      "outputs": [
        {
          "output_type": "error",
          "ename": "TypeError",
          "evalue": "ignored",
          "traceback": [
            "\u001b[0;31m---------------------------------------------------------------------------\u001b[0m",
            "\u001b[0;31mTypeError\u001b[0m                                 Traceback (most recent call last)",
            "\u001b[0;32m<ipython-input-85-a0295b0ae094>\u001b[0m in \u001b[0;36m<module>\u001b[0;34m()\u001b[0m\n\u001b[0;32m----> 1\u001b[0;31m \u001b[0mdata_dropped\u001b[0m \u001b[0;34m=\u001b[0m \u001b[0mdata_dropped\u001b[0m\u001b[0;34m.\u001b[0m\u001b[0mreplace\u001b[0m\u001b[0;34m(\u001b[0m\u001b[0mcolor_list2\u001b[0m\u001b[0;34m)\u001b[0m\u001b[0;34m\u001b[0m\u001b[0;34m\u001b[0m\u001b[0m\n\u001b[0m",
            "\u001b[0;32m/usr/local/lib/python3.7/dist-packages/pandas/core/frame.py\u001b[0m in \u001b[0;36mreplace\u001b[0;34m(self, to_replace, value, inplace, limit, regex, method)\u001b[0m\n\u001b[1;32m   4387\u001b[0m             \u001b[0mlimit\u001b[0m\u001b[0;34m=\u001b[0m\u001b[0mlimit\u001b[0m\u001b[0;34m,\u001b[0m\u001b[0;34m\u001b[0m\u001b[0;34m\u001b[0m\u001b[0m\n\u001b[1;32m   4388\u001b[0m             \u001b[0mregex\u001b[0m\u001b[0;34m=\u001b[0m\u001b[0mregex\u001b[0m\u001b[0;34m,\u001b[0m\u001b[0;34m\u001b[0m\u001b[0;34m\u001b[0m\u001b[0m\n\u001b[0;32m-> 4389\u001b[0;31m             \u001b[0mmethod\u001b[0m\u001b[0;34m=\u001b[0m\u001b[0mmethod\u001b[0m\u001b[0;34m,\u001b[0m\u001b[0;34m\u001b[0m\u001b[0;34m\u001b[0m\u001b[0m\n\u001b[0m\u001b[1;32m   4390\u001b[0m         )\n\u001b[1;32m   4391\u001b[0m \u001b[0;34m\u001b[0m\u001b[0m\n",
            "\u001b[0;32m/usr/local/lib/python3.7/dist-packages/pandas/core/generic.py\u001b[0m in \u001b[0;36mreplace\u001b[0;34m(self, to_replace, value, inplace, limit, regex, method)\u001b[0m\n\u001b[1;32m   6505\u001b[0m \u001b[0;34m\u001b[0m\u001b[0m\n\u001b[1;32m   6506\u001b[0m             return self.replace(\n\u001b[0;32m-> 6507\u001b[0;31m                 \u001b[0mto_replace\u001b[0m\u001b[0;34m,\u001b[0m \u001b[0mvalue\u001b[0m\u001b[0;34m,\u001b[0m \u001b[0minplace\u001b[0m\u001b[0;34m=\u001b[0m\u001b[0minplace\u001b[0m\u001b[0;34m,\u001b[0m \u001b[0mlimit\u001b[0m\u001b[0;34m=\u001b[0m\u001b[0mlimit\u001b[0m\u001b[0;34m,\u001b[0m \u001b[0mregex\u001b[0m\u001b[0;34m=\u001b[0m\u001b[0mregex\u001b[0m\u001b[0;34m\u001b[0m\u001b[0;34m\u001b[0m\u001b[0m\n\u001b[0m\u001b[1;32m   6508\u001b[0m             )\n\u001b[1;32m   6509\u001b[0m         \u001b[0;32melse\u001b[0m\u001b[0;34m:\u001b[0m\u001b[0;34m\u001b[0m\u001b[0;34m\u001b[0m\u001b[0m\n",
            "\u001b[0;32m/usr/local/lib/python3.7/dist-packages/pandas/core/frame.py\u001b[0m in \u001b[0;36mreplace\u001b[0;34m(self, to_replace, value, inplace, limit, regex, method)\u001b[0m\n\u001b[1;32m   4387\u001b[0m             \u001b[0mlimit\u001b[0m\u001b[0;34m=\u001b[0m\u001b[0mlimit\u001b[0m\u001b[0;34m,\u001b[0m\u001b[0;34m\u001b[0m\u001b[0;34m\u001b[0m\u001b[0m\n\u001b[1;32m   4388\u001b[0m             \u001b[0mregex\u001b[0m\u001b[0;34m=\u001b[0m\u001b[0mregex\u001b[0m\u001b[0;34m,\u001b[0m\u001b[0;34m\u001b[0m\u001b[0;34m\u001b[0m\u001b[0m\n\u001b[0;32m-> 4389\u001b[0;31m             \u001b[0mmethod\u001b[0m\u001b[0;34m=\u001b[0m\u001b[0mmethod\u001b[0m\u001b[0;34m,\u001b[0m\u001b[0;34m\u001b[0m\u001b[0;34m\u001b[0m\u001b[0m\n\u001b[0m\u001b[1;32m   4390\u001b[0m         )\n\u001b[1;32m   4391\u001b[0m \u001b[0;34m\u001b[0m\u001b[0m\n",
            "\u001b[0;32m/usr/local/lib/python3.7/dist-packages/pandas/core/generic.py\u001b[0m in \u001b[0;36mreplace\u001b[0;34m(self, to_replace, value, inplace, limit, regex, method)\u001b[0m\n\u001b[1;32m   6551\u001b[0m                         \u001b[0mdest_list\u001b[0m\u001b[0;34m=\u001b[0m\u001b[0mvalue\u001b[0m\u001b[0;34m,\u001b[0m\u001b[0;34m\u001b[0m\u001b[0;34m\u001b[0m\u001b[0m\n\u001b[1;32m   6552\u001b[0m                         \u001b[0minplace\u001b[0m\u001b[0;34m=\u001b[0m\u001b[0minplace\u001b[0m\u001b[0;34m,\u001b[0m\u001b[0;34m\u001b[0m\u001b[0;34m\u001b[0m\u001b[0m\n\u001b[0;32m-> 6553\u001b[0;31m                         \u001b[0mregex\u001b[0m\u001b[0;34m=\u001b[0m\u001b[0mregex\u001b[0m\u001b[0;34m,\u001b[0m\u001b[0;34m\u001b[0m\u001b[0;34m\u001b[0m\u001b[0m\n\u001b[0m\u001b[1;32m   6554\u001b[0m                     )\n\u001b[1;32m   6555\u001b[0m \u001b[0;34m\u001b[0m\u001b[0m\n",
            "\u001b[0;32m/usr/local/lib/python3.7/dist-packages/pandas/core/internals/managers.py\u001b[0m in \u001b[0;36mreplace_list\u001b[0;34m(self, src_list, dest_list, inplace, regex)\u001b[0m\n\u001b[1;32m    649\u001b[0m         \u001b[0mmask\u001b[0m \u001b[0;34m=\u001b[0m \u001b[0;34m~\u001b[0m\u001b[0misna\u001b[0m\u001b[0;34m(\u001b[0m\u001b[0mvalues\u001b[0m\u001b[0;34m)\u001b[0m\u001b[0;34m\u001b[0m\u001b[0;34m\u001b[0m\u001b[0m\n\u001b[1;32m    650\u001b[0m \u001b[0;34m\u001b[0m\u001b[0m\n\u001b[0;32m--> 651\u001b[0;31m         \u001b[0mmasks\u001b[0m \u001b[0;34m=\u001b[0m \u001b[0;34m[\u001b[0m\u001b[0mcomp\u001b[0m\u001b[0;34m(\u001b[0m\u001b[0ms\u001b[0m\u001b[0;34m,\u001b[0m \u001b[0mmask\u001b[0m\u001b[0;34m,\u001b[0m \u001b[0mregex\u001b[0m\u001b[0;34m)\u001b[0m \u001b[0;32mfor\u001b[0m \u001b[0ms\u001b[0m \u001b[0;32min\u001b[0m \u001b[0msrc_list\u001b[0m\u001b[0;34m]\u001b[0m\u001b[0;34m\u001b[0m\u001b[0;34m\u001b[0m\u001b[0m\n\u001b[0m\u001b[1;32m    652\u001b[0m \u001b[0;34m\u001b[0m\u001b[0m\n\u001b[1;32m    653\u001b[0m         \u001b[0mresult_blocks\u001b[0m \u001b[0;34m=\u001b[0m \u001b[0;34m[\u001b[0m\u001b[0;34m]\u001b[0m\u001b[0;34m\u001b[0m\u001b[0;34m\u001b[0m\u001b[0m\n",
            "\u001b[0;32m/usr/local/lib/python3.7/dist-packages/pandas/core/internals/managers.py\u001b[0m in \u001b[0;36m<listcomp>\u001b[0;34m(.0)\u001b[0m\n\u001b[1;32m    649\u001b[0m         \u001b[0mmask\u001b[0m \u001b[0;34m=\u001b[0m \u001b[0;34m~\u001b[0m\u001b[0misna\u001b[0m\u001b[0;34m(\u001b[0m\u001b[0mvalues\u001b[0m\u001b[0;34m)\u001b[0m\u001b[0;34m\u001b[0m\u001b[0;34m\u001b[0m\u001b[0m\n\u001b[1;32m    650\u001b[0m \u001b[0;34m\u001b[0m\u001b[0m\n\u001b[0;32m--> 651\u001b[0;31m         \u001b[0mmasks\u001b[0m \u001b[0;34m=\u001b[0m \u001b[0;34m[\u001b[0m\u001b[0mcomp\u001b[0m\u001b[0;34m(\u001b[0m\u001b[0ms\u001b[0m\u001b[0;34m,\u001b[0m \u001b[0mmask\u001b[0m\u001b[0;34m,\u001b[0m \u001b[0mregex\u001b[0m\u001b[0;34m)\u001b[0m \u001b[0;32mfor\u001b[0m \u001b[0ms\u001b[0m \u001b[0;32min\u001b[0m \u001b[0msrc_list\u001b[0m\u001b[0;34m]\u001b[0m\u001b[0;34m\u001b[0m\u001b[0;34m\u001b[0m\u001b[0m\n\u001b[0m\u001b[1;32m    652\u001b[0m \u001b[0;34m\u001b[0m\u001b[0m\n\u001b[1;32m    653\u001b[0m         \u001b[0mresult_blocks\u001b[0m \u001b[0;34m=\u001b[0m \u001b[0;34m[\u001b[0m\u001b[0;34m]\u001b[0m\u001b[0;34m\u001b[0m\u001b[0;34m\u001b[0m\u001b[0m\n",
            "\u001b[0;32m/usr/local/lib/python3.7/dist-packages/pandas/core/internals/managers.py\u001b[0m in \u001b[0;36mcomp\u001b[0;34m(s, mask, regex)\u001b[0m\n\u001b[1;32m    643\u001b[0m \u001b[0;34m\u001b[0m\u001b[0m\n\u001b[1;32m    644\u001b[0m             \u001b[0ms\u001b[0m \u001b[0;34m=\u001b[0m \u001b[0mcom\u001b[0m\u001b[0;34m.\u001b[0m\u001b[0mmaybe_box_datetimelike\u001b[0m\u001b[0;34m(\u001b[0m\u001b[0ms\u001b[0m\u001b[0;34m)\u001b[0m\u001b[0;34m\u001b[0m\u001b[0;34m\u001b[0m\u001b[0m\n\u001b[0;32m--> 645\u001b[0;31m             \u001b[0;32mreturn\u001b[0m \u001b[0m_compare_or_regex_search\u001b[0m\u001b[0;34m(\u001b[0m\u001b[0mvalues\u001b[0m\u001b[0;34m,\u001b[0m \u001b[0ms\u001b[0m\u001b[0;34m,\u001b[0m \u001b[0mregex\u001b[0m\u001b[0;34m,\u001b[0m \u001b[0mmask\u001b[0m\u001b[0;34m)\u001b[0m\u001b[0;34m\u001b[0m\u001b[0;34m\u001b[0m\u001b[0m\n\u001b[0m\u001b[1;32m    646\u001b[0m \u001b[0;34m\u001b[0m\u001b[0m\n\u001b[1;32m    647\u001b[0m         \u001b[0;31m# Calculate the mask once, prior to the call of comp\u001b[0m\u001b[0;34m\u001b[0m\u001b[0;34m\u001b[0m\u001b[0;34m\u001b[0m\u001b[0m\n",
            "\u001b[0;32m/usr/local/lib/python3.7/dist-packages/pandas/core/internals/managers.py\u001b[0m in \u001b[0;36m_compare_or_regex_search\u001b[0;34m(a, b, regex, mask)\u001b[0m\n\u001b[1;32m   1999\u001b[0m     \u001b[0;32mif\u001b[0m \u001b[0mis_datetimelike_v_numeric\u001b[0m\u001b[0;34m(\u001b[0m\u001b[0ma\u001b[0m\u001b[0;34m,\u001b[0m \u001b[0mb\u001b[0m\u001b[0;34m)\u001b[0m \u001b[0;32mor\u001b[0m \u001b[0mis_numeric_v_string_like\u001b[0m\u001b[0;34m(\u001b[0m\u001b[0ma\u001b[0m\u001b[0;34m,\u001b[0m \u001b[0mb\u001b[0m\u001b[0;34m)\u001b[0m\u001b[0;34m:\u001b[0m\u001b[0;34m\u001b[0m\u001b[0;34m\u001b[0m\u001b[0m\n\u001b[1;32m   2000\u001b[0m         \u001b[0;31m# GH#29553 avoid deprecation warnings from numpy\u001b[0m\u001b[0;34m\u001b[0m\u001b[0;34m\u001b[0m\u001b[0;34m\u001b[0m\u001b[0m\n\u001b[0;32m-> 2001\u001b[0;31m         \u001b[0m_check_comparison_types\u001b[0m\u001b[0;34m(\u001b[0m\u001b[0;32mFalse\u001b[0m\u001b[0;34m,\u001b[0m \u001b[0ma\u001b[0m\u001b[0;34m,\u001b[0m \u001b[0mb\u001b[0m\u001b[0;34m)\u001b[0m\u001b[0;34m\u001b[0m\u001b[0;34m\u001b[0m\u001b[0m\n\u001b[0m\u001b[1;32m   2002\u001b[0m         \u001b[0;32mreturn\u001b[0m \u001b[0;32mFalse\u001b[0m\u001b[0;34m\u001b[0m\u001b[0;34m\u001b[0m\u001b[0m\n\u001b[1;32m   2003\u001b[0m \u001b[0;34m\u001b[0m\u001b[0m\n",
            "\u001b[0;32m/usr/local/lib/python3.7/dist-packages/pandas/core/internals/managers.py\u001b[0m in \u001b[0;36m_check_comparison_types\u001b[0;34m(result, a, b)\u001b[0m\n\u001b[1;32m   1979\u001b[0m \u001b[0;34m\u001b[0m\u001b[0m\n\u001b[1;32m   1980\u001b[0m             raise TypeError(\n\u001b[0;32m-> 1981\u001b[0;31m                 \u001b[0;34mf\"Cannot compare types {repr(type_names[0])} and {repr(type_names[1])}\"\u001b[0m\u001b[0;34m\u001b[0m\u001b[0;34m\u001b[0m\u001b[0m\n\u001b[0m\u001b[1;32m   1982\u001b[0m             )\n\u001b[1;32m   1983\u001b[0m \u001b[0;34m\u001b[0m\u001b[0m\n",
            "\u001b[0;31mTypeError\u001b[0m: Cannot compare types 'ndarray(dtype=float64)' and 'str'"
          ]
        }
      ]
    },
    {
      "cell_type": "code",
      "metadata": {
        "id": "rWi8gBSxQK1Q"
      },
      "source": [
        "data_dropped"
      ],
      "execution_count": null,
      "outputs": []
    },
    {
      "cell_type": "markdown",
      "metadata": {
        "id": "lV6yIisW932l"
      },
      "source": [
        "Plot กราฟ Scatter"
      ]
    },
    {
      "cell_type": "code",
      "metadata": {
        "colab": {
          "base_uri": "https://localhost:8080/",
          "height": 166
        },
        "id": "27eB4eBy91DT",
        "outputId": "945a488a-835e-438f-e189-bc60ac2db4b5"
      },
      "source": [
        "plt.scatter(new_pca[:,0],new_pca[:,1],c = data_dropped['brand'])"
      ],
      "execution_count": 73,
      "outputs": [
        {
          "output_type": "error",
          "ename": "NameError",
          "evalue": "ignored",
          "traceback": [
            "\u001b[0;31m---------------------------------------------------------------------------\u001b[0m",
            "\u001b[0;31mNameError\u001b[0m                                 Traceback (most recent call last)",
            "\u001b[0;32m<ipython-input-73-d2dbf207078b>\u001b[0m in \u001b[0;36m<module>\u001b[0;34m()\u001b[0m\n\u001b[0;32m----> 1\u001b[0;31m \u001b[0mplt\u001b[0m\u001b[0;34m.\u001b[0m\u001b[0mscatter\u001b[0m\u001b[0;34m(\u001b[0m\u001b[0mnew_pca\u001b[0m\u001b[0;34m[\u001b[0m\u001b[0;34m:\u001b[0m\u001b[0;34m,\u001b[0m\u001b[0;36m0\u001b[0m\u001b[0;34m]\u001b[0m\u001b[0;34m,\u001b[0m\u001b[0mnew_pca\u001b[0m\u001b[0;34m[\u001b[0m\u001b[0;34m:\u001b[0m\u001b[0;34m,\u001b[0m\u001b[0;36m1\u001b[0m\u001b[0;34m]\u001b[0m\u001b[0;34m,\u001b[0m\u001b[0mc\u001b[0m \u001b[0;34m=\u001b[0m \u001b[0mdata_dropped\u001b[0m\u001b[0;34m[\u001b[0m\u001b[0;34m'brand'\u001b[0m\u001b[0;34m]\u001b[0m\u001b[0;34m)\u001b[0m\u001b[0;34m\u001b[0m\u001b[0;34m\u001b[0m\u001b[0m\n\u001b[0m",
            "\u001b[0;31mNameError\u001b[0m: name 'plt' is not defined"
          ]
        }
      ]
    },
    {
      "cell_type": "code",
      "metadata": {
        "colab": {
          "base_uri": "https://localhost:8080/",
          "height": 166
        },
        "id": "AXwq8ekU-mL-",
        "outputId": "8aa21e62-4805-4c4f-c9fd-51f06a58176d"
      },
      "source": [
        "plt.scatter(new_pca[:,0],new_pca[:,1],c = data_dropped['brand'],alpha=0.5)"
      ],
      "execution_count": 57,
      "outputs": [
        {
          "output_type": "error",
          "ename": "NameError",
          "evalue": "ignored",
          "traceback": [
            "\u001b[0;31m---------------------------------------------------------------------------\u001b[0m",
            "\u001b[0;31mNameError\u001b[0m                                 Traceback (most recent call last)",
            "\u001b[0;32m<ipython-input-57-e0c9c1d9606b>\u001b[0m in \u001b[0;36m<module>\u001b[0;34m()\u001b[0m\n\u001b[0;32m----> 1\u001b[0;31m \u001b[0mplt\u001b[0m\u001b[0;34m.\u001b[0m\u001b[0mscatter\u001b[0m\u001b[0;34m(\u001b[0m\u001b[0mnew_pca\u001b[0m\u001b[0;34m[\u001b[0m\u001b[0;34m:\u001b[0m\u001b[0;34m,\u001b[0m\u001b[0;36m0\u001b[0m\u001b[0;34m]\u001b[0m\u001b[0;34m,\u001b[0m\u001b[0mnew_pca\u001b[0m\u001b[0;34m[\u001b[0m\u001b[0;34m:\u001b[0m\u001b[0;34m,\u001b[0m\u001b[0;36m1\u001b[0m\u001b[0;34m]\u001b[0m\u001b[0;34m,\u001b[0m\u001b[0mc\u001b[0m \u001b[0;34m=\u001b[0m \u001b[0mdata_dropped\u001b[0m\u001b[0;34m[\u001b[0m\u001b[0;34m'brand'\u001b[0m\u001b[0;34m]\u001b[0m\u001b[0;34m,\u001b[0m\u001b[0malpha\u001b[0m\u001b[0;34m=\u001b[0m\u001b[0;36m0.5\u001b[0m\u001b[0;34m)\u001b[0m\u001b[0;34m\u001b[0m\u001b[0;34m\u001b[0m\u001b[0m\n\u001b[0m",
            "\u001b[0;31mNameError\u001b[0m: name 'plt' is not defined"
          ]
        }
      ]
    },
    {
      "cell_type": "markdown",
      "metadata": {
        "id": "eLZNV7TU_Had"
      },
      "source": [
        "### ทดลอง เปรียบเทียบค่าสารอาหาร fat และ sodium"
      ]
    },
    {
      "cell_type": "code",
      "metadata": {
        "id": "e4Z97HjQ_Ovm"
      },
      "source": [
        "bb = data_dropped[(data_dropped['brand']==1) | (data_dropped['brand']==4)]  ## ใช้  | และ  &  แทน  or  และ  and  ใน pandas\n",
        "bb"
      ],
      "execution_count": null,
      "outputs": []
    },
    {
      "cell_type": "code",
      "metadata": {
        "id": "gKdQ4ZJjB1q6"
      },
      "source": [
        "pca = PCA(n_components=2)\n",
        "new_pca2 = pca.fit_transform(bb.iloc[:,1:].to_numpy())"
      ],
      "execution_count": null,
      "outputs": []
    },
    {
      "cell_type": "code",
      "metadata": {
        "id": "4gPWukyNB5d-"
      },
      "source": [
        "plt.scatter(new_pca2[:,0],new_pca2[:,1],c = bb['brand'],alpha=0.5)"
      ],
      "execution_count": null,
      "outputs": []
    },
    {
      "cell_type": "code",
      "metadata": {
        "id": "CzkizII_CDGj"
      },
      "source": [
        "fat_pca = pca.transform(bb[bb['brand']==1].iloc[:,1:].to_numpy())\n",
        "sodium_pca = pca.transform(bb[bb['brand']==4].iloc[:,1:].to_numpy())"
      ],
      "execution_count": null,
      "outputs": []
    },
    {
      "cell_type": "code",
      "metadata": {
        "id": "h3bIO6rLCZyZ"
      },
      "source": [
        "plt.plot(fat_pca[:,0],fat_pca[:,1],'^r',alpha=0.5,label='fat')\n",
        "plt.plot(sodium_pca[:,0],sodium_pca[:,1],'*y',alpha=0.5,label='sodium')\n",
        "plt.legend()"
      ],
      "execution_count": null,
      "outputs": []
    },
    {
      "cell_type": "markdown",
      "metadata": {
        "id": "_n_LF6paD9Jn"
      },
      "source": [
        "### 2 Principle components เป็นตัวแทนของข้อมูลได้ดีแค่ไหน"
      ]
    },
    {
      "cell_type": "code",
      "metadata": {
        "id": "wFP6bKg2D_Eu"
      },
      "source": [
        "pca.explained_variance_ratio_"
      ],
      "execution_count": null,
      "outputs": []
    },
    {
      "cell_type": "code",
      "metadata": {
        "id": "tv6BRPdwEl4o"
      },
      "source": [
        "plt.plot(fat_pca[:,0],fat_pca[:,1],'^r',alpha=0.5,label='fat')\n",
        "plt.plot(sodium_pca[:,0],sodium_pca[:,1],'*y',alpha=0.5,label='sodium')\n",
        "plt.legend()\n",
        "plt.title('comparison of nutritions between fat VS sodium with PCA')\n",
        "plt.xlabel('PC1 (97.40%)')\n",
        "plt.ylabel('PC2 (2.52%)');"
      ],
      "execution_count": null,
      "outputs": []
    },
    {
      "cell_type": "markdown",
      "metadata": {
        "id": "nJWW4-VzFwWO"
      },
      "source": [
        "### Eigen Vectors"
      ]
    },
    {
      "cell_type": "markdown",
      "metadata": {
        "id": "fMq_YjexF0YQ"
      },
      "source": [
        "3.11513052e-04 = $3.11 x 10^{-4}$"
      ]
    },
    {
      "cell_type": "code",
      "metadata": {
        "id": "LotS1KklFyId"
      },
      "source": [
        "pca.components_"
      ],
      "execution_count": null,
      "outputs": []
    },
    {
      "cell_type": "code",
      "metadata": {
        "id": "VLRrR63ZF73n"
      },
      "source": [
        "import numpy as np"
      ],
      "execution_count": null,
      "outputs": []
    },
    {
      "cell_type": "code",
      "metadata": {
        "id": "fhV0Q4ZSGELL"
      },
      "source": [
        "np.argmax(pca.components_[0,:])"
      ],
      "execution_count": null,
      "outputs": []
    },
    {
      "cell_type": "code",
      "metadata": {
        "id": "oNWQ5q3OGaCu"
      },
      "source": [
        ""
      ],
      "execution_count": null,
      "outputs": []
    },
    {
      "cell_type": "markdown",
      "metadata": {
        "id": "pDdxCEfwGZmo"
      },
      "source": [
        "## 2 nndb_flat"
      ]
    },
    {
      "cell_type": "code",
      "metadata": {
        "id": "YD8PY8_tGucg"
      },
      "source": [
        "import pandas as pd"
      ],
      "execution_count": null,
      "outputs": []
    },
    {
      "cell_type": "code",
      "metadata": {
        "id": "F1Xx5685Hgec"
      },
      "source": [
        "data = pd.read_csv('nndb_flat.csv')  #อัปโหลดไฟล์มาใส่ในตัวเเปร data เเล้วทำการปริ้นท์ออกมา\n",
        "data.head(10)"
      ],
      "execution_count": null,
      "outputs": []
    },
    {
      "cell_type": "markdown",
      "metadata": {
        "id": "TUoAYfnkH1oJ"
      },
      "source": [
        "### ตรวจสอบขนาดของข้อมูลว่ามี data กี่ตัว และมีกี่ dimensions"
      ]
    },
    {
      "cell_type": "code",
      "metadata": {
        "id": "bdTgycR1H4Kp"
      },
      "source": [
        "data.shape   #dataทั้งหมด 8618 ตัว และมีdimensions 45 ตัว"
      ],
      "execution_count": null,
      "outputs": []
    },
    {
      "cell_type": "markdown",
      "metadata": {
        "id": "dZAQnNI-H62d"
      },
      "source": [
        "### เนื่องจาก Data มี dimension มากเกินไป เราจะทดสอบดูว่า column ใด ให้ข้อมูลซ้ำกับ column อื่น แล้วลบมันออก"
      ]
    },
    {
      "cell_type": "markdown",
      "metadata": {
        "id": "p4NZmE6LIQql"
      },
      "source": [
        "เลือกมาทำต่อเฉพาะข้อมูลที่เป็นตัวเลข"
      ]
    },
    {
      "cell_type": "code",
      "metadata": {
        "id": "zo8XpIv-IDd8"
      },
      "source": [
        "newdata = data.iloc[:,7:] #ทำการตัดคอลัมป์ออกให้เหลือเเค่คอลัมป์ที่เป็นตัวเลข ซึ่งตัดตั้งแต่หลัก 1 ถึง หลัก 7\n",
        "newdata.head()"
      ],
      "execution_count": null,
      "outputs": []
    },
    {
      "cell_type": "markdown",
      "metadata": {
        "id": "gceehQBfIjbl"
      },
      "source": [
        "### ตรวจสอบว่า ระหว่าง columns มี correlation กันมากน้อยแค่ไหน ด้วย numpy"
      ]
    },
    {
      "cell_type": "code",
      "metadata": {
        "id": "8vl6zZU1Ig9B"
      },
      "source": [
        "import numpy as np"
      ],
      "execution_count": null,
      "outputs": []
    },
    {
      "cell_type": "code",
      "metadata": {
        "id": "jAr0LxBYInsU"
      },
      "source": [
        "corr = np.corrcoef(newdata.to_numpy().T)"
      ],
      "execution_count": null,
      "outputs": []
    },
    {
      "cell_type": "code",
      "metadata": {
        "id": "y7KL2GuCIq-9"
      },
      "source": [
        "corr.shape  # หาค่าcorrelation ที่ condideta"
      ],
      "execution_count": null,
      "outputs": []
    },
    {
      "cell_type": "code",
      "metadata": {
        "id": "CxHBweqwIvdX"
      },
      "source": [
        "corr  #ค่าcorrelation มีค่าเป็น 1 ในเส้นแทยงมุม ถ้าช่องอื่นมีค่าเป็น 1 อีกแสดงว่ามีค่าเท่ากัน"
      ],
      "execution_count": null,
      "outputs": []
    },
    {
      "cell_type": "code",
      "metadata": {
        "id": "rsykbPiAIw0_"
      },
      "source": [
        "for i in range(corr.shape[0]):\n",
        "    for j in range(corr.shape[1]):\n",
        "        if (i !=j) and (corr[i,j] == 1.):\n",
        "            print(f'row = {i} <=> column = {j} corrcoef = {corr[i,j]}')\n",
        "  # คำสั่งนี้เพื่อหาค่า correlationที่เป็น 1 ที่ไม่ใช่เส้นแทยงมุม\n",
        "  #ซึ่งมีทั้งหมด 12 แถว"
      ],
      "execution_count": null,
      "outputs": []
    },
    {
      "cell_type": "code",
      "metadata": {
        "id": "aUKZycsGI0Qd"
      },
      "source": [
        "newdata.iloc[:5,10:30]"
      ],
      "execution_count": null,
      "outputs": []
    },
    {
      "cell_type": "code",
      "metadata": {
        "id": "utdtGiBJI3IM"
      },
      "source": [
        "from matplotlib import pyplot as plt"
      ],
      "execution_count": null,
      "outputs": []
    },
    {
      "cell_type": "markdown",
      "metadata": {
        "id": "E79k5JNoI7Mt"
      },
      "source": [
        "### data ที่มี correlation เป็น 1"
      ]
    },
    {
      "cell_type": "code",
      "metadata": {
        "id": "mnQbL3BFI8zd"
      },
      "source": [
        "plt.plot(newdata.iloc[:,10],newdata.iloc[:,27],'g.') #ค่า correlation เท่ากับ 1 เเต่คนละค่าเวลา plot กราฟจะเป็นเส้นตรง"
      ],
      "execution_count": null,
      "outputs": []
    },
    {
      "cell_type": "code",
      "metadata": {
        "id": "VSSze9zsJBay"
      },
      "source": [
        "plt.plot(newdata.iloc[:,10],newdata.iloc[:,10],'g.') #ค่า correlation เท่ากับ 1 ค่าเดียวกันเวลา plot กราฟจะเป็นเส้นตรงเช่นกัน"
      ],
      "execution_count": null,
      "outputs": []
    },
    {
      "cell_type": "markdown",
      "metadata": {
        "id": "X-3jhcG2JMGj"
      },
      "source": [
        "### data ที่มี correlation เป็นค่าอื่นๆ"
      ]
    },
    {
      "cell_type": "code",
      "metadata": {
        "id": "IXgK27yYJR7Z"
      },
      "source": [
        "plt.plot(newdata.iloc[:,11],newdata.iloc[:,29],'y.')  #ค่า correlation ที่ไม่ได้มาจากที่เดียวกันเวลา plotกราฟจะเกิดการกระจาย"
      ],
      "execution_count": null,
      "outputs": []
    },
    {
      "cell_type": "markdown",
      "metadata": {
        "id": "38DJfuRbJa-1"
      },
      "source": [
        "ลบ column ซ้ำ"
      ]
    },
    {
      "cell_type": "code",
      "metadata": {
        "id": "CW_nTJJJJYGE"
      },
      "source": [
        "newdata.columns.str.contains('_USRDA')"
      ],
      "execution_count": null,
      "outputs": []
    },
    {
      "cell_type": "code",
      "metadata": {
        "id": "OPh3WT44JiYp"
      },
      "source": [
        "newdata.columns[newdata.columns.str.contains('_USRDA')].values"
      ],
      "execution_count": null,
      "outputs": []
    },
    {
      "cell_type": "code",
      "metadata": {
        "id": "ORaUKffGJjxK"
      },
      "source": [
        "newdata.drop(newdata.columns[newdata.columns.str.contains('_USRDA')].values, axis=1)"
      ],
      "execution_count": null,
      "outputs": []
    },
    {
      "cell_type": "markdown",
      "metadata": {
        "id": "F_BAiL0VJvPB"
      },
      "source": [
        "### ลบ columns ที่มีค่า correlation เป็น 1 เมื่อเทียบกับ column อื่น"
      ]
    },
    {
      "cell_type": "code",
      "metadata": {
        "id": "AIT3kNdWJwhh"
      },
      "source": [
        "newdata_dropped = newdata.drop(['VitE_mg','Niacin_mg','Riboflavin_mg','Thiamin_mg','Magnesium_mg','Phosphorus_mg','Zinc_mg'], axis=1)\n",
        "newdata_dropped"
      ],
      "execution_count": null,
      "outputs": []
    },
    {
      "cell_type": "code",
      "metadata": {
        "id": "b90sh_3hJzz5"
      },
      "source": [
        "data_dropped = data.drop(['ID','ShortDescrip','Descrip','CommonName','MfgName','ScientificName','VitE_mg','Niacin_mg','Riboflavin_mg','Thiamin_mg','Magnesium_mg','Phosphorus_mg','Zinc_mg'], axis=1)\n",
        "data_dropped"
      ],
      "execution_count": null,
      "outputs": []
    },
    {
      "cell_type": "markdown",
      "metadata": {
        "id": "u8xKnzbMJ53M"
      },
      "source": [
        "### ทดลอง plot กราฟ parallel coordinate"
      ]
    },
    {
      "cell_type": "code",
      "metadata": {
        "id": "TWLOHH5vJ33t"
      },
      "source": [
        "pd.plotting.parallel_coordinates(data_dropped,'FoodGroup',cols=['Protein_g','Fat_g','Carb_g','Sugar_g',\t'Fiber_g'])"
      ],
      "execution_count": null,
      "outputs": []
    },
    {
      "cell_type": "markdown",
      "metadata": {
        "id": "dxWrMYjXKGdx"
      },
      "source": [
        "### ทำ PCA เพื่อลดจำนวน Dimension ของข้อมูล"
      ]
    },
    {
      "cell_type": "code",
      "metadata": {
        "id": "YDxWKlh8KET0"
      },
      "source": [
        "from sklearn.decomposition import PCA"
      ],
      "execution_count": null,
      "outputs": []
    },
    {
      "cell_type": "code",
      "metadata": {
        "id": "Mnw2j6LQKK49"
      },
      "source": [
        "pca = PCA(n_components=2)"
      ],
      "execution_count": null,
      "outputs": []
    },
    {
      "cell_type": "code",
      "metadata": {
        "id": "BHMNvE3aKM_l"
      },
      "source": [
        "new_pca = pca.fit_transform(newdata_dropped.to_numpy())"
      ],
      "execution_count": null,
      "outputs": []
    },
    {
      "cell_type": "code",
      "metadata": {
        "id": "cSyCgtnuKPj5"
      },
      "source": [
        "new_pca.shape"
      ],
      "execution_count": null,
      "outputs": []
    },
    {
      "cell_type": "code",
      "metadata": {
        "id": "DKLiI-0FKSYN"
      },
      "source": [
        "new_pca"
      ],
      "execution_count": null,
      "outputs": []
    },
    {
      "cell_type": "markdown",
      "metadata": {
        "id": "DpUBiXljKWu9"
      },
      "source": [
        "### ดูว่ามี food group อะไรบ้าง"
      ]
    },
    {
      "cell_type": "code",
      "metadata": {
        "id": "QPymbm9xKUse"
      },
      "source": [
        "FG = set(data['FoodGroup'])\n",
        "FG"
      ],
      "execution_count": null,
      "outputs": []
    },
    {
      "cell_type": "markdown",
      "metadata": {
        "id": "6BVfiLPdKdn0"
      },
      "source": [
        "## สร้าง Dictionary เพื่อแทนค่าที่เป็น text ให้เป็นตัวเลข เพื่อจะได้ plot สีได้"
      ]
    },
    {
      "cell_type": "markdown",
      "metadata": {
        "id": "o6ARU8TPKixs"
      },
      "source": [
        " สร้าง color list แบบข้างล่างนี้ ​ลำดับจะไม่มีการเปลี่ยนแปลง"
      ]
    },
    {
      "cell_type": "code",
      "metadata": {
        "id": "CXmXu0wNKbNS"
      },
      "source": [
        "FG_l = list(FG)  ### แปลงเป็น list\n",
        "FG_l.sort() ### เรียงค่่า สมาชิกจากน้อยไปมาก\n",
        "color_list2 = {}\n",
        "num = 0\n",
        "for each_fg in FG_l:\n",
        "    if each_fg not in color_list2:\n",
        "        color_list2[each_fg] = num\n",
        "        num += 1"
      ],
      "execution_count": null,
      "outputs": []
    },
    {
      "cell_type": "code",
      "metadata": {
        "id": "sRglZwSzKt_N"
      },
      "source": [
        "color_list2"
      ],
      "execution_count": null,
      "outputs": []
    },
    {
      "cell_type": "markdown",
      "metadata": {
        "id": "VpmAHX2JKxhK"
      },
      "source": [
        "###แทนค่า text ใน Dictionary ด้วยตัวเลขที่เรากำหนด"
      ]
    },
    {
      "cell_type": "code",
      "metadata": {
        "id": "DsoqMI8dKy6o"
      },
      "source": [
        "data_dropped2 = data_dropped.replace(color_list2)"
      ],
      "execution_count": null,
      "outputs": []
    },
    {
      "cell_type": "code",
      "metadata": {
        "id": "nI0e3k1xK1ts"
      },
      "source": [
        "data_dropped2"
      ],
      "execution_count": null,
      "outputs": []
    },
    {
      "cell_type": "markdown",
      "metadata": {
        "id": "n1wC94g_K7qX"
      },
      "source": [
        "Plot กราฟ Scatter"
      ]
    },
    {
      "cell_type": "code",
      "metadata": {
        "id": "4JiPSHOWK5RA"
      },
      "source": [
        "plt.scatter(new_pca[:,0],new_pca[:,1],c = data_dropped2['FoodGroup'])"
      ],
      "execution_count": null,
      "outputs": []
    },
    {
      "cell_type": "code",
      "metadata": {
        "id": "f5ODMVt2LBBJ"
      },
      "source": [
        "plt.scatter(new_pca[:,0],new_pca[:,1],c = data_dropped2['FoodGroup'],alpha=0.5)"
      ],
      "execution_count": null,
      "outputs": []
    },
    {
      "cell_type": "markdown",
      "metadata": {
        "id": "iqvuXjkiLF8h"
      },
      "source": [
        "### ทดลอง เปรียบเทียบค่าสารอาหาร baby food และ Beverages"
      ]
    },
    {
      "cell_type": "code",
      "metadata": {
        "id": "v3Jn-6aaLHvO"
      },
      "source": [
        "bb = data_dropped2[(data_dropped2['FoodGroup']==1) | (data_dropped2['FoodGroup']==4)]  ## ใช้  | และ  &  แทน  or  และ  and  ใน pandas\n",
        "bb"
      ],
      "execution_count": null,
      "outputs": []
    },
    {
      "cell_type": "code",
      "metadata": {
        "id": "hgS3qMsELXqy"
      },
      "source": [
        "pca = PCA(n_components=2)\n",
        "new_pca2 = pca.fit_transform(bb.iloc[:,1:].to_numpy())"
      ],
      "execution_count": null,
      "outputs": []
    },
    {
      "cell_type": "code",
      "metadata": {
        "id": "f34lsY6oLYyh"
      },
      "source": [
        "plt.scatter(new_pca2[:,0],new_pca2[:,1],c = bb['FoodGroup'],alpha=0.5)"
      ],
      "execution_count": null,
      "outputs": []
    },
    {
      "cell_type": "code",
      "metadata": {
        "id": "NSroFVvkMUsZ"
      },
      "source": [
        "plt.plot(baby_pca[:,0],baby_pca[:,1],'og',alpha=0.5,label='baby')\n",
        "plt.plot(Beverages_pca[:,0],Beverages_pca[:,1],'*b',alpha=0.5,label='Beverages')\n",
        "plt.legend()"
      ],
      "execution_count": null,
      "outputs": []
    },
    {
      "cell_type": "markdown",
      "metadata": {
        "id": "_lvcuKRsM8kD"
      },
      "source": [
        "###2 Principle components เป็นตัวแทนของข้อมูลได้ดีแค่ไหน"
      ]
    },
    {
      "cell_type": "code",
      "metadata": {
        "id": "vYwoD0KXM6na"
      },
      "source": [
        "pca.explained_variance_ratio_"
      ],
      "execution_count": null,
      "outputs": []
    },
    {
      "cell_type": "markdown",
      "metadata": {
        "id": "Vf7-8lS-ND2d"
      },
      "source": [
        "### การใส่ชื่อกราฟ และ แกน"
      ]
    },
    {
      "cell_type": "code",
      "metadata": {
        "id": "SBxbvw5vNB2i"
      },
      "source": [
        "plt.plot(baby_pca[:,0],baby_pca[:,1],'og',alpha=0.5,label='baby')\n",
        "plt.plot(Beverages_pca[:,0],Beverages_pca[:,1],'*b',alpha=0.5,label='Beverages')\n",
        "plt.legend()\n",
        "plt.title('comparison of nutritions between Beverages VS baby food with PCA')\n",
        "plt.xlabel('PC1 (73.26%)')\n",
        "plt.ylabel('PC2 (19.42%)');"
      ],
      "execution_count": null,
      "outputs": []
    },
    {
      "cell_type": "markdown",
      "metadata": {
        "id": "BBGHdpMLNknZ"
      },
      "source": [
        "### ลองทำ PCA ใหม่ เพราะ PC1 + PC2 ยังอธิบายข้อมูลได้ไม่ถึง 90%"
      ]
    },
    {
      "cell_type": "code",
      "metadata": {
        "id": "Z_OzYndlNYfr"
      },
      "source": [
        "pca = PCA()\n",
        "new_pca3 = pca.fit_transform(bb.iloc[:,1:].to_numpy())"
      ],
      "execution_count": null,
      "outputs": []
    },
    {
      "cell_type": "code",
      "metadata": {
        "id": "E2vS9DUaNm2j"
      },
      "source": [
        "pca.explained_variance_ratio_"
      ],
      "execution_count": null,
      "outputs": []
    },
    {
      "cell_type": "code",
      "metadata": {
        "id": "3nysNzbrNtbB"
      },
      "source": [
        "sum(pca.explained_variance_ratio_[:3])"
      ],
      "execution_count": null,
      "outputs": []
    },
    {
      "cell_type": "code",
      "metadata": {
        "id": "9FuXLB7YNurK"
      },
      "source": [
        "pca2 = PCA(n_components=3)\n",
        "new_pca3 = pca2.fit_transform(bb.iloc[:,1:].to_numpy())"
      ],
      "execution_count": null,
      "outputs": []
    },
    {
      "cell_type": "code",
      "metadata": {
        "id": "hSHcK4GTNxaB"
      },
      "source": [
        "new_pca3"
      ],
      "execution_count": null,
      "outputs": []
    },
    {
      "cell_type": "code",
      "metadata": {
        "id": "kd-a5qL0Nz5c"
      },
      "source": [
        "baby_pca3 = pca2.transform(bb[bb['FoodGroup']==1].iloc[:,1:].to_numpy())\n",
        "Beverages_pca3 = pca2.transform(bb[bb['FoodGroup']==4].iloc[:,1:].to_numpy())"
      ],
      "execution_count": null,
      "outputs": []
    },
    {
      "cell_type": "code",
      "metadata": {
        "id": "TPm8WjBKODC4"
      },
      "source": [
        "baby_pca3"
      ],
      "execution_count": null,
      "outputs": []
    },
    {
      "cell_type": "code",
      "metadata": {
        "id": "tU-osDOBOGvw"
      },
      "source": [
        "ax = plt.axes(projection =\"3d\")\n",
        "ax.scatter3D(baby_pca3[:,0],baby_pca3[:,1],baby_pca3[:,2],c='b')\n",
        "ax.scatter3D(Beverages_pca3[:,0],Beverages_pca3[:,1],Beverages_pca3[:,2],c='r')\n",
        "ax.set_title('Comparison of nutritions between Beverages VS baby food with PCA')\n",
        "ax.set_xlabel('PC1 (73.26%)')\n",
        "ax.set_ylabel('PC2 (19.42%)')\n",
        "ax.set_zlabel('PC3 (4.22%)');"
      ],
      "execution_count": null,
      "outputs": []
    }
  ]
}