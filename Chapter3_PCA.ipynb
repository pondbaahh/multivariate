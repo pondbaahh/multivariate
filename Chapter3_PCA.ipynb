{
  "nbformat": 4,
  "nbformat_minor": 0,
  "metadata": {
    "colab": {
      "name": "Chapter3 PCA.ipynb",
      "provenance": [],
      "include_colab_link": true
    },
    "kernelspec": {
      "name": "python3",
      "display_name": "Python 3"
    }
  },
  "cells": [
    {
      "cell_type": "markdown",
      "metadata": {
        "id": "view-in-github",
        "colab_type": "text"
      },
      "source": [
        "<a href=\"https://colab.research.google.com/github/pondbaahh/multivariate/blob/main/Chapter3_PCA.ipynb\" target=\"_parent\"><img src=\"https://colab.research.google.com/assets/colab-badge.svg\" alt=\"Open In Colab\"/></a>"
      ]
    },
    {
      "cell_type": "markdown",
      "metadata": {
        "id": "1STsDNkfZg6E"
      },
      "source": [
        "### PCA (Principle Component Analysis) "
      ]
    },
    {
      "cell_type": "markdown",
      "metadata": {
        "id": "GtyMXRk2tbzJ"
      },
      "source": [
        "Projection\n",
        "\n",
        "![projection.png](data:image/png;base64,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)"
      ]
    },
    {
      "cell_type": "markdown",
      "metadata": {
        "id": "_DlBi2OjcFp5"
      },
      "source": [
        "1.   Standardizing the Data (ปรับ mean และ std ให้ มี mean=0 std=1)\n",
        "2.   Calculating the covariance matrix (หา covariance matrix ของข้อมูลของเรา)\n",
        "3.   Computing the Eigenvectors and Eigenvalues (คำนวณ eigen values-vectors)\n",
        "4.   Picking Principal Components Using the Explained Variance (เลือกมาเฉพาะ   eigens ที่จำเป็น)\n",
        "5.   Project Data Onto Lower-Dimensional Linear Subspace (map data ไปบนแกนใหม่)\n",
        "\n",
        "\n",
        "https://wendynavarrete.com/principal-component-analysis-with-numpy/\n"
      ]
    },
    {
      "cell_type": "markdown",
      "metadata": {
        "id": "YwzEpm-qeLHV"
      },
      "source": [
        "# PCA step by step"
      ]
    },
    {
      "cell_type": "code",
      "metadata": {
        "id": "Z3Ksp7NieqZA"
      },
      "source": [
        "import pandas as pd"
      ],
      "execution_count": 1,
      "outputs": []
    },
    {
      "cell_type": "markdown",
      "metadata": {
        "id": "iHTbGSYBeRwc"
      },
      "source": [
        "### load data"
      ]
    },
    {
      "cell_type": "code",
      "metadata": {
        "colab": {
          "base_uri": "https://localhost:8080/",
          "height": 415
        },
        "id": "hxMiVBtCePw4",
        "outputId": "a3346778-744b-4656-841e-3593a9088f20"
      },
      "source": [
        "example_df = pd.read_csv('https://raw.github.com/pandas-dev/''pandas/master/pandas/tests/io/data/csv/iris.csv')\n",
        "example_df"
      ],
      "execution_count": 2,
      "outputs": [
        {
          "output_type": "execute_result",
          "data": {
            "text/html": [
              "<div>\n",
              "<style scoped>\n",
              "    .dataframe tbody tr th:only-of-type {\n",
              "        vertical-align: middle;\n",
              "    }\n",
              "\n",
              "    .dataframe tbody tr th {\n",
              "        vertical-align: top;\n",
              "    }\n",
              "\n",
              "    .dataframe thead th {\n",
              "        text-align: right;\n",
              "    }\n",
              "</style>\n",
              "<table border=\"1\" class=\"dataframe\">\n",
              "  <thead>\n",
              "    <tr style=\"text-align: right;\">\n",
              "      <th></th>\n",
              "      <th>SepalLength</th>\n",
              "      <th>SepalWidth</th>\n",
              "      <th>PetalLength</th>\n",
              "      <th>PetalWidth</th>\n",
              "      <th>Name</th>\n",
              "    </tr>\n",
              "  </thead>\n",
              "  <tbody>\n",
              "    <tr>\n",
              "      <th>0</th>\n",
              "      <td>5.1</td>\n",
              "      <td>3.5</td>\n",
              "      <td>1.4</td>\n",
              "      <td>0.2</td>\n",
              "      <td>Iris-setosa</td>\n",
              "    </tr>\n",
              "    <tr>\n",
              "      <th>1</th>\n",
              "      <td>4.9</td>\n",
              "      <td>3.0</td>\n",
              "      <td>1.4</td>\n",
              "      <td>0.2</td>\n",
              "      <td>Iris-setosa</td>\n",
              "    </tr>\n",
              "    <tr>\n",
              "      <th>2</th>\n",
              "      <td>4.7</td>\n",
              "      <td>3.2</td>\n",
              "      <td>1.3</td>\n",
              "      <td>0.2</td>\n",
              "      <td>Iris-setosa</td>\n",
              "    </tr>\n",
              "    <tr>\n",
              "      <th>3</th>\n",
              "      <td>4.6</td>\n",
              "      <td>3.1</td>\n",
              "      <td>1.5</td>\n",
              "      <td>0.2</td>\n",
              "      <td>Iris-setosa</td>\n",
              "    </tr>\n",
              "    <tr>\n",
              "      <th>4</th>\n",
              "      <td>5.0</td>\n",
              "      <td>3.6</td>\n",
              "      <td>1.4</td>\n",
              "      <td>0.2</td>\n",
              "      <td>Iris-setosa</td>\n",
              "    </tr>\n",
              "    <tr>\n",
              "      <th>...</th>\n",
              "      <td>...</td>\n",
              "      <td>...</td>\n",
              "      <td>...</td>\n",
              "      <td>...</td>\n",
              "      <td>...</td>\n",
              "    </tr>\n",
              "    <tr>\n",
              "      <th>145</th>\n",
              "      <td>6.7</td>\n",
              "      <td>3.0</td>\n",
              "      <td>5.2</td>\n",
              "      <td>2.3</td>\n",
              "      <td>Iris-virginica</td>\n",
              "    </tr>\n",
              "    <tr>\n",
              "      <th>146</th>\n",
              "      <td>6.3</td>\n",
              "      <td>2.5</td>\n",
              "      <td>5.0</td>\n",
              "      <td>1.9</td>\n",
              "      <td>Iris-virginica</td>\n",
              "    </tr>\n",
              "    <tr>\n",
              "      <th>147</th>\n",
              "      <td>6.5</td>\n",
              "      <td>3.0</td>\n",
              "      <td>5.2</td>\n",
              "      <td>2.0</td>\n",
              "      <td>Iris-virginica</td>\n",
              "    </tr>\n",
              "    <tr>\n",
              "      <th>148</th>\n",
              "      <td>6.2</td>\n",
              "      <td>3.4</td>\n",
              "      <td>5.4</td>\n",
              "      <td>2.3</td>\n",
              "      <td>Iris-virginica</td>\n",
              "    </tr>\n",
              "    <tr>\n",
              "      <th>149</th>\n",
              "      <td>5.9</td>\n",
              "      <td>3.0</td>\n",
              "      <td>5.1</td>\n",
              "      <td>1.8</td>\n",
              "      <td>Iris-virginica</td>\n",
              "    </tr>\n",
              "  </tbody>\n",
              "</table>\n",
              "<p>150 rows × 5 columns</p>\n",
              "</div>"
            ],
            "text/plain": [
              "     SepalLength  SepalWidth  PetalLength  PetalWidth            Name\n",
              "0            5.1         3.5          1.4         0.2     Iris-setosa\n",
              "1            4.9         3.0          1.4         0.2     Iris-setosa\n",
              "2            4.7         3.2          1.3         0.2     Iris-setosa\n",
              "3            4.6         3.1          1.5         0.2     Iris-setosa\n",
              "4            5.0         3.6          1.4         0.2     Iris-setosa\n",
              "..           ...         ...          ...         ...             ...\n",
              "145          6.7         3.0          5.2         2.3  Iris-virginica\n",
              "146          6.3         2.5          5.0         1.9  Iris-virginica\n",
              "147          6.5         3.0          5.2         2.0  Iris-virginica\n",
              "148          6.2         3.4          5.4         2.3  Iris-virginica\n",
              "149          5.9         3.0          5.1         1.8  Iris-virginica\n",
              "\n",
              "[150 rows x 5 columns]"
            ]
          },
          "metadata": {
            "tags": []
          },
          "execution_count": 2
        }
      ]
    },
    {
      "cell_type": "code",
      "metadata": {
        "colab": {
          "base_uri": "https://localhost:8080/",
          "height": 286
        },
        "id": "mfJsHZ_2fM4Y",
        "outputId": "11b4c5c0-cc3b-432a-d05e-1f5434cc6e4b"
      },
      "source": [
        "pd.plotting.scatter_matrix(example_df);"
      ],
      "execution_count": 3,
      "outputs": [
        {
          "output_type": "display_data",
          "data": {
            "image/png": "[encoded data removed]",
            "text/plain": [
              "<Figure size 432x288 with 16 Axes>"
            ]
          },
          "metadata": {
            "tags": [],
            "needs_background": "light"
          }
        }
      ]
    },
    {
      "cell_type": "code",
      "metadata": {
        "id": "JWWurRh2fx-A"
      },
      "source": [
        "import numpy as np\n"
      ],
      "execution_count": 4,
      "outputs": []
    },
    {
      "cell_type": "code",
      "metadata": {
        "colab": {
          "base_uri": "https://localhost:8080/"
        },
        "id": "IYf_4YB1fitC",
        "outputId": "cbd9342b-04c4-433c-fb47-98de6cb26850"
      },
      "source": [
        "data_matrix = np.array(example_df.iloc[:,:-1]) #แถวเอาทั้งหมด หลักเอาก่อน สุดท้าย [:,:-1]\n",
        "data_matrix"
      ],
      "execution_count": 5,
      "outputs": [
        {
          "output_type": "execute_result",
          "data": {
            "text/plain": [
              "array([[5.1, 3.5, 1.4, 0.2],\n",
              "       [4.9, 3. , 1.4, 0.2],\n",
              "       [4.7, 3.2, 1.3, 0.2],\n",
              "       [4.6, 3.1, 1.5, 0.2],\n",
              "       [5. , 3.6, 1.4, 0.2],\n",
              "       [5.4, 3.9, 1.7, 0.4],\n",
              "       [4.6, 3.4, 1.4, 0.3],\n",
              "       [5. , 3.4, 1.5, 0.2],\n",
              "       [4.4, 2.9, 1.4, 0.2],\n",
              "       [4.9, 3.1, 1.5, 0.1],\n",
              "       [5.4, 3.7, 1.5, 0.2],\n",
              "       [4.8, 3.4, 1.6, 0.2],\n",
              "       [4.8, 3. , 1.4, 0.1],\n",
              "       [4.3, 3. , 1.1, 0.1],\n",
              "       [5.8, 4. , 1.2, 0.2],\n",
              "       [5.7, 4.4, 1.5, 0.4],\n",
              "       [5.4, 3.9, 1.3, 0.4],\n",
              "       [5.1, 3.5, 1.4, 0.3],\n",
              "       [5.7, 3.8, 1.7, 0.3],\n",
              "       [5.1, 3.8, 1.5, 0.3],\n",
              "       [5.4, 3.4, 1.7, 0.2],\n",
              "       [5.1, 3.7, 1.5, 0.4],\n",
              "       [4.6, 3.6, 1. , 0.2],\n",
              "       [5.1, 3.3, 1.7, 0.5],\n",
              "       [4.8, 3.4, 1.9, 0.2],\n",
              "       [5. , 3. , 1.6, 0.2],\n",
              "       [5. , 3.4, 1.6, 0.4],\n",
              "       [5.2, 3.5, 1.5, 0.2],\n",
              "       [5.2, 3.4, 1.4, 0.2],\n",
              "       [4.7, 3.2, 1.6, 0.2],\n",
              "       [4.8, 3.1, 1.6, 0.2],\n",
              "       [5.4, 3.4, 1.5, 0.4],\n",
              "       [5.2, 4.1, 1.5, 0.1],\n",
              "       [5.5, 4.2, 1.4, 0.2],\n",
              "       [4.9, 3.1, 1.5, 0.1],\n",
              "       [5. , 3.2, 1.2, 0.2],\n",
              "       [5.5, 3.5, 1.3, 0.2],\n",
              "       [4.9, 3.1, 1.5, 0.1],\n",
              "       [4.4, 3. , 1.3, 0.2],\n",
              "       [5.1, 3.4, 1.5, 0.2],\n",
              "       [5. , 3.5, 1.3, 0.3],\n",
              "       [4.5, 2.3, 1.3, 0.3],\n",
              "       [4.4, 3.2, 1.3, 0.2],\n",
              "       [5. , 3.5, 1.6, 0.6],\n",
              "       [5.1, 3.8, 1.9, 0.4],\n",
              "       [4.8, 3. , 1.4, 0.3],\n",
              "       [5.1, 3.8, 1.6, 0.2],\n",
              "       [4.6, 3.2, 1.4, 0.2],\n",
              "       [5.3, 3.7, 1.5, 0.2],\n",
              "       [5. , 3.3, 1.4, 0.2],\n",
              "       [7. , 3.2, 4.7, 1.4],\n",
              "       [6.4, 3.2, 4.5, 1.5],\n",
              "       [6.9, 3.1, 4.9, 1.5],\n",
              "       [5.5, 2.3, 4. , 1.3],\n",
              "       [6.5, 2.8, 4.6, 1.5],\n",
              "       [5.7, 2.8, 4.5, 1.3],\n",
              "       [6.3, 3.3, 4.7, 1.6],\n",
              "       [4.9, 2.4, 3.3, 1. ],\n",
              "       [6.6, 2.9, 4.6, 1.3],\n",
              "       [5.2, 2.7, 3.9, 1.4],\n",
              "       [5. , 2. , 3.5, 1. ],\n",
              "       [5.9, 3. , 4.2, 1.5],\n",
              "       [6. , 2.2, 4. , 1. ],\n",
              "       [6.1, 2.9, 4.7, 1.4],\n",
              "       [5.6, 2.9, 3.6, 1.3],\n",
              "       [6.7, 3.1, 4.4, 1.4],\n",
              "       [5.6, 3. , 4.5, 1.5],\n",
              "       [5.8, 2.7, 4.1, 1. ],\n",
              "       [6.2, 2.2, 4.5, 1.5],\n",
              "       [5.6, 2.5, 3.9, 1.1],\n",
              "       [5.9, 3.2, 4.8, 1.8],\n",
              "       [6.1, 2.8, 4. , 1.3],\n",
              "       [6.3, 2.5, 4.9, 1.5],\n",
              "       [6.1, 2.8, 4.7, 1.2],\n",
              "       [6.4, 2.9, 4.3, 1.3],\n",
              "       [6.6, 3. , 4.4, 1.4],\n",
              "       [6.8, 2.8, 4.8, 1.4],\n",
              "       [6.7, 3. , 5. , 1.7],\n",
              "       [6. , 2.9, 4.5, 1.5],\n",
              "       [5.7, 2.6, 3.5, 1. ],\n",
              "       [5.5, 2.4, 3.8, 1.1],\n",
              "       [5.5, 2.4, 3.7, 1. ],\n",
              "       [5.8, 2.7, 3.9, 1.2],\n",
              "       [6. , 2.7, 5.1, 1.6],\n",
              "       [5.4, 3. , 4.5, 1.5],\n",
              "       [6. , 3.4, 4.5, 1.6],\n",
              "       [6.7, 3.1, 4.7, 1.5],\n",
              "       [6.3, 2.3, 4.4, 1.3],\n",
              "       [5.6, 3. , 4.1, 1.3],\n",
              "       [5.5, 2.5, 4. , 1.3],\n",
              "       [5.5, 2.6, 4.4, 1.2],\n",
              "       [6.1, 3. , 4.6, 1.4],\n",
              "       [5.8, 2.6, 4. , 1.2],\n",
              "       [5. , 2.3, 3.3, 1. ],\n",
              "       [5.6, 2.7, 4.2, 1.3],\n",
              "       [5.7, 3. , 4.2, 1.2],\n",
              "       [5.7, 2.9, 4.2, 1.3],\n",
              "       [6.2, 2.9, 4.3, 1.3],\n",
              "       [5.1, 2.5, 3. , 1.1],\n",
              "       [5.7, 2.8, 4.1, 1.3],\n",
              "       [6.3, 3.3, 6. , 2.5],\n",
              "       [5.8, 2.7, 5.1, 1.9],\n",
              "       [7.1, 3. , 5.9, 2.1],\n",
              "       [6.3, 2.9, 5.6, 1.8],\n",
              "       [6.5, 3. , 5.8, 2.2],\n",
              "       [7.6, 3. , 6.6, 2.1],\n",
              "       [4.9, 2.5, 4.5, 1.7],\n",
              "       [7.3, 2.9, 6.3, 1.8],\n",
              "       [6.7, 2.5, 5.8, 1.8],\n",
              "       [7.2, 3.6, 6.1, 2.5],\n",
              "       [6.5, 3.2, 5.1, 2. ],\n",
              "       [6.4, 2.7, 5.3, 1.9],\n",
              "       [6.8, 3. , 5.5, 2.1],\n",
              "       [5.7, 2.5, 5. , 2. ],\n",
              "       [5.8, 2.8, 5.1, 2.4],\n",
              "       [6.4, 3.2, 5.3, 2.3],\n",
              "       [6.5, 3. , 5.5, 1.8],\n",
              "       [7.7, 3.8, 6.7, 2.2],\n",
              "       [7.7, 2.6, 6.9, 2.3],\n",
              "       [6. , 2.2, 5. , 1.5],\n",
              "       [6.9, 3.2, 5.7, 2.3],\n",
              "       [5.6, 2.8, 4.9, 2. ],\n",
              "       [7.7, 2.8, 6.7, 2. ],\n",
              "       [6.3, 2.7, 4.9, 1.8],\n",
              "       [6.7, 3.3, 5.7, 2.1],\n",
              "       [7.2, 3.2, 6. , 1.8],\n",
              "       [6.2, 2.8, 4.8, 1.8],\n",
              "       [6.1, 3. , 4.9, 1.8],\n",
              "       [6.4, 2.8, 5.6, 2.1],\n",
              "       [7.2, 3. , 5.8, 1.6],\n",
              "       [7.4, 2.8, 6.1, 1.9],\n",
              "       [7.9, 3.8, 6.4, 2. ],\n",
              "       [6.4, 2.8, 5.6, 2.2],\n",
              "       [6.3, 2.8, 5.1, 1.5],\n",
              "       [6.1, 2.6, 5.6, 1.4],\n",
              "       [7.7, 3. , 6.1, 2.3],\n",
              "       [6.3, 3.4, 5.6, 2.4],\n",
              "       [6.4, 3.1, 5.5, 1.8],\n",
              "       [6. , 3. , 4.8, 1.8],\n",
              "       [6.9, 3.1, 5.4, 2.1],\n",
              "       [6.7, 3.1, 5.6, 2.4],\n",
              "       [6.9, 3.1, 5.1, 2.3],\n",
              "       [5.8, 2.7, 5.1, 1.9],\n",
              "       [6.8, 3.2, 5.9, 2.3],\n",
              "       [6.7, 3.3, 5.7, 2.5],\n",
              "       [6.7, 3. , 5.2, 2.3],\n",
              "       [6.3, 2.5, 5. , 1.9],\n",
              "       [6.5, 3. , 5.2, 2. ],\n",
              "       [6.2, 3.4, 5.4, 2.3],\n",
              "       [5.9, 3. , 5.1, 1.8]])"
            ]
          },
          "metadata": {
            "tags": []
          },
          "execution_count": 5
        }
      ]
    },
    {
      "cell_type": "code",
      "metadata": {
        "colab": {
          "base_uri": "https://localhost:8080/"
        },
        "id": "ey-rCCFBg0yP",
        "outputId": "9f389c02-adbe-4024-c271-51b921e477c7"
      },
      "source": [
        "data_matrix = data_matrix.T  \n",
        "print(data_matrix.shape)\n",
        "data_matrix"
      ],
      "execution_count": 6,
      "outputs": [
        {
          "output_type": "stream",
          "text": [
            "(4, 150)\n"
          ],
          "name": "stdout"
        },
        {
          "output_type": "execute_result",
          "data": {
            "text/plain": [
              "array([[5.1, 4.9, 4.7, 4.6, 5. , 5.4, 4.6, 5. , 4.4, 4.9, 5.4, 4.8, 4.8,\n",
              "        4.3, 5.8, 5.7, 5.4, 5.1, 5.7, 5.1, 5.4, 5.1, 4.6, 5.1, 4.8, 5. ,\n",
              "        5. , 5.2, 5.2, 4.7, 4.8, 5.4, 5.2, 5.5, 4.9, 5. , 5.5, 4.9, 4.4,\n",
              "        5.1, 5. , 4.5, 4.4, 5. , 5.1, 4.8, 5.1, 4.6, 5.3, 5. , 7. , 6.4,\n",
              "        6.9, 5.5, 6.5, 5.7, 6.3, 4.9, 6.6, 5.2, 5. , 5.9, 6. , 6.1, 5.6,\n",
              "        6.7, 5.6, 5.8, 6.2, 5.6, 5.9, 6.1, 6.3, 6.1, 6.4, 6.6, 6.8, 6.7,\n",
              "        6. , 5.7, 5.5, 5.5, 5.8, 6. , 5.4, 6. , 6.7, 6.3, 5.6, 5.5, 5.5,\n",
              "        6.1, 5.8, 5. , 5.6, 5.7, 5.7, 6.2, 5.1, 5.7, 6.3, 5.8, 7.1, 6.3,\n",
              "        6.5, 7.6, 4.9, 7.3, 6.7, 7.2, 6.5, 6.4, 6.8, 5.7, 5.8, 6.4, 6.5,\n",
              "        7.7, 7.7, 6. , 6.9, 5.6, 7.7, 6.3, 6.7, 7.2, 6.2, 6.1, 6.4, 7.2,\n",
              "        7.4, 7.9, 6.4, 6.3, 6.1, 7.7, 6.3, 6.4, 6. , 6.9, 6.7, 6.9, 5.8,\n",
              "        6.8, 6.7, 6.7, 6.3, 6.5, 6.2, 5.9],\n",
              "       [3.5, 3. , 3.2, 3.1, 3.6, 3.9, 3.4, 3.4, 2.9, 3.1, 3.7, 3.4, 3. ,\n",
              "        3. , 4. , 4.4, 3.9, 3.5, 3.8, 3.8, 3.4, 3.7, 3.6, 3.3, 3.4, 3. ,\n",
              "        3.4, 3.5, 3.4, 3.2, 3.1, 3.4, 4.1, 4.2, 3.1, 3.2, 3.5, 3.1, 3. ,\n",
              "        3.4, 3.5, 2.3, 3.2, 3.5, 3.8, 3. , 3.8, 3.2, 3.7, 3.3, 3.2, 3.2,\n",
              "        3.1, 2.3, 2.8, 2.8, 3.3, 2.4, 2.9, 2.7, 2. , 3. , 2.2, 2.9, 2.9,\n",
              "        3.1, 3. , 2.7, 2.2, 2.5, 3.2, 2.8, 2.5, 2.8, 2.9, 3. , 2.8, 3. ,\n",
              "        2.9, 2.6, 2.4, 2.4, 2.7, 2.7, 3. , 3.4, 3.1, 2.3, 3. , 2.5, 2.6,\n",
              "        3. , 2.6, 2.3, 2.7, 3. , 2.9, 2.9, 2.5, 2.8, 3.3, 2.7, 3. , 2.9,\n",
              "        3. , 3. , 2.5, 2.9, 2.5, 3.6, 3.2, 2.7, 3. , 2.5, 2.8, 3.2, 3. ,\n",
              "        3.8, 2.6, 2.2, 3.2, 2.8, 2.8, 2.7, 3.3, 3.2, 2.8, 3. , 2.8, 3. ,\n",
              "        2.8, 3.8, 2.8, 2.8, 2.6, 3. , 3.4, 3.1, 3. , 3.1, 3.1, 3.1, 2.7,\n",
              "        3.2, 3.3, 3. , 2.5, 3. , 3.4, 3. ],\n",
              "       [1.4, 1.4, 1.3, 1.5, 1.4, 1.7, 1.4, 1.5, 1.4, 1.5, 1.5, 1.6, 1.4,\n",
              "        1.1, 1.2, 1.5, 1.3, 1.4, 1.7, 1.5, 1.7, 1.5, 1. , 1.7, 1.9, 1.6,\n",
              "        1.6, 1.5, 1.4, 1.6, 1.6, 1.5, 1.5, 1.4, 1.5, 1.2, 1.3, 1.5, 1.3,\n",
              "        1.5, 1.3, 1.3, 1.3, 1.6, 1.9, 1.4, 1.6, 1.4, 1.5, 1.4, 4.7, 4.5,\n",
              "        4.9, 4. , 4.6, 4.5, 4.7, 3.3, 4.6, 3.9, 3.5, 4.2, 4. , 4.7, 3.6,\n",
              "        4.4, 4.5, 4.1, 4.5, 3.9, 4.8, 4. , 4.9, 4.7, 4.3, 4.4, 4.8, 5. ,\n",
              "        4.5, 3.5, 3.8, 3.7, 3.9, 5.1, 4.5, 4.5, 4.7, 4.4, 4.1, 4. , 4.4,\n",
              "        4.6, 4. , 3.3, 4.2, 4.2, 4.2, 4.3, 3. , 4.1, 6. , 5.1, 5.9, 5.6,\n",
              "        5.8, 6.6, 4.5, 6.3, 5.8, 6.1, 5.1, 5.3, 5.5, 5. , 5.1, 5.3, 5.5,\n",
              "        6.7, 6.9, 5. , 5.7, 4.9, 6.7, 4.9, 5.7, 6. , 4.8, 4.9, 5.6, 5.8,\n",
              "        6.1, 6.4, 5.6, 5.1, 5.6, 6.1, 5.6, 5.5, 4.8, 5.4, 5.6, 5.1, 5.1,\n",
              "        5.9, 5.7, 5.2, 5. , 5.2, 5.4, 5.1],\n",
              "       [0.2, 0.2, 0.2, 0.2, 0.2, 0.4, 0.3, 0.2, 0.2, 0.1, 0.2, 0.2, 0.1,\n",
              "        0.1, 0.2, 0.4, 0.4, 0.3, 0.3, 0.3, 0.2, 0.4, 0.2, 0.5, 0.2, 0.2,\n",
              "        0.4, 0.2, 0.2, 0.2, 0.2, 0.4, 0.1, 0.2, 0.1, 0.2, 0.2, 0.1, 0.2,\n",
              "        0.2, 0.3, 0.3, 0.2, 0.6, 0.4, 0.3, 0.2, 0.2, 0.2, 0.2, 1.4, 1.5,\n",
              "        1.5, 1.3, 1.5, 1.3, 1.6, 1. , 1.3, 1.4, 1. , 1.5, 1. , 1.4, 1.3,\n",
              "        1.4, 1.5, 1. , 1.5, 1.1, 1.8, 1.3, 1.5, 1.2, 1.3, 1.4, 1.4, 1.7,\n",
              "        1.5, 1. , 1.1, 1. , 1.2, 1.6, 1.5, 1.6, 1.5, 1.3, 1.3, 1.3, 1.2,\n",
              "        1.4, 1.2, 1. , 1.3, 1.2, 1.3, 1.3, 1.1, 1.3, 2.5, 1.9, 2.1, 1.8,\n",
              "        2.2, 2.1, 1.7, 1.8, 1.8, 2.5, 2. , 1.9, 2.1, 2. , 2.4, 2.3, 1.8,\n",
              "        2.2, 2.3, 1.5, 2.3, 2. , 2. , 1.8, 2.1, 1.8, 1.8, 1.8, 2.1, 1.6,\n",
              "        1.9, 2. , 2.2, 1.5, 1.4, 2.3, 2.4, 1.8, 1.8, 2.1, 2.4, 2.3, 1.9,\n",
              "        2.3, 2.5, 2.3, 1.9, 2. , 2.3, 1.8]])"
            ]
          },
          "metadata": {
            "tags": []
          },
          "execution_count": 6
        }
      ]
    },
    {
      "cell_type": "markdown",
      "metadata": {
        "id": "EhqlrozHfiHu"
      },
      "source": [
        "1. Standardizing the Data (ปรับ mean และ std ให้ มี mean=0 std=1)"
      ]
    },
    {
      "cell_type": "markdown",
      "metadata": {
        "id": "X6MxC1uPuN51"
      },
      "source": [
        "![1_Ap_7t_-luGSaAVgc7kl7qA.png](data:image/png;base64,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)"
      ]
    },
    {
      "cell_type": "code",
      "metadata": {
        "colab": {
          "base_uri": "https://localhost:8080/"
        },
        "id": "WucfETWpiL6V",
        "outputId": "02e9cd72-a53b-4b5d-8a07-60e5225fb7c1"
      },
      "source": [
        "meanD = np.mean(data_matrix,axis=1)\n",
        "meanD \n",
        "#ดูว่า mean ใช้ได้ ต้องตรงกับจำหนวนชุดข้อมูล คือ 4 ตัว"
      ],
      "execution_count": 7,
      "outputs": [
        {
          "output_type": "execute_result",
          "data": {
            "text/plain": [
              "array([5.84333333, 3.054     , 3.75866667, 1.19866667])"
            ]
          },
          "metadata": {
            "tags": []
          },
          "execution_count": 7
        }
      ]
    },
    {
      "cell_type": "code",
      "metadata": {
        "colab": {
          "base_uri": "https://localhost:8080/"
        },
        "id": "lHvX91lfiU62",
        "outputId": "5f09c798-368f-4b67-ea22-c6fef0bf74ba"
      },
      "source": [
        "stdD = np.std(data_matrix,axis=1)\n",
        "stdD\n",
        "#ดูว่า std ใช้ได้ ต้องตรงกับจำหนวนชุดข้อมูล คือ 4 ตัว"
      ],
      "execution_count": 8,
      "outputs": [
        {
          "output_type": "execute_result",
          "data": {
            "text/plain": [
              "array([0.82530129, 0.43214658, 1.75852918, 0.76061262])"
            ]
          },
          "metadata": {
            "tags": []
          },
          "execution_count": 8
        }
      ]
    },
    {
      "cell_type": "code",
      "metadata": {
        "colab": {
          "base_uri": "https://localhost:8080/"
        },
        "id": "MfBS3YFqi_Hk",
        "outputId": "4e1dfa77-4711-4426-8e59-07f2096bad48"
      },
      "source": [
        "zeromatrix = np.zeros((4,10)) #สร้างเมทรกซ์ 0 ที่มี 4เเถว 10 หลัก\n",
        "zeromatrix"
      ],
      "execution_count": 9,
      "outputs": [
        {
          "output_type": "execute_result",
          "data": {
            "text/plain": [
              "array([[0., 0., 0., 0., 0., 0., 0., 0., 0., 0.],\n",
              "       [0., 0., 0., 0., 0., 0., 0., 0., 0., 0.],\n",
              "       [0., 0., 0., 0., 0., 0., 0., 0., 0., 0.],\n",
              "       [0., 0., 0., 0., 0., 0., 0., 0., 0., 0.]])"
            ]
          },
          "metadata": {
            "tags": []
          },
          "execution_count": 9
        }
      ]
    },
    {
      "cell_type": "code",
      "metadata": {
        "colab": {
          "base_uri": "https://localhost:8080/"
        },
        "id": "-Xi8WN7plxoD",
        "outputId": "70074583-54c0-44d2-b787-9b7d00429caf"
      },
      "source": [
        "zeromatrix-meanD.reshape((4,1)) #reshap บังคับขนาดของ  matrix ให้เป็นไปตามที่เราต้องการ"
      ],
      "execution_count": 10,
      "outputs": [
        {
          "output_type": "execute_result",
          "data": {
            "text/plain": [
              "array([[-5.84333333, -5.84333333, -5.84333333, -5.84333333, -5.84333333,\n",
              "        -5.84333333, -5.84333333, -5.84333333, -5.84333333, -5.84333333],\n",
              "       [-3.054     , -3.054     , -3.054     , -3.054     , -3.054     ,\n",
              "        -3.054     , -3.054     , -3.054     , -3.054     , -3.054     ],\n",
              "       [-3.75866667, -3.75866667, -3.75866667, -3.75866667, -3.75866667,\n",
              "        -3.75866667, -3.75866667, -3.75866667, -3.75866667, -3.75866667],\n",
              "       [-1.19866667, -1.19866667, -1.19866667, -1.19866667, -1.19866667,\n",
              "        -1.19866667, -1.19866667, -1.19866667, -1.19866667, -1.19866667]])"
            ]
          },
          "metadata": {
            "tags": []
          },
          "execution_count": 10
        }
      ]
    },
    {
      "cell_type": "markdown",
      "metadata": {
        "id": "WNVp94HCuckE"
      },
      "source": [
        "#### เลื่อน mean มาที่ 0"
      ]
    },
    {
      "cell_type": "code",
      "metadata": {
        "colab": {
          "base_uri": "https://localhost:8080/"
        },
        "id": "5cpxLcjquYUG",
        "outputId": "d640dfaf-cefe-4bec-cd74-b99bdf007835"
      },
      "source": [
        "data_matrix_m0 = data_matrix - meanD.reshape((4,1))\n",
        "data_matrix_m0\n",
        "# การเลื่อน data มารอบๆเลื่อน mean มาที่ 0"
      ],
      "execution_count": 11,
      "outputs": [
        {
          "output_type": "execute_result",
          "data": {
            "text/plain": [
              "array([[-7.43333333e-01, -9.43333333e-01, -1.14333333e+00,\n",
              "        -1.24333333e+00, -8.43333333e-01, -4.43333333e-01,\n",
              "        -1.24333333e+00, -8.43333333e-01, -1.44333333e+00,\n",
              "        -9.43333333e-01, -4.43333333e-01, -1.04333333e+00,\n",
              "        -1.04333333e+00, -1.54333333e+00, -4.33333333e-02,\n",
              "        -1.43333333e-01, -4.43333333e-01, -7.43333333e-01,\n",
              "        -1.43333333e-01, -7.43333333e-01, -4.43333333e-01,\n",
              "        -7.43333333e-01, -1.24333333e+00, -7.43333333e-01,\n",
              "        -1.04333333e+00, -8.43333333e-01, -8.43333333e-01,\n",
              "        -6.43333333e-01, -6.43333333e-01, -1.14333333e+00,\n",
              "        -1.04333333e+00, -4.43333333e-01, -6.43333333e-01,\n",
              "        -3.43333333e-01, -9.43333333e-01, -8.43333333e-01,\n",
              "        -3.43333333e-01, -9.43333333e-01, -1.44333333e+00,\n",
              "        -7.43333333e-01, -8.43333333e-01, -1.34333333e+00,\n",
              "        -1.44333333e+00, -8.43333333e-01, -7.43333333e-01,\n",
              "        -1.04333333e+00, -7.43333333e-01, -1.24333333e+00,\n",
              "        -5.43333333e-01, -8.43333333e-01,  1.15666667e+00,\n",
              "         5.56666667e-01,  1.05666667e+00, -3.43333333e-01,\n",
              "         6.56666667e-01, -1.43333333e-01,  4.56666667e-01,\n",
              "        -9.43333333e-01,  7.56666667e-01, -6.43333333e-01,\n",
              "        -8.43333333e-01,  5.66666667e-02,  1.56666667e-01,\n",
              "         2.56666667e-01, -2.43333333e-01,  8.56666667e-01,\n",
              "        -2.43333333e-01, -4.33333333e-02,  3.56666667e-01,\n",
              "        -2.43333333e-01,  5.66666667e-02,  2.56666667e-01,\n",
              "         4.56666667e-01,  2.56666667e-01,  5.56666667e-01,\n",
              "         7.56666667e-01,  9.56666667e-01,  8.56666667e-01,\n",
              "         1.56666667e-01, -1.43333333e-01, -3.43333333e-01,\n",
              "        -3.43333333e-01, -4.33333333e-02,  1.56666667e-01,\n",
              "        -4.43333333e-01,  1.56666667e-01,  8.56666667e-01,\n",
              "         4.56666667e-01, -2.43333333e-01, -3.43333333e-01,\n",
              "        -3.43333333e-01,  2.56666667e-01, -4.33333333e-02,\n",
              "        -8.43333333e-01, -2.43333333e-01, -1.43333333e-01,\n",
              "        -1.43333333e-01,  3.56666667e-01, -7.43333333e-01,\n",
              "        -1.43333333e-01,  4.56666667e-01, -4.33333333e-02,\n",
              "         1.25666667e+00,  4.56666667e-01,  6.56666667e-01,\n",
              "         1.75666667e+00, -9.43333333e-01,  1.45666667e+00,\n",
              "         8.56666667e-01,  1.35666667e+00,  6.56666667e-01,\n",
              "         5.56666667e-01,  9.56666667e-01, -1.43333333e-01,\n",
              "        -4.33333333e-02,  5.56666667e-01,  6.56666667e-01,\n",
              "         1.85666667e+00,  1.85666667e+00,  1.56666667e-01,\n",
              "         1.05666667e+00, -2.43333333e-01,  1.85666667e+00,\n",
              "         4.56666667e-01,  8.56666667e-01,  1.35666667e+00,\n",
              "         3.56666667e-01,  2.56666667e-01,  5.56666667e-01,\n",
              "         1.35666667e+00,  1.55666667e+00,  2.05666667e+00,\n",
              "         5.56666667e-01,  4.56666667e-01,  2.56666667e-01,\n",
              "         1.85666667e+00,  4.56666667e-01,  5.56666667e-01,\n",
              "         1.56666667e-01,  1.05666667e+00,  8.56666667e-01,\n",
              "         1.05666667e+00, -4.33333333e-02,  9.56666667e-01,\n",
              "         8.56666667e-01,  8.56666667e-01,  4.56666667e-01,\n",
              "         6.56666667e-01,  3.56666667e-01,  5.66666667e-02],\n",
              "       [ 4.46000000e-01, -5.40000000e-02,  1.46000000e-01,\n",
              "         4.60000000e-02,  5.46000000e-01,  8.46000000e-01,\n",
              "         3.46000000e-01,  3.46000000e-01, -1.54000000e-01,\n",
              "         4.60000000e-02,  6.46000000e-01,  3.46000000e-01,\n",
              "        -5.40000000e-02, -5.40000000e-02,  9.46000000e-01,\n",
              "         1.34600000e+00,  8.46000000e-01,  4.46000000e-01,\n",
              "         7.46000000e-01,  7.46000000e-01,  3.46000000e-01,\n",
              "         6.46000000e-01,  5.46000000e-01,  2.46000000e-01,\n",
              "         3.46000000e-01, -5.40000000e-02,  3.46000000e-01,\n",
              "         4.46000000e-01,  3.46000000e-01,  1.46000000e-01,\n",
              "         4.60000000e-02,  3.46000000e-01,  1.04600000e+00,\n",
              "         1.14600000e+00,  4.60000000e-02,  1.46000000e-01,\n",
              "         4.46000000e-01,  4.60000000e-02, -5.40000000e-02,\n",
              "         3.46000000e-01,  4.46000000e-01, -7.54000000e-01,\n",
              "         1.46000000e-01,  4.46000000e-01,  7.46000000e-01,\n",
              "        -5.40000000e-02,  7.46000000e-01,  1.46000000e-01,\n",
              "         6.46000000e-01,  2.46000000e-01,  1.46000000e-01,\n",
              "         1.46000000e-01,  4.60000000e-02, -7.54000000e-01,\n",
              "        -2.54000000e-01, -2.54000000e-01,  2.46000000e-01,\n",
              "        -6.54000000e-01, -1.54000000e-01, -3.54000000e-01,\n",
              "        -1.05400000e+00, -5.40000000e-02, -8.54000000e-01,\n",
              "        -1.54000000e-01, -1.54000000e-01,  4.60000000e-02,\n",
              "        -5.40000000e-02, -3.54000000e-01, -8.54000000e-01,\n",
              "        -5.54000000e-01,  1.46000000e-01, -2.54000000e-01,\n",
              "        -5.54000000e-01, -2.54000000e-01, -1.54000000e-01,\n",
              "        -5.40000000e-02, -2.54000000e-01, -5.40000000e-02,\n",
              "        -1.54000000e-01, -4.54000000e-01, -6.54000000e-01,\n",
              "        -6.54000000e-01, -3.54000000e-01, -3.54000000e-01,\n",
              "        -5.40000000e-02,  3.46000000e-01,  4.60000000e-02,\n",
              "        -7.54000000e-01, -5.40000000e-02, -5.54000000e-01,\n",
              "        -4.54000000e-01, -5.40000000e-02, -4.54000000e-01,\n",
              "        -7.54000000e-01, -3.54000000e-01, -5.40000000e-02,\n",
              "        -1.54000000e-01, -1.54000000e-01, -5.54000000e-01,\n",
              "        -2.54000000e-01,  2.46000000e-01, -3.54000000e-01,\n",
              "        -5.40000000e-02, -1.54000000e-01, -5.40000000e-02,\n",
              "        -5.40000000e-02, -5.54000000e-01, -1.54000000e-01,\n",
              "        -5.54000000e-01,  5.46000000e-01,  1.46000000e-01,\n",
              "        -3.54000000e-01, -5.40000000e-02, -5.54000000e-01,\n",
              "        -2.54000000e-01,  1.46000000e-01, -5.40000000e-02,\n",
              "         7.46000000e-01, -4.54000000e-01, -8.54000000e-01,\n",
              "         1.46000000e-01, -2.54000000e-01, -2.54000000e-01,\n",
              "        -3.54000000e-01,  2.46000000e-01,  1.46000000e-01,\n",
              "        -2.54000000e-01, -5.40000000e-02, -2.54000000e-01,\n",
              "        -5.40000000e-02, -2.54000000e-01,  7.46000000e-01,\n",
              "        -2.54000000e-01, -2.54000000e-01, -4.54000000e-01,\n",
              "        -5.40000000e-02,  3.46000000e-01,  4.60000000e-02,\n",
              "        -5.40000000e-02,  4.60000000e-02,  4.60000000e-02,\n",
              "         4.60000000e-02, -3.54000000e-01,  1.46000000e-01,\n",
              "         2.46000000e-01, -5.40000000e-02, -5.54000000e-01,\n",
              "        -5.40000000e-02,  3.46000000e-01, -5.40000000e-02],\n",
              "       [-2.35866667e+00, -2.35866667e+00, -2.45866667e+00,\n",
              "        -2.25866667e+00, -2.35866667e+00, -2.05866667e+00,\n",
              "        -2.35866667e+00, -2.25866667e+00, -2.35866667e+00,\n",
              "        -2.25866667e+00, -2.25866667e+00, -2.15866667e+00,\n",
              "        -2.35866667e+00, -2.65866667e+00, -2.55866667e+00,\n",
              "        -2.25866667e+00, -2.45866667e+00, -2.35866667e+00,\n",
              "        -2.05866667e+00, -2.25866667e+00, -2.05866667e+00,\n",
              "        -2.25866667e+00, -2.75866667e+00, -2.05866667e+00,\n",
              "        -1.85866667e+00, -2.15866667e+00, -2.15866667e+00,\n",
              "        -2.25866667e+00, -2.35866667e+00, -2.15866667e+00,\n",
              "        -2.15866667e+00, -2.25866667e+00, -2.25866667e+00,\n",
              "        -2.35866667e+00, -2.25866667e+00, -2.55866667e+00,\n",
              "        -2.45866667e+00, -2.25866667e+00, -2.45866667e+00,\n",
              "        -2.25866667e+00, -2.45866667e+00, -2.45866667e+00,\n",
              "        -2.45866667e+00, -2.15866667e+00, -1.85866667e+00,\n",
              "        -2.35866667e+00, -2.15866667e+00, -2.35866667e+00,\n",
              "        -2.25866667e+00, -2.35866667e+00,  9.41333333e-01,\n",
              "         7.41333333e-01,  1.14133333e+00,  2.41333333e-01,\n",
              "         8.41333333e-01,  7.41333333e-01,  9.41333333e-01,\n",
              "        -4.58666667e-01,  8.41333333e-01,  1.41333333e-01,\n",
              "        -2.58666667e-01,  4.41333333e-01,  2.41333333e-01,\n",
              "         9.41333333e-01, -1.58666667e-01,  6.41333333e-01,\n",
              "         7.41333333e-01,  3.41333333e-01,  7.41333333e-01,\n",
              "         1.41333333e-01,  1.04133333e+00,  2.41333333e-01,\n",
              "         1.14133333e+00,  9.41333333e-01,  5.41333333e-01,\n",
              "         6.41333333e-01,  1.04133333e+00,  1.24133333e+00,\n",
              "         7.41333333e-01, -2.58666667e-01,  4.13333333e-02,\n",
              "        -5.86666667e-02,  1.41333333e-01,  1.34133333e+00,\n",
              "         7.41333333e-01,  7.41333333e-01,  9.41333333e-01,\n",
              "         6.41333333e-01,  3.41333333e-01,  2.41333333e-01,\n",
              "         6.41333333e-01,  8.41333333e-01,  2.41333333e-01,\n",
              "        -4.58666667e-01,  4.41333333e-01,  4.41333333e-01,\n",
              "         4.41333333e-01,  5.41333333e-01, -7.58666667e-01,\n",
              "         3.41333333e-01,  2.24133333e+00,  1.34133333e+00,\n",
              "         2.14133333e+00,  1.84133333e+00,  2.04133333e+00,\n",
              "         2.84133333e+00,  7.41333333e-01,  2.54133333e+00,\n",
              "         2.04133333e+00,  2.34133333e+00,  1.34133333e+00,\n",
              "         1.54133333e+00,  1.74133333e+00,  1.24133333e+00,\n",
              "         1.34133333e+00,  1.54133333e+00,  1.74133333e+00,\n",
              "         2.94133333e+00,  3.14133333e+00,  1.24133333e+00,\n",
              "         1.94133333e+00,  1.14133333e+00,  2.94133333e+00,\n",
              "         1.14133333e+00,  1.94133333e+00,  2.24133333e+00,\n",
              "         1.04133333e+00,  1.14133333e+00,  1.84133333e+00,\n",
              "         2.04133333e+00,  2.34133333e+00,  2.64133333e+00,\n",
              "         1.84133333e+00,  1.34133333e+00,  1.84133333e+00,\n",
              "         2.34133333e+00,  1.84133333e+00,  1.74133333e+00,\n",
              "         1.04133333e+00,  1.64133333e+00,  1.84133333e+00,\n",
              "         1.34133333e+00,  1.34133333e+00,  2.14133333e+00,\n",
              "         1.94133333e+00,  1.44133333e+00,  1.24133333e+00,\n",
              "         1.44133333e+00,  1.64133333e+00,  1.34133333e+00],\n",
              "       [-9.98666667e-01, -9.98666667e-01, -9.98666667e-01,\n",
              "        -9.98666667e-01, -9.98666667e-01, -7.98666667e-01,\n",
              "        -8.98666667e-01, -9.98666667e-01, -9.98666667e-01,\n",
              "        -1.09866667e+00, -9.98666667e-01, -9.98666667e-01,\n",
              "        -1.09866667e+00, -1.09866667e+00, -9.98666667e-01,\n",
              "        -7.98666667e-01, -7.98666667e-01, -8.98666667e-01,\n",
              "        -8.98666667e-01, -8.98666667e-01, -9.98666667e-01,\n",
              "        -7.98666667e-01, -9.98666667e-01, -6.98666667e-01,\n",
              "        -9.98666667e-01, -9.98666667e-01, -7.98666667e-01,\n",
              "        -9.98666667e-01, -9.98666667e-01, -9.98666667e-01,\n",
              "        -9.98666667e-01, -7.98666667e-01, -1.09866667e+00,\n",
              "        -9.98666667e-01, -1.09866667e+00, -9.98666667e-01,\n",
              "        -9.98666667e-01, -1.09866667e+00, -9.98666667e-01,\n",
              "        -9.98666667e-01, -8.98666667e-01, -8.98666667e-01,\n",
              "        -9.98666667e-01, -5.98666667e-01, -7.98666667e-01,\n",
              "        -8.98666667e-01, -9.98666667e-01, -9.98666667e-01,\n",
              "        -9.98666667e-01, -9.98666667e-01,  2.01333333e-01,\n",
              "         3.01333333e-01,  3.01333333e-01,  1.01333333e-01,\n",
              "         3.01333333e-01,  1.01333333e-01,  4.01333333e-01,\n",
              "        -1.98666667e-01,  1.01333333e-01,  2.01333333e-01,\n",
              "        -1.98666667e-01,  3.01333333e-01, -1.98666667e-01,\n",
              "         2.01333333e-01,  1.01333333e-01,  2.01333333e-01,\n",
              "         3.01333333e-01, -1.98666667e-01,  3.01333333e-01,\n",
              "        -9.86666667e-02,  6.01333333e-01,  1.01333333e-01,\n",
              "         3.01333333e-01,  1.33333333e-03,  1.01333333e-01,\n",
              "         2.01333333e-01,  2.01333333e-01,  5.01333333e-01,\n",
              "         3.01333333e-01, -1.98666667e-01, -9.86666667e-02,\n",
              "        -1.98666667e-01,  1.33333333e-03,  4.01333333e-01,\n",
              "         3.01333333e-01,  4.01333333e-01,  3.01333333e-01,\n",
              "         1.01333333e-01,  1.01333333e-01,  1.01333333e-01,\n",
              "         1.33333333e-03,  2.01333333e-01,  1.33333333e-03,\n",
              "        -1.98666667e-01,  1.01333333e-01,  1.33333333e-03,\n",
              "         1.01333333e-01,  1.01333333e-01, -9.86666667e-02,\n",
              "         1.01333333e-01,  1.30133333e+00,  7.01333333e-01,\n",
              "         9.01333333e-01,  6.01333333e-01,  1.00133333e+00,\n",
              "         9.01333333e-01,  5.01333333e-01,  6.01333333e-01,\n",
              "         6.01333333e-01,  1.30133333e+00,  8.01333333e-01,\n",
              "         7.01333333e-01,  9.01333333e-01,  8.01333333e-01,\n",
              "         1.20133333e+00,  1.10133333e+00,  6.01333333e-01,\n",
              "         1.00133333e+00,  1.10133333e+00,  3.01333333e-01,\n",
              "         1.10133333e+00,  8.01333333e-01,  8.01333333e-01,\n",
              "         6.01333333e-01,  9.01333333e-01,  6.01333333e-01,\n",
              "         6.01333333e-01,  6.01333333e-01,  9.01333333e-01,\n",
              "         4.01333333e-01,  7.01333333e-01,  8.01333333e-01,\n",
              "         1.00133333e+00,  3.01333333e-01,  2.01333333e-01,\n",
              "         1.10133333e+00,  1.20133333e+00,  6.01333333e-01,\n",
              "         6.01333333e-01,  9.01333333e-01,  1.20133333e+00,\n",
              "         1.10133333e+00,  7.01333333e-01,  1.10133333e+00,\n",
              "         1.30133333e+00,  1.10133333e+00,  7.01333333e-01,\n",
              "         8.01333333e-01,  1.10133333e+00,  6.01333333e-01]])"
            ]
          },
          "metadata": {
            "tags": []
          },
          "execution_count": 11
        }
      ]
    },
    {
      "cell_type": "code",
      "metadata": {
        "id": "Y2ycUVAdunD9"
      },
      "source": [
        "from matplotlib import pyplot as plt"
      ],
      "execution_count": 12,
      "outputs": []
    },
    {
      "cell_type": "code",
      "metadata": {
        "colab": {
          "base_uri": "https://localhost:8080/",
          "height": 352
        },
        "id": "-BeXPVTnuqK0",
        "outputId": "bb82750b-6cdd-46cc-b160-33e42e23332c"
      },
      "source": [
        "plt.hist(data_matrix[0,:],bins = 'rice')"
      ],
      "execution_count": 13,
      "outputs": [
        {
          "output_type": "execute_result",
          "data": {
            "text/plain": [
              "(array([ 9., 13., 23., 20., 18., 16., 21., 17.,  5.,  2.,  6.]),\n",
              " array([4.3       , 4.62727273, 4.95454545, 5.28181818, 5.60909091,\n",
              "        5.93636364, 6.26363636, 6.59090909, 6.91818182, 7.24545455,\n",
              "        7.57272727, 7.9       ]),\n",
              " <a list of 11 Patch objects>)"
            ]
          },
          "metadata": {
            "tags": []
          },
          "execution_count": 13
        },
        {
          "output_type": "display_data",
          "data": {
            "image/png": "[encoded data removed]",
            "text/plain": [
              "<Figure size 432x288 with 1 Axes>"
            ]
          },
          "metadata": {
            "tags": [],
            "needs_background": "light"
          }
        }
      ]
    },
    {
      "cell_type": "code",
      "metadata": {
        "colab": {
          "base_uri": "https://localhost:8080/",
          "height": 352
        },
        "id": "Q4_BUL2MuuDM",
        "outputId": "8ef47cc4-9aac-4df8-abdf-ade08d4b4c22"
      },
      "source": [
        "plt.hist(data_matrix_m0[0,:],bins = 'rice')"
      ],
      "execution_count": 14,
      "outputs": [
        {
          "output_type": "execute_result",
          "data": {
            "text/plain": [
              "(array([ 9., 13., 23., 20., 18., 16., 21., 17.,  5.,  2.,  6.]),\n",
              " array([-1.54333333, -1.21606061, -0.88878788, -0.56151515, -0.23424242,\n",
              "         0.0930303 ,  0.42030303,  0.74757576,  1.07484848,  1.40212121,\n",
              "         1.72939394,  2.05666667]),\n",
              " <a list of 11 Patch objects>)"
            ]
          },
          "metadata": {
            "tags": []
          },
          "execution_count": 14
        },
        {
          "output_type": "display_data",
          "data": {
            "image/png": "[encoded data removed]",
            "text/plain": [
              "<Figure size 432x288 with 1 Axes>"
            ]
          },
          "metadata": {
            "tags": [],
            "needs_background": "light"
          }
        }
      ]
    },
    {
      "cell_type": "code",
      "metadata": {
        "id": "LkqoUdWgux_O"
      },
      "source": [
        "data_matrix_m0_std1 = data_matrix_m0/stdD.reshape((4,1))"
      ],
      "execution_count": 15,
      "outputs": []
    },
    {
      "cell_type": "code",
      "metadata": {
        "colab": {
          "base_uri": "https://localhost:8080/",
          "height": 352
        },
        "id": "sPhHP8Isu1Wm",
        "outputId": "68044838-6a50-4604-98aa-46e45ae4f42b"
      },
      "source": [
        "plt.hist(data_matrix_m0_std1[0,:],bins = 'rice')"
      ],
      "execution_count": 16,
      "outputs": [
        {
          "output_type": "execute_result",
          "data": {
            "text/plain": [
              "(array([ 9., 13., 23., 20., 18., 16., 21., 17.,  5.,  2.,  6.]),\n",
              " array([-1.87002413, -1.47347474, -1.07692535, -0.68037595, -0.28382656,\n",
              "         0.11272284,  0.50927223,  0.90582163,  1.30237102,  1.69892041,\n",
              "         2.09546981,  2.4920192 ]),\n",
              " <a list of 11 Patch objects>)"
            ]
          },
          "metadata": {
            "tags": []
          },
          "execution_count": 16
        },
        {
          "output_type": "display_data",
          "data": {
            "image/png": "[encoded data removed]",
            "text/plain": [
              "<Figure size 432x288 with 1 Axes>"
            ]
          },
          "metadata": {
            "tags": [],
            "needs_background": "light"
          }
        }
      ]
    },
    {
      "cell_type": "code",
      "metadata": {
        "colab": {
          "base_uri": "https://localhost:8080/"
        },
        "id": "Fy02gqmXu5HK",
        "outputId": "f48912a2-be49-4cfd-c6eb-46c52da1968c"
      },
      "source": [
        "data_matrix_m0_std1\n"
      ],
      "execution_count": 17,
      "outputs": [
        {
          "output_type": "execute_result",
          "data": {
            "text/plain": [
              "array([[-9.00681170e-01, -1.14301691e+00, -1.38535265e+00,\n",
              "        -1.50652052e+00, -1.02184904e+00, -5.37177559e-01,\n",
              "        -1.50652052e+00, -1.02184904e+00, -1.74885626e+00,\n",
              "        -1.14301691e+00, -5.37177559e-01, -1.26418478e+00,\n",
              "        -1.26418478e+00, -1.87002413e+00, -5.25060772e-02,\n",
              "        -1.73673948e-01, -5.37177559e-01, -9.00681170e-01,\n",
              "        -1.73673948e-01, -9.00681170e-01, -5.37177559e-01,\n",
              "        -9.00681170e-01, -1.50652052e+00, -9.00681170e-01,\n",
              "        -1.26418478e+00, -1.02184904e+00, -1.02184904e+00,\n",
              "        -7.79513300e-01, -7.79513300e-01, -1.38535265e+00,\n",
              "        -1.26418478e+00, -5.37177559e-01, -7.79513300e-01,\n",
              "        -4.16009689e-01, -1.14301691e+00, -1.02184904e+00,\n",
              "        -4.16009689e-01, -1.14301691e+00, -1.74885626e+00,\n",
              "        -9.00681170e-01, -1.02184904e+00, -1.62768839e+00,\n",
              "        -1.74885626e+00, -1.02184904e+00, -9.00681170e-01,\n",
              "        -1.26418478e+00, -9.00681170e-01, -1.50652052e+00,\n",
              "        -6.58345429e-01, -1.02184904e+00,  1.40150837e+00,\n",
              "         6.74501145e-01,  1.28034050e+00, -4.16009689e-01,\n",
              "         7.95669016e-01, -1.73673948e-01,  5.53333275e-01,\n",
              "        -1.14301691e+00,  9.16836886e-01, -7.79513300e-01,\n",
              "        -1.02184904e+00,  6.86617933e-02,  1.89829664e-01,\n",
              "         3.10997534e-01, -2.94841818e-01,  1.03800476e+00,\n",
              "        -2.94841818e-01, -5.25060772e-02,  4.32165405e-01,\n",
              "        -2.94841818e-01,  6.86617933e-02,  3.10997534e-01,\n",
              "         5.53333275e-01,  3.10997534e-01,  6.74501145e-01,\n",
              "         9.16836886e-01,  1.15917263e+00,  1.03800476e+00,\n",
              "         1.89829664e-01, -1.73673948e-01, -4.16009689e-01,\n",
              "        -4.16009689e-01, -5.25060772e-02,  1.89829664e-01,\n",
              "        -5.37177559e-01,  1.89829664e-01,  1.03800476e+00,\n",
              "         5.53333275e-01, -2.94841818e-01, -4.16009689e-01,\n",
              "        -4.16009689e-01,  3.10997534e-01, -5.25060772e-02,\n",
              "        -1.02184904e+00, -2.94841818e-01, -1.73673948e-01,\n",
              "        -1.73673948e-01,  4.32165405e-01, -9.00681170e-01,\n",
              "        -1.73673948e-01,  5.53333275e-01, -5.25060772e-02,\n",
              "         1.52267624e+00,  5.53333275e-01,  7.95669016e-01,\n",
              "         2.12851559e+00, -1.14301691e+00,  1.76501198e+00,\n",
              "         1.03800476e+00,  1.64384411e+00,  7.95669016e-01,\n",
              "         6.74501145e-01,  1.15917263e+00, -1.73673948e-01,\n",
              "        -5.25060772e-02,  6.74501145e-01,  7.95669016e-01,\n",
              "         2.24968346e+00,  2.24968346e+00,  1.89829664e-01,\n",
              "         1.28034050e+00, -2.94841818e-01,  2.24968346e+00,\n",
              "         5.53333275e-01,  1.03800476e+00,  1.64384411e+00,\n",
              "         4.32165405e-01,  3.10997534e-01,  6.74501145e-01,\n",
              "         1.64384411e+00,  1.88617985e+00,  2.49201920e+00,\n",
              "         6.74501145e-01,  5.53333275e-01,  3.10997534e-01,\n",
              "         2.24968346e+00,  5.53333275e-01,  6.74501145e-01,\n",
              "         1.89829664e-01,  1.28034050e+00,  1.03800476e+00,\n",
              "         1.28034050e+00, -5.25060772e-02,  1.15917263e+00,\n",
              "         1.03800476e+00,  1.03800476e+00,  5.53333275e-01,\n",
              "         7.95669016e-01,  4.32165405e-01,  6.86617933e-02],\n",
              "       [ 1.03205722e+00, -1.24957601e-01,  3.37848329e-01,\n",
              "         1.06445364e-01,  1.26346019e+00,  1.95766909e+00,\n",
              "         8.00654259e-01,  8.00654259e-01, -3.56360566e-01,\n",
              "         1.06445364e-01,  1.49486315e+00,  8.00654259e-01,\n",
              "        -1.24957601e-01, -1.24957601e-01,  2.18907205e+00,\n",
              "         3.11468391e+00,  1.95766909e+00,  1.03205722e+00,\n",
              "         1.72626612e+00,  1.72626612e+00,  8.00654259e-01,\n",
              "         1.49486315e+00,  1.26346019e+00,  5.69251294e-01,\n",
              "         8.00654259e-01, -1.24957601e-01,  8.00654259e-01,\n",
              "         1.03205722e+00,  8.00654259e-01,  3.37848329e-01,\n",
              "         1.06445364e-01,  8.00654259e-01,  2.42047502e+00,\n",
              "         2.65187798e+00,  1.06445364e-01,  3.37848329e-01,\n",
              "         1.03205722e+00,  1.06445364e-01, -1.24957601e-01,\n",
              "         8.00654259e-01,  1.03205722e+00, -1.74477836e+00,\n",
              "         3.37848329e-01,  1.03205722e+00,  1.72626612e+00,\n",
              "        -1.24957601e-01,  1.72626612e+00,  3.37848329e-01,\n",
              "         1.49486315e+00,  5.69251294e-01,  3.37848329e-01,\n",
              "         3.37848329e-01,  1.06445364e-01, -1.74477836e+00,\n",
              "        -5.87763531e-01, -5.87763531e-01,  5.69251294e-01,\n",
              "        -1.51337539e+00, -3.56360566e-01, -8.19166497e-01,\n",
              "        -2.43898725e+00, -1.24957601e-01, -1.97618132e+00,\n",
              "        -3.56360566e-01, -3.56360566e-01,  1.06445364e-01,\n",
              "        -1.24957601e-01, -8.19166497e-01, -1.97618132e+00,\n",
              "        -1.28197243e+00,  3.37848329e-01, -5.87763531e-01,\n",
              "        -1.28197243e+00, -5.87763531e-01, -3.56360566e-01,\n",
              "        -1.24957601e-01, -5.87763531e-01, -1.24957601e-01,\n",
              "        -3.56360566e-01, -1.05056946e+00, -1.51337539e+00,\n",
              "        -1.51337539e+00, -8.19166497e-01, -8.19166497e-01,\n",
              "        -1.24957601e-01,  8.00654259e-01,  1.06445364e-01,\n",
              "        -1.74477836e+00, -1.24957601e-01, -1.28197243e+00,\n",
              "        -1.05056946e+00, -1.24957601e-01, -1.05056946e+00,\n",
              "        -1.74477836e+00, -8.19166497e-01, -1.24957601e-01,\n",
              "        -3.56360566e-01, -3.56360566e-01, -1.28197243e+00,\n",
              "        -5.87763531e-01,  5.69251294e-01, -8.19166497e-01,\n",
              "        -1.24957601e-01, -3.56360566e-01, -1.24957601e-01,\n",
              "        -1.24957601e-01, -1.28197243e+00, -3.56360566e-01,\n",
              "        -1.28197243e+00,  1.26346019e+00,  3.37848329e-01,\n",
              "        -8.19166497e-01, -1.24957601e-01, -1.28197243e+00,\n",
              "        -5.87763531e-01,  3.37848329e-01, -1.24957601e-01,\n",
              "         1.72626612e+00, -1.05056946e+00, -1.97618132e+00,\n",
              "         3.37848329e-01, -5.87763531e-01, -5.87763531e-01,\n",
              "        -8.19166497e-01,  5.69251294e-01,  3.37848329e-01,\n",
              "        -5.87763531e-01, -1.24957601e-01, -5.87763531e-01,\n",
              "        -1.24957601e-01, -5.87763531e-01,  1.72626612e+00,\n",
              "        -5.87763531e-01, -5.87763531e-01, -1.05056946e+00,\n",
              "        -1.24957601e-01,  8.00654259e-01,  1.06445364e-01,\n",
              "        -1.24957601e-01,  1.06445364e-01,  1.06445364e-01,\n",
              "         1.06445364e-01, -8.19166497e-01,  3.37848329e-01,\n",
              "         5.69251294e-01, -1.24957601e-01, -1.28197243e+00,\n",
              "        -1.24957601e-01,  8.00654259e-01, -1.24957601e-01],\n",
              "       [-1.34127240e+00, -1.34127240e+00, -1.39813811e+00,\n",
              "        -1.28440670e+00, -1.34127240e+00, -1.17067529e+00,\n",
              "        -1.34127240e+00, -1.28440670e+00, -1.34127240e+00,\n",
              "        -1.28440670e+00, -1.28440670e+00, -1.22754100e+00,\n",
              "        -1.34127240e+00, -1.51186952e+00, -1.45500381e+00,\n",
              "        -1.28440670e+00, -1.39813811e+00, -1.34127240e+00,\n",
              "        -1.17067529e+00, -1.28440670e+00, -1.17067529e+00,\n",
              "        -1.28440670e+00, -1.56873522e+00, -1.17067529e+00,\n",
              "        -1.05694388e+00, -1.22754100e+00, -1.22754100e+00,\n",
              "        -1.28440670e+00, -1.34127240e+00, -1.22754100e+00,\n",
              "        -1.22754100e+00, -1.28440670e+00, -1.28440670e+00,\n",
              "        -1.34127240e+00, -1.28440670e+00, -1.45500381e+00,\n",
              "        -1.39813811e+00, -1.28440670e+00, -1.39813811e+00,\n",
              "        -1.28440670e+00, -1.39813811e+00, -1.39813811e+00,\n",
              "        -1.39813811e+00, -1.22754100e+00, -1.05694388e+00,\n",
              "        -1.34127240e+00, -1.22754100e+00, -1.34127240e+00,\n",
              "        -1.28440670e+00, -1.34127240e+00,  5.35295827e-01,\n",
              "         4.21564419e-01,  6.49027235e-01,  1.37235899e-01,\n",
              "         4.78430123e-01,  4.21564419e-01,  5.35295827e-01,\n",
              "        -2.60824029e-01,  4.78430123e-01,  8.03701950e-02,\n",
              "        -1.47092621e-01,  2.50967307e-01,  1.37235899e-01,\n",
              "         5.35295827e-01, -9.02269170e-02,  3.64698715e-01,\n",
              "         4.21564419e-01,  1.94101603e-01,  4.21564419e-01,\n",
              "         8.03701950e-02,  5.92161531e-01,  1.37235899e-01,\n",
              "         6.49027235e-01,  5.35295827e-01,  3.07833011e-01,\n",
              "         3.64698715e-01,  5.92161531e-01,  7.05892939e-01,\n",
              "         4.21564419e-01, -1.47092621e-01,  2.35044910e-02,\n",
              "        -3.33612130e-02,  8.03701950e-02,  7.62758643e-01,\n",
              "         4.21564419e-01,  4.21564419e-01,  5.35295827e-01,\n",
              "         3.64698715e-01,  1.94101603e-01,  1.37235899e-01,\n",
              "         3.64698715e-01,  4.78430123e-01,  1.37235899e-01,\n",
              "        -2.60824029e-01,  2.50967307e-01,  2.50967307e-01,\n",
              "         2.50967307e-01,  3.07833011e-01, -4.31421141e-01,\n",
              "         1.94101603e-01,  1.27454998e+00,  7.62758643e-01,\n",
              "         1.21768427e+00,  1.04708716e+00,  1.16081857e+00,\n",
              "         1.61574420e+00,  4.21564419e-01,  1.44514709e+00,\n",
              "         1.16081857e+00,  1.33141568e+00,  7.62758643e-01,\n",
              "         8.76490051e-01,  9.90221459e-01,  7.05892939e-01,\n",
              "         7.62758643e-01,  8.76490051e-01,  9.90221459e-01,\n",
              "         1.67260991e+00,  1.78634131e+00,  7.05892939e-01,\n",
              "         1.10395287e+00,  6.49027235e-01,  1.67260991e+00,\n",
              "         6.49027235e-01,  1.10395287e+00,  1.27454998e+00,\n",
              "         5.92161531e-01,  6.49027235e-01,  1.04708716e+00,\n",
              "         1.16081857e+00,  1.33141568e+00,  1.50201279e+00,\n",
              "         1.04708716e+00,  7.62758643e-01,  1.04708716e+00,\n",
              "         1.33141568e+00,  1.04708716e+00,  9.90221459e-01,\n",
              "         5.92161531e-01,  9.33355755e-01,  1.04708716e+00,\n",
              "         7.62758643e-01,  7.62758643e-01,  1.21768427e+00,\n",
              "         1.10395287e+00,  8.19624347e-01,  7.05892939e-01,\n",
              "         8.19624347e-01,  9.33355755e-01,  7.62758643e-01],\n",
              "       [-1.31297673e+00, -1.31297673e+00, -1.31297673e+00,\n",
              "        -1.31297673e+00, -1.31297673e+00, -1.05003079e+00,\n",
              "        -1.18150376e+00, -1.31297673e+00, -1.31297673e+00,\n",
              "        -1.44444970e+00, -1.31297673e+00, -1.31297673e+00,\n",
              "        -1.44444970e+00, -1.44444970e+00, -1.31297673e+00,\n",
              "        -1.05003079e+00, -1.05003079e+00, -1.18150376e+00,\n",
              "        -1.18150376e+00, -1.18150376e+00, -1.31297673e+00,\n",
              "        -1.05003079e+00, -1.31297673e+00, -9.18557817e-01,\n",
              "        -1.31297673e+00, -1.31297673e+00, -1.05003079e+00,\n",
              "        -1.31297673e+00, -1.31297673e+00, -1.31297673e+00,\n",
              "        -1.31297673e+00, -1.05003079e+00, -1.44444970e+00,\n",
              "        -1.31297673e+00, -1.44444970e+00, -1.31297673e+00,\n",
              "        -1.31297673e+00, -1.44444970e+00, -1.31297673e+00,\n",
              "        -1.31297673e+00, -1.18150376e+00, -1.18150376e+00,\n",
              "        -1.31297673e+00, -7.87084847e-01, -1.05003079e+00,\n",
              "        -1.18150376e+00, -1.31297673e+00, -1.31297673e+00,\n",
              "        -1.31297673e+00, -1.31297673e+00,  2.64698913e-01,\n",
              "         3.96171883e-01,  3.96171883e-01,  1.33225943e-01,\n",
              "         3.96171883e-01,  1.33225943e-01,  5.27644853e-01,\n",
              "        -2.61192967e-01,  1.33225943e-01,  2.64698913e-01,\n",
              "        -2.61192967e-01,  3.96171883e-01, -2.61192967e-01,\n",
              "         2.64698913e-01,  1.33225943e-01,  2.64698913e-01,\n",
              "         3.96171883e-01, -2.61192967e-01,  3.96171883e-01,\n",
              "        -1.29719997e-01,  7.90590793e-01,  1.33225943e-01,\n",
              "         3.96171883e-01,  1.75297293e-03,  1.33225943e-01,\n",
              "         2.64698913e-01,  2.64698913e-01,  6.59117823e-01,\n",
              "         3.96171883e-01, -2.61192967e-01, -1.29719997e-01,\n",
              "        -2.61192967e-01,  1.75297293e-03,  5.27644853e-01,\n",
              "         3.96171883e-01,  5.27644853e-01,  3.96171883e-01,\n",
              "         1.33225943e-01,  1.33225943e-01,  1.33225943e-01,\n",
              "         1.75297293e-03,  2.64698913e-01,  1.75297293e-03,\n",
              "        -2.61192967e-01,  1.33225943e-01,  1.75297293e-03,\n",
              "         1.33225943e-01,  1.33225943e-01, -1.29719997e-01,\n",
              "         1.33225943e-01,  1.71090158e+00,  9.22063763e-01,\n",
              "         1.18500970e+00,  7.90590793e-01,  1.31648267e+00,\n",
              "         1.18500970e+00,  6.59117823e-01,  7.90590793e-01,\n",
              "         7.90590793e-01,  1.71090158e+00,  1.05353673e+00,\n",
              "         9.22063763e-01,  1.18500970e+00,  1.05353673e+00,\n",
              "         1.57942861e+00,  1.44795564e+00,  7.90590793e-01,\n",
              "         1.31648267e+00,  1.44795564e+00,  3.96171883e-01,\n",
              "         1.44795564e+00,  1.05353673e+00,  1.05353673e+00,\n",
              "         7.90590793e-01,  1.18500970e+00,  7.90590793e-01,\n",
              "         7.90590793e-01,  7.90590793e-01,  1.18500970e+00,\n",
              "         5.27644853e-01,  9.22063763e-01,  1.05353673e+00,\n",
              "         1.31648267e+00,  3.96171883e-01,  2.64698913e-01,\n",
              "         1.44795564e+00,  1.57942861e+00,  7.90590793e-01,\n",
              "         7.90590793e-01,  1.18500970e+00,  1.57942861e+00,\n",
              "         1.44795564e+00,  9.22063763e-01,  1.44795564e+00,\n",
              "         1.71090158e+00,  1.44795564e+00,  9.22063763e-01,\n",
              "         1.05353673e+00,  1.44795564e+00,  7.90590793e-01]])"
            ]
          },
          "metadata": {
            "tags": []
          },
          "execution_count": 17
        }
      ]
    },
    {
      "cell_type": "code",
      "metadata": {
        "colab": {
          "base_uri": "https://localhost:8080/"
        },
        "id": "UJZM_0m_u_75",
        "outputId": "8f8b0d3d-5cf3-464e-854b-5e5bafa029c0"
      },
      "source": [
        "np.mean(data_matrix_m0_std1,axis=1)"
      ],
      "execution_count": 18,
      "outputs": [
        {
          "output_type": "execute_result",
          "data": {
            "text/plain": [
              "array([-4.73695157e-16, -6.63173220e-16,  3.31586610e-16, -2.84217094e-16])"
            ]
          },
          "metadata": {
            "tags": []
          },
          "execution_count": 18
        }
      ]
    },
    {
      "cell_type": "code",
      "metadata": {
        "colab": {
          "base_uri": "https://localhost:8080/"
        },
        "id": "8szwxg_VvD0P",
        "outputId": "bc23d106-74e9-46ac-f6eb-ebb3050548ea"
      },
      "source": [
        "np.std(data_matrix_m0_std1,axis=1)"
      ],
      "execution_count": 19,
      "outputs": [
        {
          "output_type": "execute_result",
          "data": {
            "text/plain": [
              "array([1., 1., 1., 1.])"
            ]
          },
          "metadata": {
            "tags": []
          },
          "execution_count": 19
        }
      ]
    },
    {
      "cell_type": "markdown",
      "metadata": {
        "id": "vJayF2cnvH8J"
      },
      "source": [
        "## วิธีแบบเร็ว"
      ]
    },
    {
      "cell_type": "code",
      "metadata": {
        "id": "yji7WArevJVd"
      },
      "source": [
        "from scipy import stats"
      ],
      "execution_count": 20,
      "outputs": []
    },
    {
      "cell_type": "code",
      "metadata": {
        "colab": {
          "base_uri": "https://localhost:8080/"
        },
        "id": "X-eVEkv5vO7u",
        "outputId": "51ff010c-85cd-4ace-e5c8-a07be672556f"
      },
      "source": [
        "stats.zscore(data_matrix,axis=1)"
      ],
      "execution_count": 21,
      "outputs": [
        {
          "output_type": "execute_result",
          "data": {
            "text/plain": [
              "array([[-9.00681170e-01, -1.14301691e+00, -1.38535265e+00,\n",
              "        -1.50652052e+00, -1.02184904e+00, -5.37177559e-01,\n",
              "        -1.50652052e+00, -1.02184904e+00, -1.74885626e+00,\n",
              "        -1.14301691e+00, -5.37177559e-01, -1.26418478e+00,\n",
              "        -1.26418478e+00, -1.87002413e+00, -5.25060772e-02,\n",
              "        -1.73673948e-01, -5.37177559e-01, -9.00681170e-01,\n",
              "        -1.73673948e-01, -9.00681170e-01, -5.37177559e-01,\n",
              "        -9.00681170e-01, -1.50652052e+00, -9.00681170e-01,\n",
              "        -1.26418478e+00, -1.02184904e+00, -1.02184904e+00,\n",
              "        -7.79513300e-01, -7.79513300e-01, -1.38535265e+00,\n",
              "        -1.26418478e+00, -5.37177559e-01, -7.79513300e-01,\n",
              "        -4.16009689e-01, -1.14301691e+00, -1.02184904e+00,\n",
              "        -4.16009689e-01, -1.14301691e+00, -1.74885626e+00,\n",
              "        -9.00681170e-01, -1.02184904e+00, -1.62768839e+00,\n",
              "        -1.74885626e+00, -1.02184904e+00, -9.00681170e-01,\n",
              "        -1.26418478e+00, -9.00681170e-01, -1.50652052e+00,\n",
              "        -6.58345429e-01, -1.02184904e+00,  1.40150837e+00,\n",
              "         6.74501145e-01,  1.28034050e+00, -4.16009689e-01,\n",
              "         7.95669016e-01, -1.73673948e-01,  5.53333275e-01,\n",
              "        -1.14301691e+00,  9.16836886e-01, -7.79513300e-01,\n",
              "        -1.02184904e+00,  6.86617933e-02,  1.89829664e-01,\n",
              "         3.10997534e-01, -2.94841818e-01,  1.03800476e+00,\n",
              "        -2.94841818e-01, -5.25060772e-02,  4.32165405e-01,\n",
              "        -2.94841818e-01,  6.86617933e-02,  3.10997534e-01,\n",
              "         5.53333275e-01,  3.10997534e-01,  6.74501145e-01,\n",
              "         9.16836886e-01,  1.15917263e+00,  1.03800476e+00,\n",
              "         1.89829664e-01, -1.73673948e-01, -4.16009689e-01,\n",
              "        -4.16009689e-01, -5.25060772e-02,  1.89829664e-01,\n",
              "        -5.37177559e-01,  1.89829664e-01,  1.03800476e+00,\n",
              "         5.53333275e-01, -2.94841818e-01, -4.16009689e-01,\n",
              "        -4.16009689e-01,  3.10997534e-01, -5.25060772e-02,\n",
              "        -1.02184904e+00, -2.94841818e-01, -1.73673948e-01,\n",
              "        -1.73673948e-01,  4.32165405e-01, -9.00681170e-01,\n",
              "        -1.73673948e-01,  5.53333275e-01, -5.25060772e-02,\n",
              "         1.52267624e+00,  5.53333275e-01,  7.95669016e-01,\n",
              "         2.12851559e+00, -1.14301691e+00,  1.76501198e+00,\n",
              "         1.03800476e+00,  1.64384411e+00,  7.95669016e-01,\n",
              "         6.74501145e-01,  1.15917263e+00, -1.73673948e-01,\n",
              "        -5.25060772e-02,  6.74501145e-01,  7.95669016e-01,\n",
              "         2.24968346e+00,  2.24968346e+00,  1.89829664e-01,\n",
              "         1.28034050e+00, -2.94841818e-01,  2.24968346e+00,\n",
              "         5.53333275e-01,  1.03800476e+00,  1.64384411e+00,\n",
              "         4.32165405e-01,  3.10997534e-01,  6.74501145e-01,\n",
              "         1.64384411e+00,  1.88617985e+00,  2.49201920e+00,\n",
              "         6.74501145e-01,  5.53333275e-01,  3.10997534e-01,\n",
              "         2.24968346e+00,  5.53333275e-01,  6.74501145e-01,\n",
              "         1.89829664e-01,  1.28034050e+00,  1.03800476e+00,\n",
              "         1.28034050e+00, -5.25060772e-02,  1.15917263e+00,\n",
              "         1.03800476e+00,  1.03800476e+00,  5.53333275e-01,\n",
              "         7.95669016e-01,  4.32165405e-01,  6.86617933e-02],\n",
              "       [ 1.03205722e+00, -1.24957601e-01,  3.37848329e-01,\n",
              "         1.06445364e-01,  1.26346019e+00,  1.95766909e+00,\n",
              "         8.00654259e-01,  8.00654259e-01, -3.56360566e-01,\n",
              "         1.06445364e-01,  1.49486315e+00,  8.00654259e-01,\n",
              "        -1.24957601e-01, -1.24957601e-01,  2.18907205e+00,\n",
              "         3.11468391e+00,  1.95766909e+00,  1.03205722e+00,\n",
              "         1.72626612e+00,  1.72626612e+00,  8.00654259e-01,\n",
              "         1.49486315e+00,  1.26346019e+00,  5.69251294e-01,\n",
              "         8.00654259e-01, -1.24957601e-01,  8.00654259e-01,\n",
              "         1.03205722e+00,  8.00654259e-01,  3.37848329e-01,\n",
              "         1.06445364e-01,  8.00654259e-01,  2.42047502e+00,\n",
              "         2.65187798e+00,  1.06445364e-01,  3.37848329e-01,\n",
              "         1.03205722e+00,  1.06445364e-01, -1.24957601e-01,\n",
              "         8.00654259e-01,  1.03205722e+00, -1.74477836e+00,\n",
              "         3.37848329e-01,  1.03205722e+00,  1.72626612e+00,\n",
              "        -1.24957601e-01,  1.72626612e+00,  3.37848329e-01,\n",
              "         1.49486315e+00,  5.69251294e-01,  3.37848329e-01,\n",
              "         3.37848329e-01,  1.06445364e-01, -1.74477836e+00,\n",
              "        -5.87763531e-01, -5.87763531e-01,  5.69251294e-01,\n",
              "        -1.51337539e+00, -3.56360566e-01, -8.19166497e-01,\n",
              "        -2.43898725e+00, -1.24957601e-01, -1.97618132e+00,\n",
              "        -3.56360566e-01, -3.56360566e-01,  1.06445364e-01,\n",
              "        -1.24957601e-01, -8.19166497e-01, -1.97618132e+00,\n",
              "        -1.28197243e+00,  3.37848329e-01, -5.87763531e-01,\n",
              "        -1.28197243e+00, -5.87763531e-01, -3.56360566e-01,\n",
              "        -1.24957601e-01, -5.87763531e-01, -1.24957601e-01,\n",
              "        -3.56360566e-01, -1.05056946e+00, -1.51337539e+00,\n",
              "        -1.51337539e+00, -8.19166497e-01, -8.19166497e-01,\n",
              "        -1.24957601e-01,  8.00654259e-01,  1.06445364e-01,\n",
              "        -1.74477836e+00, -1.24957601e-01, -1.28197243e+00,\n",
              "        -1.05056946e+00, -1.24957601e-01, -1.05056946e+00,\n",
              "        -1.74477836e+00, -8.19166497e-01, -1.24957601e-01,\n",
              "        -3.56360566e-01, -3.56360566e-01, -1.28197243e+00,\n",
              "        -5.87763531e-01,  5.69251294e-01, -8.19166497e-01,\n",
              "        -1.24957601e-01, -3.56360566e-01, -1.24957601e-01,\n",
              "        -1.24957601e-01, -1.28197243e+00, -3.56360566e-01,\n",
              "        -1.28197243e+00,  1.26346019e+00,  3.37848329e-01,\n",
              "        -8.19166497e-01, -1.24957601e-01, -1.28197243e+00,\n",
              "        -5.87763531e-01,  3.37848329e-01, -1.24957601e-01,\n",
              "         1.72626612e+00, -1.05056946e+00, -1.97618132e+00,\n",
              "         3.37848329e-01, -5.87763531e-01, -5.87763531e-01,\n",
              "        -8.19166497e-01,  5.69251294e-01,  3.37848329e-01,\n",
              "        -5.87763531e-01, -1.24957601e-01, -5.87763531e-01,\n",
              "        -1.24957601e-01, -5.87763531e-01,  1.72626612e+00,\n",
              "        -5.87763531e-01, -5.87763531e-01, -1.05056946e+00,\n",
              "        -1.24957601e-01,  8.00654259e-01,  1.06445364e-01,\n",
              "        -1.24957601e-01,  1.06445364e-01,  1.06445364e-01,\n",
              "         1.06445364e-01, -8.19166497e-01,  3.37848329e-01,\n",
              "         5.69251294e-01, -1.24957601e-01, -1.28197243e+00,\n",
              "        -1.24957601e-01,  8.00654259e-01, -1.24957601e-01],\n",
              "       [-1.34127240e+00, -1.34127240e+00, -1.39813811e+00,\n",
              "        -1.28440670e+00, -1.34127240e+00, -1.17067529e+00,\n",
              "        -1.34127240e+00, -1.28440670e+00, -1.34127240e+00,\n",
              "        -1.28440670e+00, -1.28440670e+00, -1.22754100e+00,\n",
              "        -1.34127240e+00, -1.51186952e+00, -1.45500381e+00,\n",
              "        -1.28440670e+00, -1.39813811e+00, -1.34127240e+00,\n",
              "        -1.17067529e+00, -1.28440670e+00, -1.17067529e+00,\n",
              "        -1.28440670e+00, -1.56873522e+00, -1.17067529e+00,\n",
              "        -1.05694388e+00, -1.22754100e+00, -1.22754100e+00,\n",
              "        -1.28440670e+00, -1.34127240e+00, -1.22754100e+00,\n",
              "        -1.22754100e+00, -1.28440670e+00, -1.28440670e+00,\n",
              "        -1.34127240e+00, -1.28440670e+00, -1.45500381e+00,\n",
              "        -1.39813811e+00, -1.28440670e+00, -1.39813811e+00,\n",
              "        -1.28440670e+00, -1.39813811e+00, -1.39813811e+00,\n",
              "        -1.39813811e+00, -1.22754100e+00, -1.05694388e+00,\n",
              "        -1.34127240e+00, -1.22754100e+00, -1.34127240e+00,\n",
              "        -1.28440670e+00, -1.34127240e+00,  5.35295827e-01,\n",
              "         4.21564419e-01,  6.49027235e-01,  1.37235899e-01,\n",
              "         4.78430123e-01,  4.21564419e-01,  5.35295827e-01,\n",
              "        -2.60824029e-01,  4.78430123e-01,  8.03701950e-02,\n",
              "        -1.47092621e-01,  2.50967307e-01,  1.37235899e-01,\n",
              "         5.35295827e-01, -9.02269170e-02,  3.64698715e-01,\n",
              "         4.21564419e-01,  1.94101603e-01,  4.21564419e-01,\n",
              "         8.03701950e-02,  5.92161531e-01,  1.37235899e-01,\n",
              "         6.49027235e-01,  5.35295827e-01,  3.07833011e-01,\n",
              "         3.64698715e-01,  5.92161531e-01,  7.05892939e-01,\n",
              "         4.21564419e-01, -1.47092621e-01,  2.35044910e-02,\n",
              "        -3.33612130e-02,  8.03701950e-02,  7.62758643e-01,\n",
              "         4.21564419e-01,  4.21564419e-01,  5.35295827e-01,\n",
              "         3.64698715e-01,  1.94101603e-01,  1.37235899e-01,\n",
              "         3.64698715e-01,  4.78430123e-01,  1.37235899e-01,\n",
              "        -2.60824029e-01,  2.50967307e-01,  2.50967307e-01,\n",
              "         2.50967307e-01,  3.07833011e-01, -4.31421141e-01,\n",
              "         1.94101603e-01,  1.27454998e+00,  7.62758643e-01,\n",
              "         1.21768427e+00,  1.04708716e+00,  1.16081857e+00,\n",
              "         1.61574420e+00,  4.21564419e-01,  1.44514709e+00,\n",
              "         1.16081857e+00,  1.33141568e+00,  7.62758643e-01,\n",
              "         8.76490051e-01,  9.90221459e-01,  7.05892939e-01,\n",
              "         7.62758643e-01,  8.76490051e-01,  9.90221459e-01,\n",
              "         1.67260991e+00,  1.78634131e+00,  7.05892939e-01,\n",
              "         1.10395287e+00,  6.49027235e-01,  1.67260991e+00,\n",
              "         6.49027235e-01,  1.10395287e+00,  1.27454998e+00,\n",
              "         5.92161531e-01,  6.49027235e-01,  1.04708716e+00,\n",
              "         1.16081857e+00,  1.33141568e+00,  1.50201279e+00,\n",
              "         1.04708716e+00,  7.62758643e-01,  1.04708716e+00,\n",
              "         1.33141568e+00,  1.04708716e+00,  9.90221459e-01,\n",
              "         5.92161531e-01,  9.33355755e-01,  1.04708716e+00,\n",
              "         7.62758643e-01,  7.62758643e-01,  1.21768427e+00,\n",
              "         1.10395287e+00,  8.19624347e-01,  7.05892939e-01,\n",
              "         8.19624347e-01,  9.33355755e-01,  7.62758643e-01],\n",
              "       [-1.31297673e+00, -1.31297673e+00, -1.31297673e+00,\n",
              "        -1.31297673e+00, -1.31297673e+00, -1.05003079e+00,\n",
              "        -1.18150376e+00, -1.31297673e+00, -1.31297673e+00,\n",
              "        -1.44444970e+00, -1.31297673e+00, -1.31297673e+00,\n",
              "        -1.44444970e+00, -1.44444970e+00, -1.31297673e+00,\n",
              "        -1.05003079e+00, -1.05003079e+00, -1.18150376e+00,\n",
              "        -1.18150376e+00, -1.18150376e+00, -1.31297673e+00,\n",
              "        -1.05003079e+00, -1.31297673e+00, -9.18557817e-01,\n",
              "        -1.31297673e+00, -1.31297673e+00, -1.05003079e+00,\n",
              "        -1.31297673e+00, -1.31297673e+00, -1.31297673e+00,\n",
              "        -1.31297673e+00, -1.05003079e+00, -1.44444970e+00,\n",
              "        -1.31297673e+00, -1.44444970e+00, -1.31297673e+00,\n",
              "        -1.31297673e+00, -1.44444970e+00, -1.31297673e+00,\n",
              "        -1.31297673e+00, -1.18150376e+00, -1.18150376e+00,\n",
              "        -1.31297673e+00, -7.87084847e-01, -1.05003079e+00,\n",
              "        -1.18150376e+00, -1.31297673e+00, -1.31297673e+00,\n",
              "        -1.31297673e+00, -1.31297673e+00,  2.64698913e-01,\n",
              "         3.96171883e-01,  3.96171883e-01,  1.33225943e-01,\n",
              "         3.96171883e-01,  1.33225943e-01,  5.27644853e-01,\n",
              "        -2.61192967e-01,  1.33225943e-01,  2.64698913e-01,\n",
              "        -2.61192967e-01,  3.96171883e-01, -2.61192967e-01,\n",
              "         2.64698913e-01,  1.33225943e-01,  2.64698913e-01,\n",
              "         3.96171883e-01, -2.61192967e-01,  3.96171883e-01,\n",
              "        -1.29719997e-01,  7.90590793e-01,  1.33225943e-01,\n",
              "         3.96171883e-01,  1.75297293e-03,  1.33225943e-01,\n",
              "         2.64698913e-01,  2.64698913e-01,  6.59117823e-01,\n",
              "         3.96171883e-01, -2.61192967e-01, -1.29719997e-01,\n",
              "        -2.61192967e-01,  1.75297293e-03,  5.27644853e-01,\n",
              "         3.96171883e-01,  5.27644853e-01,  3.96171883e-01,\n",
              "         1.33225943e-01,  1.33225943e-01,  1.33225943e-01,\n",
              "         1.75297293e-03,  2.64698913e-01,  1.75297293e-03,\n",
              "        -2.61192967e-01,  1.33225943e-01,  1.75297293e-03,\n",
              "         1.33225943e-01,  1.33225943e-01, -1.29719997e-01,\n",
              "         1.33225943e-01,  1.71090158e+00,  9.22063763e-01,\n",
              "         1.18500970e+00,  7.90590793e-01,  1.31648267e+00,\n",
              "         1.18500970e+00,  6.59117823e-01,  7.90590793e-01,\n",
              "         7.90590793e-01,  1.71090158e+00,  1.05353673e+00,\n",
              "         9.22063763e-01,  1.18500970e+00,  1.05353673e+00,\n",
              "         1.57942861e+00,  1.44795564e+00,  7.90590793e-01,\n",
              "         1.31648267e+00,  1.44795564e+00,  3.96171883e-01,\n",
              "         1.44795564e+00,  1.05353673e+00,  1.05353673e+00,\n",
              "         7.90590793e-01,  1.18500970e+00,  7.90590793e-01,\n",
              "         7.90590793e-01,  7.90590793e-01,  1.18500970e+00,\n",
              "         5.27644853e-01,  9.22063763e-01,  1.05353673e+00,\n",
              "         1.31648267e+00,  3.96171883e-01,  2.64698913e-01,\n",
              "         1.44795564e+00,  1.57942861e+00,  7.90590793e-01,\n",
              "         7.90590793e-01,  1.18500970e+00,  1.57942861e+00,\n",
              "         1.44795564e+00,  9.22063763e-01,  1.44795564e+00,\n",
              "         1.71090158e+00,  1.44795564e+00,  9.22063763e-01,\n",
              "         1.05353673e+00,  1.44795564e+00,  7.90590793e-01]])"
            ]
          },
          "metadata": {
            "tags": []
          },
          "execution_count": 21
        }
      ]
    },
    {
      "cell_type": "markdown",
      "metadata": {
        "id": "Fd4Cab69vWFY"
      },
      "source": [
        "## 2.   Calculating the covariance matrix (หา covariance matrix ของข้อมูลของเรา)\n",
        "\n",
        "![Screen-Shot-2020-05-23-at-11.42.55-PM.png](data:image/png;base64,iVBORw0KGgoAAAANSUhEUgAAASwAAAAhCAAAAABG/8nDAAAACXBIWXMAABYlAAAWJQFJUiTwAAAH2klEQVRo3u1ZaVBUVxb+Ht10v+5miWADLbKIgCC4IiA6BqIoxJhoHOOCFZeUcUFx1Jko1qilo0FjQohmppzRUFErDhIVjCUJ7gtiwHaLG7gCATOiQLM19PrO/OjXLZB2oZNKMZk+f/rde8937u3vLud79zEEu72sOdgpsJP1/0ZWK2cn6yWtOXtRY1cbk7DLrqu6IuOvEKY6tZv2wQDDj7vZ3/PKkkf9KmHKwlZ6XE5OdWP/F1fWlQr+YVyne669NAbQnI5jcZEAWeijKqC328/9jKd0ABMj2/9HEeAxz0k5yFO8EOg0lvs2yuOZZJXdFQb37IjWVfcQ/AJuaql7+4q7M7kpgVCfvahy6mSoO8tXAU/WDBeBKjbeGZCB1gWaP/ey4mjYpgKY9P6qlC0sAlBd8q4Y/dB5LCNJ+ci/fTPx1rrcVeYqX66m9na5122ywbafNP0um9KhQfdX5rVaIlWfpheFuNi3pm2xJvQMUeu0zQYiosMY0ko54VetI1tbWlpajGRYlUJEVCAxjaXzWC7n9fp2jRay5kozn6gyZB92AP8nvcYWsqLXmH6/29uxpXkSM0dDlKt9UYii9mS9P4sj+jKqjoiIVMEuynMhBS+I0OR3jIjSvaqIyCasdsKHXNtKwVr+LFn28VwpG115fpK4es/e8p5O5wuChDhTFFAeLr73xf5L3m6VOZJdB9GLoQs781r9haj5KrveXwQA2brCnQ+DTmZe9nNBxb/2XfKQZR/SMWE73M4d9YH3nse9mavf+FRl+TgDgCju9LeyGIcQ0+Y2Goy8OTDtV/yjzdc9+zpaijeWrg9E/fyxYwEA4qqT6i82JFjfrxczc6LZ/X/r4ykqOTaN4Ta5zRECNmEF+i1TZVa24T+cVUREnJFKgnsnBYSW7nP9gbghS5TuJde8B84M8jEclYaMi2SPUKY0NtHpT4ayQf2mK8ariYiG+EdMlg0Lm95jVPODHv1m9g2+McPVb7aWHe4yccE47gOXK4+Dp+sy2UK+q2u+LjfNc7U5krdXHzx/prcKa4kuOR4y71GRIIN7hmthhmTx4ZFJPxDt6FZRkxE4qpAjm7BEF5zz2raaD/j7PVgAYBhspgJFZXz6Os/8/rdv/pMAZViWW96ESuiXzGsafnzo6jkZzGfZj7aKTnS7GZs/EQC886WzTxT13L2iocirkC1MbNo1NGEdjE+KQpPBrC6eFyROd3w9P5zvKijGO9A8VQPN2UPkyieUh1bmm1XgvlQMlDEuZhXGtgSbl2LzPf5BHCQEgGFR13aX7PQBINeUxS5ZwqevzmN94SwpGWslG0rVBAANtd7Fbyvg8+YJ99F5Cw8HDr4EvBuZc/2M0YBXRsHZr+lOzWwHpMyRnG9cCiMVTgSAkU5Q+PWEF3GTB+y5XsiZ3lOY90IBwHnb0KtHPKFQmBPO56K1IqBVAgCjR3fg5cE7VsiK2Il6lgHqhfy+LF0Wc2RfIq8Rr0/gb078vjOlXuGMnSN9AECir7PEsAnrKKy2Jh2Cqu/1A7Btb56eBcAajJOy7x9MYgBkrxgaPSMVELAAg1aSAoYaD72TApgbbQ7CCAAGOJQcHfPeSl7v8nm3wUFYGmfpkMsu2OEM6NPWA0BOgXllLfMEAIRct36YeLUQ4KXXAgAezpk1ovjUT7zOGXiG93Hsxp8sD0VKowCARvBUn9iENRhcrZEV77XuS2dU7A3xDD2xXNZ4OlgS6f/pnckAjFkRex1zLNdevdijwfhqW27Yk9XSxhTHDv9pT58DguMGAATA1FibMjpwbdRgdZ2HGADOpKXV1UH3zWMAwE/mbSDRP19lBWuaZOjlUAsAdbMS5umjjp1N4qEhHXzLD848dA++EtSxfpZKm7BqbR+rOivTNS5tU0Tvy3RSPuHvb3meIkoTJehI6X5rll/Gur7MJ0e9KonenM8lu6/5yPd9XaH35K3jFTeIiIasI0odQXTUs3KhfOuGvpL12jGDPtOzB4gWjDMs8i2vj3xVleV/gYjoRoBQLpfLuzGbXlKEXMknIqLy7geJmkf8hUhXHBuvIW4lXqu1CshNSjyudE5YoiZKjjE+lSy2YP+tqLAmHTBwWFXxg8EZ4YxfzG2lIu0PDDwbZoVCW5s4vFqpWyOoH9mcIMHDoEGxkuKyt1OdvKNvKd0+jgCAygGhqHGNRUtzYnRtkXapXDUqoFoXfz/eG9UePicXR7MDSntKniS6A5SnDQsICAgIDJ/k+1K6/dTyxrEA8Mq9C5MhQtZE2dk9IgWF5JYGuv44xNEK4u7ppAlyo26FB5pXbAy2VNuC1W184w0HayuLiFO3mDIqp2mfWY0aIxn0T8t6He9m/PncdPT9pWb4YJHp4XH4CSL19A2GFyE4DZFpCKvmtx2gDdicMe0VeRviGKnElFEZcXuB6CB2gKDNSySfVxixlSuLjr6dN+X4/MUTLSWBuQ951gYlpJ+U7HrRlSAjBiAQAlu0n7YdYOexxw9td+/iVzTupV/3v0WNKpVKpVK3qQ//ugbw2u6he8k4uqA0SfuE2kksh61+Hbjscl938qbm3vk+c9pdAHhrPZOq/tx+U/pMO/dO3PaRwgOWM9V+B/+cHfD9FEZ5VWMuNtyuaugyY7NIh65iBp8YVjFVbhGJ3ftL5V1lbIz9i/Tv4ruhnSw7WXay7GYny07Wb2T/Bb++Nwnph2nOAAAAAElFTkSuQmCC)"
      ]
    },
    {
      "cell_type": "code",
      "metadata": {
        "colab": {
          "base_uri": "https://localhost:8080/",
          "height": 286
        },
        "id": "usf46M4OvQ-K",
        "outputId": "835aeea7-3104-4a7e-87e6-705484b4ce98"
      },
      "source": [
        "pd.plotting.scatter_matrix(example_df); #เรียกมาดูซ้ำ"
      ],
      "execution_count": 22,
      "outputs": [
        {
          "output_type": "display_data",
          "data": {
            "image/png": "[encoded data removed]",
            "text/plain": [
              "<Figure size 432x288 with 16 Axes>"
            ]
          },
          "metadata": {
            "tags": [],
            "needs_background": "light"
          }
        }
      ]
    },
    {
      "cell_type": "code",
      "metadata": {
        "colab": {
          "base_uri": "https://localhost:8080/"
        },
        "id": "m94Z9zWIveY1",
        "outputId": "5ff2d075-a39d-4e0f-ecd0-0a1d04244603"
      },
      "source": [
        "data_cov = np.cov(data_matrix_m0_std1)\n",
        "data_cov"
      ],
      "execution_count": 23,
      "outputs": [
        {
          "output_type": "execute_result",
          "data": {
            "text/plain": [
              "array([[ 1.00671141, -0.11010327,  0.87760486,  0.82344326],\n",
              "       [-0.11010327,  1.00671141, -0.42333835, -0.358937  ],\n",
              "       [ 0.87760486, -0.42333835,  1.00671141,  0.96921855],\n",
              "       [ 0.82344326, -0.358937  ,  0.96921855,  1.00671141]])"
            ]
          },
          "metadata": {
            "tags": []
          },
          "execution_count": 23
        }
      ]
    },
    {
      "cell_type": "markdown",
      "metadata": {
        "id": "rs9Oo0DCxmUm"
      },
      "source": [
        "#3 คำนวณ Eigenvectors and Eigenvalues (คำนวณ eigen values-vectors)"
      ]
    },
    {
      "cell_type": "code",
      "metadata": {
        "id": "-slAM3V_xnkC"
      },
      "source": [
        "eigen_values, eigen_vectors = np.linalg.eig(data_cov)"
      ],
      "execution_count": 24,
      "outputs": []
    },
    {
      "cell_type": "code",
      "metadata": {
        "id": "pzzPv3Q8xsHk",
        "colab": {
          "base_uri": "https://localhost:8080/"
        },
        "outputId": "864fc7a6-bf4f-4619-949a-877672ea2cfc"
      },
      "source": [
        "eigen_values\n",
        "#ถ้าข้อมูลกระจายมาก values ก็จะมาก"
      ],
      "execution_count": 25,
      "outputs": [
        {
          "output_type": "execute_result",
          "data": {
            "text/plain": [
              "array([2.93035378, 0.92740362, 0.14834223, 0.02074601])"
            ]
          },
          "metadata": {
            "tags": []
          },
          "execution_count": 25
        }
      ]
    },
    {
      "cell_type": "code",
      "metadata": {
        "id": "R1hOwAqsxxTS",
        "colab": {
          "base_uri": "https://localhost:8080/"
        },
        "outputId": "48fadf13-f890-4671-c53c-c563e9bf8106"
      },
      "source": [
        "eigen_vectors\n",
        "\n"
      ],
      "execution_count": 26,
      "outputs": [
        {
          "output_type": "execute_result",
          "data": {
            "text/plain": [
              "array([[ 0.52237162, -0.37231836, -0.72101681,  0.26199559],\n",
              "       [-0.26335492, -0.92555649,  0.24203288, -0.12413481],\n",
              "       [ 0.58125401, -0.02109478,  0.14089226, -0.80115427],\n",
              "       [ 0.56561105, -0.06541577,  0.6338014 ,  0.52354627]])"
            ]
          },
          "metadata": {
            "tags": []
          },
          "execution_count": 26
        }
      ]
    },
    {
      "cell_type": "markdown",
      "metadata": {
        "id": "DkkGo5TRx3dH"
      },
      "source": [
        "# 4 Picking Principal Components Using the Explained Variance (เลือกมาเฉพาะ eigens ที่จำเป็น)\n",
        "คำนวณว่า แต่ละ eigen vector อธิบายข้อมูลทั้งหมด ได้ดีแค่ไหน"
      ]
    },
    {
      "cell_type": "code",
      "metadata": {
        "id": "Z9GJ5QPYx4Zk",
        "colab": {
          "base_uri": "https://localhost:8080/"
        },
        "outputId": "e1164b95-fb21-4434-8dd4-3841a07e6e0b"
      },
      "source": [
        "sum(eigen_values)"
      ],
      "execution_count": 27,
      "outputs": [
        {
          "output_type": "execute_result",
          "data": {
            "text/plain": [
              "4.026845637583896"
            ]
          },
          "metadata": {
            "tags": []
          },
          "execution_count": 27
        }
      ]
    },
    {
      "cell_type": "code",
      "metadata": {
        "id": "0sIhgnYIyfMn",
        "colab": {
          "base_uri": "https://localhost:8080/"
        },
        "outputId": "b7c18eed-e0f2-4dc4-d141-a3347071fd50"
      },
      "source": [
        "variance_explained = []\n",
        "for i in eigen_values:\n",
        "     variance_explained.append((i/sum(eigen_values))*100)\n",
        "        \n",
        "print(variance_explained)"
      ],
      "execution_count": 28,
      "outputs": [
        {
          "output_type": "stream",
          "text": [
            "[72.77045209380132, 23.03052326768066, 3.6838319576273824, 0.5151926808906327]\n"
          ],
          "name": "stdout"
        }
      ]
    },
    {
      "cell_type": "code",
      "metadata": {
        "id": "C5wuxUReyiIu",
        "colab": {
          "base_uri": "https://localhost:8080/"
        },
        "outputId": "3648ca3b-9536-4f17-bcc7-1cbcb8ee2557"
      },
      "source": [
        "cumulative_variance_explained = np.cumsum(variance_explained)\n",
        "print(cumulative_variance_explained)"
      ],
      "execution_count": 29,
      "outputs": [
        {
          "output_type": "stream",
          "text": [
            "[ 72.77045209  95.80097536  99.48480732 100.        ]\n"
          ],
          "name": "stdout"
        }
      ]
    },
    {
      "cell_type": "markdown",
      "metadata": {
        "id": "FZMxYp7A2GXx"
      },
      "source": [
        "72.77045209 คือค่าไดเมนชั่นที่ 1 \n",
        "\n",
        "95.80097536 คือค่าไดเมนชั่นที่ 2 \n",
        "\n",
        "99.48480732 คือค่าไดเมนชั่นที่ 3\n",
        "\n",
        "100.00      คือค่าไดเมนชั่นที่ 4 \n"
      ]
    },
    {
      "cell_type": "code",
      "metadata": {
        "id": "1xhiOAEZymXy",
        "colab": {
          "base_uri": "https://localhost:8080/"
        },
        "outputId": "c286c45a-c5f6-4d83-ea62-d8753718d1d7"
      },
      "source": [
        "selected_eigen_vectors = eigen_vectors[:,:2]\n",
        "selected_eigen_vectors"
      ],
      "execution_count": 30,
      "outputs": [
        {
          "output_type": "execute_result",
          "data": {
            "text/plain": [
              "array([[ 0.52237162, -0.37231836],\n",
              "       [-0.26335492, -0.92555649],\n",
              "       [ 0.58125401, -0.02109478],\n",
              "       [ 0.56561105, -0.06541577]])"
            ]
          },
          "metadata": {
            "tags": []
          },
          "execution_count": 30
        }
      ]
    },
    {
      "cell_type": "markdown",
      "metadata": {
        "id": "eVF4ZHqdyr2X"
      },
      "source": [
        "# 5   Project Data Onto Lower-Dimensional Linear Subspace (map data ไปบนแกนใหม่)\n",
        "\n",
        "![project onto new space.png](data:image/png;base64,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)"
      ]
    },
    {
      "cell_type": "code",
      "metadata": {
        "id": "SvypYrAOysxY",
        "colab": {
          "base_uri": "https://localhost:8080/"
        },
        "outputId": "3ea82ba0-45b0-4ed4-d654-d7effc743db8"
      },
      "source": [
        "X = data_matrix_m0_std1\n",
        "X.shape"
      ],
      "execution_count": 31,
      "outputs": [
        {
          "output_type": "execute_result",
          "data": {
            "text/plain": [
              "(4, 150)"
            ]
          },
          "metadata": {
            "tags": []
          },
          "execution_count": 31
        }
      ]
    },
    {
      "cell_type": "code",
      "metadata": {
        "id": "kKbfkSOwyzXH",
        "colab": {
          "base_uri": "https://localhost:8080/"
        },
        "outputId": "03a70210-48f3-45d5-95f5-b0c92b4ad286"
      },
      "source": [
        "W = selected_eigen_vectors\n",
        "W.shape"
      ],
      "execution_count": 32,
      "outputs": [
        {
          "output_type": "execute_result",
          "data": {
            "text/plain": [
              "(4, 2)"
            ]
          },
          "metadata": {
            "tags": []
          },
          "execution_count": 32
        }
      ]
    },
    {
      "cell_type": "code",
      "metadata": {
        "id": "VZ4seH2Py2Vh",
        "colab": {
          "base_uri": "https://localhost:8080/"
        },
        "outputId": "0b2cfc2c-e1a8-46a0-e24b-923cfef44018"
      },
      "source": [
        "X_pca = X.T.dot(W)\n",
        "X_pca\n",
        "#ทำให้ข้อมูลทั้งหมดออกมาเป็นแนวนอน \n",
        "#โดยการ.T เพื่อเก็บข้อมูล 150 ไว้"
      ],
      "execution_count": 33,
      "outputs": [
        {
          "output_type": "execute_result",
          "data": {
            "text/plain": [
              "array([[-2.26454173e+00, -5.05703903e-01],\n",
              "       [-2.08642550e+00,  6.55404729e-01],\n",
              "       [-2.36795045e+00,  3.18477311e-01],\n",
              "       [-2.30419716e+00,  5.75367713e-01],\n",
              "       [-2.38877749e+00, -6.74767397e-01],\n",
              "       [-2.07053681e+00, -1.51854856e+00],\n",
              "       [-2.44571134e+00, -7.45626750e-02],\n",
              "       [-2.23384186e+00, -2.47613932e-01],\n",
              "       [-2.34195768e+00,  1.09514636e+00],\n",
              "       [-2.18867576e+00,  4.48629048e-01],\n",
              "       [-2.16348656e+00, -1.07059558e+00],\n",
              "       [-2.32737775e+00, -1.58587455e-01],\n",
              "       [-2.22408272e+00,  7.09118158e-01],\n",
              "       [-2.63971626e+00,  9.38281982e-01],\n",
              "       [-2.19229151e+00, -1.88997851e+00],\n",
              "       [-2.25146521e+00, -2.72237108e+00],\n",
              "       [-2.20275048e+00, -1.51375028e+00],\n",
              "       [-2.19017916e+00, -5.14304308e-01],\n",
              "       [-1.89407429e+00, -1.43111071e+00],\n",
              "       [-2.33994907e+00, -1.15803343e+00],\n",
              "       [-1.91455639e+00, -4.30465163e-01],\n",
              "       [-2.20464540e+00, -9.52457317e-01],\n",
              "       [-2.77416979e+00, -4.89517027e-01],\n",
              "       [-1.82041156e+00, -1.06750793e-01],\n",
              "       [-2.22821750e+00, -1.62186163e-01],\n",
              "       [-1.95702401e+00,  6.07892567e-01],\n",
              "       [-2.05206331e+00, -2.66014312e-01],\n",
              "       [-2.16819365e+00, -5.52016495e-01],\n",
              "       [-2.14030596e+00, -3.36640409e-01],\n",
              "       [-2.26879019e+00,  3.14878603e-01],\n",
              "       [-2.14455443e+00,  4.83942097e-01],\n",
              "       [-1.83193810e+00, -4.45266836e-01],\n",
              "       [-2.60820287e+00, -1.82847519e+00],\n",
              "       [-2.43795086e+00, -2.18539162e+00],\n",
              "       [-2.18867576e+00,  4.48629048e-01],\n",
              "       [-2.21111990e+00,  1.84337811e-01],\n",
              "       [-2.04441652e+00, -6.84956426e-01],\n",
              "       [-2.18867576e+00,  4.48629048e-01],\n",
              "       [-2.43595220e+00,  8.82169415e-01],\n",
              "       [-2.17054720e+00, -2.92726955e-01],\n",
              "       [-2.28652724e+00, -4.67991716e-01],\n",
              "       [-1.87170722e+00,  2.32769161e+00],\n",
              "       [-2.55783442e+00,  4.53816380e-01],\n",
              "       [-1.96427929e+00, -4.97391640e-01],\n",
              "       [-2.13337283e+00, -1.17143211e+00],\n",
              "       [-2.07535759e+00,  6.91917347e-01],\n",
              "       [-2.38125822e+00, -1.15063259e+00],\n",
              "       [-2.39819169e+00,  3.62390765e-01],\n",
              "       [-2.22678121e+00, -1.02548255e+00],\n",
              "       [-2.20595417e+00, -3.22378453e-02],\n",
              "       [ 1.10399365e+00, -8.63112446e-01],\n",
              "       [ 7.32481440e-01, -5.98635573e-01],\n",
              "       [ 1.24210951e+00, -6.14822450e-01],\n",
              "       [ 3.97307283e-01,  1.75816895e+00],\n",
              "       [ 1.07259395e+00,  2.11757903e-01],\n",
              "       [ 3.84458146e-01,  5.91062469e-01],\n",
              "       [ 7.48715076e-01, -7.78698611e-01],\n",
              "       [-4.97863388e-01,  1.84886877e+00],\n",
              "       [ 9.26222368e-01, -3.03308268e-02],\n",
              "       [ 4.96802558e-03,  1.02940111e+00],\n",
              "       [-1.24697461e-01,  2.65806268e+00],\n",
              "       [ 4.38730118e-01,  5.88812850e-02],\n",
              "       [ 5.51633981e-01,  1.77258156e+00],\n",
              "       [ 7.17165066e-01,  1.85434315e-01],\n",
              "       [-3.72583830e-02,  4.32795099e-01],\n",
              "       [ 8.75890536e-01, -5.09998151e-01],\n",
              "       [ 3.48006402e-01,  1.90621647e-01],\n",
              "       [ 1.53392545e-01,  7.90725456e-01],\n",
              "       [ 1.21530321e+00,  1.63335564e+00],\n",
              "       [ 1.56941176e-01,  1.30310327e+00],\n",
              "       [ 7.38256104e-01, -4.02470382e-01],\n",
              "       [ 4.72369682e-01,  4.16608222e-01],\n",
              "       [ 1.22798821e+00,  9.40914793e-01],\n",
              "       [ 6.29381045e-01,  4.16811643e-01],\n",
              "       [ 7.00472799e-01,  6.34939277e-02],\n",
              "       [ 8.73536987e-01, -2.50708611e-01],\n",
              "       [ 1.25422219e+00,  8.26200998e-02],\n",
              "       [ 1.35823985e+00, -3.28820266e-01],\n",
              "       [ 6.62126138e-01,  2.24346071e-01],\n",
              "       [-4.72815133e-02,  1.05721241e+00],\n",
              "       [ 1.21534209e-01,  1.56359238e+00],\n",
              "       [ 1.41182261e-02,  1.57339235e+00],\n",
              "       [ 2.36010837e-01,  7.75923784e-01],\n",
              "       [ 1.05669143e+00,  6.36901284e-01],\n",
              "       [ 2.21417088e-01,  2.80847693e-01],\n",
              "       [ 4.31783161e-01, -8.55136920e-01],\n",
              "       [ 1.04941336e+00, -5.22197265e-01],\n",
              "       [ 1.03587821e+00,  1.39246648e+00],\n",
              "       [ 6.70675999e-02,  2.12620735e-01],\n",
              "       [ 2.75425066e-01,  1.32981591e+00],\n",
              "       [ 2.72335066e-01,  1.11944152e+00],\n",
              "       [ 6.23170540e-01, -2.75426333e-02],\n",
              "       [ 3.30005364e-01,  9.88900732e-01],\n",
              "       [-3.73627623e-01,  2.01793227e+00],\n",
              "       [ 2.82944343e-01,  8.53950717e-01],\n",
              "       [ 8.90531103e-02,  1.74908548e-01],\n",
              "       [ 2.24356783e-01,  3.80484659e-01],\n",
              "       [ 5.73883486e-01,  1.53719974e-01],\n",
              "       [-4.57012873e-01,  1.53946451e+00],\n",
              "       [ 2.52244473e-01,  5.95860746e-01],\n",
              "       [ 1.84767259e+00, -8.71696662e-01],\n",
              "       [ 1.15318981e+00,  7.01326114e-01],\n",
              "       [ 2.20634950e+00, -5.54470105e-01],\n",
              "       [ 1.43868540e+00,  5.00105223e-02],\n",
              "       [ 1.86789070e+00, -2.91192802e-01],\n",
              "       [ 2.75419671e+00, -7.88432206e-01],\n",
              "       [ 3.58374475e-01,  1.56009458e+00],\n",
              "       [ 2.30300590e+00, -4.09516695e-01],\n",
              "       [ 2.00173530e+00,  7.23865359e-01],\n",
              "       [ 2.26755460e+00, -1.92144299e+00],\n",
              "       [ 1.36590943e+00, -6.93948040e-01],\n",
              "       [ 1.59906459e+00,  4.28248836e-01],\n",
              "       [ 1.88425185e+00, -4.14332758e-01],\n",
              "       [ 1.25308651e+00,  1.16739134e+00],\n",
              "       [ 1.46406152e+00,  4.44147569e-01],\n",
              "       [ 1.59180930e+00, -6.77035372e-01],\n",
              "       [ 1.47128019e+00, -2.53192472e-01],\n",
              "       [ 2.43737848e+00, -2.55675734e+00],\n",
              "       [ 3.30914118e+00,  2.36132010e-03],\n",
              "       [ 1.25398099e+00,  1.71758384e+00],\n",
              "       [ 2.04049626e+00, -9.07398765e-01],\n",
              "       [ 9.73915114e-01,  5.71174376e-01],\n",
              "       [ 2.89806444e+00, -3.97791359e-01],\n",
              "       [ 1.32919369e+00,  4.86760542e-01],\n",
              "       [ 1.70424071e+00, -1.01414842e+00],\n",
              "       [ 1.95772766e+00, -1.00333452e+00],\n",
              "       [ 1.17190451e+00,  3.18896617e-01],\n",
              "       [ 1.01978105e+00, -6.55429631e-02],\n",
              "       [ 1.78600886e+00,  1.93272800e-01],\n",
              "       [ 1.86477791e+00, -5.55381532e-01],\n",
              "       [ 2.43549739e+00, -2.46654468e-01],\n",
              "       [ 2.31608241e+00, -2.62618387e+00],\n",
              "       [ 1.86037143e+00,  1.84672394e-01],\n",
              "       [ 1.11127173e+00,  2.95986102e-01],\n",
              "       [ 1.19746916e+00,  8.17167742e-01],\n",
              "       [ 2.80094940e+00, -8.44748194e-01],\n",
              "       [ 1.58015525e+00, -1.07247450e+00],\n",
              "       [ 1.34704442e+00, -4.22255966e-01],\n",
              "       [ 9.23432978e-01, -1.92303705e-02],\n",
              "       [ 1.85355198e+00, -6.72422729e-01],\n",
              "       [ 2.01615720e+00, -6.10397038e-01],\n",
              "       [ 1.90311686e+00, -6.86024832e-01],\n",
              "       [ 1.15318981e+00,  7.01326114e-01],\n",
              "       [ 2.04330844e+00, -8.64684880e-01],\n",
              "       [ 2.00169097e+00, -1.04855005e+00],\n",
              "       [ 1.87052207e+00, -3.82821838e-01],\n",
              "       [ 1.55849189e+00,  9.05313601e-01],\n",
              "       [ 1.52084506e+00, -2.66794575e-01],\n",
              "       [ 1.37639119e+00, -1.01636193e+00],\n",
              "       [ 9.59298576e-01,  2.22839447e-02]])"
            ]
          },
          "metadata": {
            "tags": []
          },
          "execution_count": 33
        }
      ]
    },
    {
      "cell_type": "code",
      "metadata": {
        "id": "MDCdvWzPy6HU",
        "colab": {
          "base_uri": "https://localhost:8080/",
          "height": 283
        },
        "outputId": "83349455-30ef-4426-9112-b6bf178a5104"
      },
      "source": [
        "plt.plot(X_pca[:,0],X_pca[:,1],'or') #'or' จุดกลมสีแดง"
      ],
      "execution_count": 34,
      "outputs": [
        {
          "output_type": "execute_result",
          "data": {
            "text/plain": [
              "[<matplotlib.lines.Line2D at 0x7f9be3300fd0>]"
            ]
          },
          "metadata": {
            "tags": []
          },
          "execution_count": 34
        },
        {
          "output_type": "display_data",
          "data": {
            "image/png": "[encoded data removed]",
            "text/plain": [
              "<Figure size 432x288 with 1 Axes>"
            ]
          },
          "metadata": {
            "tags": [],
            "needs_background": "light"
          }
        }
      ]
    },
    {
      "cell_type": "code",
      "metadata": {
        "id": "rWCUwqqNy9TN",
        "colab": {
          "base_uri": "https://localhost:8080/",
          "height": 283
        },
        "outputId": "21453a1b-c74e-47c1-d809-1cac7470183a"
      },
      "source": [
        "plt.plot(X_pca[:50,0],X_pca[:50,1],'or')\n",
        "plt.plot(X_pca[50:100,0],X_pca[50:100,1],'og')\n",
        "plt.plot(X_pca[100:,0],X_pca[100:,1],'oy')"
      ],
      "execution_count": 35,
      "outputs": [
        {
          "output_type": "execute_result",
          "data": {
            "text/plain": [
              "[<matplotlib.lines.Line2D at 0x7f9be327e210>]"
            ]
          },
          "metadata": {
            "tags": []
          },
          "execution_count": 35
        },
        {
          "output_type": "display_data",
          "data": {
            "image/png": "[encoded data removed]",
            "text/plain": [
              "<Figure size 432x288 with 1 Axes>"
            ]
          },
          "metadata": {
            "tags": [],
            "needs_background": "light"
          }
        }
      ]
    },
    {
      "cell_type": "markdown",
      "metadata": {
        "id": "2RiOWG3mzBIQ"
      },
      "source": [
        "##PCA"
      ]
    },
    {
      "cell_type": "markdown",
      "metadata": {
        "id": "1dtA-Ep_zCov"
      },
      "source": [
        "#### Import"
      ]
    },
    {
      "cell_type": "code",
      "metadata": {
        "id": "DGGR7NcVzF49"
      },
      "source": [
        "from sklearn.decomposition import PCA"
      ],
      "execution_count": 36,
      "outputs": []
    },
    {
      "cell_type": "markdown",
      "metadata": {
        "id": "sEl7qv6BzLVX"
      },
      "source": [
        "#### Define"
      ]
    },
    {
      "cell_type": "code",
      "metadata": {
        "id": "qVmx3GeEzMSV"
      },
      "source": [
        "pca = PCA(n_components=2)"
      ],
      "execution_count": 37,
      "outputs": []
    },
    {
      "cell_type": "markdown",
      "metadata": {
        "id": "wQKZdTP9zTrh"
      },
      "source": [
        "#### Fit - Transform"
      ]
    },
    {
      "cell_type": "code",
      "metadata": {
        "id": "O1iA0oEPzXEN"
      },
      "source": [
        "new_pca = pca.fit_transform(X.T)  ## record - แถว  , dimension - หลัก"
      ],
      "execution_count": 38,
      "outputs": []
    },
    {
      "cell_type": "code",
      "metadata": {
        "id": "0RxjbqGxzb8j",
        "colab": {
          "base_uri": "https://localhost:8080/"
        },
        "outputId": "178af783-8a79-4629-93c2-f1574685d458"
      },
      "source": [
        "new_pca"
      ],
      "execution_count": 39,
      "outputs": [
        {
          "output_type": "execute_result",
          "data": {
            "text/plain": [
              "array([[-2.26454173e+00,  5.05703903e-01],\n",
              "       [-2.08642550e+00, -6.55404729e-01],\n",
              "       [-2.36795045e+00, -3.18477311e-01],\n",
              "       [-2.30419716e+00, -5.75367713e-01],\n",
              "       [-2.38877749e+00,  6.74767397e-01],\n",
              "       [-2.07053681e+00,  1.51854856e+00],\n",
              "       [-2.44571134e+00,  7.45626750e-02],\n",
              "       [-2.23384186e+00,  2.47613932e-01],\n",
              "       [-2.34195768e+00, -1.09514636e+00],\n",
              "       [-2.18867576e+00, -4.48629048e-01],\n",
              "       [-2.16348656e+00,  1.07059558e+00],\n",
              "       [-2.32737775e+00,  1.58587455e-01],\n",
              "       [-2.22408272e+00, -7.09118158e-01],\n",
              "       [-2.63971626e+00, -9.38281982e-01],\n",
              "       [-2.19229151e+00,  1.88997851e+00],\n",
              "       [-2.25146521e+00,  2.72237108e+00],\n",
              "       [-2.20275048e+00,  1.51375028e+00],\n",
              "       [-2.19017916e+00,  5.14304308e-01],\n",
              "       [-1.89407429e+00,  1.43111071e+00],\n",
              "       [-2.33994907e+00,  1.15803343e+00],\n",
              "       [-1.91455639e+00,  4.30465163e-01],\n",
              "       [-2.20464540e+00,  9.52457317e-01],\n",
              "       [-2.77416979e+00,  4.89517027e-01],\n",
              "       [-1.82041156e+00,  1.06750793e-01],\n",
              "       [-2.22821750e+00,  1.62186163e-01],\n",
              "       [-1.95702401e+00, -6.07892567e-01],\n",
              "       [-2.05206331e+00,  2.66014312e-01],\n",
              "       [-2.16819365e+00,  5.52016495e-01],\n",
              "       [-2.14030596e+00,  3.36640409e-01],\n",
              "       [-2.26879019e+00, -3.14878603e-01],\n",
              "       [-2.14455443e+00, -4.83942097e-01],\n",
              "       [-1.83193810e+00,  4.45266836e-01],\n",
              "       [-2.60820287e+00,  1.82847519e+00],\n",
              "       [-2.43795086e+00,  2.18539162e+00],\n",
              "       [-2.18867576e+00, -4.48629048e-01],\n",
              "       [-2.21111990e+00, -1.84337811e-01],\n",
              "       [-2.04441652e+00,  6.84956426e-01],\n",
              "       [-2.18867576e+00, -4.48629048e-01],\n",
              "       [-2.43595220e+00, -8.82169415e-01],\n",
              "       [-2.17054720e+00,  2.92726955e-01],\n",
              "       [-2.28652724e+00,  4.67991716e-01],\n",
              "       [-1.87170722e+00, -2.32769161e+00],\n",
              "       [-2.55783442e+00, -4.53816380e-01],\n",
              "       [-1.96427929e+00,  4.97391640e-01],\n",
              "       [-2.13337283e+00,  1.17143211e+00],\n",
              "       [-2.07535759e+00, -6.91917347e-01],\n",
              "       [-2.38125822e+00,  1.15063259e+00],\n",
              "       [-2.39819169e+00, -3.62390765e-01],\n",
              "       [-2.22678121e+00,  1.02548255e+00],\n",
              "       [-2.20595417e+00,  3.22378453e-02],\n",
              "       [ 1.10399365e+00,  8.63112446e-01],\n",
              "       [ 7.32481440e-01,  5.98635573e-01],\n",
              "       [ 1.24210951e+00,  6.14822450e-01],\n",
              "       [ 3.97307283e-01, -1.75816895e+00],\n",
              "       [ 1.07259395e+00, -2.11757903e-01],\n",
              "       [ 3.84458146e-01, -5.91062469e-01],\n",
              "       [ 7.48715076e-01,  7.78698611e-01],\n",
              "       [-4.97863388e-01, -1.84886877e+00],\n",
              "       [ 9.26222368e-01,  3.03308268e-02],\n",
              "       [ 4.96802558e-03, -1.02940111e+00],\n",
              "       [-1.24697461e-01, -2.65806268e+00],\n",
              "       [ 4.38730118e-01, -5.88812850e-02],\n",
              "       [ 5.51633981e-01, -1.77258156e+00],\n",
              "       [ 7.17165066e-01, -1.85434315e-01],\n",
              "       [-3.72583830e-02, -4.32795099e-01],\n",
              "       [ 8.75890536e-01,  5.09998151e-01],\n",
              "       [ 3.48006402e-01, -1.90621647e-01],\n",
              "       [ 1.53392545e-01, -7.90725456e-01],\n",
              "       [ 1.21530321e+00, -1.63335564e+00],\n",
              "       [ 1.56941176e-01, -1.30310327e+00],\n",
              "       [ 7.38256104e-01,  4.02470382e-01],\n",
              "       [ 4.72369682e-01, -4.16608222e-01],\n",
              "       [ 1.22798821e+00, -9.40914793e-01],\n",
              "       [ 6.29381045e-01, -4.16811643e-01],\n",
              "       [ 7.00472799e-01, -6.34939277e-02],\n",
              "       [ 8.73536987e-01,  2.50708611e-01],\n",
              "       [ 1.25422219e+00, -8.26200998e-02],\n",
              "       [ 1.35823985e+00,  3.28820266e-01],\n",
              "       [ 6.62126138e-01, -2.24346071e-01],\n",
              "       [-4.72815133e-02, -1.05721241e+00],\n",
              "       [ 1.21534209e-01, -1.56359238e+00],\n",
              "       [ 1.41182261e-02, -1.57339235e+00],\n",
              "       [ 2.36010837e-01, -7.75923784e-01],\n",
              "       [ 1.05669143e+00, -6.36901284e-01],\n",
              "       [ 2.21417088e-01, -2.80847693e-01],\n",
              "       [ 4.31783161e-01,  8.55136920e-01],\n",
              "       [ 1.04941336e+00,  5.22197265e-01],\n",
              "       [ 1.03587821e+00, -1.39246648e+00],\n",
              "       [ 6.70675999e-02, -2.12620735e-01],\n",
              "       [ 2.75425066e-01, -1.32981591e+00],\n",
              "       [ 2.72335066e-01, -1.11944152e+00],\n",
              "       [ 6.23170540e-01,  2.75426333e-02],\n",
              "       [ 3.30005364e-01, -9.88900732e-01],\n",
              "       [-3.73627623e-01, -2.01793227e+00],\n",
              "       [ 2.82944343e-01, -8.53950717e-01],\n",
              "       [ 8.90531103e-02, -1.74908548e-01],\n",
              "       [ 2.24356783e-01, -3.80484659e-01],\n",
              "       [ 5.73883486e-01, -1.53719974e-01],\n",
              "       [-4.57012873e-01, -1.53946451e+00],\n",
              "       [ 2.52244473e-01, -5.95860746e-01],\n",
              "       [ 1.84767259e+00,  8.71696662e-01],\n",
              "       [ 1.15318981e+00, -7.01326114e-01],\n",
              "       [ 2.20634950e+00,  5.54470105e-01],\n",
              "       [ 1.43868540e+00, -5.00105223e-02],\n",
              "       [ 1.86789070e+00,  2.91192802e-01],\n",
              "       [ 2.75419671e+00,  7.88432206e-01],\n",
              "       [ 3.58374475e-01, -1.56009458e+00],\n",
              "       [ 2.30300590e+00,  4.09516695e-01],\n",
              "       [ 2.00173530e+00, -7.23865359e-01],\n",
              "       [ 2.26755460e+00,  1.92144299e+00],\n",
              "       [ 1.36590943e+00,  6.93948040e-01],\n",
              "       [ 1.59906459e+00, -4.28248836e-01],\n",
              "       [ 1.88425185e+00,  4.14332758e-01],\n",
              "       [ 1.25308651e+00, -1.16739134e+00],\n",
              "       [ 1.46406152e+00, -4.44147569e-01],\n",
              "       [ 1.59180930e+00,  6.77035372e-01],\n",
              "       [ 1.47128019e+00,  2.53192472e-01],\n",
              "       [ 2.43737848e+00,  2.55675734e+00],\n",
              "       [ 3.30914118e+00, -2.36132010e-03],\n",
              "       [ 1.25398099e+00, -1.71758384e+00],\n",
              "       [ 2.04049626e+00,  9.07398765e-01],\n",
              "       [ 9.73915114e-01, -5.71174376e-01],\n",
              "       [ 2.89806444e+00,  3.97791359e-01],\n",
              "       [ 1.32919369e+00, -4.86760542e-01],\n",
              "       [ 1.70424071e+00,  1.01414842e+00],\n",
              "       [ 1.95772766e+00,  1.00333452e+00],\n",
              "       [ 1.17190451e+00, -3.18896617e-01],\n",
              "       [ 1.01978105e+00,  6.55429631e-02],\n",
              "       [ 1.78600886e+00, -1.93272800e-01],\n",
              "       [ 1.86477791e+00,  5.55381532e-01],\n",
              "       [ 2.43549739e+00,  2.46654468e-01],\n",
              "       [ 2.31608241e+00,  2.62618387e+00],\n",
              "       [ 1.86037143e+00, -1.84672394e-01],\n",
              "       [ 1.11127173e+00, -2.95986102e-01],\n",
              "       [ 1.19746916e+00, -8.17167742e-01],\n",
              "       [ 2.80094940e+00,  8.44748194e-01],\n",
              "       [ 1.58015525e+00,  1.07247450e+00],\n",
              "       [ 1.34704442e+00,  4.22255966e-01],\n",
              "       [ 9.23432978e-01,  1.92303705e-02],\n",
              "       [ 1.85355198e+00,  6.72422729e-01],\n",
              "       [ 2.01615720e+00,  6.10397038e-01],\n",
              "       [ 1.90311686e+00,  6.86024832e-01],\n",
              "       [ 1.15318981e+00, -7.01326114e-01],\n",
              "       [ 2.04330844e+00,  8.64684880e-01],\n",
              "       [ 2.00169097e+00,  1.04855005e+00],\n",
              "       [ 1.87052207e+00,  3.82821838e-01],\n",
              "       [ 1.55849189e+00, -9.05313601e-01],\n",
              "       [ 1.52084506e+00,  2.66794575e-01],\n",
              "       [ 1.37639119e+00,  1.01636193e+00],\n",
              "       [ 9.59298576e-01, -2.22839447e-02]])"
            ]
          },
          "metadata": {
            "tags": []
          },
          "execution_count": 39
        }
      ]
    },
    {
      "cell_type": "code",
      "metadata": {
        "id": "ZESJGstOzhRX",
        "colab": {
          "base_uri": "https://localhost:8080/",
          "height": 283
        },
        "outputId": "bc46c624-aca6-4fb7-ecdf-03306af84b0b"
      },
      "source": [
        "plt.plot(new_pca[:50,0],new_pca[:50,1],'or')\n",
        "plt.plot(new_pca[50:100,0],new_pca[50:100,1],'og')\n",
        "plt.plot(new_pca[100:,0],new_pca[100:,1],'oy')"
      ],
      "execution_count": 40,
      "outputs": [
        {
          "output_type": "execute_result",
          "data": {
            "text/plain": [
              "[<matplotlib.lines.Line2D at 0x7f9bebe9add0>]"
            ]
          },
          "metadata": {
            "tags": []
          },
          "execution_count": 40
        },
        {
          "output_type": "display_data",
          "data": {
            "image/png": "[encoded data removed]",
            "text/plain": [
              "<Figure size 432x288 with 1 Axes>"
            ]
          },
          "metadata": {
            "tags": [],
            "needs_background": "light"
          }
        }
      ]
    },
    {
      "cell_type": "code",
      "metadata": {
        "id": "f2I9AV_9zjQk"
      },
      "source": [
        "import pandas as pd "
      ],
      "execution_count": 43,
      "outputs": []
    },
    {
      "cell_type": "code",
      "metadata": {
        "id": "SzKhYxCX90z9",
        "colab": {
          "base_uri": "https://localhost:8080/",
          "height": 722
        },
        "outputId": "2e8ca317-bd22-4db3-a664-298a594fc734"
      },
      "source": [
        "data = pd.read_csv('nndb_flat.csv')\n",
        "data.head(10)"
      ],
      "execution_count": 45,
      "outputs": [
        {
          "output_type": "execute_result",
          "data": {
            "text/html": [
              "<div>\n",
              "<style scoped>\n",
              "    .dataframe tbody tr th:only-of-type {\n",
              "        vertical-align: middle;\n",
              "    }\n",
              "\n",
              "    .dataframe tbody tr th {\n",
              "        vertical-align: top;\n",
              "    }\n",
              "\n",
              "    .dataframe thead th {\n",
              "        text-align: right;\n",
              "    }\n",
              "</style>\n",
              "<table border=\"1\" class=\"dataframe\">\n",
              "  <thead>\n",
              "    <tr style=\"text-align: right;\">\n",
              "      <th></th>\n",
              "      <th>ID</th>\n",
              "      <th>FoodGroup</th>\n",
              "      <th>ShortDescrip</th>\n",
              "      <th>Descrip</th>\n",
              "      <th>CommonName</th>\n",
              "      <th>MfgName</th>\n",
              "      <th>ScientificName</th>\n",
              "      <th>Energy_kcal</th>\n",
              "      <th>Protein_g</th>\n",
              "      <th>Fat_g</th>\n",
              "      <th>Carb_g</th>\n",
              "      <th>Sugar_g</th>\n",
              "      <th>Fiber_g</th>\n",
              "      <th>VitA_mcg</th>\n",
              "      <th>VitB6_mg</th>\n",
              "      <th>VitB12_mcg</th>\n",
              "      <th>VitC_mg</th>\n",
              "      <th>VitE_mg</th>\n",
              "      <th>Folate_mcg</th>\n",
              "      <th>Niacin_mg</th>\n",
              "      <th>Riboflavin_mg</th>\n",
              "      <th>Thiamin_mg</th>\n",
              "      <th>Calcium_mg</th>\n",
              "      <th>Copper_mcg</th>\n",
              "      <th>Iron_mg</th>\n",
              "      <th>Magnesium_mg</th>\n",
              "      <th>Manganese_mg</th>\n",
              "      <th>Phosphorus_mg</th>\n",
              "      <th>Selenium_mcg</th>\n",
              "      <th>Zinc_mg</th>\n",
              "      <th>VitA_USRDA</th>\n",
              "      <th>VitB6_USRDA</th>\n",
              "      <th>VitB12_USRDA</th>\n",
              "      <th>VitC_USRDA</th>\n",
              "      <th>VitE_USRDA</th>\n",
              "      <th>Folate_USRDA</th>\n",
              "      <th>Niacin_USRDA</th>\n",
              "      <th>Riboflavin_USRDA</th>\n",
              "      <th>Thiamin_USRDA</th>\n",
              "      <th>Calcium_USRDA</th>\n",
              "      <th>Copper_USRDA</th>\n",
              "      <th>Magnesium_USRDA</th>\n",
              "      <th>Phosphorus_USRDA</th>\n",
              "      <th>Selenium_USRDA</th>\n",
              "      <th>Zinc_USRDA</th>\n",
              "    </tr>\n",
              "  </thead>\n",
              "  <tbody>\n",
              "    <tr>\n",
              "      <th>0</th>\n",
              "      <td>1001</td>\n",
              "      <td>Dairy and Egg Products</td>\n",
              "      <td>BUTTER,WITH SALT</td>\n",
              "      <td>Butter, salted</td>\n",
              "      <td>NaN</td>\n",
              "      <td>NaN</td>\n",
              "      <td>NaN</td>\n",
              "      <td>717.0</td>\n",
              "      <td>0.85</td>\n",
              "      <td>81.11</td>\n",
              "      <td>0.06</td>\n",
              "      <td>0.06</td>\n",
              "      <td>0.0</td>\n",
              "      <td>684.0</td>\n",
              "      <td>0.003</td>\n",
              "      <td>0.17</td>\n",
              "      <td>0.0</td>\n",
              "      <td>2.32</td>\n",
              "      <td>3.0</td>\n",
              "      <td>0.042</td>\n",
              "      <td>0.034</td>\n",
              "      <td>0.005</td>\n",
              "      <td>24.0</td>\n",
              "      <td>0.000</td>\n",
              "      <td>0.02</td>\n",
              "      <td>2.0</td>\n",
              "      <td>0.000</td>\n",
              "      <td>24.0</td>\n",
              "      <td>1.0</td>\n",
              "      <td>0.09</td>\n",
              "      <td>0.760000</td>\n",
              "      <td>0.001765</td>\n",
              "      <td>0.070833</td>\n",
              "      <td>0.0</td>\n",
              "      <td>0.154667</td>\n",
              "      <td>0.0075</td>\n",
              "      <td>0.002625</td>\n",
              "      <td>0.026154</td>\n",
              "      <td>0.004167</td>\n",
              "      <td>0.020000</td>\n",
              "      <td>0.000000</td>\n",
              "      <td>0.004762</td>\n",
              "      <td>0.034286</td>\n",
              "      <td>0.018182</td>\n",
              "      <td>0.008182</td>\n",
              "    </tr>\n",
              "    <tr>\n",
              "      <th>1</th>\n",
              "      <td>1002</td>\n",
              "      <td>Dairy and Egg Products</td>\n",
              "      <td>BUTTER,WHIPPED,WITH SALT</td>\n",
              "      <td>Butter, whipped, with salt</td>\n",
              "      <td>NaN</td>\n",
              "      <td>NaN</td>\n",
              "      <td>NaN</td>\n",
              "      <td>717.0</td>\n",
              "      <td>0.85</td>\n",
              "      <td>81.11</td>\n",
              "      <td>0.06</td>\n",
              "      <td>0.06</td>\n",
              "      <td>0.0</td>\n",
              "      <td>684.0</td>\n",
              "      <td>0.003</td>\n",
              "      <td>0.13</td>\n",
              "      <td>0.0</td>\n",
              "      <td>2.32</td>\n",
              "      <td>3.0</td>\n",
              "      <td>0.042</td>\n",
              "      <td>0.034</td>\n",
              "      <td>0.005</td>\n",
              "      <td>24.0</td>\n",
              "      <td>0.016</td>\n",
              "      <td>0.16</td>\n",
              "      <td>2.0</td>\n",
              "      <td>0.004</td>\n",
              "      <td>23.0</td>\n",
              "      <td>1.0</td>\n",
              "      <td>0.05</td>\n",
              "      <td>0.760000</td>\n",
              "      <td>0.001765</td>\n",
              "      <td>0.054167</td>\n",
              "      <td>0.0</td>\n",
              "      <td>0.154667</td>\n",
              "      <td>0.0075</td>\n",
              "      <td>0.002625</td>\n",
              "      <td>0.026154</td>\n",
              "      <td>0.004167</td>\n",
              "      <td>0.020000</td>\n",
              "      <td>0.000018</td>\n",
              "      <td>0.004762</td>\n",
              "      <td>0.032857</td>\n",
              "      <td>0.018182</td>\n",
              "      <td>0.004545</td>\n",
              "    </tr>\n",
              "    <tr>\n",
              "      <th>2</th>\n",
              "      <td>1003</td>\n",
              "      <td>Dairy and Egg Products</td>\n",
              "      <td>BUTTER OIL,ANHYDROUS</td>\n",
              "      <td>Butter oil, anhydrous</td>\n",
              "      <td>NaN</td>\n",
              "      <td>NaN</td>\n",
              "      <td>NaN</td>\n",
              "      <td>876.0</td>\n",
              "      <td>0.28</td>\n",
              "      <td>99.48</td>\n",
              "      <td>0.00</td>\n",
              "      <td>0.00</td>\n",
              "      <td>0.0</td>\n",
              "      <td>840.0</td>\n",
              "      <td>0.001</td>\n",
              "      <td>0.01</td>\n",
              "      <td>0.0</td>\n",
              "      <td>2.80</td>\n",
              "      <td>0.0</td>\n",
              "      <td>0.003</td>\n",
              "      <td>0.005</td>\n",
              "      <td>0.001</td>\n",
              "      <td>4.0</td>\n",
              "      <td>0.001</td>\n",
              "      <td>0.00</td>\n",
              "      <td>0.0</td>\n",
              "      <td>0.000</td>\n",
              "      <td>3.0</td>\n",
              "      <td>0.0</td>\n",
              "      <td>0.01</td>\n",
              "      <td>0.933333</td>\n",
              "      <td>0.000588</td>\n",
              "      <td>0.004167</td>\n",
              "      <td>0.0</td>\n",
              "      <td>0.186667</td>\n",
              "      <td>0.0000</td>\n",
              "      <td>0.000188</td>\n",
              "      <td>0.003846</td>\n",
              "      <td>0.000833</td>\n",
              "      <td>0.003333</td>\n",
              "      <td>0.000001</td>\n",
              "      <td>0.000000</td>\n",
              "      <td>0.004286</td>\n",
              "      <td>0.000000</td>\n",
              "      <td>0.000909</td>\n",
              "    </tr>\n",
              "    <tr>\n",
              "      <th>3</th>\n",
              "      <td>1004</td>\n",
              "      <td>Dairy and Egg Products</td>\n",
              "      <td>CHEESE,BLUE</td>\n",
              "      <td>Cheese, blue</td>\n",
              "      <td>NaN</td>\n",
              "      <td>NaN</td>\n",
              "      <td>NaN</td>\n",
              "      <td>353.0</td>\n",
              "      <td>21.40</td>\n",
              "      <td>28.74</td>\n",
              "      <td>2.34</td>\n",
              "      <td>0.50</td>\n",
              "      <td>0.0</td>\n",
              "      <td>198.0</td>\n",
              "      <td>0.166</td>\n",
              "      <td>1.22</td>\n",
              "      <td>0.0</td>\n",
              "      <td>0.25</td>\n",
              "      <td>36.0</td>\n",
              "      <td>1.016</td>\n",
              "      <td>0.382</td>\n",
              "      <td>0.029</td>\n",
              "      <td>528.0</td>\n",
              "      <td>0.040</td>\n",
              "      <td>0.31</td>\n",
              "      <td>23.0</td>\n",
              "      <td>0.009</td>\n",
              "      <td>387.0</td>\n",
              "      <td>14.5</td>\n",
              "      <td>2.66</td>\n",
              "      <td>0.220000</td>\n",
              "      <td>0.097647</td>\n",
              "      <td>0.508333</td>\n",
              "      <td>0.0</td>\n",
              "      <td>0.016667</td>\n",
              "      <td>0.0900</td>\n",
              "      <td>0.063500</td>\n",
              "      <td>0.293846</td>\n",
              "      <td>0.024167</td>\n",
              "      <td>0.440000</td>\n",
              "      <td>0.000044</td>\n",
              "      <td>0.054762</td>\n",
              "      <td>0.552857</td>\n",
              "      <td>0.263636</td>\n",
              "      <td>0.241818</td>\n",
              "    </tr>\n",
              "    <tr>\n",
              "      <th>4</th>\n",
              "      <td>1005</td>\n",
              "      <td>Dairy and Egg Products</td>\n",
              "      <td>CHEESE,BRICK</td>\n",
              "      <td>Cheese, brick</td>\n",
              "      <td>NaN</td>\n",
              "      <td>NaN</td>\n",
              "      <td>NaN</td>\n",
              "      <td>371.0</td>\n",
              "      <td>23.24</td>\n",
              "      <td>29.68</td>\n",
              "      <td>2.79</td>\n",
              "      <td>0.51</td>\n",
              "      <td>0.0</td>\n",
              "      <td>292.0</td>\n",
              "      <td>0.065</td>\n",
              "      <td>1.26</td>\n",
              "      <td>0.0</td>\n",
              "      <td>0.26</td>\n",
              "      <td>20.0</td>\n",
              "      <td>0.118</td>\n",
              "      <td>0.351</td>\n",
              "      <td>0.014</td>\n",
              "      <td>674.0</td>\n",
              "      <td>0.024</td>\n",
              "      <td>0.43</td>\n",
              "      <td>24.0</td>\n",
              "      <td>0.012</td>\n",
              "      <td>451.0</td>\n",
              "      <td>14.5</td>\n",
              "      <td>2.60</td>\n",
              "      <td>0.324444</td>\n",
              "      <td>0.038235</td>\n",
              "      <td>0.525000</td>\n",
              "      <td>0.0</td>\n",
              "      <td>0.017333</td>\n",
              "      <td>0.0500</td>\n",
              "      <td>0.007375</td>\n",
              "      <td>0.270000</td>\n",
              "      <td>0.011667</td>\n",
              "      <td>0.561667</td>\n",
              "      <td>0.000027</td>\n",
              "      <td>0.057143</td>\n",
              "      <td>0.644286</td>\n",
              "      <td>0.263636</td>\n",
              "      <td>0.236364</td>\n",
              "    </tr>\n",
              "    <tr>\n",
              "      <th>5</th>\n",
              "      <td>1006</td>\n",
              "      <td>Dairy and Egg Products</td>\n",
              "      <td>CHEESE,BRIE</td>\n",
              "      <td>Cheese, brie</td>\n",
              "      <td>NaN</td>\n",
              "      <td>NaN</td>\n",
              "      <td>NaN</td>\n",
              "      <td>334.0</td>\n",
              "      <td>20.75</td>\n",
              "      <td>27.68</td>\n",
              "      <td>0.45</td>\n",
              "      <td>0.45</td>\n",
              "      <td>0.0</td>\n",
              "      <td>174.0</td>\n",
              "      <td>0.235</td>\n",
              "      <td>1.65</td>\n",
              "      <td>0.0</td>\n",
              "      <td>0.24</td>\n",
              "      <td>65.0</td>\n",
              "      <td>0.380</td>\n",
              "      <td>0.520</td>\n",
              "      <td>0.070</td>\n",
              "      <td>184.0</td>\n",
              "      <td>0.019</td>\n",
              "      <td>0.50</td>\n",
              "      <td>20.0</td>\n",
              "      <td>0.034</td>\n",
              "      <td>188.0</td>\n",
              "      <td>14.5</td>\n",
              "      <td>2.38</td>\n",
              "      <td>0.193333</td>\n",
              "      <td>0.138235</td>\n",
              "      <td>0.687500</td>\n",
              "      <td>0.0</td>\n",
              "      <td>0.016000</td>\n",
              "      <td>0.1625</td>\n",
              "      <td>0.023750</td>\n",
              "      <td>0.400000</td>\n",
              "      <td>0.058333</td>\n",
              "      <td>0.153333</td>\n",
              "      <td>0.000021</td>\n",
              "      <td>0.047619</td>\n",
              "      <td>0.268571</td>\n",
              "      <td>0.263636</td>\n",
              "      <td>0.216364</td>\n",
              "    </tr>\n",
              "    <tr>\n",
              "      <th>6</th>\n",
              "      <td>1007</td>\n",
              "      <td>Dairy and Egg Products</td>\n",
              "      <td>CHEESE,CAMEMBERT</td>\n",
              "      <td>Cheese, camembert</td>\n",
              "      <td>NaN</td>\n",
              "      <td>NaN</td>\n",
              "      <td>NaN</td>\n",
              "      <td>300.0</td>\n",
              "      <td>19.80</td>\n",
              "      <td>24.26</td>\n",
              "      <td>0.46</td>\n",
              "      <td>0.46</td>\n",
              "      <td>0.0</td>\n",
              "      <td>241.0</td>\n",
              "      <td>0.227</td>\n",
              "      <td>1.30</td>\n",
              "      <td>0.0</td>\n",
              "      <td>0.21</td>\n",
              "      <td>62.0</td>\n",
              "      <td>0.630</td>\n",
              "      <td>0.488</td>\n",
              "      <td>0.028</td>\n",
              "      <td>388.0</td>\n",
              "      <td>0.021</td>\n",
              "      <td>0.33</td>\n",
              "      <td>20.0</td>\n",
              "      <td>0.038</td>\n",
              "      <td>347.0</td>\n",
              "      <td>14.5</td>\n",
              "      <td>2.38</td>\n",
              "      <td>0.267778</td>\n",
              "      <td>0.133529</td>\n",
              "      <td>0.541667</td>\n",
              "      <td>0.0</td>\n",
              "      <td>0.014000</td>\n",
              "      <td>0.1550</td>\n",
              "      <td>0.039375</td>\n",
              "      <td>0.375385</td>\n",
              "      <td>0.023333</td>\n",
              "      <td>0.323333</td>\n",
              "      <td>0.000023</td>\n",
              "      <td>0.047619</td>\n",
              "      <td>0.495714</td>\n",
              "      <td>0.263636</td>\n",
              "      <td>0.216364</td>\n",
              "    </tr>\n",
              "    <tr>\n",
              "      <th>7</th>\n",
              "      <td>1008</td>\n",
              "      <td>Dairy and Egg Products</td>\n",
              "      <td>CHEESE,CARAWAY</td>\n",
              "      <td>Cheese, caraway</td>\n",
              "      <td>NaN</td>\n",
              "      <td>NaN</td>\n",
              "      <td>NaN</td>\n",
              "      <td>376.0</td>\n",
              "      <td>25.18</td>\n",
              "      <td>29.20</td>\n",
              "      <td>3.06</td>\n",
              "      <td>0.00</td>\n",
              "      <td>0.0</td>\n",
              "      <td>271.0</td>\n",
              "      <td>0.074</td>\n",
              "      <td>0.27</td>\n",
              "      <td>0.0</td>\n",
              "      <td>0.00</td>\n",
              "      <td>18.0</td>\n",
              "      <td>0.180</td>\n",
              "      <td>0.450</td>\n",
              "      <td>0.031</td>\n",
              "      <td>673.0</td>\n",
              "      <td>0.024</td>\n",
              "      <td>0.64</td>\n",
              "      <td>22.0</td>\n",
              "      <td>0.021</td>\n",
              "      <td>490.0</td>\n",
              "      <td>14.5</td>\n",
              "      <td>2.94</td>\n",
              "      <td>0.301111</td>\n",
              "      <td>0.043529</td>\n",
              "      <td>0.112500</td>\n",
              "      <td>0.0</td>\n",
              "      <td>0.000000</td>\n",
              "      <td>0.0450</td>\n",
              "      <td>0.011250</td>\n",
              "      <td>0.346154</td>\n",
              "      <td>0.025833</td>\n",
              "      <td>0.560833</td>\n",
              "      <td>0.000027</td>\n",
              "      <td>0.052381</td>\n",
              "      <td>0.700000</td>\n",
              "      <td>0.263636</td>\n",
              "      <td>0.267273</td>\n",
              "    </tr>\n",
              "    <tr>\n",
              "      <th>8</th>\n",
              "      <td>1009</td>\n",
              "      <td>Dairy and Egg Products</td>\n",
              "      <td>CHEESE,CHEDDAR</td>\n",
              "      <td>Cheese, cheddar</td>\n",
              "      <td>NaN</td>\n",
              "      <td>NaN</td>\n",
              "      <td>NaN</td>\n",
              "      <td>406.0</td>\n",
              "      <td>24.04</td>\n",
              "      <td>33.82</td>\n",
              "      <td>1.33</td>\n",
              "      <td>0.28</td>\n",
              "      <td>0.0</td>\n",
              "      <td>263.0</td>\n",
              "      <td>0.049</td>\n",
              "      <td>0.88</td>\n",
              "      <td>0.0</td>\n",
              "      <td>0.78</td>\n",
              "      <td>26.0</td>\n",
              "      <td>0.039</td>\n",
              "      <td>0.434</td>\n",
              "      <td>0.027</td>\n",
              "      <td>675.0</td>\n",
              "      <td>0.056</td>\n",
              "      <td>0.16</td>\n",
              "      <td>27.0</td>\n",
              "      <td>0.033</td>\n",
              "      <td>473.0</td>\n",
              "      <td>28.3</td>\n",
              "      <td>3.43</td>\n",
              "      <td>0.292222</td>\n",
              "      <td>0.028824</td>\n",
              "      <td>0.366667</td>\n",
              "      <td>0.0</td>\n",
              "      <td>0.052000</td>\n",
              "      <td>0.0650</td>\n",
              "      <td>0.002437</td>\n",
              "      <td>0.333846</td>\n",
              "      <td>0.022500</td>\n",
              "      <td>0.562500</td>\n",
              "      <td>0.000062</td>\n",
              "      <td>0.064286</td>\n",
              "      <td>0.675714</td>\n",
              "      <td>0.514545</td>\n",
              "      <td>0.311818</td>\n",
              "    </tr>\n",
              "    <tr>\n",
              "      <th>9</th>\n",
              "      <td>1010</td>\n",
              "      <td>Dairy and Egg Products</td>\n",
              "      <td>CHEESE,CHESHIRE</td>\n",
              "      <td>Cheese, cheshire</td>\n",
              "      <td>NaN</td>\n",
              "      <td>NaN</td>\n",
              "      <td>NaN</td>\n",
              "      <td>387.0</td>\n",
              "      <td>23.37</td>\n",
              "      <td>30.60</td>\n",
              "      <td>4.78</td>\n",
              "      <td>0.00</td>\n",
              "      <td>0.0</td>\n",
              "      <td>233.0</td>\n",
              "      <td>0.074</td>\n",
              "      <td>0.83</td>\n",
              "      <td>0.0</td>\n",
              "      <td>0.00</td>\n",
              "      <td>18.0</td>\n",
              "      <td>0.080</td>\n",
              "      <td>0.293</td>\n",
              "      <td>0.046</td>\n",
              "      <td>643.0</td>\n",
              "      <td>0.042</td>\n",
              "      <td>0.21</td>\n",
              "      <td>21.0</td>\n",
              "      <td>0.012</td>\n",
              "      <td>464.0</td>\n",
              "      <td>14.5</td>\n",
              "      <td>2.79</td>\n",
              "      <td>0.258889</td>\n",
              "      <td>0.043529</td>\n",
              "      <td>0.345833</td>\n",
              "      <td>0.0</td>\n",
              "      <td>0.000000</td>\n",
              "      <td>0.0450</td>\n",
              "      <td>0.005000</td>\n",
              "      <td>0.225385</td>\n",
              "      <td>0.038333</td>\n",
              "      <td>0.535833</td>\n",
              "      <td>0.000047</td>\n",
              "      <td>0.050000</td>\n",
              "      <td>0.662857</td>\n",
              "      <td>0.263636</td>\n",
              "      <td>0.253636</td>\n",
              "    </tr>\n",
              "  </tbody>\n",
              "</table>\n",
              "</div>"
            ],
            "text/plain": [
              "     ID               FoodGroup  ... Selenium_USRDA Zinc_USRDA\n",
              "0  1001  Dairy and Egg Products  ...       0.018182   0.008182\n",
              "1  1002  Dairy and Egg Products  ...       0.018182   0.004545\n",
              "2  1003  Dairy and Egg Products  ...       0.000000   0.000909\n",
              "3  1004  Dairy and Egg Products  ...       0.263636   0.241818\n",
              "4  1005  Dairy and Egg Products  ...       0.263636   0.236364\n",
              "5  1006  Dairy and Egg Products  ...       0.263636   0.216364\n",
              "6  1007  Dairy and Egg Products  ...       0.263636   0.216364\n",
              "7  1008  Dairy and Egg Products  ...       0.263636   0.267273\n",
              "8  1009  Dairy and Egg Products  ...       0.514545   0.311818\n",
              "9  1010  Dairy and Egg Products  ...       0.263636   0.253636\n",
              "\n",
              "[10 rows x 45 columns]"
            ]
          },
          "metadata": {
            "tags": []
          },
          "execution_count": 45
        }
      ]
    },
    {
      "cell_type": "markdown",
      "metadata": {
        "id": "A66CdsDZBUgp"
      },
      "source": [
        "## ตรวจสอบขนาดของข้อมูลว่ามี data กี่ตัว และมีกี่ dimensions"
      ]
    },
    {
      "cell_type": "code",
      "metadata": {
        "id": "9avrgx0lFYLl"
      },
      "source": [
        "import numpy as np\n"
      ],
      "execution_count": null,
      "outputs": []
    },
    {
      "cell_type": "code",
      "metadata": {
        "id": "gmxclOe9FdKw"
      },
      "source": [
        "corr = np.corrcoef(newdata.to_numpy().T)"
      ],
      "execution_count": null,
      "outputs": []
    },
    {
      "cell_type": "code",
      "metadata": {
        "id": "b054TSRm_C1e"
      },
      "source": [
        "data.shape #ดูว่ามีดาต้าเท่าไหร่"
      ],
      "execution_count": null,
      "outputs": []
    },
    {
      "cell_type": "markdown",
      "metadata": {
        "id": "_-SBLphzByak"
      },
      "source": [
        "## ลอง plot scatter matrix เพื่อดูการกระจายของ data ในมุมมองต่างๆ"
      ]
    },
    {
      "cell_type": "code",
      "metadata": {
        "id": "arKCgNbaAD0M"
      },
      "source": [
        "# pd.plotting.scatter_matrix(data)"
      ],
      "execution_count": null,
      "outputs": []
    },
    {
      "cell_type": "markdown",
      "metadata": {
        "id": "oJZtflhOAzyo"
      },
      "source": [
        "### เนื่องจาก Data มี dimension มากเกินไป เราจะทดสอบดูว่า column ใด ให้ข้อมูลซ้ำกับ column อื่น แล้วลบมันออก"
      ]
    },
    {
      "cell_type": "markdown",
      "metadata": {
        "id": "i_zmK28-CNJt"
      },
      "source": [
        "### เลือกมาทำเฉพาะข้อมูลที่เป็นตัวเลข"
      ]
    },
    {
      "cell_type": "code",
      "metadata": {
        "id": "52E-lcJHCDxT",
        "colab": {
          "base_uri": "https://localhost:8080/",
          "height": 222
        },
        "outputId": "5aca746d-6fc7-4882-8748-6267290653a2"
      },
      "source": [
        "newdata = data.iloc[:,7:] #เอาทุกแถวถึงแถวที่7\n",
        "newdata.head()"
      ],
      "execution_count": 51,
      "outputs": [
        {
          "output_type": "execute_result",
          "data": {
            "text/html": [
              "<div>\n",
              "<style scoped>\n",
              "    .dataframe tbody tr th:only-of-type {\n",
              "        vertical-align: middle;\n",
              "    }\n",
              "\n",
              "    .dataframe tbody tr th {\n",
              "        vertical-align: top;\n",
              "    }\n",
              "\n",
              "    .dataframe thead th {\n",
              "        text-align: right;\n",
              "    }\n",
              "</style>\n",
              "<table border=\"1\" class=\"dataframe\">\n",
              "  <thead>\n",
              "    <tr style=\"text-align: right;\">\n",
              "      <th></th>\n",
              "      <th>Energy_kcal</th>\n",
              "      <th>Protein_g</th>\n",
              "      <th>Fat_g</th>\n",
              "      <th>Carb_g</th>\n",
              "      <th>Sugar_g</th>\n",
              "      <th>Fiber_g</th>\n",
              "      <th>VitA_mcg</th>\n",
              "      <th>VitB6_mg</th>\n",
              "      <th>VitB12_mcg</th>\n",
              "      <th>VitC_mg</th>\n",
              "      <th>VitE_mg</th>\n",
              "      <th>Folate_mcg</th>\n",
              "      <th>Niacin_mg</th>\n",
              "      <th>Riboflavin_mg</th>\n",
              "      <th>Thiamin_mg</th>\n",
              "      <th>Calcium_mg</th>\n",
              "      <th>Copper_mcg</th>\n",
              "      <th>Iron_mg</th>\n",
              "      <th>Magnesium_mg</th>\n",
              "      <th>Manganese_mg</th>\n",
              "      <th>Phosphorus_mg</th>\n",
              "      <th>Selenium_mcg</th>\n",
              "      <th>Zinc_mg</th>\n",
              "      <th>VitA_USRDA</th>\n",
              "      <th>VitB6_USRDA</th>\n",
              "      <th>VitB12_USRDA</th>\n",
              "      <th>VitC_USRDA</th>\n",
              "      <th>VitE_USRDA</th>\n",
              "      <th>Folate_USRDA</th>\n",
              "      <th>Niacin_USRDA</th>\n",
              "      <th>Riboflavin_USRDA</th>\n",
              "      <th>Thiamin_USRDA</th>\n",
              "      <th>Calcium_USRDA</th>\n",
              "      <th>Copper_USRDA</th>\n",
              "      <th>Magnesium_USRDA</th>\n",
              "      <th>Phosphorus_USRDA</th>\n",
              "      <th>Selenium_USRDA</th>\n",
              "      <th>Zinc_USRDA</th>\n",
              "    </tr>\n",
              "  </thead>\n",
              "  <tbody>\n",
              "    <tr>\n",
              "      <th>0</th>\n",
              "      <td>717.0</td>\n",
              "      <td>0.85</td>\n",
              "      <td>81.11</td>\n",
              "      <td>0.06</td>\n",
              "      <td>0.06</td>\n",
              "      <td>0.0</td>\n",
              "      <td>684.0</td>\n",
              "      <td>0.003</td>\n",
              "      <td>0.17</td>\n",
              "      <td>0.0</td>\n",
              "      <td>2.32</td>\n",
              "      <td>3.0</td>\n",
              "      <td>0.042</td>\n",
              "      <td>0.034</td>\n",
              "      <td>0.005</td>\n",
              "      <td>24.0</td>\n",
              "      <td>0.000</td>\n",
              "      <td>0.02</td>\n",
              "      <td>2.0</td>\n",
              "      <td>0.000</td>\n",
              "      <td>24.0</td>\n",
              "      <td>1.0</td>\n",
              "      <td>0.09</td>\n",
              "      <td>0.760000</td>\n",
              "      <td>0.001765</td>\n",
              "      <td>0.070833</td>\n",
              "      <td>0.0</td>\n",
              "      <td>0.154667</td>\n",
              "      <td>0.0075</td>\n",
              "      <td>0.002625</td>\n",
              "      <td>0.026154</td>\n",
              "      <td>0.004167</td>\n",
              "      <td>0.020000</td>\n",
              "      <td>0.000000</td>\n",
              "      <td>0.004762</td>\n",
              "      <td>0.034286</td>\n",
              "      <td>0.018182</td>\n",
              "      <td>0.008182</td>\n",
              "    </tr>\n",
              "    <tr>\n",
              "      <th>1</th>\n",
              "      <td>717.0</td>\n",
              "      <td>0.85</td>\n",
              "      <td>81.11</td>\n",
              "      <td>0.06</td>\n",
              "      <td>0.06</td>\n",
              "      <td>0.0</td>\n",
              "      <td>684.0</td>\n",
              "      <td>0.003</td>\n",
              "      <td>0.13</td>\n",
              "      <td>0.0</td>\n",
              "      <td>2.32</td>\n",
              "      <td>3.0</td>\n",
              "      <td>0.042</td>\n",
              "      <td>0.034</td>\n",
              "      <td>0.005</td>\n",
              "      <td>24.0</td>\n",
              "      <td>0.016</td>\n",
              "      <td>0.16</td>\n",
              "      <td>2.0</td>\n",
              "      <td>0.004</td>\n",
              "      <td>23.0</td>\n",
              "      <td>1.0</td>\n",
              "      <td>0.05</td>\n",
              "      <td>0.760000</td>\n",
              "      <td>0.001765</td>\n",
              "      <td>0.054167</td>\n",
              "      <td>0.0</td>\n",
              "      <td>0.154667</td>\n",
              "      <td>0.0075</td>\n",
              "      <td>0.002625</td>\n",
              "      <td>0.026154</td>\n",
              "      <td>0.004167</td>\n",
              "      <td>0.020000</td>\n",
              "      <td>0.000018</td>\n",
              "      <td>0.004762</td>\n",
              "      <td>0.032857</td>\n",
              "      <td>0.018182</td>\n",
              "      <td>0.004545</td>\n",
              "    </tr>\n",
              "    <tr>\n",
              "      <th>2</th>\n",
              "      <td>876.0</td>\n",
              "      <td>0.28</td>\n",
              "      <td>99.48</td>\n",
              "      <td>0.00</td>\n",
              "      <td>0.00</td>\n",
              "      <td>0.0</td>\n",
              "      <td>840.0</td>\n",
              "      <td>0.001</td>\n",
              "      <td>0.01</td>\n",
              "      <td>0.0</td>\n",
              "      <td>2.80</td>\n",
              "      <td>0.0</td>\n",
              "      <td>0.003</td>\n",
              "      <td>0.005</td>\n",
              "      <td>0.001</td>\n",
              "      <td>4.0</td>\n",
              "      <td>0.001</td>\n",
              "      <td>0.00</td>\n",
              "      <td>0.0</td>\n",
              "      <td>0.000</td>\n",
              "      <td>3.0</td>\n",
              "      <td>0.0</td>\n",
              "      <td>0.01</td>\n",
              "      <td>0.933333</td>\n",
              "      <td>0.000588</td>\n",
              "      <td>0.004167</td>\n",
              "      <td>0.0</td>\n",
              "      <td>0.186667</td>\n",
              "      <td>0.0000</td>\n",
              "      <td>0.000188</td>\n",
              "      <td>0.003846</td>\n",
              "      <td>0.000833</td>\n",
              "      <td>0.003333</td>\n",
              "      <td>0.000001</td>\n",
              "      <td>0.000000</td>\n",
              "      <td>0.004286</td>\n",
              "      <td>0.000000</td>\n",
              "      <td>0.000909</td>\n",
              "    </tr>\n",
              "    <tr>\n",
              "      <th>3</th>\n",
              "      <td>353.0</td>\n",
              "      <td>21.40</td>\n",
              "      <td>28.74</td>\n",
              "      <td>2.34</td>\n",
              "      <td>0.50</td>\n",
              "      <td>0.0</td>\n",
              "      <td>198.0</td>\n",
              "      <td>0.166</td>\n",
              "      <td>1.22</td>\n",
              "      <td>0.0</td>\n",
              "      <td>0.25</td>\n",
              "      <td>36.0</td>\n",
              "      <td>1.016</td>\n",
              "      <td>0.382</td>\n",
              "      <td>0.029</td>\n",
              "      <td>528.0</td>\n",
              "      <td>0.040</td>\n",
              "      <td>0.31</td>\n",
              "      <td>23.0</td>\n",
              "      <td>0.009</td>\n",
              "      <td>387.0</td>\n",
              "      <td>14.5</td>\n",
              "      <td>2.66</td>\n",
              "      <td>0.220000</td>\n",
              "      <td>0.097647</td>\n",
              "      <td>0.508333</td>\n",
              "      <td>0.0</td>\n",
              "      <td>0.016667</td>\n",
              "      <td>0.0900</td>\n",
              "      <td>0.063500</td>\n",
              "      <td>0.293846</td>\n",
              "      <td>0.024167</td>\n",
              "      <td>0.440000</td>\n",
              "      <td>0.000044</td>\n",
              "      <td>0.054762</td>\n",
              "      <td>0.552857</td>\n",
              "      <td>0.263636</td>\n",
              "      <td>0.241818</td>\n",
              "    </tr>\n",
              "    <tr>\n",
              "      <th>4</th>\n",
              "      <td>371.0</td>\n",
              "      <td>23.24</td>\n",
              "      <td>29.68</td>\n",
              "      <td>2.79</td>\n",
              "      <td>0.51</td>\n",
              "      <td>0.0</td>\n",
              "      <td>292.0</td>\n",
              "      <td>0.065</td>\n",
              "      <td>1.26</td>\n",
              "      <td>0.0</td>\n",
              "      <td>0.26</td>\n",
              "      <td>20.0</td>\n",
              "      <td>0.118</td>\n",
              "      <td>0.351</td>\n",
              "      <td>0.014</td>\n",
              "      <td>674.0</td>\n",
              "      <td>0.024</td>\n",
              "      <td>0.43</td>\n",
              "      <td>24.0</td>\n",
              "      <td>0.012</td>\n",
              "      <td>451.0</td>\n",
              "      <td>14.5</td>\n",
              "      <td>2.60</td>\n",
              "      <td>0.324444</td>\n",
              "      <td>0.038235</td>\n",
              "      <td>0.525000</td>\n",
              "      <td>0.0</td>\n",
              "      <td>0.017333</td>\n",
              "      <td>0.0500</td>\n",
              "      <td>0.007375</td>\n",
              "      <td>0.270000</td>\n",
              "      <td>0.011667</td>\n",
              "      <td>0.561667</td>\n",
              "      <td>0.000027</td>\n",
              "      <td>0.057143</td>\n",
              "      <td>0.644286</td>\n",
              "      <td>0.263636</td>\n",
              "      <td>0.236364</td>\n",
              "    </tr>\n",
              "  </tbody>\n",
              "</table>\n",
              "</div>"
            ],
            "text/plain": [
              "   Energy_kcal  Protein_g  Fat_g  ...  Phosphorus_USRDA  Selenium_USRDA  Zinc_USRDA\n",
              "0        717.0       0.85  81.11  ...          0.034286        0.018182    0.008182\n",
              "1        717.0       0.85  81.11  ...          0.032857        0.018182    0.004545\n",
              "2        876.0       0.28  99.48  ...          0.004286        0.000000    0.000909\n",
              "3        353.0      21.40  28.74  ...          0.552857        0.263636    0.241818\n",
              "4        371.0      23.24  29.68  ...          0.644286        0.263636    0.236364\n",
              "\n",
              "[5 rows x 38 columns]"
            ]
          },
          "metadata": {
            "tags": []
          },
          "execution_count": 51
        }
      ]
    },
    {
      "cell_type": "markdown",
      "metadata": {
        "id": "2A_K8F36DDau"
      },
      "source": [
        "ตรวจสอบว่า ระหว่าง coluns มี correlation กันมากน้อยแค่ไหน ด้วย numpy"
      ]
    },
    {
      "cell_type": "code",
      "metadata": {
        "id": "-7jmTSu6B9OM"
      },
      "source": [
        "import numpy as np\n"
      ],
      "execution_count": 52,
      "outputs": []
    },
    {
      "cell_type": "code",
      "metadata": {
        "id": "5QXcxx2bDYdM"
      },
      "source": [
        "corr = np.corrcoef(newdata.to_numpy().T)"
      ],
      "execution_count": 53,
      "outputs": []
    },
    {
      "cell_type": "code",
      "metadata": {
        "id": "KzxW6ONYNEcN",
        "outputId": "7ec27a65-9b7d-4f4d-cc16-5e8e472e850e",
        "colab": {
          "base_uri": "https://localhost:8080/"
        }
      },
      "source": [
        "corr.shape "
      ],
      "execution_count": 54,
      "outputs": [
        {
          "output_type": "execute_result",
          "data": {
            "text/plain": [
              "(38, 38)"
            ]
          },
          "metadata": {
            "tags": []
          },
          "execution_count": 54
        }
      ]
    },
    {
      "cell_type": "code",
      "metadata": {
        "id": "GOjsCJq0HBbH",
        "colab": {
          "base_uri": "https://localhost:8080/"
        },
        "outputId": "b15111e9-3226-46ab-dfb5-da8c76b239c0"
      },
      "source": [
        "corr"
      ],
      "execution_count": 55,
      "outputs": [
        {
          "output_type": "execute_result",
          "data": {
            "text/plain": [
              "array([[1.        , 0.11030203, 0.80679472, ..., 0.19518065, 0.05667274,\n",
              "        0.11276635],\n",
              "       [0.11030203, 1.        , 0.05471538, ..., 0.44460761, 0.37836917,\n",
              "        0.41631538],\n",
              "       [0.80679472, 0.05471538, 1.        , ..., 0.06608644, 0.03755914,\n",
              "        0.02826352],\n",
              "       ...,\n",
              "       [0.19518065, 0.44460761, 0.06608644, ..., 1.        , 0.22368557,\n",
              "        0.26657694],\n",
              "       [0.05667274, 0.37836917, 0.03755914, ..., 0.22368557, 1.        ,\n",
              "        0.20529859],\n",
              "       [0.11276635, 0.41631538, 0.02826352, ..., 0.26657694, 0.20529859,\n",
              "        1.        ]])"
            ]
          },
          "metadata": {
            "tags": []
          },
          "execution_count": 55
        }
      ]
    },
    {
      "cell_type": "code",
      "metadata": {
        "id": "r_wHWroiD5Js",
        "colab": {
          "base_uri": "https://localhost:8080/"
        },
        "outputId": "49dafe80-dfba-4364-c76a-c715da9da1b1"
      },
      "source": [
        "for i in range(corr.shape[0]):\n",
        "    for j in range(corr.shape[1]):\n",
        "        if (i !=j) and (corr[i,j] == 1.):\n",
        "            print(f'row = {i} column = {j} corrcoef = {corr[i,j]}')\n",
        "            # ค่าไหนที่เป็น 1 โดยที่ i,j ไม่เท่ากัน print เฉพาะ ค่า correlation เป็น 1 โดยไม่เอาเส้นทเเยงมุม"
      ],
      "execution_count": 56,
      "outputs": [
        {
          "output_type": "stream",
          "text": [
            "row = 10 column = 27 corrcoef = 1.0\n",
            "row = 12 column = 29 corrcoef = 1.0\n",
            "row = 13 column = 30 corrcoef = 1.0\n",
            "row = 14 column = 31 corrcoef = 1.0\n",
            "row = 18 column = 34 corrcoef = 1.0\n",
            "row = 20 column = 35 corrcoef = 1.0\n",
            "row = 22 column = 37 corrcoef = 1.0\n",
            "row = 27 column = 10 corrcoef = 1.0\n",
            "row = 29 column = 12 corrcoef = 1.0\n",
            "row = 30 column = 13 corrcoef = 1.0\n",
            "row = 31 column = 14 corrcoef = 1.0\n",
            "row = 34 column = 18 corrcoef = 1.0\n",
            "row = 35 column = 20 corrcoef = 1.0\n",
            "row = 37 column = 22 corrcoef = 1.0\n"
          ],
          "name": "stdout"
        }
      ]
    },
    {
      "cell_type": "code",
      "metadata": {
        "id": "8zptJUVDKELn",
        "colab": {
          "base_uri": "https://localhost:8080/",
          "height": 222
        },
        "outputId": "19560f2b-48c0-44de-c957-120b102e3e68"
      },
      "source": [
        "newdata.iloc[:5,11:29]  #เอาเเถว 1 คอลัมน์ 10 ถึง 31"
      ],
      "execution_count": 57,
      "outputs": [
        {
          "output_type": "execute_result",
          "data": {
            "text/html": [
              "<div>\n",
              "<style scoped>\n",
              "    .dataframe tbody tr th:only-of-type {\n",
              "        vertical-align: middle;\n",
              "    }\n",
              "\n",
              "    .dataframe tbody tr th {\n",
              "        vertical-align: top;\n",
              "    }\n",
              "\n",
              "    .dataframe thead th {\n",
              "        text-align: right;\n",
              "    }\n",
              "</style>\n",
              "<table border=\"1\" class=\"dataframe\">\n",
              "  <thead>\n",
              "    <tr style=\"text-align: right;\">\n",
              "      <th></th>\n",
              "      <th>Folate_mcg</th>\n",
              "      <th>Niacin_mg</th>\n",
              "      <th>Riboflavin_mg</th>\n",
              "      <th>Thiamin_mg</th>\n",
              "      <th>Calcium_mg</th>\n",
              "      <th>Copper_mcg</th>\n",
              "      <th>Iron_mg</th>\n",
              "      <th>Magnesium_mg</th>\n",
              "      <th>Manganese_mg</th>\n",
              "      <th>Phosphorus_mg</th>\n",
              "      <th>Selenium_mcg</th>\n",
              "      <th>Zinc_mg</th>\n",
              "      <th>VitA_USRDA</th>\n",
              "      <th>VitB6_USRDA</th>\n",
              "      <th>VitB12_USRDA</th>\n",
              "      <th>VitC_USRDA</th>\n",
              "      <th>VitE_USRDA</th>\n",
              "      <th>Folate_USRDA</th>\n",
              "    </tr>\n",
              "  </thead>\n",
              "  <tbody>\n",
              "    <tr>\n",
              "      <th>0</th>\n",
              "      <td>3.0</td>\n",
              "      <td>0.042</td>\n",
              "      <td>0.034</td>\n",
              "      <td>0.005</td>\n",
              "      <td>24.0</td>\n",
              "      <td>0.000</td>\n",
              "      <td>0.02</td>\n",
              "      <td>2.0</td>\n",
              "      <td>0.000</td>\n",
              "      <td>24.0</td>\n",
              "      <td>1.0</td>\n",
              "      <td>0.09</td>\n",
              "      <td>0.760000</td>\n",
              "      <td>0.001765</td>\n",
              "      <td>0.070833</td>\n",
              "      <td>0.0</td>\n",
              "      <td>0.154667</td>\n",
              "      <td>0.0075</td>\n",
              "    </tr>\n",
              "    <tr>\n",
              "      <th>1</th>\n",
              "      <td>3.0</td>\n",
              "      <td>0.042</td>\n",
              "      <td>0.034</td>\n",
              "      <td>0.005</td>\n",
              "      <td>24.0</td>\n",
              "      <td>0.016</td>\n",
              "      <td>0.16</td>\n",
              "      <td>2.0</td>\n",
              "      <td>0.004</td>\n",
              "      <td>23.0</td>\n",
              "      <td>1.0</td>\n",
              "      <td>0.05</td>\n",
              "      <td>0.760000</td>\n",
              "      <td>0.001765</td>\n",
              "      <td>0.054167</td>\n",
              "      <td>0.0</td>\n",
              "      <td>0.154667</td>\n",
              "      <td>0.0075</td>\n",
              "    </tr>\n",
              "    <tr>\n",
              "      <th>2</th>\n",
              "      <td>0.0</td>\n",
              "      <td>0.003</td>\n",
              "      <td>0.005</td>\n",
              "      <td>0.001</td>\n",
              "      <td>4.0</td>\n",
              "      <td>0.001</td>\n",
              "      <td>0.00</td>\n",
              "      <td>0.0</td>\n",
              "      <td>0.000</td>\n",
              "      <td>3.0</td>\n",
              "      <td>0.0</td>\n",
              "      <td>0.01</td>\n",
              "      <td>0.933333</td>\n",
              "      <td>0.000588</td>\n",
              "      <td>0.004167</td>\n",
              "      <td>0.0</td>\n",
              "      <td>0.186667</td>\n",
              "      <td>0.0000</td>\n",
              "    </tr>\n",
              "    <tr>\n",
              "      <th>3</th>\n",
              "      <td>36.0</td>\n",
              "      <td>1.016</td>\n",
              "      <td>0.382</td>\n",
              "      <td>0.029</td>\n",
              "      <td>528.0</td>\n",
              "      <td>0.040</td>\n",
              "      <td>0.31</td>\n",
              "      <td>23.0</td>\n",
              "      <td>0.009</td>\n",
              "      <td>387.0</td>\n",
              "      <td>14.5</td>\n",
              "      <td>2.66</td>\n",
              "      <td>0.220000</td>\n",
              "      <td>0.097647</td>\n",
              "      <td>0.508333</td>\n",
              "      <td>0.0</td>\n",
              "      <td>0.016667</td>\n",
              "      <td>0.0900</td>\n",
              "    </tr>\n",
              "    <tr>\n",
              "      <th>4</th>\n",
              "      <td>20.0</td>\n",
              "      <td>0.118</td>\n",
              "      <td>0.351</td>\n",
              "      <td>0.014</td>\n",
              "      <td>674.0</td>\n",
              "      <td>0.024</td>\n",
              "      <td>0.43</td>\n",
              "      <td>24.0</td>\n",
              "      <td>0.012</td>\n",
              "      <td>451.0</td>\n",
              "      <td>14.5</td>\n",
              "      <td>2.60</td>\n",
              "      <td>0.324444</td>\n",
              "      <td>0.038235</td>\n",
              "      <td>0.525000</td>\n",
              "      <td>0.0</td>\n",
              "      <td>0.017333</td>\n",
              "      <td>0.0500</td>\n",
              "    </tr>\n",
              "  </tbody>\n",
              "</table>\n",
              "</div>"
            ],
            "text/plain": [
              "   Folate_mcg  Niacin_mg  Riboflavin_mg  ...  VitC_USRDA  VitE_USRDA  Folate_USRDA\n",
              "0         3.0      0.042          0.034  ...         0.0    0.154667        0.0075\n",
              "1         3.0      0.042          0.034  ...         0.0    0.154667        0.0075\n",
              "2         0.0      0.003          0.005  ...         0.0    0.186667        0.0000\n",
              "3        36.0      1.016          0.382  ...         0.0    0.016667        0.0900\n",
              "4        20.0      0.118          0.351  ...         0.0    0.017333        0.0500\n",
              "\n",
              "[5 rows x 18 columns]"
            ]
          },
          "metadata": {
            "tags": []
          },
          "execution_count": 57
        }
      ]
    },
    {
      "cell_type": "code",
      "metadata": {
        "id": "msslHY_4NY1A"
      },
      "source": [
        "from matplotlib import pyplot as plt"
      ],
      "execution_count": 58,
      "outputs": []
    },
    {
      "cell_type": "markdown",
      "metadata": {
        "id": "08hhjA9QNcm2"
      },
      "source": [
        "###data ที่มี correlation เป็น 1"
      ]
    },
    {
      "cell_type": "code",
      "metadata": {
        "id": "LQjqoJDFNf9l",
        "colab": {
          "base_uri": "https://localhost:8080/",
          "height": 283
        },
        "outputId": "6fa77580-bc66-4cd2-b6ec-a7d329c71abb"
      },
      "source": [
        "plt.plot(newdata.iloc[:,11],newdata.iloc[:,28],'r.')\n",
        "\n",
        "#จะมีกราฟที่หน้าตาเหมือนกับ data ที่อยู่จุดเดียวกันมา plot "
      ],
      "execution_count": 59,
      "outputs": [
        {
          "output_type": "execute_result",
          "data": {
            "text/plain": [
              "[<matplotlib.lines.Line2D at 0x7f9bdddfa710>]"
            ]
          },
          "metadata": {
            "tags": []
          },
          "execution_count": 59
        },
        {
          "output_type": "display_data",
          "data": {
            "image/png": "[encoded data removed]",
            "text/plain": [
              "<Figure size 432x288 with 1 Axes>"
            ]
          },
          "metadata": {
            "tags": [],
            "needs_background": "light"
          }
        }
      ]
    },
    {
      "cell_type": "markdown",
      "metadata": {
        "id": "6lyL07fzNlnQ"
      },
      "source": [
        "### data ที่มี correlation เป็นค่าอื่นๆ\n"
      ]
    },
    {
      "cell_type": "code",
      "metadata": {
        "id": "n5IYLoy1NlXV",
        "colab": {
          "base_uri": "https://localhost:8080/",
          "height": 283
        },
        "outputId": "0d1fe858-62de-4ce9-9b55-20df42fabfba"
      },
      "source": [
        "plt.plot(newdata.iloc[:,11],newdata.iloc[:,29],'r.')\n"
      ],
      "execution_count": 60,
      "outputs": [
        {
          "output_type": "execute_result",
          "data": {
            "text/plain": [
              "[<matplotlib.lines.Line2D at 0x7f9bdddd61d0>]"
            ]
          },
          "metadata": {
            "tags": []
          },
          "execution_count": 60
        },
        {
          "output_type": "display_data",
          "data": {
            "image/png": "[encoded data removed]",
            "text/plain": [
              "<Figure size 432x288 with 1 Axes>"
            ]
          },
          "metadata": {
            "tags": [],
            "needs_background": "light"
          }
        }
      ]
    },
    {
      "cell_type": "markdown",
      "metadata": {
        "id": "kaNk7k2o5DSZ"
      },
      "source": [
        "\n",
        "เมื่อเราได้ correlation ที่ได้ เราจะรู้ว่าตารางไหนซ้ำ เราก็จะกำจัดตารางที่ซ้ำออก"
      ]
    },
    {
      "cell_type": "code",
      "metadata": {
        "colab": {
          "base_uri": "https://localhost:8080/"
        },
        "id": "IjaCfj-nnxaw",
        "outputId": "776f4139-ddc6-4699-f550-60e06bc8b619"
      },
      "source": [
        "newdata.columns.str.contains('_USRDA') "
      ],
      "execution_count": 61,
      "outputs": [
        {
          "output_type": "execute_result",
          "data": {
            "text/plain": [
              "array([False, False, False, False, False, False, False, False, False,\n",
              "       False, False, False, False, False, False, False, False, False,\n",
              "       False, False, False, False, False,  True,  True,  True,  True,\n",
              "        True,  True,  True,  True,  True,  True,  True,  True,  True,\n",
              "        True,  True])"
            ]
          },
          "metadata": {
            "tags": []
          },
          "execution_count": 61
        }
      ]
    },
    {
      "cell_type": "code",
      "metadata": {
        "colab": {
          "base_uri": "https://localhost:8080/"
        },
        "id": "d5XiD9G-qLwT",
        "outputId": "42a1c2ed-d6fb-4827-8448-73a627fa32b6"
      },
      "source": [
        "newdata.columns[newdata.columns.str.contains('_USRDA')].values\n",
        "# '_USRDA' เป็น columns ที่ซ้ำและเราต้องการจะลบ"
      ],
      "execution_count": 62,
      "outputs": [
        {
          "output_type": "execute_result",
          "data": {
            "text/plain": [
              "array(['VitA_USRDA', 'VitB6_USRDA', 'VitB12_USRDA', 'VitC_USRDA',\n",
              "       'VitE_USRDA', 'Folate_USRDA', 'Niacin_USRDA', 'Riboflavin_USRDA',\n",
              "       'Thiamin_USRDA', 'Calcium_USRDA', 'Copper_USRDA',\n",
              "       'Magnesium_USRDA', 'Phosphorus_USRDA', 'Selenium_USRDA',\n",
              "       'Zinc_USRDA'], dtype=object)"
            ]
          },
          "metadata": {
            "tags": []
          },
          "execution_count": 62
        }
      ]
    },
    {
      "cell_type": "code",
      "metadata": {
        "colab": {
          "base_uri": "https://localhost:8080/",
          "height": 435
        },
        "id": "a8TC2bfCqhTY",
        "outputId": "9257df85-d2c3-477a-cd60-211120a63127"
      },
      "source": [
        "newdata.drop(newdata.columns[newdata.columns.str.contains('_USRDA')].values,axis=1)"
      ],
      "execution_count": 63,
      "outputs": [
        {
          "output_type": "execute_result",
          "data": {
            "text/html": [
              "<div>\n",
              "<style scoped>\n",
              "    .dataframe tbody tr th:only-of-type {\n",
              "        vertical-align: middle;\n",
              "    }\n",
              "\n",
              "    .dataframe tbody tr th {\n",
              "        vertical-align: top;\n",
              "    }\n",
              "\n",
              "    .dataframe thead th {\n",
              "        text-align: right;\n",
              "    }\n",
              "</style>\n",
              "<table border=\"1\" class=\"dataframe\">\n",
              "  <thead>\n",
              "    <tr style=\"text-align: right;\">\n",
              "      <th></th>\n",
              "      <th>Energy_kcal</th>\n",
              "      <th>Protein_g</th>\n",
              "      <th>Fat_g</th>\n",
              "      <th>Carb_g</th>\n",
              "      <th>Sugar_g</th>\n",
              "      <th>Fiber_g</th>\n",
              "      <th>VitA_mcg</th>\n",
              "      <th>VitB6_mg</th>\n",
              "      <th>VitB12_mcg</th>\n",
              "      <th>VitC_mg</th>\n",
              "      <th>VitE_mg</th>\n",
              "      <th>Folate_mcg</th>\n",
              "      <th>Niacin_mg</th>\n",
              "      <th>Riboflavin_mg</th>\n",
              "      <th>Thiamin_mg</th>\n",
              "      <th>Calcium_mg</th>\n",
              "      <th>Copper_mcg</th>\n",
              "      <th>Iron_mg</th>\n",
              "      <th>Magnesium_mg</th>\n",
              "      <th>Manganese_mg</th>\n",
              "      <th>Phosphorus_mg</th>\n",
              "      <th>Selenium_mcg</th>\n",
              "      <th>Zinc_mg</th>\n",
              "    </tr>\n",
              "  </thead>\n",
              "  <tbody>\n",
              "    <tr>\n",
              "      <th>0</th>\n",
              "      <td>717.0</td>\n",
              "      <td>0.85</td>\n",
              "      <td>81.11</td>\n",
              "      <td>0.06</td>\n",
              "      <td>0.06</td>\n",
              "      <td>0.0</td>\n",
              "      <td>684.0</td>\n",
              "      <td>0.003</td>\n",
              "      <td>0.17</td>\n",
              "      <td>0.0</td>\n",
              "      <td>2.32</td>\n",
              "      <td>3.0</td>\n",
              "      <td>0.042</td>\n",
              "      <td>0.034</td>\n",
              "      <td>0.005</td>\n",
              "      <td>24.0</td>\n",
              "      <td>0.000</td>\n",
              "      <td>0.02</td>\n",
              "      <td>2.0</td>\n",
              "      <td>0.000</td>\n",
              "      <td>24.0</td>\n",
              "      <td>1.0</td>\n",
              "      <td>0.09</td>\n",
              "    </tr>\n",
              "    <tr>\n",
              "      <th>1</th>\n",
              "      <td>717.0</td>\n",
              "      <td>0.85</td>\n",
              "      <td>81.11</td>\n",
              "      <td>0.06</td>\n",
              "      <td>0.06</td>\n",
              "      <td>0.0</td>\n",
              "      <td>684.0</td>\n",
              "      <td>0.003</td>\n",
              "      <td>0.13</td>\n",
              "      <td>0.0</td>\n",
              "      <td>2.32</td>\n",
              "      <td>3.0</td>\n",
              "      <td>0.042</td>\n",
              "      <td>0.034</td>\n",
              "      <td>0.005</td>\n",
              "      <td>24.0</td>\n",
              "      <td>0.016</td>\n",
              "      <td>0.16</td>\n",
              "      <td>2.0</td>\n",
              "      <td>0.004</td>\n",
              "      <td>23.0</td>\n",
              "      <td>1.0</td>\n",
              "      <td>0.05</td>\n",
              "    </tr>\n",
              "    <tr>\n",
              "      <th>2</th>\n",
              "      <td>876.0</td>\n",
              "      <td>0.28</td>\n",
              "      <td>99.48</td>\n",
              "      <td>0.00</td>\n",
              "      <td>0.00</td>\n",
              "      <td>0.0</td>\n",
              "      <td>840.0</td>\n",
              "      <td>0.001</td>\n",
              "      <td>0.01</td>\n",
              "      <td>0.0</td>\n",
              "      <td>2.80</td>\n",
              "      <td>0.0</td>\n",
              "      <td>0.003</td>\n",
              "      <td>0.005</td>\n",
              "      <td>0.001</td>\n",
              "      <td>4.0</td>\n",
              "      <td>0.001</td>\n",
              "      <td>0.00</td>\n",
              "      <td>0.0</td>\n",
              "      <td>0.000</td>\n",
              "      <td>3.0</td>\n",
              "      <td>0.0</td>\n",
              "      <td>0.01</td>\n",
              "    </tr>\n",
              "    <tr>\n",
              "      <th>3</th>\n",
              "      <td>353.0</td>\n",
              "      <td>21.40</td>\n",
              "      <td>28.74</td>\n",
              "      <td>2.34</td>\n",
              "      <td>0.50</td>\n",
              "      <td>0.0</td>\n",
              "      <td>198.0</td>\n",
              "      <td>0.166</td>\n",
              "      <td>1.22</td>\n",
              "      <td>0.0</td>\n",
              "      <td>0.25</td>\n",
              "      <td>36.0</td>\n",
              "      <td>1.016</td>\n",
              "      <td>0.382</td>\n",
              "      <td>0.029</td>\n",
              "      <td>528.0</td>\n",
              "      <td>0.040</td>\n",
              "      <td>0.31</td>\n",
              "      <td>23.0</td>\n",
              "      <td>0.009</td>\n",
              "      <td>387.0</td>\n",
              "      <td>14.5</td>\n",
              "      <td>2.66</td>\n",
              "    </tr>\n",
              "    <tr>\n",
              "      <th>4</th>\n",
              "      <td>371.0</td>\n",
              "      <td>23.24</td>\n",
              "      <td>29.68</td>\n",
              "      <td>2.79</td>\n",
              "      <td>0.51</td>\n",
              "      <td>0.0</td>\n",
              "      <td>292.0</td>\n",
              "      <td>0.065</td>\n",
              "      <td>1.26</td>\n",
              "      <td>0.0</td>\n",
              "      <td>0.26</td>\n",
              "      <td>20.0</td>\n",
              "      <td>0.118</td>\n",
              "      <td>0.351</td>\n",
              "      <td>0.014</td>\n",
              "      <td>674.0</td>\n",
              "      <td>0.024</td>\n",
              "      <td>0.43</td>\n",
              "      <td>24.0</td>\n",
              "      <td>0.012</td>\n",
              "      <td>451.0</td>\n",
              "      <td>14.5</td>\n",
              "      <td>2.60</td>\n",
              "    </tr>\n",
              "    <tr>\n",
              "      <th>...</th>\n",
              "      <td>...</td>\n",
              "      <td>...</td>\n",
              "      <td>...</td>\n",
              "      <td>...</td>\n",
              "      <td>...</td>\n",
              "      <td>...</td>\n",
              "      <td>...</td>\n",
              "      <td>...</td>\n",
              "      <td>...</td>\n",
              "      <td>...</td>\n",
              "      <td>...</td>\n",
              "      <td>...</td>\n",
              "      <td>...</td>\n",
              "      <td>...</td>\n",
              "      <td>...</td>\n",
              "      <td>...</td>\n",
              "      <td>...</td>\n",
              "      <td>...</td>\n",
              "      <td>...</td>\n",
              "      <td>...</td>\n",
              "      <td>...</td>\n",
              "      <td>...</td>\n",
              "      <td>...</td>\n",
              "    </tr>\n",
              "    <tr>\n",
              "      <th>8613</th>\n",
              "      <td>305.0</td>\n",
              "      <td>18.50</td>\n",
              "      <td>25.10</td>\n",
              "      <td>0.00</td>\n",
              "      <td>0.00</td>\n",
              "      <td>0.0</td>\n",
              "      <td>47.0</td>\n",
              "      <td>0.410</td>\n",
              "      <td>12.00</td>\n",
              "      <td>0.0</td>\n",
              "      <td>2.38</td>\n",
              "      <td>15.0</td>\n",
              "      <td>3.300</td>\n",
              "      <td>0.190</td>\n",
              "      <td>0.020</td>\n",
              "      <td>66.0</td>\n",
              "      <td>0.100</td>\n",
              "      <td>1.40</td>\n",
              "      <td>60.0</td>\n",
              "      <td>0.000</td>\n",
              "      <td>254.0</td>\n",
              "      <td>73.4</td>\n",
              "      <td>1.10</td>\n",
              "    </tr>\n",
              "    <tr>\n",
              "      <th>8614</th>\n",
              "      <td>111.0</td>\n",
              "      <td>20.54</td>\n",
              "      <td>0.84</td>\n",
              "      <td>5.41</td>\n",
              "      <td>0.00</td>\n",
              "      <td>0.0</td>\n",
              "      <td>2.0</td>\n",
              "      <td>0.112</td>\n",
              "      <td>2.15</td>\n",
              "      <td>0.0</td>\n",
              "      <td>0.00</td>\n",
              "      <td>20.0</td>\n",
              "      <td>1.076</td>\n",
              "      <td>0.024</td>\n",
              "      <td>0.012</td>\n",
              "      <td>10.0</td>\n",
              "      <td>0.033</td>\n",
              "      <td>0.58</td>\n",
              "      <td>37.0</td>\n",
              "      <td>0.029</td>\n",
              "      <td>426.0</td>\n",
              "      <td>21.7</td>\n",
              "      <td>1.55</td>\n",
              "    </tr>\n",
              "    <tr>\n",
              "      <th>8615</th>\n",
              "      <td>269.0</td>\n",
              "      <td>0.00</td>\n",
              "      <td>0.00</td>\n",
              "      <td>73.14</td>\n",
              "      <td>73.20</td>\n",
              "      <td>0.0</td>\n",
              "      <td>0.0</td>\n",
              "      <td>0.000</td>\n",
              "      <td>0.00</td>\n",
              "      <td>0.0</td>\n",
              "      <td>0.00</td>\n",
              "      <td>0.0</td>\n",
              "      <td>0.100</td>\n",
              "      <td>0.060</td>\n",
              "      <td>0.130</td>\n",
              "      <td>13.0</td>\n",
              "      <td>0.020</td>\n",
              "      <td>3.60</td>\n",
              "      <td>10.0</td>\n",
              "      <td>0.000</td>\n",
              "      <td>8.0</td>\n",
              "      <td>0.7</td>\n",
              "      <td>0.19</td>\n",
              "    </tr>\n",
              "    <tr>\n",
              "      <th>8616</th>\n",
              "      <td>90.0</td>\n",
              "      <td>16.10</td>\n",
              "      <td>1.40</td>\n",
              "      <td>2.00</td>\n",
              "      <td>0.00</td>\n",
              "      <td>0.0</td>\n",
              "      <td>30.0</td>\n",
              "      <td>0.130</td>\n",
              "      <td>0.50</td>\n",
              "      <td>0.0</td>\n",
              "      <td>5.00</td>\n",
              "      <td>6.0</td>\n",
              "      <td>1.400</td>\n",
              "      <td>0.120</td>\n",
              "      <td>0.010</td>\n",
              "      <td>10.0</td>\n",
              "      <td>0.400</td>\n",
              "      <td>3.50</td>\n",
              "      <td>250.0</td>\n",
              "      <td>0.000</td>\n",
              "      <td>272.0</td>\n",
              "      <td>27.4</td>\n",
              "      <td>1.00</td>\n",
              "    </tr>\n",
              "    <tr>\n",
              "      <th>8617</th>\n",
              "      <td>89.0</td>\n",
              "      <td>19.80</td>\n",
              "      <td>0.50</td>\n",
              "      <td>0.00</td>\n",
              "      <td>0.00</td>\n",
              "      <td>0.0</td>\n",
              "      <td>30.0</td>\n",
              "      <td>0.120</td>\n",
              "      <td>1.00</td>\n",
              "      <td>0.0</td>\n",
              "      <td>0.50</td>\n",
              "      <td>15.0</td>\n",
              "      <td>1.100</td>\n",
              "      <td>0.150</td>\n",
              "      <td>0.120</td>\n",
              "      <td>118.0</td>\n",
              "      <td>0.250</td>\n",
              "      <td>1.40</td>\n",
              "      <td>20.0</td>\n",
              "      <td>0.000</td>\n",
              "      <td>180.0</td>\n",
              "      <td>16.8</td>\n",
              "      <td>1.00</td>\n",
              "    </tr>\n",
              "  </tbody>\n",
              "</table>\n",
              "<p>8618 rows × 23 columns</p>\n",
              "</div>"
            ],
            "text/plain": [
              "      Energy_kcal  Protein_g  Fat_g  ...  Phosphorus_mg  Selenium_mcg  Zinc_mg\n",
              "0           717.0       0.85  81.11  ...           24.0           1.0     0.09\n",
              "1           717.0       0.85  81.11  ...           23.0           1.0     0.05\n",
              "2           876.0       0.28  99.48  ...            3.0           0.0     0.01\n",
              "3           353.0      21.40  28.74  ...          387.0          14.5     2.66\n",
              "4           371.0      23.24  29.68  ...          451.0          14.5     2.60\n",
              "...           ...        ...    ...  ...            ...           ...      ...\n",
              "8613        305.0      18.50  25.10  ...          254.0          73.4     1.10\n",
              "8614        111.0      20.54   0.84  ...          426.0          21.7     1.55\n",
              "8615        269.0       0.00   0.00  ...            8.0           0.7     0.19\n",
              "8616         90.0      16.10   1.40  ...          272.0          27.4     1.00\n",
              "8617         89.0      19.80   0.50  ...          180.0          16.8     1.00\n",
              "\n",
              "[8618 rows x 23 columns]"
            ]
          },
          "metadata": {
            "tags": []
          },
          "execution_count": 63
        }
      ]
    },
    {
      "cell_type": "markdown",
      "metadata": {
        "id": "JngweuYmrBcs"
      },
      "source": [
        "# Quiz1 ลบ columns  ที่มีค่า  correlation เป็น 1 เมื่อเทียบกับ  column  อื่น"
      ]
    },
    {
      "cell_type": "code",
      "metadata": {
        "colab": {
          "base_uri": "https://localhost:8080/",
          "height": 435
        },
        "id": "-ivs2mnfrC-r",
        "outputId": "789966fd-a072-4853-c1f2-8d9064dc522d"
      },
      "source": [
        "newdata_dropped = newdata.drop(['VitE_mg','Niacin_mg','Riboflavin_mg','Thiamin_mg','Magnesium_mg','Phosphorus_mg','Zinc_mg'], axis=1)\n",
        "newdata_dropped"
      ],
      "execution_count": 64,
      "outputs": [
        {
          "output_type": "execute_result",
          "data": {
            "text/html": [
              "<div>\n",
              "<style scoped>\n",
              "    .dataframe tbody tr th:only-of-type {\n",
              "        vertical-align: middle;\n",
              "    }\n",
              "\n",
              "    .dataframe tbody tr th {\n",
              "        vertical-align: top;\n",
              "    }\n",
              "\n",
              "    .dataframe thead th {\n",
              "        text-align: right;\n",
              "    }\n",
              "</style>\n",
              "<table border=\"1\" class=\"dataframe\">\n",
              "  <thead>\n",
              "    <tr style=\"text-align: right;\">\n",
              "      <th></th>\n",
              "      <th>Energy_kcal</th>\n",
              "      <th>Protein_g</th>\n",
              "      <th>Fat_g</th>\n",
              "      <th>Carb_g</th>\n",
              "      <th>Sugar_g</th>\n",
              "      <th>Fiber_g</th>\n",
              "      <th>VitA_mcg</th>\n",
              "      <th>VitB6_mg</th>\n",
              "      <th>VitB12_mcg</th>\n",
              "      <th>VitC_mg</th>\n",
              "      <th>Folate_mcg</th>\n",
              "      <th>Calcium_mg</th>\n",
              "      <th>Copper_mcg</th>\n",
              "      <th>Iron_mg</th>\n",
              "      <th>Manganese_mg</th>\n",
              "      <th>Selenium_mcg</th>\n",
              "      <th>VitA_USRDA</th>\n",
              "      <th>VitB6_USRDA</th>\n",
              "      <th>VitB12_USRDA</th>\n",
              "      <th>VitC_USRDA</th>\n",
              "      <th>VitE_USRDA</th>\n",
              "      <th>Folate_USRDA</th>\n",
              "      <th>Niacin_USRDA</th>\n",
              "      <th>Riboflavin_USRDA</th>\n",
              "      <th>Thiamin_USRDA</th>\n",
              "      <th>Calcium_USRDA</th>\n",
              "      <th>Copper_USRDA</th>\n",
              "      <th>Magnesium_USRDA</th>\n",
              "      <th>Phosphorus_USRDA</th>\n",
              "      <th>Selenium_USRDA</th>\n",
              "      <th>Zinc_USRDA</th>\n",
              "    </tr>\n",
              "  </thead>\n",
              "  <tbody>\n",
              "    <tr>\n",
              "      <th>0</th>\n",
              "      <td>717.0</td>\n",
              "      <td>0.85</td>\n",
              "      <td>81.11</td>\n",
              "      <td>0.06</td>\n",
              "      <td>0.06</td>\n",
              "      <td>0.0</td>\n",
              "      <td>684.0</td>\n",
              "      <td>0.003</td>\n",
              "      <td>0.17</td>\n",
              "      <td>0.0</td>\n",
              "      <td>3.0</td>\n",
              "      <td>24.0</td>\n",
              "      <td>0.000</td>\n",
              "      <td>0.02</td>\n",
              "      <td>0.000</td>\n",
              "      <td>1.0</td>\n",
              "      <td>0.760000</td>\n",
              "      <td>0.001765</td>\n",
              "      <td>0.070833</td>\n",
              "      <td>0.0</td>\n",
              "      <td>0.154667</td>\n",
              "      <td>0.0075</td>\n",
              "      <td>0.002625</td>\n",
              "      <td>0.026154</td>\n",
              "      <td>0.004167</td>\n",
              "      <td>0.020000</td>\n",
              "      <td>0.000000</td>\n",
              "      <td>0.004762</td>\n",
              "      <td>0.034286</td>\n",
              "      <td>0.018182</td>\n",
              "      <td>0.008182</td>\n",
              "    </tr>\n",
              "    <tr>\n",
              "      <th>1</th>\n",
              "      <td>717.0</td>\n",
              "      <td>0.85</td>\n",
              "      <td>81.11</td>\n",
              "      <td>0.06</td>\n",
              "      <td>0.06</td>\n",
              "      <td>0.0</td>\n",
              "      <td>684.0</td>\n",
              "      <td>0.003</td>\n",
              "      <td>0.13</td>\n",
              "      <td>0.0</td>\n",
              "      <td>3.0</td>\n",
              "      <td>24.0</td>\n",
              "      <td>0.016</td>\n",
              "      <td>0.16</td>\n",
              "      <td>0.004</td>\n",
              "      <td>1.0</td>\n",
              "      <td>0.760000</td>\n",
              "      <td>0.001765</td>\n",
              "      <td>0.054167</td>\n",
              "      <td>0.0</td>\n",
              "      <td>0.154667</td>\n",
              "      <td>0.0075</td>\n",
              "      <td>0.002625</td>\n",
              "      <td>0.026154</td>\n",
              "      <td>0.004167</td>\n",
              "      <td>0.020000</td>\n",
              "      <td>0.000018</td>\n",
              "      <td>0.004762</td>\n",
              "      <td>0.032857</td>\n",
              "      <td>0.018182</td>\n",
              "      <td>0.004545</td>\n",
              "    </tr>\n",
              "    <tr>\n",
              "      <th>2</th>\n",
              "      <td>876.0</td>\n",
              "      <td>0.28</td>\n",
              "      <td>99.48</td>\n",
              "      <td>0.00</td>\n",
              "      <td>0.00</td>\n",
              "      <td>0.0</td>\n",
              "      <td>840.0</td>\n",
              "      <td>0.001</td>\n",
              "      <td>0.01</td>\n",
              "      <td>0.0</td>\n",
              "      <td>0.0</td>\n",
              "      <td>4.0</td>\n",
              "      <td>0.001</td>\n",
              "      <td>0.00</td>\n",
              "      <td>0.000</td>\n",
              "      <td>0.0</td>\n",
              "      <td>0.933333</td>\n",
              "      <td>0.000588</td>\n",
              "      <td>0.004167</td>\n",
              "      <td>0.0</td>\n",
              "      <td>0.186667</td>\n",
              "      <td>0.0000</td>\n",
              "      <td>0.000188</td>\n",
              "      <td>0.003846</td>\n",
              "      <td>0.000833</td>\n",
              "      <td>0.003333</td>\n",
              "      <td>0.000001</td>\n",
              "      <td>0.000000</td>\n",
              "      <td>0.004286</td>\n",
              "      <td>0.000000</td>\n",
              "      <td>0.000909</td>\n",
              "    </tr>\n",
              "    <tr>\n",
              "      <th>3</th>\n",
              "      <td>353.0</td>\n",
              "      <td>21.40</td>\n",
              "      <td>28.74</td>\n",
              "      <td>2.34</td>\n",
              "      <td>0.50</td>\n",
              "      <td>0.0</td>\n",
              "      <td>198.0</td>\n",
              "      <td>0.166</td>\n",
              "      <td>1.22</td>\n",
              "      <td>0.0</td>\n",
              "      <td>36.0</td>\n",
              "      <td>528.0</td>\n",
              "      <td>0.040</td>\n",
              "      <td>0.31</td>\n",
              "      <td>0.009</td>\n",
              "      <td>14.5</td>\n",
              "      <td>0.220000</td>\n",
              "      <td>0.097647</td>\n",
              "      <td>0.508333</td>\n",
              "      <td>0.0</td>\n",
              "      <td>0.016667</td>\n",
              "      <td>0.0900</td>\n",
              "      <td>0.063500</td>\n",
              "      <td>0.293846</td>\n",
              "      <td>0.024167</td>\n",
              "      <td>0.440000</td>\n",
              "      <td>0.000044</td>\n",
              "      <td>0.054762</td>\n",
              "      <td>0.552857</td>\n",
              "      <td>0.263636</td>\n",
              "      <td>0.241818</td>\n",
              "    </tr>\n",
              "    <tr>\n",
              "      <th>4</th>\n",
              "      <td>371.0</td>\n",
              "      <td>23.24</td>\n",
              "      <td>29.68</td>\n",
              "      <td>2.79</td>\n",
              "      <td>0.51</td>\n",
              "      <td>0.0</td>\n",
              "      <td>292.0</td>\n",
              "      <td>0.065</td>\n",
              "      <td>1.26</td>\n",
              "      <td>0.0</td>\n",
              "      <td>20.0</td>\n",
              "      <td>674.0</td>\n",
              "      <td>0.024</td>\n",
              "      <td>0.43</td>\n",
              "      <td>0.012</td>\n",
              "      <td>14.5</td>\n",
              "      <td>0.324444</td>\n",
              "      <td>0.038235</td>\n",
              "      <td>0.525000</td>\n",
              "      <td>0.0</td>\n",
              "      <td>0.017333</td>\n",
              "      <td>0.0500</td>\n",
              "      <td>0.007375</td>\n",
              "      <td>0.270000</td>\n",
              "      <td>0.011667</td>\n",
              "      <td>0.561667</td>\n",
              "      <td>0.000027</td>\n",
              "      <td>0.057143</td>\n",
              "      <td>0.644286</td>\n",
              "      <td>0.263636</td>\n",
              "      <td>0.236364</td>\n",
              "    </tr>\n",
              "    <tr>\n",
              "      <th>...</th>\n",
              "      <td>...</td>\n",
              "      <td>...</td>\n",
              "      <td>...</td>\n",
              "      <td>...</td>\n",
              "      <td>...</td>\n",
              "      <td>...</td>\n",
              "      <td>...</td>\n",
              "      <td>...</td>\n",
              "      <td>...</td>\n",
              "      <td>...</td>\n",
              "      <td>...</td>\n",
              "      <td>...</td>\n",
              "      <td>...</td>\n",
              "      <td>...</td>\n",
              "      <td>...</td>\n",
              "      <td>...</td>\n",
              "      <td>...</td>\n",
              "      <td>...</td>\n",
              "      <td>...</td>\n",
              "      <td>...</td>\n",
              "      <td>...</td>\n",
              "      <td>...</td>\n",
              "      <td>...</td>\n",
              "      <td>...</td>\n",
              "      <td>...</td>\n",
              "      <td>...</td>\n",
              "      <td>...</td>\n",
              "      <td>...</td>\n",
              "      <td>...</td>\n",
              "      <td>...</td>\n",
              "      <td>...</td>\n",
              "    </tr>\n",
              "    <tr>\n",
              "      <th>8613</th>\n",
              "      <td>305.0</td>\n",
              "      <td>18.50</td>\n",
              "      <td>25.10</td>\n",
              "      <td>0.00</td>\n",
              "      <td>0.00</td>\n",
              "      <td>0.0</td>\n",
              "      <td>47.0</td>\n",
              "      <td>0.410</td>\n",
              "      <td>12.00</td>\n",
              "      <td>0.0</td>\n",
              "      <td>15.0</td>\n",
              "      <td>66.0</td>\n",
              "      <td>0.100</td>\n",
              "      <td>1.40</td>\n",
              "      <td>0.000</td>\n",
              "      <td>73.4</td>\n",
              "      <td>0.052222</td>\n",
              "      <td>0.241176</td>\n",
              "      <td>5.000000</td>\n",
              "      <td>0.0</td>\n",
              "      <td>0.158667</td>\n",
              "      <td>0.0375</td>\n",
              "      <td>0.206250</td>\n",
              "      <td>0.146154</td>\n",
              "      <td>0.016667</td>\n",
              "      <td>0.055000</td>\n",
              "      <td>0.000111</td>\n",
              "      <td>0.142857</td>\n",
              "      <td>0.362857</td>\n",
              "      <td>1.334545</td>\n",
              "      <td>0.100000</td>\n",
              "    </tr>\n",
              "    <tr>\n",
              "      <th>8614</th>\n",
              "      <td>111.0</td>\n",
              "      <td>20.54</td>\n",
              "      <td>0.84</td>\n",
              "      <td>5.41</td>\n",
              "      <td>0.00</td>\n",
              "      <td>0.0</td>\n",
              "      <td>2.0</td>\n",
              "      <td>0.112</td>\n",
              "      <td>2.15</td>\n",
              "      <td>0.0</td>\n",
              "      <td>20.0</td>\n",
              "      <td>10.0</td>\n",
              "      <td>0.033</td>\n",
              "      <td>0.58</td>\n",
              "      <td>0.029</td>\n",
              "      <td>21.7</td>\n",
              "      <td>0.002222</td>\n",
              "      <td>0.065882</td>\n",
              "      <td>0.895833</td>\n",
              "      <td>0.0</td>\n",
              "      <td>0.000000</td>\n",
              "      <td>0.0500</td>\n",
              "      <td>0.067250</td>\n",
              "      <td>0.018462</td>\n",
              "      <td>0.010000</td>\n",
              "      <td>0.008333</td>\n",
              "      <td>0.000037</td>\n",
              "      <td>0.088095</td>\n",
              "      <td>0.608571</td>\n",
              "      <td>0.394545</td>\n",
              "      <td>0.140909</td>\n",
              "    </tr>\n",
              "    <tr>\n",
              "      <th>8615</th>\n",
              "      <td>269.0</td>\n",
              "      <td>0.00</td>\n",
              "      <td>0.00</td>\n",
              "      <td>73.14</td>\n",
              "      <td>73.20</td>\n",
              "      <td>0.0</td>\n",
              "      <td>0.0</td>\n",
              "      <td>0.000</td>\n",
              "      <td>0.00</td>\n",
              "      <td>0.0</td>\n",
              "      <td>0.0</td>\n",
              "      <td>13.0</td>\n",
              "      <td>0.020</td>\n",
              "      <td>3.60</td>\n",
              "      <td>0.000</td>\n",
              "      <td>0.7</td>\n",
              "      <td>0.000000</td>\n",
              "      <td>0.000000</td>\n",
              "      <td>0.000000</td>\n",
              "      <td>0.0</td>\n",
              "      <td>0.000000</td>\n",
              "      <td>0.0000</td>\n",
              "      <td>0.006250</td>\n",
              "      <td>0.046154</td>\n",
              "      <td>0.108333</td>\n",
              "      <td>0.010833</td>\n",
              "      <td>0.000022</td>\n",
              "      <td>0.023810</td>\n",
              "      <td>0.011429</td>\n",
              "      <td>0.012727</td>\n",
              "      <td>0.017273</td>\n",
              "    </tr>\n",
              "    <tr>\n",
              "      <th>8616</th>\n",
              "      <td>90.0</td>\n",
              "      <td>16.10</td>\n",
              "      <td>1.40</td>\n",
              "      <td>2.00</td>\n",
              "      <td>0.00</td>\n",
              "      <td>0.0</td>\n",
              "      <td>30.0</td>\n",
              "      <td>0.130</td>\n",
              "      <td>0.50</td>\n",
              "      <td>0.0</td>\n",
              "      <td>6.0</td>\n",
              "      <td>10.0</td>\n",
              "      <td>0.400</td>\n",
              "      <td>3.50</td>\n",
              "      <td>0.000</td>\n",
              "      <td>27.4</td>\n",
              "      <td>0.033333</td>\n",
              "      <td>0.076471</td>\n",
              "      <td>0.208333</td>\n",
              "      <td>0.0</td>\n",
              "      <td>0.333333</td>\n",
              "      <td>0.0150</td>\n",
              "      <td>0.087500</td>\n",
              "      <td>0.092308</td>\n",
              "      <td>0.008333</td>\n",
              "      <td>0.008333</td>\n",
              "      <td>0.000444</td>\n",
              "      <td>0.595238</td>\n",
              "      <td>0.388571</td>\n",
              "      <td>0.498182</td>\n",
              "      <td>0.090909</td>\n",
              "    </tr>\n",
              "    <tr>\n",
              "      <th>8617</th>\n",
              "      <td>89.0</td>\n",
              "      <td>19.80</td>\n",
              "      <td>0.50</td>\n",
              "      <td>0.00</td>\n",
              "      <td>0.00</td>\n",
              "      <td>0.0</td>\n",
              "      <td>30.0</td>\n",
              "      <td>0.120</td>\n",
              "      <td>1.00</td>\n",
              "      <td>0.0</td>\n",
              "      <td>15.0</td>\n",
              "      <td>118.0</td>\n",
              "      <td>0.250</td>\n",
              "      <td>1.40</td>\n",
              "      <td>0.000</td>\n",
              "      <td>16.8</td>\n",
              "      <td>0.033333</td>\n",
              "      <td>0.070588</td>\n",
              "      <td>0.416667</td>\n",
              "      <td>0.0</td>\n",
              "      <td>0.033333</td>\n",
              "      <td>0.0375</td>\n",
              "      <td>0.068750</td>\n",
              "      <td>0.115385</td>\n",
              "      <td>0.100000</td>\n",
              "      <td>0.098333</td>\n",
              "      <td>0.000278</td>\n",
              "      <td>0.047619</td>\n",
              "      <td>0.257143</td>\n",
              "      <td>0.305455</td>\n",
              "      <td>0.090909</td>\n",
              "    </tr>\n",
              "  </tbody>\n",
              "</table>\n",
              "<p>8618 rows × 31 columns</p>\n",
              "</div>"
            ],
            "text/plain": [
              "      Energy_kcal  Protein_g  ...  Selenium_USRDA  Zinc_USRDA\n",
              "0           717.0       0.85  ...        0.018182    0.008182\n",
              "1           717.0       0.85  ...        0.018182    0.004545\n",
              "2           876.0       0.28  ...        0.000000    0.000909\n",
              "3           353.0      21.40  ...        0.263636    0.241818\n",
              "4           371.0      23.24  ...        0.263636    0.236364\n",
              "...           ...        ...  ...             ...         ...\n",
              "8613        305.0      18.50  ...        1.334545    0.100000\n",
              "8614        111.0      20.54  ...        0.394545    0.140909\n",
              "8615        269.0       0.00  ...        0.012727    0.017273\n",
              "8616         90.0      16.10  ...        0.498182    0.090909\n",
              "8617         89.0      19.80  ...        0.305455    0.090909\n",
              "\n",
              "[8618 rows x 31 columns]"
            ]
          },
          "metadata": {
            "tags": []
          },
          "execution_count": 64
        }
      ]
    },
    {
      "cell_type": "code",
      "metadata": {
        "id": "RasB8RYW6ozJ",
        "colab": {
          "base_uri": "https://localhost:8080/",
          "height": 747
        },
        "outputId": "eec7b351-c2db-49fd-a323-4b42b69c70f5"
      },
      "source": [
        "data_dropped = data.drop(['ID','ShortDescrip','Descrip','CommonName','MfgName','ScientificName','VitE_mg','Niacin_mg','Riboflavin_mg','Thiamin_mg','Magnesium_mg','Phosphorus_mg','Zinc_mg'], axis=1)\n",
        "data_dropped"
      ],
      "execution_count": 65,
      "outputs": [
        {
          "output_type": "execute_result",
          "data": {
            "text/html": [
              "<div>\n",
              "<style scoped>\n",
              "    .dataframe tbody tr th:only-of-type {\n",
              "        vertical-align: middle;\n",
              "    }\n",
              "\n",
              "    .dataframe tbody tr th {\n",
              "        vertical-align: top;\n",
              "    }\n",
              "\n",
              "    .dataframe thead th {\n",
              "        text-align: right;\n",
              "    }\n",
              "</style>\n",
              "<table border=\"1\" class=\"dataframe\">\n",
              "  <thead>\n",
              "    <tr style=\"text-align: right;\">\n",
              "      <th></th>\n",
              "      <th>FoodGroup</th>\n",
              "      <th>Energy_kcal</th>\n",
              "      <th>Protein_g</th>\n",
              "      <th>Fat_g</th>\n",
              "      <th>Carb_g</th>\n",
              "      <th>Sugar_g</th>\n",
              "      <th>Fiber_g</th>\n",
              "      <th>VitA_mcg</th>\n",
              "      <th>VitB6_mg</th>\n",
              "      <th>VitB12_mcg</th>\n",
              "      <th>VitC_mg</th>\n",
              "      <th>Folate_mcg</th>\n",
              "      <th>Calcium_mg</th>\n",
              "      <th>Copper_mcg</th>\n",
              "      <th>Iron_mg</th>\n",
              "      <th>Manganese_mg</th>\n",
              "      <th>Selenium_mcg</th>\n",
              "      <th>VitA_USRDA</th>\n",
              "      <th>VitB6_USRDA</th>\n",
              "      <th>VitB12_USRDA</th>\n",
              "      <th>VitC_USRDA</th>\n",
              "      <th>VitE_USRDA</th>\n",
              "      <th>Folate_USRDA</th>\n",
              "      <th>Niacin_USRDA</th>\n",
              "      <th>Riboflavin_USRDA</th>\n",
              "      <th>Thiamin_USRDA</th>\n",
              "      <th>Calcium_USRDA</th>\n",
              "      <th>Copper_USRDA</th>\n",
              "      <th>Magnesium_USRDA</th>\n",
              "      <th>Phosphorus_USRDA</th>\n",
              "      <th>Selenium_USRDA</th>\n",
              "      <th>Zinc_USRDA</th>\n",
              "    </tr>\n",
              "  </thead>\n",
              "  <tbody>\n",
              "    <tr>\n",
              "      <th>0</th>\n",
              "      <td>Dairy and Egg Products</td>\n",
              "      <td>717.0</td>\n",
              "      <td>0.85</td>\n",
              "      <td>81.11</td>\n",
              "      <td>0.06</td>\n",
              "      <td>0.06</td>\n",
              "      <td>0.0</td>\n",
              "      <td>684.0</td>\n",
              "      <td>0.003</td>\n",
              "      <td>0.17</td>\n",
              "      <td>0.0</td>\n",
              "      <td>3.0</td>\n",
              "      <td>24.0</td>\n",
              "      <td>0.000</td>\n",
              "      <td>0.02</td>\n",
              "      <td>0.000</td>\n",
              "      <td>1.0</td>\n",
              "      <td>0.760000</td>\n",
              "      <td>0.001765</td>\n",
              "      <td>0.070833</td>\n",
              "      <td>0.0</td>\n",
              "      <td>0.154667</td>\n",
              "      <td>0.0075</td>\n",
              "      <td>0.002625</td>\n",
              "      <td>0.026154</td>\n",
              "      <td>0.004167</td>\n",
              "      <td>0.020000</td>\n",
              "      <td>0.000000</td>\n",
              "      <td>0.004762</td>\n",
              "      <td>0.034286</td>\n",
              "      <td>0.018182</td>\n",
              "      <td>0.008182</td>\n",
              "    </tr>\n",
              "    <tr>\n",
              "      <th>1</th>\n",
              "      <td>Dairy and Egg Products</td>\n",
              "      <td>717.0</td>\n",
              "      <td>0.85</td>\n",
              "      <td>81.11</td>\n",
              "      <td>0.06</td>\n",
              "      <td>0.06</td>\n",
              "      <td>0.0</td>\n",
              "      <td>684.0</td>\n",
              "      <td>0.003</td>\n",
              "      <td>0.13</td>\n",
              "      <td>0.0</td>\n",
              "      <td>3.0</td>\n",
              "      <td>24.0</td>\n",
              "      <td>0.016</td>\n",
              "      <td>0.16</td>\n",
              "      <td>0.004</td>\n",
              "      <td>1.0</td>\n",
              "      <td>0.760000</td>\n",
              "      <td>0.001765</td>\n",
              "      <td>0.054167</td>\n",
              "      <td>0.0</td>\n",
              "      <td>0.154667</td>\n",
              "      <td>0.0075</td>\n",
              "      <td>0.002625</td>\n",
              "      <td>0.026154</td>\n",
              "      <td>0.004167</td>\n",
              "      <td>0.020000</td>\n",
              "      <td>0.000018</td>\n",
              "      <td>0.004762</td>\n",
              "      <td>0.032857</td>\n",
              "      <td>0.018182</td>\n",
              "      <td>0.004545</td>\n",
              "    </tr>\n",
              "    <tr>\n",
              "      <th>2</th>\n",
              "      <td>Dairy and Egg Products</td>\n",
              "      <td>876.0</td>\n",
              "      <td>0.28</td>\n",
              "      <td>99.48</td>\n",
              "      <td>0.00</td>\n",
              "      <td>0.00</td>\n",
              "      <td>0.0</td>\n",
              "      <td>840.0</td>\n",
              "      <td>0.001</td>\n",
              "      <td>0.01</td>\n",
              "      <td>0.0</td>\n",
              "      <td>0.0</td>\n",
              "      <td>4.0</td>\n",
              "      <td>0.001</td>\n",
              "      <td>0.00</td>\n",
              "      <td>0.000</td>\n",
              "      <td>0.0</td>\n",
              "      <td>0.933333</td>\n",
              "      <td>0.000588</td>\n",
              "      <td>0.004167</td>\n",
              "      <td>0.0</td>\n",
              "      <td>0.186667</td>\n",
              "      <td>0.0000</td>\n",
              "      <td>0.000188</td>\n",
              "      <td>0.003846</td>\n",
              "      <td>0.000833</td>\n",
              "      <td>0.003333</td>\n",
              "      <td>0.000001</td>\n",
              "      <td>0.000000</td>\n",
              "      <td>0.004286</td>\n",
              "      <td>0.000000</td>\n",
              "      <td>0.000909</td>\n",
              "    </tr>\n",
              "    <tr>\n",
              "      <th>3</th>\n",
              "      <td>Dairy and Egg Products</td>\n",
              "      <td>353.0</td>\n",
              "      <td>21.40</td>\n",
              "      <td>28.74</td>\n",
              "      <td>2.34</td>\n",
              "      <td>0.50</td>\n",
              "      <td>0.0</td>\n",
              "      <td>198.0</td>\n",
              "      <td>0.166</td>\n",
              "      <td>1.22</td>\n",
              "      <td>0.0</td>\n",
              "      <td>36.0</td>\n",
              "      <td>528.0</td>\n",
              "      <td>0.040</td>\n",
              "      <td>0.31</td>\n",
              "      <td>0.009</td>\n",
              "      <td>14.5</td>\n",
              "      <td>0.220000</td>\n",
              "      <td>0.097647</td>\n",
              "      <td>0.508333</td>\n",
              "      <td>0.0</td>\n",
              "      <td>0.016667</td>\n",
              "      <td>0.0900</td>\n",
              "      <td>0.063500</td>\n",
              "      <td>0.293846</td>\n",
              "      <td>0.024167</td>\n",
              "      <td>0.440000</td>\n",
              "      <td>0.000044</td>\n",
              "      <td>0.054762</td>\n",
              "      <td>0.552857</td>\n",
              "      <td>0.263636</td>\n",
              "      <td>0.241818</td>\n",
              "    </tr>\n",
              "    <tr>\n",
              "      <th>4</th>\n",
              "      <td>Dairy and Egg Products</td>\n",
              "      <td>371.0</td>\n",
              "      <td>23.24</td>\n",
              "      <td>29.68</td>\n",
              "      <td>2.79</td>\n",
              "      <td>0.51</td>\n",
              "      <td>0.0</td>\n",
              "      <td>292.0</td>\n",
              "      <td>0.065</td>\n",
              "      <td>1.26</td>\n",
              "      <td>0.0</td>\n",
              "      <td>20.0</td>\n",
              "      <td>674.0</td>\n",
              "      <td>0.024</td>\n",
              "      <td>0.43</td>\n",
              "      <td>0.012</td>\n",
              "      <td>14.5</td>\n",
              "      <td>0.324444</td>\n",
              "      <td>0.038235</td>\n",
              "      <td>0.525000</td>\n",
              "      <td>0.0</td>\n",
              "      <td>0.017333</td>\n",
              "      <td>0.0500</td>\n",
              "      <td>0.007375</td>\n",
              "      <td>0.270000</td>\n",
              "      <td>0.011667</td>\n",
              "      <td>0.561667</td>\n",
              "      <td>0.000027</td>\n",
              "      <td>0.057143</td>\n",
              "      <td>0.644286</td>\n",
              "      <td>0.263636</td>\n",
              "      <td>0.236364</td>\n",
              "    </tr>\n",
              "    <tr>\n",
              "      <th>...</th>\n",
              "      <td>...</td>\n",
              "      <td>...</td>\n",
              "      <td>...</td>\n",
              "      <td>...</td>\n",
              "      <td>...</td>\n",
              "      <td>...</td>\n",
              "      <td>...</td>\n",
              "      <td>...</td>\n",
              "      <td>...</td>\n",
              "      <td>...</td>\n",
              "      <td>...</td>\n",
              "      <td>...</td>\n",
              "      <td>...</td>\n",
              "      <td>...</td>\n",
              "      <td>...</td>\n",
              "      <td>...</td>\n",
              "      <td>...</td>\n",
              "      <td>...</td>\n",
              "      <td>...</td>\n",
              "      <td>...</td>\n",
              "      <td>...</td>\n",
              "      <td>...</td>\n",
              "      <td>...</td>\n",
              "      <td>...</td>\n",
              "      <td>...</td>\n",
              "      <td>...</td>\n",
              "      <td>...</td>\n",
              "      <td>...</td>\n",
              "      <td>...</td>\n",
              "      <td>...</td>\n",
              "      <td>...</td>\n",
              "      <td>...</td>\n",
              "    </tr>\n",
              "    <tr>\n",
              "      <th>8613</th>\n",
              "      <td>Finfish and Shellfish Products</td>\n",
              "      <td>305.0</td>\n",
              "      <td>18.50</td>\n",
              "      <td>25.10</td>\n",
              "      <td>0.00</td>\n",
              "      <td>0.00</td>\n",
              "      <td>0.0</td>\n",
              "      <td>47.0</td>\n",
              "      <td>0.410</td>\n",
              "      <td>12.00</td>\n",
              "      <td>0.0</td>\n",
              "      <td>15.0</td>\n",
              "      <td>66.0</td>\n",
              "      <td>0.100</td>\n",
              "      <td>1.40</td>\n",
              "      <td>0.000</td>\n",
              "      <td>73.4</td>\n",
              "      <td>0.052222</td>\n",
              "      <td>0.241176</td>\n",
              "      <td>5.000000</td>\n",
              "      <td>0.0</td>\n",
              "      <td>0.158667</td>\n",
              "      <td>0.0375</td>\n",
              "      <td>0.206250</td>\n",
              "      <td>0.146154</td>\n",
              "      <td>0.016667</td>\n",
              "      <td>0.055000</td>\n",
              "      <td>0.000111</td>\n",
              "      <td>0.142857</td>\n",
              "      <td>0.362857</td>\n",
              "      <td>1.334545</td>\n",
              "      <td>0.100000</td>\n",
              "    </tr>\n",
              "    <tr>\n",
              "      <th>8614</th>\n",
              "      <td>Finfish and Shellfish Products</td>\n",
              "      <td>111.0</td>\n",
              "      <td>20.54</td>\n",
              "      <td>0.84</td>\n",
              "      <td>5.41</td>\n",
              "      <td>0.00</td>\n",
              "      <td>0.0</td>\n",
              "      <td>2.0</td>\n",
              "      <td>0.112</td>\n",
              "      <td>2.15</td>\n",
              "      <td>0.0</td>\n",
              "      <td>20.0</td>\n",
              "      <td>10.0</td>\n",
              "      <td>0.033</td>\n",
              "      <td>0.58</td>\n",
              "      <td>0.029</td>\n",
              "      <td>21.7</td>\n",
              "      <td>0.002222</td>\n",
              "      <td>0.065882</td>\n",
              "      <td>0.895833</td>\n",
              "      <td>0.0</td>\n",
              "      <td>0.000000</td>\n",
              "      <td>0.0500</td>\n",
              "      <td>0.067250</td>\n",
              "      <td>0.018462</td>\n",
              "      <td>0.010000</td>\n",
              "      <td>0.008333</td>\n",
              "      <td>0.000037</td>\n",
              "      <td>0.088095</td>\n",
              "      <td>0.608571</td>\n",
              "      <td>0.394545</td>\n",
              "      <td>0.140909</td>\n",
              "    </tr>\n",
              "    <tr>\n",
              "      <th>8615</th>\n",
              "      <td>Sweets</td>\n",
              "      <td>269.0</td>\n",
              "      <td>0.00</td>\n",
              "      <td>0.00</td>\n",
              "      <td>73.14</td>\n",
              "      <td>73.20</td>\n",
              "      <td>0.0</td>\n",
              "      <td>0.0</td>\n",
              "      <td>0.000</td>\n",
              "      <td>0.00</td>\n",
              "      <td>0.0</td>\n",
              "      <td>0.0</td>\n",
              "      <td>13.0</td>\n",
              "      <td>0.020</td>\n",
              "      <td>3.60</td>\n",
              "      <td>0.000</td>\n",
              "      <td>0.7</td>\n",
              "      <td>0.000000</td>\n",
              "      <td>0.000000</td>\n",
              "      <td>0.000000</td>\n",
              "      <td>0.0</td>\n",
              "      <td>0.000000</td>\n",
              "      <td>0.0000</td>\n",
              "      <td>0.006250</td>\n",
              "      <td>0.046154</td>\n",
              "      <td>0.108333</td>\n",
              "      <td>0.010833</td>\n",
              "      <td>0.000022</td>\n",
              "      <td>0.023810</td>\n",
              "      <td>0.011429</td>\n",
              "      <td>0.012727</td>\n",
              "      <td>0.017273</td>\n",
              "    </tr>\n",
              "    <tr>\n",
              "      <th>8616</th>\n",
              "      <td>Finfish and Shellfish Products</td>\n",
              "      <td>90.0</td>\n",
              "      <td>16.10</td>\n",
              "      <td>1.40</td>\n",
              "      <td>2.00</td>\n",
              "      <td>0.00</td>\n",
              "      <td>0.0</td>\n",
              "      <td>30.0</td>\n",
              "      <td>0.130</td>\n",
              "      <td>0.50</td>\n",
              "      <td>0.0</td>\n",
              "      <td>6.0</td>\n",
              "      <td>10.0</td>\n",
              "      <td>0.400</td>\n",
              "      <td>3.50</td>\n",
              "      <td>0.000</td>\n",
              "      <td>27.4</td>\n",
              "      <td>0.033333</td>\n",
              "      <td>0.076471</td>\n",
              "      <td>0.208333</td>\n",
              "      <td>0.0</td>\n",
              "      <td>0.333333</td>\n",
              "      <td>0.0150</td>\n",
              "      <td>0.087500</td>\n",
              "      <td>0.092308</td>\n",
              "      <td>0.008333</td>\n",
              "      <td>0.008333</td>\n",
              "      <td>0.000444</td>\n",
              "      <td>0.595238</td>\n",
              "      <td>0.388571</td>\n",
              "      <td>0.498182</td>\n",
              "      <td>0.090909</td>\n",
              "    </tr>\n",
              "    <tr>\n",
              "      <th>8617</th>\n",
              "      <td>Finfish and Shellfish Products</td>\n",
              "      <td>89.0</td>\n",
              "      <td>19.80</td>\n",
              "      <td>0.50</td>\n",
              "      <td>0.00</td>\n",
              "      <td>0.00</td>\n",
              "      <td>0.0</td>\n",
              "      <td>30.0</td>\n",
              "      <td>0.120</td>\n",
              "      <td>1.00</td>\n",
              "      <td>0.0</td>\n",
              "      <td>15.0</td>\n",
              "      <td>118.0</td>\n",
              "      <td>0.250</td>\n",
              "      <td>1.40</td>\n",
              "      <td>0.000</td>\n",
              "      <td>16.8</td>\n",
              "      <td>0.033333</td>\n",
              "      <td>0.070588</td>\n",
              "      <td>0.416667</td>\n",
              "      <td>0.0</td>\n",
              "      <td>0.033333</td>\n",
              "      <td>0.0375</td>\n",
              "      <td>0.068750</td>\n",
              "      <td>0.115385</td>\n",
              "      <td>0.100000</td>\n",
              "      <td>0.098333</td>\n",
              "      <td>0.000278</td>\n",
              "      <td>0.047619</td>\n",
              "      <td>0.257143</td>\n",
              "      <td>0.305455</td>\n",
              "      <td>0.090909</td>\n",
              "    </tr>\n",
              "  </tbody>\n",
              "</table>\n",
              "<p>8618 rows × 32 columns</p>\n",
              "</div>"
            ],
            "text/plain": [
              "                           FoodGroup  Energy_kcal  ...  Selenium_USRDA  Zinc_USRDA\n",
              "0             Dairy and Egg Products        717.0  ...        0.018182    0.008182\n",
              "1             Dairy and Egg Products        717.0  ...        0.018182    0.004545\n",
              "2             Dairy and Egg Products        876.0  ...        0.000000    0.000909\n",
              "3             Dairy and Egg Products        353.0  ...        0.263636    0.241818\n",
              "4             Dairy and Egg Products        371.0  ...        0.263636    0.236364\n",
              "...                              ...          ...  ...             ...         ...\n",
              "8613  Finfish and Shellfish Products        305.0  ...        1.334545    0.100000\n",
              "8614  Finfish and Shellfish Products        111.0  ...        0.394545    0.140909\n",
              "8615                          Sweets        269.0  ...        0.012727    0.017273\n",
              "8616  Finfish and Shellfish Products         90.0  ...        0.498182    0.090909\n",
              "8617  Finfish and Shellfish Products         89.0  ...        0.305455    0.090909\n",
              "\n",
              "[8618 rows x 32 columns]"
            ]
          },
          "metadata": {
            "tags": []
          },
          "execution_count": 65
        }
      ]
    },
    {
      "cell_type": "markdown",
      "metadata": {
        "id": "1fM4Z6r96vfF"
      },
      "source": [
        "## ทดลอง plot กราฟ parallel coordinate"
      ]
    },
    {
      "cell_type": "code",
      "metadata": {
        "id": "wdBCQfxr6rnH",
        "colab": {
          "base_uri": "https://localhost:8080/",
          "height": 431
        },
        "outputId": "5cdebad2-593a-4b33-8816-c2b4a609962f"
      },
      "source": [
        "pd.plotting.parallel_coordinates(data_dropped,'FoodGroup',cols=['Protein_g','Fat_g','Carb_g','Sugar_g',\t'Fiber_g'])"
      ],
      "execution_count": 67,
      "outputs": [
        {
          "output_type": "execute_result",
          "data": {
            "text/plain": [
              "<matplotlib.axes._subplots.AxesSubplot at 0x7f9bd8abaf50>"
            ]
          },
          "metadata": {
            "tags": []
          },
          "execution_count": 67
        },
        {
          "output_type": "display_data",
          "data": {
            "image/png": "[encoded data removed]",
            "text/plain": [
              "<Figure size 432x288 with 1 Axes>"
            ]
          },
          "metadata": {
            "tags": [],
            "needs_background": "light"
          }
        }
      ]
    },
    {
      "cell_type": "markdown",
      "metadata": {
        "id": "p9n77bof69l9"
      },
      "source": [
        "##ทำ PCA เพื่อลดจำนวน Dimension ของข้อมูล "
      ]
    },
    {
      "cell_type": "code",
      "metadata": {
        "id": "-O6AouhT69P1"
      },
      "source": [
        "from sklearn.decomposition import PCA"
      ],
      "execution_count": 68,
      "outputs": []
    },
    {
      "cell_type": "code",
      "metadata": {
        "id": "5HhHXESf7FzV"
      },
      "source": [
        "pca = PCA(n_components=2)"
      ],
      "execution_count": 69,
      "outputs": []
    },
    {
      "cell_type": "code",
      "metadata": {
        "id": "q3pfOmgV7IPy"
      },
      "source": [
        "new_pca = pca.fit_transform(newdata_dropped.to_numpy())\n",
        "# data ที่เราจะใช้เป็น data ที่เป็นตัวเลขเดียว"
      ],
      "execution_count": 70,
      "outputs": []
    },
    {
      "cell_type": "code",
      "metadata": {
        "id": "DC8cDcCa7OPe",
        "colab": {
          "base_uri": "https://localhost:8080/"
        },
        "outputId": "0d46b2ef-c6e2-4402-c632-dfecf20d967e"
      },
      "source": [
        "new_pca.shape"
      ],
      "execution_count": 71,
      "outputs": [
        {
          "output_type": "execute_result",
          "data": {
            "text/plain": [
              "(8618, 2)"
            ]
          },
          "metadata": {
            "tags": []
          },
          "execution_count": 71
        }
      ]
    },
    {
      "cell_type": "code",
      "metadata": {
        "id": "533ZYIoa7PAc",
        "colab": {
          "base_uri": "https://localhost:8080/"
        },
        "outputId": "dbcf81e9-a1bd-4e5c-87df-0ff81dfbb1e2"
      },
      "source": [
        "new_pca"
      ],
      "execution_count": 72,
      "outputs": [
        {
          "output_type": "execute_result",
          "data": {
            "text/plain": [
              "array([[ 590.95286674,   85.56968946],\n",
              "       [ 590.95284476,   85.57159456],\n",
              "       [ 747.5994042 ,  117.79120834],\n",
              "       ...,\n",
              "       [ -95.72739188,  -53.51885094],\n",
              "       [ -66.70492177, -118.10632681],\n",
              "       [ -65.40356382,  -28.88067151]])"
            ]
          },
          "metadata": {
            "tags": []
          },
          "execution_count": 72
        }
      ]
    },
    {
      "cell_type": "markdown",
      "metadata": {
        "id": "Y5tK_a4J7V4f"
      },
      "source": [
        "#ดูว่ามี food group อะไรบ้าง"
      ]
    },
    {
      "cell_type": "code",
      "metadata": {
        "id": "d0d6UejW7bEI",
        "colab": {
          "base_uri": "https://localhost:8080/"
        },
        "outputId": "c1ee453e-2d61-4682-9596-19cddc9621e2"
      },
      "source": [
        "FG = set(data['FoodGroup']) # set คือจะนับจำนวนที่เหมือนกันเป็นเเค่ตัวเดียว\n",
        "FG\n",
        "#เอาค่าข้างใน columns มาก่อน"
      ],
      "execution_count": 73,
      "outputs": [
        {
          "output_type": "execute_result",
          "data": {
            "text/plain": [
              "{'American Indian/Alaska Native Foods',\n",
              " 'Baby Foods',\n",
              " 'Baked Products',\n",
              " 'Beef Products',\n",
              " 'Beverages',\n",
              " 'Breakfast Cereals',\n",
              " 'Cereal Grains and Pasta',\n",
              " 'Dairy and Egg Products',\n",
              " 'Fast Foods',\n",
              " 'Fats and Oils',\n",
              " 'Finfish and Shellfish Products',\n",
              " 'Fruits and Fruit Juices',\n",
              " 'Lamb, Veal, and Game Products',\n",
              " 'Legumes and Legume Products',\n",
              " 'Meals, Entrees, and Side Dishes',\n",
              " 'Nut and Seed Products',\n",
              " 'Pork Products',\n",
              " 'Poultry Products',\n",
              " 'Restaurant Foods',\n",
              " 'Sausages and Luncheon Meats',\n",
              " 'Snacks',\n",
              " 'Soups, Sauces, and Gravies',\n",
              " 'Spices and Herbs',\n",
              " 'Sweets',\n",
              " 'Vegetables and Vegetable Products'}"
            ]
          },
          "metadata": {
            "tags": []
          },
          "execution_count": 73
        }
      ]
    },
    {
      "cell_type": "markdown",
      "metadata": {
        "id": "DxzkkA_-7gcR"
      },
      "source": [
        "##สร้าง Dictionary เพื่อแทนค่าที่เป็น text ให้เป็นตัวเลข เพื่อจะได้ plot สีได้ "
      ]
    },
    {
      "cell_type": "markdown",
      "metadata": {
        "id": "P7lfW5zUfCSv"
      },
      "source": [
        "สร้าง ​color list แบบง่าย (เมื่อรันใหม่เลขลำดับอาจจะเปลี่ยนแปลง)"
      ]
    },
    {
      "cell_type": "code",
      "metadata": {
        "id": "clvpX3RC7qFA"
      },
      "source": [
        "color_list = {}\n",
        "num = 0\n",
        "for each_fg in FG:\n",
        "    if each_fg not in color_list: \n",
        "        color_list[each_fg] = num\n",
        "        num += 1\n",
        "        #สร้าง dictionaly เพื่อสร้างเก็บข้อมูล โดยการวนลูป"
      ],
      "execution_count": 74,
      "outputs": []
    },
    {
      "cell_type": "code",
      "metadata": {
        "id": "-Y-GvcGc7v4i",
        "colab": {
          "base_uri": "https://localhost:8080/"
        },
        "outputId": "d00a560c-11b9-43e7-faf4-22b9f143c432"
      },
      "source": [
        "color_list\n"
      ],
      "execution_count": 75,
      "outputs": [
        {
          "output_type": "execute_result",
          "data": {
            "text/plain": [
              "{'American Indian/Alaska Native Foods': 6,\n",
              " 'Baby Foods': 1,\n",
              " 'Baked Products': 9,\n",
              " 'Beef Products': 14,\n",
              " 'Beverages': 20,\n",
              " 'Breakfast Cereals': 21,\n",
              " 'Cereal Grains and Pasta': 23,\n",
              " 'Dairy and Egg Products': 11,\n",
              " 'Fast Foods': 19,\n",
              " 'Fats and Oils': 10,\n",
              " 'Finfish and Shellfish Products': 22,\n",
              " 'Fruits and Fruit Juices': 0,\n",
              " 'Lamb, Veal, and Game Products': 12,\n",
              " 'Legumes and Legume Products': 15,\n",
              " 'Meals, Entrees, and Side Dishes': 16,\n",
              " 'Nut and Seed Products': 3,\n",
              " 'Pork Products': 8,\n",
              " 'Poultry Products': 7,\n",
              " 'Restaurant Foods': 13,\n",
              " 'Sausages and Luncheon Meats': 4,\n",
              " 'Snacks': 2,\n",
              " 'Soups, Sauces, and Gravies': 17,\n",
              " 'Spices and Herbs': 5,\n",
              " 'Sweets': 18,\n",
              " 'Vegetables and Vegetable Products': 24}"
            ]
          },
          "metadata": {
            "tags": []
          },
          "execution_count": 75
        }
      ]
    },
    {
      "cell_type": "code",
      "metadata": {
        "id": "qunJ4MAQFJ21",
        "colab": {
          "base_uri": "https://localhost:8080/"
        },
        "outputId": "9927ad52-3e72-434a-eb5a-ad1cb510b644"
      },
      "source": [
        "FG"
      ],
      "execution_count": 76,
      "outputs": [
        {
          "output_type": "execute_result",
          "data": {
            "text/plain": [
              "{'American Indian/Alaska Native Foods',\n",
              " 'Baby Foods',\n",
              " 'Baked Products',\n",
              " 'Beef Products',\n",
              " 'Beverages',\n",
              " 'Breakfast Cereals',\n",
              " 'Cereal Grains and Pasta',\n",
              " 'Dairy and Egg Products',\n",
              " 'Fast Foods',\n",
              " 'Fats and Oils',\n",
              " 'Finfish and Shellfish Products',\n",
              " 'Fruits and Fruit Juices',\n",
              " 'Lamb, Veal, and Game Products',\n",
              " 'Legumes and Legume Products',\n",
              " 'Meals, Entrees, and Side Dishes',\n",
              " 'Nut and Seed Products',\n",
              " 'Pork Products',\n",
              " 'Poultry Products',\n",
              " 'Restaurant Foods',\n",
              " 'Sausages and Luncheon Meats',\n",
              " 'Snacks',\n",
              " 'Soups, Sauces, and Gravies',\n",
              " 'Spices and Herbs',\n",
              " 'Sweets',\n",
              " 'Vegetables and Vegetable Products'}"
            ]
          },
          "metadata": {
            "tags": []
          },
          "execution_count": 76
        }
      ]
    },
    {
      "cell_type": "markdown",
      "metadata": {
        "id": "_a5ZI8a9fxdS"
      },
      "source": [
        "สร้าง color list แบบข้างล่างนี้ ​ลำดับจะไม่มีการเปลี่ยนแปลง"
      ]
    },
    {
      "cell_type": "code",
      "metadata": {
        "id": "xp59XgejD2K1"
      },
      "source": [
        "FG_l =list(FG) ## แปลงเป็น list\n",
        "FG_l.sort() ## sort เรียงค่าจากน้อยไปมาก\n",
        "color_list2 = {}\n",
        "num = 0\n",
        "for each_fg in FG_l:\n",
        "    if each_fg not in color_list2:\n",
        "        color_list2[each_fg] = num\n",
        "        num += 1\n",
        "        #สร้าง dictionaly เพื่อสร้างเก็บข้อมูล โดยการวนลูป"
      ],
      "execution_count": 77,
      "outputs": []
    },
    {
      "cell_type": "code",
      "metadata": {
        "id": "1ZF_6GBAF3ik",
        "colab": {
          "base_uri": "https://localhost:8080/"
        },
        "outputId": "761be447-7e97-41c5-a409-51e1a99da4f3"
      },
      "source": [
        "color_list2"
      ],
      "execution_count": 78,
      "outputs": [
        {
          "output_type": "execute_result",
          "data": {
            "text/plain": [
              "{'American Indian/Alaska Native Foods': 0,\n",
              " 'Baby Foods': 1,\n",
              " 'Baked Products': 2,\n",
              " 'Beef Products': 3,\n",
              " 'Beverages': 4,\n",
              " 'Breakfast Cereals': 5,\n",
              " 'Cereal Grains and Pasta': 6,\n",
              " 'Dairy and Egg Products': 7,\n",
              " 'Fast Foods': 8,\n",
              " 'Fats and Oils': 9,\n",
              " 'Finfish and Shellfish Products': 10,\n",
              " 'Fruits and Fruit Juices': 11,\n",
              " 'Lamb, Veal, and Game Products': 12,\n",
              " 'Legumes and Legume Products': 13,\n",
              " 'Meals, Entrees, and Side Dishes': 14,\n",
              " 'Nut and Seed Products': 15,\n",
              " 'Pork Products': 16,\n",
              " 'Poultry Products': 17,\n",
              " 'Restaurant Foods': 18,\n",
              " 'Sausages and Luncheon Meats': 19,\n",
              " 'Snacks': 20,\n",
              " 'Soups, Sauces, and Gravies': 21,\n",
              " 'Spices and Herbs': 22,\n",
              " 'Sweets': 23,\n",
              " 'Vegetables and Vegetable Products': 24}"
            ]
          },
          "metadata": {
            "tags": []
          },
          "execution_count": 78
        }
      ]
    },
    {
      "cell_type": "markdown",
      "metadata": {
        "id": "hlXgs2ER70Fj"
      },
      "source": [
        "##แทนค่า text ใน Dictionary ด้วยตัวเลขที่เรากำหนด"
      ]
    },
    {
      "cell_type": "code",
      "metadata": {
        "id": "gZ0UyqmA7zwY"
      },
      "source": [
        "data_dropped2 = data_dropped.replace(color_list2) # ใช้เเทนค่าคอลัมน์"
      ],
      "execution_count": 79,
      "outputs": []
    },
    {
      "cell_type": "code",
      "metadata": {
        "id": "L0mcA_py7_tG"
      },
      "source": [
        "data_dropped2"
      ],
      "execution_count": null,
      "outputs": []
    },
    {
      "cell_type": "markdown",
      "metadata": {
        "id": "75ECzakQ8KXZ"
      },
      "source": [
        "Plot กราฟ  Scatter"
      ]
    },
    {
      "cell_type": "code",
      "metadata": {
        "id": "_Avw06xW8BWN",
        "colab": {
          "base_uri": "https://localhost:8080/",
          "height": 283
        },
        "outputId": "4ee24cb7-8522-46ff-c74e-ab3d4d5d72e3"
      },
      "source": [
        "plt.scatter(new_pca[:,0],new_pca[:,1],c = data_dropped2['FoodGroup'])"
      ],
      "execution_count": 80,
      "outputs": [
        {
          "output_type": "execute_result",
          "data": {
            "text/plain": [
              "<matplotlib.collections.PathCollection at 0x7f9bd1f83d10>"
            ]
          },
          "metadata": {
            "tags": []
          },
          "execution_count": 80
        },
        {
          "output_type": "display_data",
          "data": {
            "image/png": "[encoded data removed]",
            "text/plain": [
              "<Figure size 432x288 with 1 Axes>"
            ]
          },
          "metadata": {
            "tags": [],
            "needs_background": "light"
          }
        }
      ]
    },
    {
      "cell_type": "code",
      "metadata": {
        "id": "8Vb2UxpH8mGY",
        "colab": {
          "base_uri": "https://localhost:8080/",
          "height": 283
        },
        "outputId": "7a341840-d508-4c17-98dd-bb6704aa7a5b"
      },
      "source": [
        "plt.scatter(new_pca[:,0],new_pca[:,1],c = data_dropped2['FoodGroup'],alpha=0.5)\n",
        "# ให้สีมันจางลง"
      ],
      "execution_count": 81,
      "outputs": [
        {
          "output_type": "execute_result",
          "data": {
            "text/plain": [
              "<matplotlib.collections.PathCollection at 0x7f9bd1a0f650>"
            ]
          },
          "metadata": {
            "tags": []
          },
          "execution_count": 81
        },
        {
          "output_type": "display_data",
          "data": {
            "image/png": "[encoded data removed]",
            "text/plain": [
              "<Figure size 432x288 with 1 Axes>"
            ]
          },
          "metadata": {
            "tags": [],
            "needs_background": "light"
          }
        }
      ]
    },
    {
      "cell_type": "markdown",
      "metadata": {
        "id": "bcTZjOFA8mac"
      },
      "source": [
        "## ทดลอง เปรียบเทียบค่าสารอาหาร baby food และ sweet"
      ]
    },
    {
      "cell_type": "code",
      "metadata": {
        "id": "TRif4JP08x65",
        "colab": {
          "base_uri": "https://localhost:8080/",
          "height": 435
        },
        "outputId": "2bc8de09-771e-4735-bc18-e57f8e87f2c2"
      },
      "source": [
        "bb = data_dropped2[(data_dropped2['FoodGroup']==1) | (data_dropped2['FoodGroup']==8)]  ## ใช้  | และ  &  แทน  or  และ  and  ใน pandas\n",
        "bb\n",
        " ## ใช้  | และ  &  แทน  or  และ  and  ใน pandas\n",
        " # ดูกลุ่มที่ 1 baby food กับกลุ่มที่ 8 fast food"
      ],
      "execution_count": 82,
      "outputs": [
        {
          "output_type": "execute_result",
          "data": {
            "text/html": [
              "<div>\n",
              "<style scoped>\n",
              "    .dataframe tbody tr th:only-of-type {\n",
              "        vertical-align: middle;\n",
              "    }\n",
              "\n",
              "    .dataframe tbody tr th {\n",
              "        vertical-align: top;\n",
              "    }\n",
              "\n",
              "    .dataframe thead th {\n",
              "        text-align: right;\n",
              "    }\n",
              "</style>\n",
              "<table border=\"1\" class=\"dataframe\">\n",
              "  <thead>\n",
              "    <tr style=\"text-align: right;\">\n",
              "      <th></th>\n",
              "      <th>FoodGroup</th>\n",
              "      <th>Energy_kcal</th>\n",
              "      <th>Protein_g</th>\n",
              "      <th>Fat_g</th>\n",
              "      <th>Carb_g</th>\n",
              "      <th>Sugar_g</th>\n",
              "      <th>Fiber_g</th>\n",
              "      <th>VitA_mcg</th>\n",
              "      <th>VitB6_mg</th>\n",
              "      <th>VitB12_mcg</th>\n",
              "      <th>VitC_mg</th>\n",
              "      <th>Folate_mcg</th>\n",
              "      <th>Calcium_mg</th>\n",
              "      <th>Copper_mcg</th>\n",
              "      <th>Iron_mg</th>\n",
              "      <th>Manganese_mg</th>\n",
              "      <th>Selenium_mcg</th>\n",
              "      <th>VitA_USRDA</th>\n",
              "      <th>VitB6_USRDA</th>\n",
              "      <th>VitB12_USRDA</th>\n",
              "      <th>VitC_USRDA</th>\n",
              "      <th>VitE_USRDA</th>\n",
              "      <th>Folate_USRDA</th>\n",
              "      <th>Niacin_USRDA</th>\n",
              "      <th>Riboflavin_USRDA</th>\n",
              "      <th>Thiamin_USRDA</th>\n",
              "      <th>Calcium_USRDA</th>\n",
              "      <th>Copper_USRDA</th>\n",
              "      <th>Magnesium_USRDA</th>\n",
              "      <th>Phosphorus_USRDA</th>\n",
              "      <th>Selenium_USRDA</th>\n",
              "      <th>Zinc_USRDA</th>\n",
              "    </tr>\n",
              "  </thead>\n",
              "  <tbody>\n",
              "    <tr>\n",
              "      <th>295</th>\n",
              "      <td>1</td>\n",
              "      <td>347.0</td>\n",
              "      <td>0.00</td>\n",
              "      <td>0.02</td>\n",
              "      <td>86.68</td>\n",
              "      <td>57.40</td>\n",
              "      <td>0.0</td>\n",
              "      <td>0.0</td>\n",
              "      <td>0.014</td>\n",
              "      <td>0.00</td>\n",
              "      <td>8.0</td>\n",
              "      <td>1.0</td>\n",
              "      <td>12.0</td>\n",
              "      <td>0.037</td>\n",
              "      <td>0.24</td>\n",
              "      <td>0.062</td>\n",
              "      <td>1.9</td>\n",
              "      <td>0.000000</td>\n",
              "      <td>0.008235</td>\n",
              "      <td>0.0000</td>\n",
              "      <td>0.088889</td>\n",
              "      <td>0.000667</td>\n",
              "      <td>0.0025</td>\n",
              "      <td>0.003563</td>\n",
              "      <td>0.007692</td>\n",
              "      <td>0.012500</td>\n",
              "      <td>0.010000</td>\n",
              "      <td>0.000041</td>\n",
              "      <td>0.016667</td>\n",
              "      <td>0.012857</td>\n",
              "      <td>0.034545</td>\n",
              "      <td>0.002727</td>\n",
              "    </tr>\n",
              "    <tr>\n",
              "      <th>296</th>\n",
              "      <td>1</td>\n",
              "      <td>81.0</td>\n",
              "      <td>12.03</td>\n",
              "      <td>2.52</td>\n",
              "      <td>2.43</td>\n",
              "      <td>0.00</td>\n",
              "      <td>0.0</td>\n",
              "      <td>0.0</td>\n",
              "      <td>0.039</td>\n",
              "      <td>1.26</td>\n",
              "      <td>2.1</td>\n",
              "      <td>8.0</td>\n",
              "      <td>5.0</td>\n",
              "      <td>0.148</td>\n",
              "      <td>0.98</td>\n",
              "      <td>0.037</td>\n",
              "      <td>2.9</td>\n",
              "      <td>0.000000</td>\n",
              "      <td>0.022941</td>\n",
              "      <td>0.5250</td>\n",
              "      <td>0.023333</td>\n",
              "      <td>0.024667</td>\n",
              "      <td>0.0200</td>\n",
              "      <td>0.155938</td>\n",
              "      <td>0.103846</td>\n",
              "      <td>0.010833</td>\n",
              "      <td>0.004167</td>\n",
              "      <td>0.000164</td>\n",
              "      <td>0.026190</td>\n",
              "      <td>0.132857</td>\n",
              "      <td>0.052727</td>\n",
              "      <td>0.201818</td>\n",
              "    </tr>\n",
              "    <tr>\n",
              "      <th>297</th>\n",
              "      <td>1</td>\n",
              "      <td>81.0</td>\n",
              "      <td>12.03</td>\n",
              "      <td>2.52</td>\n",
              "      <td>2.43</td>\n",
              "      <td>0.00</td>\n",
              "      <td>0.0</td>\n",
              "      <td>0.0</td>\n",
              "      <td>0.039</td>\n",
              "      <td>1.26</td>\n",
              "      <td>2.1</td>\n",
              "      <td>8.0</td>\n",
              "      <td>5.0</td>\n",
              "      <td>0.148</td>\n",
              "      <td>0.98</td>\n",
              "      <td>0.037</td>\n",
              "      <td>2.9</td>\n",
              "      <td>0.000000</td>\n",
              "      <td>0.022941</td>\n",
              "      <td>0.5250</td>\n",
              "      <td>0.023333</td>\n",
              "      <td>0.024667</td>\n",
              "      <td>0.0200</td>\n",
              "      <td>0.155938</td>\n",
              "      <td>0.103846</td>\n",
              "      <td>0.010833</td>\n",
              "      <td>0.004167</td>\n",
              "      <td>0.000164</td>\n",
              "      <td>0.026190</td>\n",
              "      <td>0.132857</td>\n",
              "      <td>0.052727</td>\n",
              "      <td>0.201818</td>\n",
              "    </tr>\n",
              "    <tr>\n",
              "      <th>298</th>\n",
              "      <td>1</td>\n",
              "      <td>81.0</td>\n",
              "      <td>13.12</td>\n",
              "      <td>2.45</td>\n",
              "      <td>1.51</td>\n",
              "      <td>0.00</td>\n",
              "      <td>0.0</td>\n",
              "      <td>0.0</td>\n",
              "      <td>0.049</td>\n",
              "      <td>1.65</td>\n",
              "      <td>0.0</td>\n",
              "      <td>5.0</td>\n",
              "      <td>6.0</td>\n",
              "      <td>0.148</td>\n",
              "      <td>0.76</td>\n",
              "      <td>0.037</td>\n",
              "      <td>3.5</td>\n",
              "      <td>0.000000</td>\n",
              "      <td>0.028824</td>\n",
              "      <td>0.6875</td>\n",
              "      <td>0.000000</td>\n",
              "      <td>0.018667</td>\n",
              "      <td>0.0125</td>\n",
              "      <td>0.178125</td>\n",
              "      <td>0.089231</td>\n",
              "      <td>0.019167</td>\n",
              "      <td>0.005000</td>\n",
              "      <td>0.000164</td>\n",
              "      <td>0.026190</td>\n",
              "      <td>0.140000</td>\n",
              "      <td>0.063636</td>\n",
              "      <td>0.227273</td>\n",
              "    </tr>\n",
              "    <tr>\n",
              "      <th>299</th>\n",
              "      <td>1</td>\n",
              "      <td>124.0</td>\n",
              "      <td>14.00</td>\n",
              "      <td>7.10</td>\n",
              "      <td>0.00</td>\n",
              "      <td>0.00</td>\n",
              "      <td>0.0</td>\n",
              "      <td>11.0</td>\n",
              "      <td>0.205</td>\n",
              "      <td>0.99</td>\n",
              "      <td>1.8</td>\n",
              "      <td>2.0</td>\n",
              "      <td>5.0</td>\n",
              "      <td>0.072</td>\n",
              "      <td>1.00</td>\n",
              "      <td>0.000</td>\n",
              "      <td>12.9</td>\n",
              "      <td>0.012222</td>\n",
              "      <td>0.120588</td>\n",
              "      <td>0.4125</td>\n",
              "      <td>0.020000</td>\n",
              "      <td>0.026667</td>\n",
              "      <td>0.0050</td>\n",
              "      <td>0.141813</td>\n",
              "      <td>0.156154</td>\n",
              "      <td>0.121667</td>\n",
              "      <td>0.004167</td>\n",
              "      <td>0.000080</td>\n",
              "      <td>0.023810</td>\n",
              "      <td>0.134286</td>\n",
              "      <td>0.234545</td>\n",
              "      <td>0.206364</td>\n",
              "    </tr>\n",
              "    <tr>\n",
              "      <th>...</th>\n",
              "      <td>...</td>\n",
              "      <td>...</td>\n",
              "      <td>...</td>\n",
              "      <td>...</td>\n",
              "      <td>...</td>\n",
              "      <td>...</td>\n",
              "      <td>...</td>\n",
              "      <td>...</td>\n",
              "      <td>...</td>\n",
              "      <td>...</td>\n",
              "      <td>...</td>\n",
              "      <td>...</td>\n",
              "      <td>...</td>\n",
              "      <td>...</td>\n",
              "      <td>...</td>\n",
              "      <td>...</td>\n",
              "      <td>...</td>\n",
              "      <td>...</td>\n",
              "      <td>...</td>\n",
              "      <td>...</td>\n",
              "      <td>...</td>\n",
              "      <td>...</td>\n",
              "      <td>...</td>\n",
              "      <td>...</td>\n",
              "      <td>...</td>\n",
              "      <td>...</td>\n",
              "      <td>...</td>\n",
              "      <td>...</td>\n",
              "      <td>...</td>\n",
              "      <td>...</td>\n",
              "      <td>...</td>\n",
              "      <td>...</td>\n",
              "    </tr>\n",
              "    <tr>\n",
              "      <th>8588</th>\n",
              "      <td>1</td>\n",
              "      <td>389.0</td>\n",
              "      <td>6.60</td>\n",
              "      <td>0.90</td>\n",
              "      <td>88.60</td>\n",
              "      <td>1.35</td>\n",
              "      <td>2.6</td>\n",
              "      <td>0.0</td>\n",
              "      <td>0.090</td>\n",
              "      <td>0.00</td>\n",
              "      <td>250.0</td>\n",
              "      <td>5.0</td>\n",
              "      <td>38.0</td>\n",
              "      <td>0.377</td>\n",
              "      <td>9.00</td>\n",
              "      <td>1.298</td>\n",
              "      <td>16.3</td>\n",
              "      <td>0.000000</td>\n",
              "      <td>0.052941</td>\n",
              "      <td>0.0000</td>\n",
              "      <td>2.777778</td>\n",
              "      <td>0.008667</td>\n",
              "      <td>0.0125</td>\n",
              "      <td>1.577500</td>\n",
              "      <td>1.446154</td>\n",
              "      <td>1.333333</td>\n",
              "      <td>0.031667</td>\n",
              "      <td>0.000419</td>\n",
              "      <td>0.088095</td>\n",
              "      <td>0.361429</td>\n",
              "      <td>0.296364</td>\n",
              "      <td>0.300000</td>\n",
              "    </tr>\n",
              "    <tr>\n",
              "      <th>8589</th>\n",
              "      <td>1</td>\n",
              "      <td>91.0</td>\n",
              "      <td>1.00</td>\n",
              "      <td>0.20</td>\n",
              "      <td>21.34</td>\n",
              "      <td>11.36</td>\n",
              "      <td>1.6</td>\n",
              "      <td>0.0</td>\n",
              "      <td>0.260</td>\n",
              "      <td>0.00</td>\n",
              "      <td>21.9</td>\n",
              "      <td>17.0</td>\n",
              "      <td>4.0</td>\n",
              "      <td>0.040</td>\n",
              "      <td>0.30</td>\n",
              "      <td>0.000</td>\n",
              "      <td>1.1</td>\n",
              "      <td>0.000000</td>\n",
              "      <td>0.152941</td>\n",
              "      <td>0.0000</td>\n",
              "      <td>0.243333</td>\n",
              "      <td>0.016667</td>\n",
              "      <td>0.0425</td>\n",
              "      <td>0.033750</td>\n",
              "      <td>0.046154</td>\n",
              "      <td>0.016667</td>\n",
              "      <td>0.003333</td>\n",
              "      <td>0.000044</td>\n",
              "      <td>0.061905</td>\n",
              "      <td>0.028571</td>\n",
              "      <td>0.020000</td>\n",
              "      <td>0.004545</td>\n",
              "    </tr>\n",
              "    <tr>\n",
              "      <th>8590</th>\n",
              "      <td>1</td>\n",
              "      <td>68.0</td>\n",
              "      <td>0.30</td>\n",
              "      <td>0.20</td>\n",
              "      <td>16.30</td>\n",
              "      <td>14.66</td>\n",
              "      <td>1.0</td>\n",
              "      <td>2.0</td>\n",
              "      <td>0.060</td>\n",
              "      <td>0.00</td>\n",
              "      <td>12.3</td>\n",
              "      <td>4.0</td>\n",
              "      <td>3.0</td>\n",
              "      <td>0.030</td>\n",
              "      <td>0.10</td>\n",
              "      <td>0.000</td>\n",
              "      <td>0.6</td>\n",
              "      <td>0.002222</td>\n",
              "      <td>0.035294</td>\n",
              "      <td>0.0000</td>\n",
              "      <td>0.136667</td>\n",
              "      <td>0.001333</td>\n",
              "      <td>0.0100</td>\n",
              "      <td>0.008125</td>\n",
              "      <td>0.015385</td>\n",
              "      <td>0.016667</td>\n",
              "      <td>0.002500</td>\n",
              "      <td>0.000033</td>\n",
              "      <td>0.019048</td>\n",
              "      <td>0.012857</td>\n",
              "      <td>0.010909</td>\n",
              "      <td>0.004545</td>\n",
              "    </tr>\n",
              "    <tr>\n",
              "      <th>8594</th>\n",
              "      <td>1</td>\n",
              "      <td>73.0</td>\n",
              "      <td>0.50</td>\n",
              "      <td>0.20</td>\n",
              "      <td>17.18</td>\n",
              "      <td>14.87</td>\n",
              "      <td>2.0</td>\n",
              "      <td>3.0</td>\n",
              "      <td>0.070</td>\n",
              "      <td>0.00</td>\n",
              "      <td>12.7</td>\n",
              "      <td>6.0</td>\n",
              "      <td>6.0</td>\n",
              "      <td>0.035</td>\n",
              "      <td>0.17</td>\n",
              "      <td>0.000</td>\n",
              "      <td>0.4</td>\n",
              "      <td>0.003333</td>\n",
              "      <td>0.041176</td>\n",
              "      <td>0.0000</td>\n",
              "      <td>0.141111</td>\n",
              "      <td>0.052667</td>\n",
              "      <td>0.0150</td>\n",
              "      <td>0.017500</td>\n",
              "      <td>0.030769</td>\n",
              "      <td>0.008333</td>\n",
              "      <td>0.005000</td>\n",
              "      <td>0.000039</td>\n",
              "      <td>0.016667</td>\n",
              "      <td>0.012857</td>\n",
              "      <td>0.007273</td>\n",
              "      <td>0.007273</td>\n",
              "    </tr>\n",
              "    <tr>\n",
              "      <th>8604</th>\n",
              "      <td>1</td>\n",
              "      <td>62.0</td>\n",
              "      <td>0.00</td>\n",
              "      <td>0.00</td>\n",
              "      <td>15.38</td>\n",
              "      <td>0.00</td>\n",
              "      <td>0.1</td>\n",
              "      <td>0.0</td>\n",
              "      <td>0.060</td>\n",
              "      <td>0.00</td>\n",
              "      <td>33.8</td>\n",
              "      <td>0.0</td>\n",
              "      <td>12.0</td>\n",
              "      <td>0.028</td>\n",
              "      <td>0.30</td>\n",
              "      <td>0.000</td>\n",
              "      <td>0.0</td>\n",
              "      <td>0.000000</td>\n",
              "      <td>0.035294</td>\n",
              "      <td>0.0000</td>\n",
              "      <td>0.375556</td>\n",
              "      <td>0.000000</td>\n",
              "      <td>0.0000</td>\n",
              "      <td>0.012500</td>\n",
              "      <td>0.015385</td>\n",
              "      <td>0.008333</td>\n",
              "      <td>0.010000</td>\n",
              "      <td>0.000031</td>\n",
              "      <td>0.023810</td>\n",
              "      <td>0.015714</td>\n",
              "      <td>0.000000</td>\n",
              "      <td>0.004545</td>\n",
              "    </tr>\n",
              "  </tbody>\n",
              "</table>\n",
              "<p>733 rows × 32 columns</p>\n",
              "</div>"
            ],
            "text/plain": [
              "      FoodGroup  Energy_kcal  ...  Selenium_USRDA  Zinc_USRDA\n",
              "295           1        347.0  ...        0.034545    0.002727\n",
              "296           1         81.0  ...        0.052727    0.201818\n",
              "297           1         81.0  ...        0.052727    0.201818\n",
              "298           1         81.0  ...        0.063636    0.227273\n",
              "299           1        124.0  ...        0.234545    0.206364\n",
              "...         ...          ...  ...             ...         ...\n",
              "8588          1        389.0  ...        0.296364    0.300000\n",
              "8589          1         91.0  ...        0.020000    0.004545\n",
              "8590          1         68.0  ...        0.010909    0.004545\n",
              "8594          1         73.0  ...        0.007273    0.007273\n",
              "8604          1         62.0  ...        0.000000    0.004545\n",
              "\n",
              "[733 rows x 32 columns]"
            ]
          },
          "metadata": {
            "tags": []
          },
          "execution_count": 82
        }
      ]
    },
    {
      "cell_type": "code",
      "metadata": {
        "id": "EZqh6b8z8yR8"
      },
      "source": [
        "pca = PCA(n_components=2)\n",
        "new_pca2 = pca.fit_transform(bb.iloc[:,1:].to_numpy())"
      ],
      "execution_count": 83,
      "outputs": []
    },
    {
      "cell_type": "code",
      "metadata": {
        "id": "i2gEjdJxecSj",
        "colab": {
          "base_uri": "https://localhost:8080/",
          "height": 283
        },
        "outputId": "e0aa6d2c-807a-4073-9ffe-b37307093575"
      },
      "source": [
        "plt.scatter(new_pca2[:,0],new_pca2[:,1],c = bb['FoodGroup'],alpha=0.5)"
      ],
      "execution_count": 84,
      "outputs": [
        {
          "output_type": "execute_result",
          "data": {
            "text/plain": [
              "<matplotlib.collections.PathCollection at 0x7f9bd16ec9d0>"
            ]
          },
          "metadata": {
            "tags": []
          },
          "execution_count": 84
        },
        {
          "output_type": "display_data",
          "data": {
            "image/png": "[encoded data removed]",
            "text/plain": [
              "<Figure size 432x288 with 1 Axes>"
            ]
          },
          "metadata": {
            "tags": [],
            "needs_background": "light"
          }
        }
      ]
    },
    {
      "cell_type": "code",
      "metadata": {
        "id": "9H9X97xpefdy"
      },
      "source": [
        "baby_pca = pca.transform(bb[bb['FoodGroup']==1].iloc[:,1:].to_numpy())\n",
        "fast_pca = pca.transform(bb[bb['FoodGroup']==8].iloc[:,1:].to_numpy())\n",
        "## transform คำนวณ"
      ],
      "execution_count": 85,
      "outputs": []
    },
    {
      "cell_type": "code",
      "metadata": {
        "id": "K_OBFtGdeliF",
        "colab": {
          "base_uri": "https://localhost:8080/",
          "height": 283
        },
        "outputId": "5cb8f7f8-99ed-4a0d-e19d-caf5f8e687a8"
      },
      "source": [
        "plt.plot(baby_pca[:,0],baby_pca[:,1],'oc',alpha=0.5,label='baby')\n",
        "plt.plot(fast_pca[:,0],fast_pca[:,1],'*r',alpha=0.5,label='fast')\n",
        "plt.legend()\n",
        "#label ใช้กำหนดชื่อ\n",
        "# เปิดให้มองเห็นเป็นกรอบสี่เหลี่ยมเล็กๆ"
      ],
      "execution_count": 86,
      "outputs": [
        {
          "output_type": "execute_result",
          "data": {
            "text/plain": [
              "<matplotlib.legend.Legend at 0x7f9bd1f39c90>"
            ]
          },
          "metadata": {
            "tags": []
          },
          "execution_count": 86
        },
        {
          "output_type": "display_data",
          "data": {
            "image/png": "[encoded data removed]",
            "text/plain": [
              "<Figure size 432x288 with 1 Axes>"
            ]
          },
          "metadata": {
            "tags": [],
            "needs_background": "light"
          }
        }
      ]
    },
    {
      "cell_type": "markdown",
      "metadata": {
        "id": "CwMkRsz6eytr"
      },
      "source": [
        "## 2 Principle components เป็นตัวแทนของข้อมูลได้ดีแค่ไหน"
      ]
    },
    {
      "cell_type": "code",
      "metadata": {
        "id": "s7-K80Mqeqqu",
        "colab": {
          "base_uri": "https://localhost:8080/"
        },
        "outputId": "ceaa57a0-24f8-48e5-c691-89c9963ba7c4"
      },
      "source": [
        "pca.explained_variance_ratio_\n",
        "# eigen ตัวเเรกอธิบายได้ 68% eigen ตัวสอง ได้ 16% รวมกันได้ ประมาณ 84%"
      ],
      "execution_count": 87,
      "outputs": [
        {
          "output_type": "execute_result",
          "data": {
            "text/plain": [
              "array([0.68119676, 0.16898343])"
            ]
          },
          "metadata": {
            "tags": []
          },
          "execution_count": 87
        }
      ]
    },
    {
      "cell_type": "markdown",
      "metadata": {
        "id": "oL-aGHBVAYPG"
      },
      "source": [
        "##การใส่ชื่อกราฟและ แกน"
      ]
    },
    {
      "cell_type": "code",
      "metadata": {
        "id": "wXs9GxKtAZu1",
        "outputId": "734c3789-dfa9-4bd9-999f-8490da6a998f",
        "colab": {
          "base_uri": "https://localhost:8080/",
          "height": 295
        }
      },
      "source": [
        "plt.plot(baby_pca[:,0],baby_pca[:,1],'oc',alpha=0.5,label='baby') #label ใช้กำหนดชื่อ\n",
        "plt.plot(fast_pca[:,0],fast_pca[:,1],'*r',alpha=0.5,label='fast')\n",
        "plt.legend() # เปิดให้มองเห็นเป็นกรอบสี่เหลี่ยมเล็กๆ\n",
        "plt.title('comparison of nutritions between fast food VS baby food with PCA') # ใส่ชื่อหัวข้อ\n",
        "plt.xlabel('PC(68.12%)') # ชื่อเเกน  () คือ อธิบาย%\n",
        "plt.ylabel('PC(16.90%)');"
      ],
      "execution_count": 88,
      "outputs": [
        {
          "output_type": "display_data",
          "data": {
            "image/png": "[encoded data removed]",
            "text/plain": [
              "<Figure size 432x288 with 1 Axes>"
            ]
          },
          "metadata": {
            "tags": [],
            "needs_background": "light"
          }
        }
      ]
    },
    {
      "cell_type": "markdown",
      "metadata": {
        "id": "2k62Bt_1C-HW"
      },
      "source": [
        "## ลองทำ PCA ใหม่ เพราะ PC1+ PC2 ยังอธิบายข้อมูลได้ไม่ถึง 90%"
      ]
    },
    {
      "cell_type": "markdown",
      "metadata": {
        "id": "V1zy1kEGDD4Y"
      },
      "source": [
        "#####PC ย่อมาจาก principle components"
      ]
    },
    {
      "cell_type": "code",
      "metadata": {
        "id": "sTOf3NJ4DBsm"
      },
      "source": [
        "pca2 = PCA()    \n",
        "new_pca3 = pca2.fit_transform(bb.iloc[:,1:].to_numpy())"
      ],
      "execution_count": 89,
      "outputs": []
    },
    {
      "cell_type": "code",
      "metadata": {
        "id": "Zl3NJQXrDHhE",
        "outputId": "e8822d62-cf71-45d6-fe32-f83a555e6d58",
        "colab": {
          "base_uri": "https://localhost:8080/"
        }
      },
      "source": [
        "pca.explained_variance_ratio_"
      ],
      "execution_count": 90,
      "outputs": [
        {
          "output_type": "execute_result",
          "data": {
            "text/plain": [
              "array([0.68119676, 0.16898343])"
            ]
          },
          "metadata": {
            "tags": []
          },
          "execution_count": 90
        }
      ]
    },
    {
      "cell_type": "code",
      "metadata": {
        "id": "5577fBVSDOpP",
        "outputId": "69f12e84-9ab2-4a6e-c7c5-80569c76cf90",
        "colab": {
          "base_uri": "https://localhost:8080/"
        }
      },
      "source": [
        "sum(pca.explained_variance_ratio_[:3]) # ตัดเอาสามตัวเเรก เป็น 3 dimension"
      ],
      "execution_count": 91,
      "outputs": [
        {
          "output_type": "execute_result",
          "data": {
            "text/plain": [
              "0.8501801924519741"
            ]
          },
          "metadata": {
            "tags": []
          },
          "execution_count": 91
        }
      ]
    },
    {
      "cell_type": "code",
      "metadata": {
        "id": "r83ws0NYDd1U"
      },
      "source": [
        "pca = PCA(n_components=3)    \n",
        "new_pca3 = pca.fit_transform(bb.iloc[:,1:].to_numpy())"
      ],
      "execution_count": 92,
      "outputs": []
    },
    {
      "cell_type": "code",
      "metadata": {
        "id": "ehA17mMxDf4m"
      },
      "source": [
        "baby_pca3 = pca.transform(bb[bb['FoodGroup']==1].iloc[:,1:].to_numpy()) ## transform คำนวณ\n",
        "fast_pca3 = pca.transform(bb[bb['FoodGroup']==8].iloc[:,1:].to_numpy())"
      ],
      "execution_count": 93,
      "outputs": []
    },
    {
      "cell_type": "code",
      "metadata": {
        "id": "qFrZ1EixDjkH",
        "outputId": "7352b5d3-bdad-4cd5-f197-2114ccb1b3c0",
        "colab": {
          "base_uri": "https://localhost:8080/",
          "height": 248
        }
      },
      "source": [
        "ax = plt.axes(projection =\"3d\")\n",
        "ax.scatter3D(baby_pca[:,0],baby_pca3[:,1],baby_pca3[:,2],c='g')\n",
        "ax.scatter3D(fast_pca3[:,0],fast_pca3[:,1],fast_pca3[:,2],c='r')\n",
        "ax.set_title('comparison of nutritions between fast food VS baby food with PCA')\n",
        "ax.set_xlabel('PC1(68.12%)')\n",
        "ax.set_ylabel('PC2(16.90%)')\n",
        "ax.set_zlabel('PC3(12.33%)');"
      ],
      "execution_count": 94,
      "outputs": [
        {
          "output_type": "display_data",
          "data": {
            "image/png": "[encoded data removed]",
            "text/plain": [
              "<Figure size 432x288 with 1 Axes>"
            ]
          },
          "metadata": {
            "tags": [],
            "needs_background": "light"
          }
        }
      ]
    },
    {
      "cell_type": "markdown",
      "metadata": {
        "id": "BqMVkw2qDl2t"
      },
      "source": [
        "\n",
        "### Eigen Vectors\n",
        "3.11513025e-04 = 0.000311513052 , $ 3.11 x 10^{-4}$"
      ]
    },
    {
      "cell_type": "code",
      "metadata": {
        "id": "K46xytFADtmV",
        "outputId": "e78cad02-4fe2-4d76-9113-06b285135511",
        "colab": {
          "base_uri": "https://localhost:8080/"
        }
      },
      "source": [
        "pca2.components_ # ไล่ดูเลือกตัวที่ ยกกำลัง -1 เเปลว่า จะส่งผลต่อ PC1 มากที่สุด"
      ],
      "execution_count": 95,
      "outputs": [
        {
          "output_type": "execute_result",
          "data": {
            "text/plain": [
              "array([[ 5.16457294e-01,  1.17568977e-02,  2.52116825e-02,\n",
              "         6.02127386e-02,  4.46186711e-02,  5.02226073e-04,\n",
              "         4.21740821e-01,  3.49680421e-04,  1.47650436e-03,\n",
              "         3.52071169e-02,  1.34682927e-01,  7.27328960e-01,\n",
              "         4.26801743e-04,  1.77428388e-02,  3.84076891e-03,\n",
              "         1.71332179e-02,  4.68600912e-04,  2.05694365e-04,\n",
              "         6.15210148e-04,  3.91190188e-04,  4.19800172e-04,\n",
              "         3.36707318e-04,  6.20599575e-04,  8.81213179e-04,\n",
              "         8.17607272e-04,  6.06107467e-04,  4.74224159e-07,\n",
              "         1.42292116e-04,  6.46585826e-04,  3.11513052e-04,\n",
              "         4.26655488e-04],\n",
              "       [-4.98947906e-01, -2.60142479e-02, -2.07749100e-02,\n",
              "        -5.22119426e-02,  3.80444830e-02, -4.34324580e-03,\n",
              "         8.47924219e-01, -2.61718387e-04,  5.44759621e-05,\n",
              "         5.70560587e-02,  3.66959950e-02, -1.42479436e-01,\n",
              "         2.81558705e-05, -1.64469856e-02,  3.49366232e-03,\n",
              "        -3.98093057e-02,  9.42138022e-04, -1.53951992e-04,\n",
              "         2.26983176e-05,  6.33956208e-04,  2.38886154e-04,\n",
              "         9.17399875e-05, -9.17392464e-04, -8.35915853e-04,\n",
              "        -1.01257154e-03, -1.18732864e-04,  3.12843005e-08,\n",
              "        -1.37355816e-04, -6.23829841e-04, -7.23805559e-04,\n",
              "        -3.70978023e-05],\n",
              "       [-6.75734793e-01, -2.29215007e-02, -5.20206044e-02,\n",
              "        -2.91600045e-02, -1.32968088e-02,  1.63241189e-03,\n",
              "        -2.84197259e-01, -3.38098120e-04, -9.04626603e-04,\n",
              "        -6.63775057e-03, -9.95254332e-02,  6.68643576e-01,\n",
              "        -1.35243944e-04,  2.79179569e-02, -3.88365205e-03,\n",
              "        -2.28255571e-02, -3.15774732e-04, -1.98881247e-04,\n",
              "        -3.76927751e-04, -7.37527842e-05, -2.44054969e-04,\n",
              "        -2.48813583e-04,  4.15525656e-04,  9.43049117e-04,\n",
              "         1.02424332e-03,  5.57202980e-04, -1.50271049e-07,\n",
              "         5.66452540e-05, -7.38355101e-06, -4.15010130e-04,\n",
              "        -1.79639914e-04],\n",
              "       [-1.23946191e-01, -1.22822010e-02, -2.13816004e-02,\n",
              "         3.04664051e-02,  2.65335032e-03, -2.19201899e-03,\n",
              "        -1.19140920e-01,  2.90889368e-04,  6.41501124e-04,\n",
              "         2.06344109e-02,  9.82881833e-01, -2.84126722e-02,\n",
              "         1.57495466e-04, -7.69418917e-03,  5.83316946e-03,\n",
              "         3.87816436e-02, -1.32378800e-04,  1.71111393e-04,\n",
              "         2.67292135e-04,  2.29271232e-04,  1.72734659e-05,\n",
              "         2.45720458e-03, -4.89957058e-04,  2.60284550e-04,\n",
              "         2.18997750e-04, -2.36772268e-05,  1.74994962e-07,\n",
              "        -6.28722764e-05, -3.06261136e-04,  7.05120793e-04,\n",
              "         1.72168537e-04],\n",
              "       [-5.30610665e-04, -1.11618862e-01, -6.39788780e-02,\n",
              "         2.56844712e-01,  2.73593123e-01,  3.28457145e-03,\n",
              "        -7.26012280e-02, -8.41749362e-05, -4.00813590e-03,\n",
              "         8.99593764e-01, -3.36588574e-02, -2.52748362e-02,\n",
              "         5.01508684e-04,  5.18844910e-03,  1.52101376e-02,\n",
              "        -1.60977708e-01, -8.06680311e-05, -4.95146683e-05,\n",
              "        -1.67005662e-03,  9.99548626e-03,  9.66240465e-04,\n",
              "        -8.41471434e-05, -4.55798670e-04,  3.87558786e-04,\n",
              "         1.61222453e-04, -2.10623635e-05,  5.57231871e-07,\n",
              "        -1.80832699e-04, -1.33279193e-03, -2.92686742e-03,\n",
              "        -1.52587591e-04],\n",
              "       [-1.83296950e-02, -2.89038421e-01, -1.75243680e-01,\n",
              "         6.93764707e-01,  2.12419334e-01,  3.16385721e-02,\n",
              "         1.24383467e-02,  6.06902033e-04, -1.36021215e-02,\n",
              "        -3.90775233e-01, -4.53297780e-03, -2.57172263e-02,\n",
              "        -9.77970894e-04,  8.49909341e-02, -1.00590406e-02,\n",
              "        -4.43586624e-01,  1.38203852e-05,  3.57001196e-04,\n",
              "        -5.66755062e-03, -4.34194703e-03,  3.67935139e-04,\n",
              "        -1.13324445e-05, -2.04345006e-03,  2.61751321e-03,\n",
              "         4.10845922e-03, -2.14310219e-05, -1.08663433e-06,\n",
              "         1.29646882e-04, -2.23962842e-03, -8.06521134e-03,\n",
              "        -2.60841249e-03],\n",
              "       [-4.72524887e-02,  8.48377922e-02, -2.72761334e-01,\n",
              "         5.06134404e-01, -3.05290307e-01,  5.46876468e-02,\n",
              "         4.47438204e-02,  2.18924994e-03, -5.67883762e-03,\n",
              "         6.41155178e-02, -4.77948417e-02, -2.44856548e-02,\n",
              "         1.80100011e-03,  2.54958036e-01, -2.85151090e-03,\n",
              "         6.99411934e-01,  4.97153560e-05,  1.28779408e-03,\n",
              "        -2.36618234e-03,  7.12394643e-04, -1.33206183e-03,\n",
              "        -1.19487104e-04,  1.02117402e-02,  1.11624118e-02,\n",
              "         1.31540736e-02, -2.04047123e-05,  2.00111123e-06,\n",
              "         1.26680201e-03,  2.27821230e-03,  1.27165806e-02,\n",
              "         5.61159009e-04],\n",
              "       [ 2.86511182e-02, -1.25728276e-01,  6.24380691e-02,\n",
              "         2.42372465e-02, -8.57294916e-01,  2.95867009e-02,\n",
              "         2.68809075e-02, -2.49334128e-03, -1.24981842e-02,\n",
              "         1.68301298e-01,  2.33924585e-02,  8.17407537e-03,\n",
              "         7.54613898e-04,  1.67722867e-01, -2.23566189e-02,\n",
              "        -4.29349292e-01,  2.98676750e-05, -1.46667134e-03,\n",
              "        -5.20757673e-03,  1.87001443e-03, -3.69065442e-04,\n",
              "         5.84811463e-05,  5.66013607e-03,  6.09775972e-03,\n",
              "         9.46172953e-03,  6.81172948e-06,  8.38459887e-07,\n",
              "         1.09208896e-03,  9.53058572e-04, -7.80635077e-03,\n",
              "        -2.09835820e-03],\n",
              "       [ 3.88017179e-03,  9.59039330e-02,  5.24520736e-03,\n",
              "        -1.02995638e-01,  9.94786680e-02,  1.28408997e-02,\n",
              "        -3.81736926e-03,  5.10573780e-03, -7.15319103e-04,\n",
              "        -2.00927597e-02,  6.47040276e-03, -1.54079416e-02,\n",
              "         4.11733155e-03,  5.20488836e-01,  8.31442994e-01,\n",
              "        -7.76883552e-02, -4.24152140e-06,  3.00337518e-03,\n",
              "        -2.98049626e-04, -2.23252886e-04,  7.67734597e-04,\n",
              "         1.61760069e-05,  1.65397271e-02,  1.94010577e-02,\n",
              "         2.08165661e-02, -1.28399513e-05,  4.57481283e-06,\n",
              "         2.32990969e-03, -6.77598507e-04, -1.41251555e-03,\n",
              "         2.70006063e-03],\n",
              "       [-9.37178056e-03, -2.11405419e-01,  2.56746008e-02,\n",
              "         1.56075200e-01, -1.85976757e-01, -7.20638472e-03,\n",
              "        -1.54595384e-04, -8.34879373e-03,  5.76971507e-03,\n",
              "         3.99610881e-03, -2.09480784e-02,  2.42368042e-02,\n",
              "        -5.42407137e-03, -7.56030708e-01,  5.53194769e-01,\n",
              "         1.19836447e-01, -1.71772649e-07, -4.91105514e-03,\n",
              "         2.40404795e-03,  4.44012090e-05, -1.45810287e-03,\n",
              "        -5.23701960e-05, -2.45161519e-02, -3.04772152e-02,\n",
              "        -2.89355796e-02,  2.01973369e-05, -6.02674597e-06,\n",
              "        -3.06610663e-03, -6.36395995e-04,  2.17884449e-03,\n",
              "        -2.43292881e-03],\n",
              "       [-9.88668800e-04, -8.18339372e-01,  4.30515473e-01,\n",
              "        -1.01182971e-01,  5.07048898e-02, -6.25509470e-03,\n",
              "        -5.47010072e-03, -5.92482983e-03, -2.20518481e-02,\n",
              "        -8.62014949e-03, -7.63832197e-03, -2.54830811e-03,\n",
              "         2.98881184e-03,  2.24542041e-01, -4.12879958e-02,\n",
              "         2.81192272e-01, -6.07788968e-06, -3.48519402e-03,\n",
              "        -9.18827006e-03, -9.57794388e-05,  4.02221712e-03,\n",
              "        -1.90958049e-05, -7.92491311e-03,  6.07671222e-04,\n",
              "         4.79003556e-03, -2.12359009e-06,  3.32090204e-06,\n",
              "        -8.10497335e-04, -2.49587777e-03,  5.11258677e-03,\n",
              "        -1.95129147e-03],\n",
              "       [ 2.95286919e-03, -8.32589170e-03,  8.16410205e-04,\n",
              "        -5.89936185e-02,  3.23335568e-02,  9.96742170e-01,\n",
              "         2.96883435e-04, -1.27403225e-02, -1.28569058e-02,\n",
              "         1.44878523e-03,  4.35759769e-03,  2.21925025e-04,\n",
              "        -2.53994313e-03, -3.18317969e-02, -5.75492735e-03,\n",
              "        -7.54404022e-03,  3.29870483e-07, -7.49430733e-03,\n",
              "        -5.35704406e-03,  1.60976137e-05,  3.50075189e-03,\n",
              "         1.08939942e-05, -1.34213698e-02, -1.22123050e-02,\n",
              "         4.23427182e-04,  1.84937521e-07, -2.82215903e-06,\n",
              "         2.60886631e-03,  5.00964522e-04, -1.37164368e-04,\n",
              "        -2.89815403e-03],\n",
              "       [ 3.00918834e-02, -1.54234106e-01, -2.73663857e-01,\n",
              "        -1.14970739e-01, -8.92064832e-03,  5.82019448e-03,\n",
              "        -5.58852215e-04,  1.72865216e-02,  8.65886413e-01,\n",
              "         4.59075695e-04, -9.50950475e-04, -1.20645096e-03,\n",
              "         1.50933674e-02,  1.78925306e-02, -3.68622805e-03,\n",
              "        -4.65653073e-03, -6.20946905e-07,  1.01685421e-02,\n",
              "         3.60786005e-01,  5.10084105e-06, -2.58535902e-03,\n",
              "        -2.37737619e-06, -3.92554623e-02, -1.23234374e-02,\n",
              "        -1.34333190e-02, -1.00537580e-06,  1.67704083e-05,\n",
              "         7.39227287e-04, -7.03135868e-03, -8.46641950e-05,\n",
              "         6.51041238e-02],\n",
              "       [-8.89948473e-02,  3.62767511e-01,  7.87765397e-01,\n",
              "         3.54642150e-01,  4.96090466e-03,  2.80974237e-02,\n",
              "        -8.36337032e-05, -2.91209571e-04,  3.06488043e-01,\n",
              "         3.51901307e-04, -8.93183655e-04, -2.61517645e-04,\n",
              "         3.50721922e-02,  8.41219033e-04, -2.62252846e-03,\n",
              "         3.66494982e-03, -9.29263369e-08, -1.71299748e-04,\n",
              "         1.27703351e-01,  3.91001453e-06, -1.38741691e-02,\n",
              "        -2.23295914e-06, -1.60207022e-02, -5.50595600e-03,\n",
              "        -2.20290886e-02, -2.17931371e-07,  3.89691024e-05,\n",
              "         2.56290023e-03, -1.06144378e-02,  6.66354513e-05,\n",
              "         2.72204547e-02],\n",
              "       [-1.50475924e-03, -8.86317494e-03,  1.47466441e-02,\n",
              "         1.63882781e-03, -1.66646859e-03,  1.82681422e-02,\n",
              "        -2.21590367e-05,  7.88880710e-01, -2.19927250e-03,\n",
              "         2.77551002e-04, -6.54844861e-04,  3.18681689e-04,\n",
              "        -1.46148978e-03, -3.26931611e-02,  8.88241477e-05,\n",
              "         1.17059520e-03, -2.46211518e-08,  4.64047476e-01,\n",
              "        -9.16363542e-04,  3.08390002e-06,  6.71806726e-03,\n",
              "        -1.63711215e-06,  1.39947405e-01,  3.26016110e-01,\n",
              "         1.84963664e-01,  2.65568074e-07, -1.62387754e-06,\n",
              "         1.87097201e-02, -1.79769366e-03,  2.12835491e-05,\n",
              "        -1.13709167e-02],\n",
              "       [ 7.67774582e-04,  2.09277365e-03, -9.39636907e-03,\n",
              "        -7.11254251e-04, -4.16165125e-03, -1.97905986e-03,\n",
              "        -7.21590997e-05,  3.23792700e-01, -3.10838739e-02,\n",
              "         9.55344898e-04,  5.12955027e-04,  1.73188818e-04,\n",
              "        -1.48678556e-02,  4.83397829e-02,  1.87037663e-04,\n",
              "        -6.79310903e-04, -8.01767771e-08,  1.90466294e-01,\n",
              "        -1.29516141e-02,  1.06149433e-05,  4.08133066e-02,\n",
              "         1.28238757e-06, -7.47924532e-02, -6.44977068e-01,\n",
              "        -6.54767112e-01,  1.44324015e-07, -1.65198396e-05,\n",
              "        -9.53374373e-03,  4.73727829e-02, -1.23511073e-05,\n",
              "         2.76102922e-02],\n",
              "       [-1.35953131e-03, -9.38472569e-03,  9.36785385e-03,\n",
              "         3.59841136e-03,  2.95146062e-03,  7.39238491e-03,\n",
              "        -1.50055077e-04, -7.96879192e-02,  3.55400305e-02,\n",
              "        -1.61854276e-03,  2.14152826e-04, -1.81568499e-04,\n",
              "         4.34300762e-02, -2.12808356e-02, -4.44055216e-04,\n",
              "        -1.94242088e-04, -1.66727863e-07, -4.68752466e-02,\n",
              "         1.48083460e-02, -1.79838084e-05,  3.24385517e-01,\n",
              "         5.35382064e-07,  8.80195881e-01, -1.41714734e-01,\n",
              "         2.26703379e-02, -1.51307083e-07,  4.82556402e-05,\n",
              "         7.35975508e-02,  2.81810022e-01, -3.53167432e-06,\n",
              "         4.44176322e-02],\n",
              "       [-1.24479359e-03,  4.40763502e-03,  5.69671497e-03,\n",
              "         3.24994530e-03,  1.04913289e-03, -3.88789899e-03,\n",
              "        -3.47295784e-05,  1.29145894e-02, -1.08294955e-02,\n",
              "         3.29225939e-04,  3.85313468e-05, -5.98523728e-04,\n",
              "         1.88466950e-02,  3.63028478e-03,  8.85583947e-04,\n",
              "        -1.74123033e-03, -3.85884205e-08,  7.59681731e-03,\n",
              "        -4.51228977e-03,  3.65806598e-06,  1.26045672e-01,\n",
              "         9.63283670e-08, -3.38460156e-01,  8.01910134e-02,\n",
              "         4.72094618e-02, -4.98769773e-07,  2.09407722e-05,\n",
              "         6.06371343e-02,  9.17028117e-01, -3.16587334e-05,\n",
              "         1.24360128e-01],\n",
              "       [-2.13043451e-03,  1.08252291e-02,  2.09692948e-02,\n",
              "         7.60591689e-03,  2.24434647e-03, -6.17797354e-03,\n",
              "         2.02908843e-04,  5.84396400e-02,  4.23951459e-02,\n",
              "         9.91330508e-04,  2.12104505e-04, -3.03974406e-05,\n",
              "        -5.49759717e-01,  4.40281101e-03, -3.73137358e-04,\n",
              "         8.54782331e-04,  2.25454270e-07,  3.43762588e-02,\n",
              "         1.76646441e-02,  1.10147834e-05, -1.20835814e-01,\n",
              "         5.30261261e-07, -1.83714608e-02, -4.80041782e-01,\n",
              "         5.06782653e-01, -2.53312005e-08, -6.10844130e-04,\n",
              "        -6.15563419e-02,  9.70331003e-02,  1.55414969e-05,\n",
              "        -4.18284087e-01],\n",
              "       [ 1.08877535e-03, -1.37394410e-03, -1.28076597e-02,\n",
              "        -4.94851462e-03,  2.43819622e-04, -5.13338332e-03,\n",
              "        -1.90715417e-04,  6.77881724e-02, -2.69296623e-02,\n",
              "        -5.03747125e-04, -2.33050685e-04,  9.14443077e-05,\n",
              "         7.28344131e-01, -5.86852034e-03, -9.74814224e-04,\n",
              "        -1.05059322e-03, -2.11906019e-07,  3.98753955e-02,\n",
              "        -1.12206926e-02, -5.59719028e-06,  5.07859952e-02,\n",
              "        -5.82626712e-07, -1.17180795e-01, -4.41423147e-01,\n",
              "         4.79152967e-01,  7.62035898e-08,  8.09271257e-04,\n",
              "         7.83668930e-02, -7.16890556e-02, -1.91016949e-05,\n",
              "         1.00944122e-01],\n",
              "       [-1.26007435e-03,  6.06811596e-03,  1.03609140e-02,\n",
              "         5.32586404e-03, -1.40154784e-03, -2.48128262e-03,\n",
              "        -5.33439679e-05,  2.31543269e-02, -4.54558113e-02,\n",
              "        -7.15861461e-05, -1.90569560e-04,  3.89623698e-05,\n",
              "        -3.93950210e-01, -1.12902406e-03, -8.67559874e-04,\n",
              "        -2.24947948e-04, -5.92710752e-08,  1.36201923e-02,\n",
              "        -1.89399214e-02, -7.95401624e-07,  2.70834096e-01,\n",
              "        -4.76423900e-07, -9.03209023e-02, -1.38613565e-01,\n",
              "         2.11884866e-01,  3.24686415e-08, -4.37722455e-04,\n",
              "         2.11724466e-02, -1.74426261e-01, -4.08996269e-06,\n",
              "         8.15463921e-01],\n",
              "       [-9.77649929e-04,  1.11741739e-02,  5.78946895e-03,\n",
              "         4.29044645e-03, -2.18862061e-03, -5.83487319e-03,\n",
              "        -2.08085813e-04,  2.36379307e-03,  1.89167606e-02,\n",
              "         9.05967012e-05, -1.81630572e-04,  5.98397512e-05,\n",
              "        -2.52648430e-02,  4.37539692e-03,  5.92009171e-04,\n",
              "         9.58598988e-04, -2.31206459e-07,  1.39046651e-03,\n",
              "         7.88198357e-03,  1.00663001e-06,  8.78972025e-01,\n",
              "        -4.54076430e-07, -2.44688807e-01,  6.97860579e-02,\n",
              "        -1.31780406e-02,  4.98664593e-08, -2.80720477e-05,\n",
              "         7.69578763e-02, -1.73037996e-01,  1.74290725e-05,\n",
              "        -3.54011672e-01],\n",
              "       [ 1.77649578e-04, -1.91663079e-03, -9.02243330e-04,\n",
              "        -8.54242048e-04,  5.28030827e-04, -3.02453744e-03,\n",
              "         2.59180913e-05, -9.11820401e-03,  6.52216346e-04,\n",
              "         2.00604486e-04,  3.78087327e-05, -1.88821558e-06,\n",
              "        -8.63326961e-02, -9.80222249e-04, -2.14895738e-04,\n",
              "         5.61927175e-04,  2.87978790e-08, -5.36364942e-03,\n",
              "         2.71756811e-04,  2.22893873e-06, -1.17552658e-01,\n",
              "         9.45218321e-08, -1.90757579e-02, -4.23340153e-03,\n",
              "        -2.44746213e-02, -1.57351299e-09, -9.59252179e-05,\n",
              "         9.86981232e-01, -4.78589308e-02,  1.02168577e-05,\n",
              "        -3.45880990e-02],\n",
              "       [ 1.82465137e-16, -6.83748778e-16, -1.64182345e-15,\n",
              "        -7.37153572e-16, -1.15540982e-16, -1.42980592e-16,\n",
              "        -1.10429067e-06, -4.14262716e-01,  2.21164925e-01,\n",
              "        -1.51110607e-04, -2.80881461e-05, -2.77266877e-07,\n",
              "        -1.49996580e-08,  1.75831267e-16, -7.82425199e-17,\n",
              "        -6.92865065e-04,  9.93861600e-04,  7.04246616e-01,\n",
              "        -5.30795820e-01,  1.35999547e-02,  1.62413887e-18,\n",
              "         1.12352584e-02,  1.05412948e-16,  5.91013088e-18,\n",
              "         7.93119629e-17,  3.32720253e-04,  1.34996911e-05,\n",
              "        -1.04507151e-16, -2.49039503e-17,  3.81075786e-02,\n",
              "        -1.98349669e-17],\n",
              "       [-0.00000000e+00,  2.31227985e-17, -3.84989822e-17,\n",
              "         9.35199705e-18,  2.53757272e-17,  7.36701909e-17,\n",
              "        -1.46745348e-04,  2.40543141e-01,  2.46560728e-01,\n",
              "        -3.55854711e-03, -9.40230761e-04, -1.45307274e-04,\n",
              "         7.10102106e-08, -3.49184670e-17,  5.82983148e-17,\n",
              "        -4.88083118e-03,  1.32070814e-01, -4.08923339e-01,\n",
              "        -5.91745747e-01,  3.20269240e-01,  2.86255210e-16,\n",
              "         3.76092304e-01, -2.78182663e-16,  5.56842007e-17,\n",
              "         2.02799802e-17,  1.74368729e-01, -6.39091888e-05,\n",
              "        -1.16526403e-16,  1.31944373e-16,  2.68445715e-01,\n",
              "        -4.28860941e-17],\n",
              "       [ 0.00000000e+00, -1.94246455e-17,  3.16914790e-19,\n",
              "         9.04064764e-19, -1.77711073e-18, -2.54091062e-17,\n",
              "         8.32670720e-04,  3.18372570e-02,  2.28886554e-02,\n",
              "        -1.09948807e-04,  8.41090349e-04, -1.50999729e-05,\n",
              "        -7.24528038e-07,  3.83719822e-18,  3.44325354e-18,\n",
              "        -1.02398913e-02, -7.49403648e-01, -5.41233369e-02,\n",
              "        -5.49327729e-02,  9.89539259e-03,  1.59138113e-17,\n",
              "        -3.36436139e-01,  2.89520436e-17, -2.15804222e-16,\n",
              "         4.17877119e-17,  1.81199674e-02,  6.52075234e-04,\n",
              "        -7.53125349e-17,  9.07599120e-17,  5.63194020e-01,\n",
              "         1.25969382e-16],\n",
              "       [-0.00000000e+00,  3.39659972e-17, -1.45831924e-17,\n",
              "        -8.83391064e-18,  3.54733305e-17,  6.93485366e-17,\n",
              "         2.01337450e-04,  1.46569826e-01,  1.77994841e-01,\n",
              "         7.47774274e-04,  1.23463931e-03,  1.87099588e-04,\n",
              "        -2.07739029e-06,  4.00979963e-17,  1.87213614e-17,\n",
              "         1.10665333e-02, -1.81203705e-01, -2.49168705e-01,\n",
              "        -4.27187619e-01, -6.72996847e-02,  3.10764193e-16,\n",
              "        -4.93855726e-01, -3.37401637e-18, -1.04993007e-16,\n",
              "         1.04184431e-16, -2.24519506e-01,  1.86965126e-03,\n",
              "        -8.68526113e-17,  3.13457177e-17, -6.08659329e-01,\n",
              "        -1.60785019e-16],\n",
              "       [-0.00000000e+00, -3.96937529e-18, -1.12420834e-18,\n",
              "         3.99042162e-18, -1.37874983e-18, -2.05561237e-17,\n",
              "        -2.53089426e-04,  1.00299450e-02,  2.07431848e-03,\n",
              "        -1.80842666e-03,  1.12182707e-04,  7.58376949e-04,\n",
              "        -3.66327361e-05, -7.07797568e-19,  3.67469433e-18,\n",
              "        -5.45078237e-03,  2.27780483e-01, -1.70509065e-02,\n",
              "        -4.97836436e-03,  1.62758399e-01, -3.73032105e-17,\n",
              "        -4.48730830e-02, -8.96418415e-17,  5.56965392e-17,\n",
              "         1.00481726e-17, -9.10052339e-01,  3.29694625e-02,\n",
              "         7.20309558e-17, -2.33001531e-17,  2.99793031e-01,\n",
              "         2.57288110e-17],\n",
              "       [-0.00000000e+00, -1.24054097e-17,  1.00474896e-17,\n",
              "        -2.60335199e-19, -7.20416317e-18, -1.86834590e-17,\n",
              "        -3.81430987e-04, -3.46537551e-02, -4.16189075e-02,\n",
              "        -7.25214843e-03,  1.49306668e-03, -2.16673850e-04,\n",
              "         8.28669043e-05,  3.29007438e-18, -2.02765050e-17,\n",
              "        -1.80536217e-03,  3.43287888e-01,  5.89113837e-02,\n",
              "         9.98853780e-02,  6.52693359e-01, -2.66792062e-16,\n",
              "        -5.97226671e-01, -1.67859129e-16, -2.15445822e-17,\n",
              "         6.76099224e-17,  2.60008620e-01, -7.45802139e-02,\n",
              "         3.09259366e-16,  1.01338355e-17,  9.92949192e-02,\n",
              "         2.61379690e-17],\n",
              "       [-0.00000000e+00, -2.94000719e-17,  5.69873544e-19,\n",
              "         9.70363459e-18, -7.52973151e-18,  8.39361105e-18,\n",
              "        -5.12568152e-04,  6.14779269e-02,  6.52821793e-02,\n",
              "         7.35945622e-03,  9.19056344e-04, -1.13652725e-04,\n",
              "         1.32376712e-04, -2.60964407e-17,  2.00187634e-17,\n",
              "        -6.72800020e-03,  4.61311337e-01, -1.04512476e-01,\n",
              "        -1.56677230e-01, -6.62351060e-01,  2.53753879e-16,\n",
              "        -3.67622538e-01, -3.74832900e-18,  1.69842104e-16,\n",
              "        -9.66930357e-17,  1.36383271e-01, -1.19139041e-01,\n",
              "        -7.81367016e-19, -9.71324936e-17,  3.70040011e-01,\n",
              "         1.23442845e-16],\n",
              "       [-0.00000000e+00, -2.31133218e-18,  5.67358362e-19,\n",
              "         7.54889781e-21,  8.99937798e-19, -2.56832812e-18,\n",
              "        -8.29680522e-05,  4.17922009e-03,  4.31560226e-03,\n",
              "         3.98175398e-04,  2.16502369e-04, -5.56355996e-05,\n",
              "        -1.09946762e-03, -5.94726920e-20,  3.70903062e-19,\n",
              "        -7.78981431e-04,  7.46712470e-02, -7.10467415e-03,\n",
              "        -1.03574454e-02, -3.58357858e-02,  2.03954861e-17,\n",
              "        -8.66009475e-02, -1.01397402e-17,  8.40889991e-18,\n",
              "         1.03505498e-17,  6.67627196e-02,  9.89520862e-01,\n",
              "         2.16383653e-17, -1.23442798e-17,  4.28439787e-02,\n",
              "        -1.14930284e-18]])"
            ]
          },
          "metadata": {
            "tags": []
          },
          "execution_count": 95
        }
      ]
    },
    {
      "cell_type": "code",
      "metadata": {
        "id": "m_ZTEAKgD1Y0"
      },
      "source": [
        "import numpy as np"
      ],
      "execution_count": 96,
      "outputs": []
    },
    {
      "cell_type": "code",
      "metadata": {
        "id": "NGqa1CW_D4mO"
      },
      "source": [
        "np.argmax(pca2.components_[0,:]) "
      ],
      "execution_count": null,
      "outputs": []
    },
    {
      "cell_type": "markdown",
      "metadata": {
        "id": "e-2GvsKKD9HR"
      },
      "source": [
        "argmax หาตัวที่มีค่ามากที่สุด อธิบายว่าตัวที่ 12 คือ ตัว Copper_mcg มีอิทธิพลมากที่สุดไว้เเยกตัว baby food เเละ fast food ได้ดีที่สุด"
      ]
    },
    {
      "cell_type": "code",
      "metadata": {
        "id": "_YgjaeDUD--D"
      },
      "source": [
        ""
      ],
      "execution_count": null,
      "outputs": []
    }
  ]
}